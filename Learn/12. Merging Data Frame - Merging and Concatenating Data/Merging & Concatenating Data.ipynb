{
 "cells": [
  {
   "cell_type": "markdown",
   "metadata": {
    "id": "fr_OdotyyGRw"
   },
   "source": [
    "## 1. Appending & Concatenating Series"
   ]
  },
  {
   "cell_type": "markdown",
   "metadata": {
    "id": "fSUitLP2yBoQ"
   },
   "source": [
    "Pandas series is a One-dimensional ndarray with axis labels. The labels need not be unique but must be a hashable type. The object supports both integer- and label-based indexing and provides a host of methods for performing operations involving the index."
   ]
  },
  {
   "cell_type": "code",
   "execution_count": 1,
   "metadata": {
    "colab": {
     "base_uri": "https://localhost:8080/"
    },
    "id": "u01wNL0Axpvx",
    "outputId": "067a1495-129c-4baf-9f98-9baa3a7100c0"
   },
   "outputs": [
    {
     "name": "stdout",
     "output_type": "stream",
     "text": [
      "City 1    New York\n",
      "City 2     Chicago\n",
      "City 3     Toronto\n",
      "City 4      Lisbon\n",
      "City 5         Rio\n",
      "dtype: object\n",
      "City 6      Chicage\n",
      "City 7     Shanghai\n",
      "City 8      Beijing\n",
      "City 9      Jakarta\n",
      "City 10       Seoul\n",
      "dtype: object\n"
     ]
    }
   ],
   "source": [
    "# importing pandas as pd \n",
    "import pandas as pd \n",
    "\n",
    "# Creating the first Series \n",
    "sr1 = pd.Series(['New York', 'Chicago', 'Toronto', 'Lisbon', 'Rio']) \n",
    "\n",
    "# Create the first Index \n",
    "index_1 = ['City 1', 'City 2', 'City 3', 'City 4', 'City 5'] \n",
    "\n",
    "# set the index of first series \n",
    "sr1.index = index_1 \n",
    "\n",
    "# Creating the second Series \n",
    "sr2 = pd.Series(['Chicage', 'Shanghai', 'Beijing', 'Jakarta', 'Seoul']) \n",
    "\n",
    "# Create the second Index \n",
    "index_2 = ['City 6', 'City 7', 'City 8', 'City 9', 'City 10'] \n",
    "\n",
    "# set the index of second series \n",
    "sr2.index = index_2 \n",
    "\n",
    "# Print the first series \n",
    "print(sr1) \n",
    "\n",
    "# Print the second series \n",
    "print(sr2) "
   ]
  },
  {
   "cell_type": "code",
   "execution_count": 2,
   "metadata": {
    "colab": {
     "base_uri": "https://localhost:8080/"
    },
    "id": "eknamGy8yPoJ",
    "outputId": "93efa092-e618-4c9f-e905-3edd1a08756b"
   },
   "outputs": [
    {
     "name": "stdout",
     "output_type": "stream",
     "text": [
      "City 1     New York\n",
      "City 2      Chicago\n",
      "City 3      Toronto\n",
      "City 4       Lisbon\n",
      "City 5          Rio\n",
      "City 6      Chicage\n",
      "City 7     Shanghai\n",
      "City 8      Beijing\n",
      "City 9      Jakarta\n",
      "City 10       Seoul\n",
      "dtype: object\n"
     ]
    }
   ],
   "source": [
    "# append sr2 at the end of sr1 \n",
    "result = sr1.append(sr2) \n",
    "\n",
    "# Print the result \n",
    "print(result) "
   ]
  },
  {
   "cell_type": "markdown",
   "metadata": {
    "id": "-djXWahAySxA"
   },
   "source": [
    "Use Series.append() function to append the passed series object at the end of this series object. Ignore the original index of the two series objects."
   ]
  },
  {
   "cell_type": "code",
   "execution_count": 3,
   "metadata": {
    "colab": {
     "base_uri": "https://localhost:8080/"
    },
    "id": "qSeGrCs5yTNK",
    "outputId": "38dac29f-97e9-43b5-84dd-5cf001071b04"
   },
   "outputs": [
    {
     "name": "stdout",
     "output_type": "stream",
     "text": [
      "City 1    New York\n",
      "City 2     Chicago\n",
      "City 3     Toronto\n",
      "City 4      Lisbon\n",
      "City 5         Rio\n",
      "dtype: object\n",
      "City 6      Chicage\n",
      "City 7     Shanghai\n",
      "City 8      Beijing\n",
      "City 9      Jakarta\n",
      "City 10       Seoul\n",
      "dtype: object\n"
     ]
    }
   ],
   "source": [
    "# importing pandas as pd \n",
    "import pandas as pd \n",
    "\n",
    "# Creating the first Series \n",
    "sr1 = pd.Series(['New York', 'Chicago', 'Toronto', 'Lisbon', 'Rio']) \n",
    "\n",
    "# Create the first Index \n",
    "index_1 = ['City 1', 'City 2', 'City 3', 'City 4', 'City 5'] \n",
    "\n",
    "# set the index of first series \n",
    "sr1.index = index_1 \n",
    "\n",
    "# Creating the second Series \n",
    "sr2 = pd.Series(['Chicage', 'Shanghai', 'Beijing', 'Jakarta', 'Seoul']) \n",
    "\n",
    "# Create the second Index \n",
    "index_2 = ['City 6', 'City 7', 'City 8', 'City 9', 'City 10'] \n",
    "\n",
    "# set the index of second series \n",
    "sr2.index = index_2 \n",
    "\n",
    "# Print the first series \n",
    "print(sr1) \n",
    "\n",
    "# Print the second series \n",
    "print(sr2) "
   ]
  },
  {
   "cell_type": "code",
   "execution_count": 4,
   "metadata": {
    "colab": {
     "base_uri": "https://localhost:8080/"
    },
    "id": "qIUBBkQ2yWGx",
    "outputId": "9c1a7e61-dfc5-4609-d018-a42773075741"
   },
   "outputs": [
    {
     "name": "stdout",
     "output_type": "stream",
     "text": [
      "0    New York\n",
      "1     Chicago\n",
      "2     Toronto\n",
      "3      Lisbon\n",
      "4         Rio\n",
      "5     Chicage\n",
      "6    Shanghai\n",
      "7     Beijing\n",
      "8     Jakarta\n",
      "9       Seoul\n",
      "dtype: object\n"
     ]
    }
   ],
   "source": [
    "# append sr2 at the end of sr1 \n",
    "# ignore the index \n",
    "result = sr1.append(sr2, ignore_index = True) \n",
    "\n",
    "# Print the result \n",
    "print(result) "
   ]
  },
  {
   "cell_type": "markdown",
   "metadata": {
    "id": "RvQhDT_CzNIf"
   },
   "source": [
    "concat series"
   ]
  },
  {
   "cell_type": "code",
   "execution_count": 5,
   "metadata": {
    "id": "MDXJZoItzOCe"
   },
   "outputs": [],
   "source": [
    "s1 = pd.Series(['a', 'b'])\n",
    "s2 = pd.Series(['c','d'])"
   ]
  },
  {
   "cell_type": "code",
   "execution_count": 6,
   "metadata": {
    "colab": {
     "base_uri": "https://localhost:8080/"
    },
    "id": "qrXEUY74zOt9",
    "outputId": "0e052cb8-5bdc-4e1f-b344-4fc477cc82ea"
   },
   "outputs": [
    {
     "data": {
      "text/plain": [
       "0    a\n",
       "1    b\n",
       "2    c\n",
       "3    d\n",
       "dtype: object"
      ]
     },
     "execution_count": 6,
     "metadata": {},
     "output_type": "execute_result"
    }
   ],
   "source": [
    "pd.concat([s1, s2], ignore_index=True)"
   ]
  },
  {
   "cell_type": "code",
   "execution_count": 7,
   "metadata": {
    "colab": {
     "base_uri": "https://localhost:8080/"
    },
    "id": "9KFGAHq2zQKt",
    "outputId": "4ba45af9-1143-4c77-ba70-11da251db5d1"
   },
   "outputs": [
    {
     "data": {
      "text/plain": [
       "s1  0    a\n",
       "    1    b\n",
       "s2  0    c\n",
       "    1    d\n",
       "dtype: object"
      ]
     },
     "execution_count": 7,
     "metadata": {},
     "output_type": "execute_result"
    }
   ],
   "source": [
    "pd.concat([s1, s2], keys=['s1', 's2',])"
   ]
  },
  {
   "cell_type": "code",
   "execution_count": 8,
   "metadata": {
    "colab": {
     "base_uri": "https://localhost:8080/"
    },
    "id": "o-2thk9tzUHY",
    "outputId": "b4180ba0-59c7-4b45-a860-12b3974a4845"
   },
   "outputs": [
    {
     "data": {
      "text/plain": [
       "Series name  Row ID\n",
       "s1           0         a\n",
       "             1         b\n",
       "s2           0         c\n",
       "             1         d\n",
       "dtype: object"
      ]
     },
     "execution_count": 8,
     "metadata": {},
     "output_type": "execute_result"
    }
   ],
   "source": [
    "pd.concat([s1, s2], keys=['s1', 's2'], names=['Series name', 'Row ID'])"
   ]
  },
  {
   "cell_type": "markdown",
   "metadata": {
    "id": "mZACiTVUzetG"
   },
   "source": [
    "# 2. Appending & Concatenating DataFrames"
   ]
  },
  {
   "cell_type": "code",
   "execution_count": 9,
   "metadata": {
    "id": "59hLlfjUztnP"
   },
   "outputs": [],
   "source": [
    "import numpy as np\n",
    "import pandas as pd"
   ]
  },
  {
   "cell_type": "code",
   "execution_count": 10,
   "metadata": {
    "colab": {
     "base_uri": "https://localhost:8080/",
     "height": 412
    },
    "id": "jaaqliWBzvfe",
    "outputId": "5024972f-8bef-4e91-d760-f03c6108e127"
   },
   "outputs": [
    {
     "data": {
      "text/html": [
       "<div>\n",
       "<style scoped>\n",
       "    .dataframe tbody tr th:only-of-type {\n",
       "        vertical-align: middle;\n",
       "    }\n",
       "\n",
       "    .dataframe tbody tr th {\n",
       "        vertical-align: top;\n",
       "    }\n",
       "\n",
       "    .dataframe thead th {\n",
       "        text-align: right;\n",
       "    }\n",
       "</style>\n",
       "<table border=\"1\" class=\"dataframe\">\n",
       "  <thead>\n",
       "    <tr style=\"text-align: right;\">\n",
       "      <th></th>\n",
       "      <th>A</th>\n",
       "      <th>B</th>\n",
       "      <th>C</th>\n",
       "      <th>D</th>\n",
       "    </tr>\n",
       "  </thead>\n",
       "  <tbody>\n",
       "    <tr>\n",
       "      <th>0</th>\n",
       "      <td>A0</td>\n",
       "      <td>B0</td>\n",
       "      <td>C0</td>\n",
       "      <td>D0</td>\n",
       "    </tr>\n",
       "    <tr>\n",
       "      <th>1</th>\n",
       "      <td>A1</td>\n",
       "      <td>B1</td>\n",
       "      <td>C1</td>\n",
       "      <td>D1</td>\n",
       "    </tr>\n",
       "    <tr>\n",
       "      <th>2</th>\n",
       "      <td>A2</td>\n",
       "      <td>B2</td>\n",
       "      <td>C2</td>\n",
       "      <td>D2</td>\n",
       "    </tr>\n",
       "    <tr>\n",
       "      <th>3</th>\n",
       "      <td>Nan</td>\n",
       "      <td>B3</td>\n",
       "      <td>C3</td>\n",
       "      <td>D3</td>\n",
       "    </tr>\n",
       "  </tbody>\n",
       "</table>\n",
       "</div>"
      ],
      "text/plain": [
       "     A   B   C   D\n",
       "0   A0  B0  C0  D0\n",
       "1   A1  B1  C1  D1\n",
       "2   A2  B2  C2  D2\n",
       "3  Nan  B3  C3  D3"
      ]
     },
     "execution_count": 10,
     "metadata": {},
     "output_type": "execute_result"
    }
   ],
   "source": [
    "# Python program to concatenate \n",
    "# dataframes using Panda \n",
    "\n",
    "# Creating first dataframe \n",
    "df1 = pd.DataFrame({'A': ['A0', 'A1', 'A2', 'Nan'], \n",
    "                    'B': ['B0', 'B1', 'B2', 'B3'], \n",
    "                    'C': ['C0', 'C1', 'C2', 'C3'], \n",
    "                    'D': ['D0', 'D1', 'D2', 'D3']}, \n",
    "                    index = [0, 1, 2, 3]) \n",
    "\n",
    "df1"
   ]
  },
  {
   "cell_type": "code",
   "execution_count": 11,
   "metadata": {
    "colab": {
     "base_uri": "https://localhost:8080/",
     "height": 246
    },
    "id": "XhMdfuslz4Ou",
    "outputId": "3c05b457-ed9d-4c19-b1b6-08f04e56a286"
   },
   "outputs": [
    {
     "name": "stdout",
     "output_type": "stream",
     "text": [
      "   a  b\n",
      "0  1  5\n",
      "1  2  6\n",
      "2  3  7\n",
      "3  4  8 \n",
      "\n"
     ]
    },
    {
     "data": {
      "text/html": [
       "<div>\n",
       "<style scoped>\n",
       "    .dataframe tbody tr th:only-of-type {\n",
       "        vertical-align: middle;\n",
       "    }\n",
       "\n",
       "    .dataframe tbody tr th {\n",
       "        vertical-align: top;\n",
       "    }\n",
       "\n",
       "    .dataframe thead th {\n",
       "        text-align: right;\n",
       "    }\n",
       "</style>\n",
       "<table border=\"1\" class=\"dataframe\">\n",
       "  <thead>\n",
       "    <tr style=\"text-align: right;\">\n",
       "      <th></th>\n",
       "      <th>a</th>\n",
       "      <th>b</th>\n",
       "    </tr>\n",
       "  </thead>\n",
       "  <tbody>\n",
       "    <tr>\n",
       "      <th>0</th>\n",
       "      <td>1</td>\n",
       "      <td>5</td>\n",
       "    </tr>\n",
       "    <tr>\n",
       "      <th>1</th>\n",
       "      <td>2</td>\n",
       "      <td>6</td>\n",
       "    </tr>\n",
       "    <tr>\n",
       "      <th>2</th>\n",
       "      <td>3</td>\n",
       "      <td>7</td>\n",
       "    </tr>\n",
       "  </tbody>\n",
       "</table>\n",
       "</div>"
      ],
      "text/plain": [
       "   a  b\n",
       "0  1  5\n",
       "1  2  6\n",
       "2  3  7"
      ]
     },
     "execution_count": 11,
     "metadata": {},
     "output_type": "execute_result"
    }
   ],
   "source": [
    "# Importing pandas as pd \n",
    "import pandas as pd \n",
    "\n",
    "# Creating the first Dataframe using dictionary \n",
    "df1 = df = pd.DataFrame({\"a\":[1, 2, 3, 4], \n",
    "                        \"b\":[5, 6, 7, 8]}) \n",
    "\n",
    "# Creating the Second Dataframe using dictionary \n",
    "df2 = pd.DataFrame({\"a\":[1, 2, 3], \n",
    "                    \"b\":[5, 6, 7]}) \n",
    "\n",
    "# Print df1 \n",
    "print(df1, \"\\n\") \n",
    "\n",
    "# Print df2 \n",
    "df2 "
   ]
  },
  {
   "cell_type": "code",
   "execution_count": 12,
   "metadata": {
    "colab": {
     "base_uri": "https://localhost:8080/",
     "height": 261
    },
    "id": "gnAbcS770Cku",
    "outputId": "787fed6b-bebc-4fe2-9aca-7a13d07e5c46"
   },
   "outputs": [
    {
     "data": {
      "text/html": [
       "<div>\n",
       "<style scoped>\n",
       "    .dataframe tbody tr th:only-of-type {\n",
       "        vertical-align: middle;\n",
       "    }\n",
       "\n",
       "    .dataframe tbody tr th {\n",
       "        vertical-align: top;\n",
       "    }\n",
       "\n",
       "    .dataframe thead th {\n",
       "        text-align: right;\n",
       "    }\n",
       "</style>\n",
       "<table border=\"1\" class=\"dataframe\">\n",
       "  <thead>\n",
       "    <tr style=\"text-align: right;\">\n",
       "      <th></th>\n",
       "      <th>a</th>\n",
       "      <th>b</th>\n",
       "    </tr>\n",
       "  </thead>\n",
       "  <tbody>\n",
       "    <tr>\n",
       "      <th>0</th>\n",
       "      <td>1</td>\n",
       "      <td>5</td>\n",
       "    </tr>\n",
       "    <tr>\n",
       "      <th>1</th>\n",
       "      <td>2</td>\n",
       "      <td>6</td>\n",
       "    </tr>\n",
       "    <tr>\n",
       "      <th>2</th>\n",
       "      <td>3</td>\n",
       "      <td>7</td>\n",
       "    </tr>\n",
       "    <tr>\n",
       "      <th>3</th>\n",
       "      <td>4</td>\n",
       "      <td>8</td>\n",
       "    </tr>\n",
       "    <tr>\n",
       "      <th>0</th>\n",
       "      <td>1</td>\n",
       "      <td>5</td>\n",
       "    </tr>\n",
       "    <tr>\n",
       "      <th>1</th>\n",
       "      <td>2</td>\n",
       "      <td>6</td>\n",
       "    </tr>\n",
       "    <tr>\n",
       "      <th>2</th>\n",
       "      <td>3</td>\n",
       "      <td>7</td>\n",
       "    </tr>\n",
       "  </tbody>\n",
       "</table>\n",
       "</div>"
      ],
      "text/plain": [
       "   a  b\n",
       "0  1  5\n",
       "1  2  6\n",
       "2  3  7\n",
       "3  4  8\n",
       "0  1  5\n",
       "1  2  6\n",
       "2  3  7"
      ]
     },
     "execution_count": 12,
     "metadata": {},
     "output_type": "execute_result"
    }
   ],
   "source": [
    "# to append df2 at the end of df1 dataframe \n",
    "df1.append(df2) "
   ]
  },
  {
   "cell_type": "code",
   "execution_count": 13,
   "metadata": {
    "colab": {
     "base_uri": "https://localhost:8080/",
     "height": 261
    },
    "id": "keI-rmCD0Elh",
    "outputId": "e780ac58-ab93-43d2-8a0e-5acfc049986e"
   },
   "outputs": [
    {
     "data": {
      "text/html": [
       "<div>\n",
       "<style scoped>\n",
       "    .dataframe tbody tr th:only-of-type {\n",
       "        vertical-align: middle;\n",
       "    }\n",
       "\n",
       "    .dataframe tbody tr th {\n",
       "        vertical-align: top;\n",
       "    }\n",
       "\n",
       "    .dataframe thead th {\n",
       "        text-align: right;\n",
       "    }\n",
       "</style>\n",
       "<table border=\"1\" class=\"dataframe\">\n",
       "  <thead>\n",
       "    <tr style=\"text-align: right;\">\n",
       "      <th></th>\n",
       "      <th>a</th>\n",
       "      <th>b</th>\n",
       "    </tr>\n",
       "  </thead>\n",
       "  <tbody>\n",
       "    <tr>\n",
       "      <th>0</th>\n",
       "      <td>1</td>\n",
       "      <td>5</td>\n",
       "    </tr>\n",
       "    <tr>\n",
       "      <th>1</th>\n",
       "      <td>2</td>\n",
       "      <td>6</td>\n",
       "    </tr>\n",
       "    <tr>\n",
       "      <th>2</th>\n",
       "      <td>3</td>\n",
       "      <td>7</td>\n",
       "    </tr>\n",
       "    <tr>\n",
       "      <th>3</th>\n",
       "      <td>4</td>\n",
       "      <td>8</td>\n",
       "    </tr>\n",
       "    <tr>\n",
       "      <th>4</th>\n",
       "      <td>1</td>\n",
       "      <td>5</td>\n",
       "    </tr>\n",
       "    <tr>\n",
       "      <th>5</th>\n",
       "      <td>2</td>\n",
       "      <td>6</td>\n",
       "    </tr>\n",
       "    <tr>\n",
       "      <th>6</th>\n",
       "      <td>3</td>\n",
       "      <td>7</td>\n",
       "    </tr>\n",
       "  </tbody>\n",
       "</table>\n",
       "</div>"
      ],
      "text/plain": [
       "   a  b\n",
       "0  1  5\n",
       "1  2  6\n",
       "2  3  7\n",
       "3  4  8\n",
       "4  1  5\n",
       "5  2  6\n",
       "6  3  7"
      ]
     },
     "execution_count": 13,
     "metadata": {},
     "output_type": "execute_result"
    }
   ],
   "source": [
    "# A continuous index value will be maintained \n",
    "# across the rows in the new appended data frame. \n",
    "df1.append(df2, ignore_index = True) "
   ]
  },
  {
   "cell_type": "code",
   "execution_count": 14,
   "metadata": {
    "colab": {
     "base_uri": "https://localhost:8080/",
     "height": 261
    },
    "id": "vDNSzxSs0GaH",
    "outputId": "2b342e90-86c2-4c01-c001-224aeb6b90eb"
   },
   "outputs": [
    {
     "data": {
      "text/html": [
       "<div>\n",
       "<style scoped>\n",
       "    .dataframe tbody tr th:only-of-type {\n",
       "        vertical-align: middle;\n",
       "    }\n",
       "\n",
       "    .dataframe tbody tr th {\n",
       "        vertical-align: top;\n",
       "    }\n",
       "\n",
       "    .dataframe thead th {\n",
       "        text-align: right;\n",
       "    }\n",
       "</style>\n",
       "<table border=\"1\" class=\"dataframe\">\n",
       "  <thead>\n",
       "    <tr style=\"text-align: right;\">\n",
       "      <th></th>\n",
       "      <th>a</th>\n",
       "      <th>b</th>\n",
       "      <th>c</th>\n",
       "    </tr>\n",
       "  </thead>\n",
       "  <tbody>\n",
       "    <tr>\n",
       "      <th>0</th>\n",
       "      <td>1</td>\n",
       "      <td>5</td>\n",
       "      <td>NaN</td>\n",
       "    </tr>\n",
       "    <tr>\n",
       "      <th>1</th>\n",
       "      <td>2</td>\n",
       "      <td>6</td>\n",
       "      <td>NaN</td>\n",
       "    </tr>\n",
       "    <tr>\n",
       "      <th>2</th>\n",
       "      <td>3</td>\n",
       "      <td>7</td>\n",
       "      <td>NaN</td>\n",
       "    </tr>\n",
       "    <tr>\n",
       "      <th>3</th>\n",
       "      <td>4</td>\n",
       "      <td>8</td>\n",
       "      <td>NaN</td>\n",
       "    </tr>\n",
       "    <tr>\n",
       "      <th>4</th>\n",
       "      <td>1</td>\n",
       "      <td>5</td>\n",
       "      <td>1.0</td>\n",
       "    </tr>\n",
       "    <tr>\n",
       "      <th>5</th>\n",
       "      <td>2</td>\n",
       "      <td>6</td>\n",
       "      <td>5.0</td>\n",
       "    </tr>\n",
       "    <tr>\n",
       "      <th>6</th>\n",
       "      <td>3</td>\n",
       "      <td>7</td>\n",
       "      <td>4.0</td>\n",
       "    </tr>\n",
       "  </tbody>\n",
       "</table>\n",
       "</div>"
      ],
      "text/plain": [
       "   a  b    c\n",
       "0  1  5  NaN\n",
       "1  2  6  NaN\n",
       "2  3  7  NaN\n",
       "3  4  8  NaN\n",
       "4  1  5  1.0\n",
       "5  2  6  5.0\n",
       "6  3  7  4.0"
      ]
     },
     "execution_count": 14,
     "metadata": {},
     "output_type": "execute_result"
    }
   ],
   "source": [
    "# Importing pandas as pd \n",
    "import pandas as pd \n",
    "\n",
    "# Creating the first Dataframe using dictionary \n",
    "df1 = pd.DataFrame({\"a\":[1, 2, 3, 4], \n",
    "                    \"b\":[5, 6, 7, 8]}) \n",
    "\n",
    "# Creating the Second Dataframe using dictionary \n",
    "df2 = pd.DataFrame({\"a\":[1, 2, 3], \n",
    "                    \"b\":[5, 6, 7], \n",
    "                    \"c\":[1, 5, 4]}) \n",
    "\n",
    "# for appending df2 at the end of df1 \n",
    "df1.append(df2, ignore_index = True) "
   ]
  },
  {
   "cell_type": "markdown",
   "metadata": {
    "id": "qIfRUbaL0cs8"
   },
   "source": [
    "## 3. Keys & MultiIndexes"
   ]
  },
  {
   "cell_type": "code",
   "execution_count": 15,
   "metadata": {
    "id": "gWe5p9AH0hzK"
   },
   "outputs": [],
   "source": [
    "import pandas, io"
   ]
  },
  {
   "cell_type": "code",
   "execution_count": 16,
   "metadata": {
    "colab": {
     "base_uri": "https://localhost:8080/",
     "height": 200
    },
    "id": "IRbhHm5X25BN",
    "outputId": "19a6b137-7955-4d04-a33d-b526aa1cc2dc"
   },
   "outputs": [
    {
     "data": {
      "text/html": [
       "<div>\n",
       "<style scoped>\n",
       "    .dataframe tbody tr th:only-of-type {\n",
       "        vertical-align: middle;\n",
       "    }\n",
       "\n",
       "    .dataframe tbody tr th {\n",
       "        vertical-align: top;\n",
       "    }\n",
       "\n",
       "    .dataframe thead th {\n",
       "        text-align: right;\n",
       "    }\n",
       "</style>\n",
       "<table border=\"1\" class=\"dataframe\">\n",
       "  <thead>\n",
       "    <tr style=\"text-align: right;\">\n",
       "      <th></th>\n",
       "      <th>Fruit</th>\n",
       "      <th>Color</th>\n",
       "      <th>Count</th>\n",
       "      <th>Price</th>\n",
       "    </tr>\n",
       "  </thead>\n",
       "  <tbody>\n",
       "    <tr>\n",
       "      <th>0</th>\n",
       "      <td>Apple</td>\n",
       "      <td>Red</td>\n",
       "      <td>3</td>\n",
       "      <td>$1.29</td>\n",
       "    </tr>\n",
       "    <tr>\n",
       "      <th>1</th>\n",
       "      <td>Apple</td>\n",
       "      <td>Green</td>\n",
       "      <td>9</td>\n",
       "      <td>$0.99</td>\n",
       "    </tr>\n",
       "    <tr>\n",
       "      <th>2</th>\n",
       "      <td>Pear</td>\n",
       "      <td>Red</td>\n",
       "      <td>25</td>\n",
       "      <td>$2.59</td>\n",
       "    </tr>\n",
       "    <tr>\n",
       "      <th>3</th>\n",
       "      <td>Pear</td>\n",
       "      <td>Green</td>\n",
       "      <td>26</td>\n",
       "      <td>$2.79</td>\n",
       "    </tr>\n",
       "    <tr>\n",
       "      <th>4</th>\n",
       "      <td>Lime</td>\n",
       "      <td>Green</td>\n",
       "      <td>99</td>\n",
       "      <td>$0.39</td>\n",
       "    </tr>\n",
       "  </tbody>\n",
       "</table>\n",
       "</div>"
      ],
      "text/plain": [
       "   Fruit  Color  Count  Price\n",
       "0  Apple    Red      3  $1.29\n",
       "1  Apple  Green      9  $0.99\n",
       "2   Pear    Red     25  $2.59\n",
       "3   Pear  Green     26  $2.79\n",
       "4   Lime  Green     99  $0.39"
      ]
     },
     "execution_count": 16,
     "metadata": {},
     "output_type": "execute_result"
    }
   ],
   "source": [
    "data = io.StringIO('''Fruit,Color,Count,Price\n",
    "Apple,Red,3,$1.29\n",
    "Apple,Green,9,$0.99\n",
    "Pear,Red,25,$2.59\n",
    "Pear,Green,26,$2.79\n",
    "Lime,Green,99,$0.39\n",
    "''')\n",
    "df_unindexed = pandas.read_csv(data)\n",
    "df_unindexed"
   ]
  },
  {
   "cell_type": "markdown",
   "metadata": {
    "id": "W126CJ072-um"
   },
   "source": [
    "Add a multi-index based on two columns"
   ]
  },
  {
   "cell_type": "code",
   "execution_count": 17,
   "metadata": {
    "colab": {
     "base_uri": "https://localhost:8080/",
     "height": 230
    },
    "id": "PACB7kzI28k-",
    "outputId": "f6c206ca-c38e-4908-9968-a60b876844f5"
   },
   "outputs": [
    {
     "data": {
      "text/html": [
       "<div>\n",
       "<style scoped>\n",
       "    .dataframe tbody tr th:only-of-type {\n",
       "        vertical-align: middle;\n",
       "    }\n",
       "\n",
       "    .dataframe tbody tr th {\n",
       "        vertical-align: top;\n",
       "    }\n",
       "\n",
       "    .dataframe thead th {\n",
       "        text-align: right;\n",
       "    }\n",
       "</style>\n",
       "<table border=\"1\" class=\"dataframe\">\n",
       "  <thead>\n",
       "    <tr style=\"text-align: right;\">\n",
       "      <th></th>\n",
       "      <th></th>\n",
       "      <th>Count</th>\n",
       "      <th>Price</th>\n",
       "    </tr>\n",
       "    <tr>\n",
       "      <th>Fruit</th>\n",
       "      <th>Color</th>\n",
       "      <th></th>\n",
       "      <th></th>\n",
       "    </tr>\n",
       "  </thead>\n",
       "  <tbody>\n",
       "    <tr>\n",
       "      <th rowspan=\"2\" valign=\"top\">Apple</th>\n",
       "      <th>Red</th>\n",
       "      <td>3</td>\n",
       "      <td>$1.29</td>\n",
       "    </tr>\n",
       "    <tr>\n",
       "      <th>Green</th>\n",
       "      <td>9</td>\n",
       "      <td>$0.99</td>\n",
       "    </tr>\n",
       "    <tr>\n",
       "      <th rowspan=\"2\" valign=\"top\">Pear</th>\n",
       "      <th>Red</th>\n",
       "      <td>25</td>\n",
       "      <td>$2.59</td>\n",
       "    </tr>\n",
       "    <tr>\n",
       "      <th>Green</th>\n",
       "      <td>26</td>\n",
       "      <td>$2.79</td>\n",
       "    </tr>\n",
       "    <tr>\n",
       "      <th>Lime</th>\n",
       "      <th>Green</th>\n",
       "      <td>99</td>\n",
       "      <td>$0.39</td>\n",
       "    </tr>\n",
       "  </tbody>\n",
       "</table>\n",
       "</div>"
      ],
      "text/plain": [
       "             Count  Price\n",
       "Fruit Color              \n",
       "Apple Red        3  $1.29\n",
       "      Green      9  $0.99\n",
       "Pear  Red       25  $2.59\n",
       "      Green     26  $2.79\n",
       "Lime  Green     99  $0.39"
      ]
     },
     "execution_count": 17,
     "metadata": {},
     "output_type": "execute_result"
    }
   ],
   "source": [
    "df = df_unindexed.set_index(['Fruit', 'Color'])\n",
    "df"
   ]
  },
  {
   "cell_type": "code",
   "execution_count": 18,
   "metadata": {
    "id": "uyF9TvY_3e73"
   },
   "outputs": [],
   "source": [
    "import pandas as pd\n",
    "import numpy as np"
   ]
  },
  {
   "cell_type": "code",
   "execution_count": 19,
   "metadata": {
    "colab": {
     "base_uri": "https://localhost:8080/"
    },
    "id": "lGqtwagU3gvO",
    "outputId": "ad57ff1f-0972-4416-820f-2f50aa36da19"
   },
   "outputs": [
    {
     "data": {
      "text/plain": [
       "(California, 2000)    33871648\n",
       "(California, 2010)    37253956\n",
       "(New York, 2000)      18976457\n",
       "(New York, 2010)      19378102\n",
       "(Texas, 2000)         20851820\n",
       "(Texas, 2010)         25145561\n",
       "dtype: int64"
      ]
     },
     "execution_count": 19,
     "metadata": {},
     "output_type": "execute_result"
    }
   ],
   "source": [
    "index = [('California', 2000), ('California', 2010),\n",
    "         ('New York', 2000), ('New York', 2010),\n",
    "         ('Texas', 2000), ('Texas', 2010)]\n",
    "populations = [33871648, 37253956,\n",
    "               18976457, 19378102,\n",
    "               20851820, 25145561]\n",
    "pop = pd.Series(populations, index=index)\n",
    "pop"
   ]
  },
  {
   "cell_type": "code",
   "execution_count": 20,
   "metadata": {
    "colab": {
     "base_uri": "https://localhost:8080/"
    },
    "id": "jQCBfibt3l8G",
    "outputId": "0ad912fd-83af-4ccc-ef04-87c480da8bc7"
   },
   "outputs": [
    {
     "data": {
      "text/plain": [
       "MultiIndex([('California', 2000),\n",
       "            ('California', 2010),\n",
       "            (  'New York', 2000),\n",
       "            (  'New York', 2010),\n",
       "            (     'Texas', 2000),\n",
       "            (     'Texas', 2010)],\n",
       "           )"
      ]
     },
     "execution_count": 20,
     "metadata": {},
     "output_type": "execute_result"
    }
   ],
   "source": [
    "index = pd.MultiIndex.from_tuples(index)\n",
    "index"
   ]
  },
  {
   "cell_type": "code",
   "execution_count": 21,
   "metadata": {
    "colab": {
     "base_uri": "https://localhost:8080/"
    },
    "id": "cc2UNzpE3qXe",
    "outputId": "7e198a06-aab2-48a8-9951-4abed11efe30"
   },
   "outputs": [
    {
     "data": {
      "text/plain": [
       "California  2000    33871648\n",
       "            2010    37253956\n",
       "New York    2000    18976457\n",
       "            2010    19378102\n",
       "Texas       2000    20851820\n",
       "            2010    25145561\n",
       "dtype: int64"
      ]
     },
     "execution_count": 21,
     "metadata": {},
     "output_type": "execute_result"
    }
   ],
   "source": [
    "pop = pop.reindex(index)\n",
    "pop"
   ]
  },
  {
   "cell_type": "code",
   "execution_count": 22,
   "metadata": {
    "colab": {
     "base_uri": "https://localhost:8080/"
    },
    "id": "3TrX-rPa3sZf",
    "outputId": "57f406bd-6979-46e8-db66-7a524a26a975"
   },
   "outputs": [
    {
     "data": {
      "text/plain": [
       "California    37253956\n",
       "New York      19378102\n",
       "Texas         25145561\n",
       "dtype: int64"
      ]
     },
     "execution_count": 22,
     "metadata": {},
     "output_type": "execute_result"
    }
   ],
   "source": [
    "pop[:, 2010]"
   ]
  },
  {
   "cell_type": "markdown",
   "metadata": {
    "id": "Ub9QugAT3vgQ"
   },
   "source": [
    "## 4. Merging DataFrames"
   ]
  },
  {
   "cell_type": "code",
   "execution_count": 23,
   "metadata": {
    "id": "XivE7N7H3w4E"
   },
   "outputs": [],
   "source": [
    "import numpy as np\n",
    "import pandas as pd\n",
    "# Dataframe of number of sales made by an employee\n",
    "sales = {'Tony': 103,\n",
    "         'Sally': 202,\n",
    "         'Randy': 380,\n",
    "         'Ellen': 101,\n",
    "         'Fred': 82\n",
    "        }\n",
    "# Dataframe of all employees and the region they work in\n",
    "region = {'Tony': 'West',\n",
    "          'Sally': 'South',\n",
    "          'Carl': 'West',\n",
    "          'Archie': 'North',\n",
    "          'Randy': 'East',\n",
    "          'Ellen': 'South',\n",
    "          'Fred': np.nan,\n",
    "          'Mo': 'East',\n",
    "          'HanWei': np.nan,\n",
    "         }"
   ]
  },
  {
   "cell_type": "code",
   "execution_count": 24,
   "metadata": {
    "id": "KabvTkD-5ZVy"
   },
   "outputs": [],
   "source": [
    "# Make dataframes\n",
    "sales_df = pd.DataFrame.from_dict(sales, orient='index', \n",
    "                                  columns=['sales'])\n",
    "region_df = pd.DataFrame.from_dict(region, orient='index', \n",
    "                                   columns=['region'])"
   ]
  },
  {
   "cell_type": "code",
   "execution_count": 25,
   "metadata": {
    "colab": {
     "base_uri": "https://localhost:8080/"
    },
    "id": "-O_Ppdr45eJ6",
    "outputId": "47750e28-34e2-4d11-caf7-09faef5a3a10"
   },
   "outputs": [
    {
     "name": "stdout",
     "output_type": "stream",
     "text": [
      "       region  sales\n",
      "Tony     West  103.0\n",
      "Sally   South  202.0\n",
      "Carl     West    NaN\n",
      "Archie  North    NaN\n",
      "Randy    East  380.0\n",
      "Ellen   South  101.0\n",
      "Fred      NaN   82.0\n",
      "Mo       East    NaN\n",
      "HanWei    NaN    NaN\n"
     ]
    }
   ],
   "source": [
    "joined_df_merge = region_df.merge(sales_df, how='left', \n",
    "                                      left_index=True,\n",
    "                                      right_index=True)\n",
    "print(joined_df_merge)"
   ]
  },
  {
   "cell_type": "code",
   "execution_count": 26,
   "metadata": {
    "colab": {
     "base_uri": "https://localhost:8080/"
    },
    "id": "TRjpTV7i5nhP",
    "outputId": "ffeeab7a-64e4-4b41-bf66-1077582e25fc"
   },
   "outputs": [
    {
     "name": "stdout",
     "output_type": "stream",
     "text": [
      "  region  sales\n",
      "0   East  380.0\n",
      "1  North    0.0\n",
      "2  South  303.0\n",
      "3   West  103.0\n"
     ]
    }
   ],
   "source": [
    "grouped_df = joined_df_merge.groupby(by='region').sum()\n",
    "grouped_df.reset_index(inplace=True)\n",
    "print(grouped_df)"
   ]
  },
  {
   "cell_type": "markdown",
   "metadata": {
    "id": "eKYeFRh_6Mnn"
   },
   "source": [
    "## 5. Joining DataFrames"
   ]
  },
  {
   "cell_type": "code",
   "execution_count": 27,
   "metadata": {
    "colab": {
     "base_uri": "https://localhost:8080/"
    },
    "id": "t6QQYLsW5ehC",
    "outputId": "2a3a14a0-ce75-4d17-e561-32fd5daab509"
   },
   "outputs": [
    {
     "name": "stdout",
     "output_type": "stream",
     "text": [
      "   id    Name subject_id\n",
      "0   1    Alex       sub1\n",
      "1   2     Amy       sub2\n",
      "2   3   Allen       sub4\n",
      "3   4   Alice       sub6\n",
      "4   5  Ayoung       sub5\n",
      "   id   Name subject_id\n",
      "0   1  Billy       sub2\n",
      "1   2  Brian       sub4\n",
      "2   3   Bran       sub3\n",
      "3   4  Bryce       sub6\n",
      "4   5  Betty       sub5\n"
     ]
    }
   ],
   "source": [
    "# import the pandas library\n",
    "import pandas as pd\n",
    "left = pd.DataFrame({\n",
    "   'id':[1,2,3,4,5],\n",
    "   'Name': ['Alex', 'Amy', 'Allen', 'Alice', 'Ayoung'],\n",
    "   'subject_id':['sub1','sub2','sub4','sub6','sub5']})\n",
    "right = pd.DataFrame(\n",
    "   {'id':[1,2,3,4,5],\n",
    "   'Name': ['Billy', 'Brian', 'Bran', 'Bryce', 'Betty'],\n",
    "   'subject_id':['sub2','sub4','sub3','sub6','sub5']})\n",
    "print (left)\n",
    "print (right)"
   ]
  },
  {
   "cell_type": "code",
   "execution_count": 28,
   "metadata": {
    "colab": {
     "base_uri": "https://localhost:8080/"
    },
    "id": "k9jYeUbb6YQC",
    "outputId": "5b4eed07-e7f2-4607-f57e-a6a181492e4a"
   },
   "outputs": [
    {
     "name": "stdout",
     "output_type": "stream",
     "text": [
      "   id  Name_x subject_id_x Name_y subject_id_y\n",
      "0   1    Alex         sub1  Billy         sub2\n",
      "1   2     Amy         sub2  Brian         sub4\n",
      "2   3   Allen         sub4   Bran         sub3\n",
      "3   4   Alice         sub6  Bryce         sub6\n",
      "4   5  Ayoung         sub5  Betty         sub5\n"
     ]
    }
   ],
   "source": [
    "import pandas as pd\n",
    "left = pd.DataFrame({\n",
    "   'id':[1,2,3,4,5],\n",
    "   'Name': ['Alex', 'Amy', 'Allen', 'Alice', 'Ayoung'],\n",
    "   'subject_id':['sub1','sub2','sub4','sub6','sub5']})\n",
    "right = pd.DataFrame({\n",
    "    'id':[1,2,3,4,5],\n",
    "   'Name': ['Billy', 'Brian', 'Bran', 'Bryce', 'Betty'],\n",
    "   'subject_id':['sub2','sub4','sub3','sub6','sub5']})\n",
    "print (pd.merge(left,right,on='id'))"
   ]
  },
  {
   "cell_type": "markdown",
   "metadata": {
    "id": "N9u9nImA6mgO"
   },
   "source": [
    "![image.png](data:image/png;base64,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)"
   ]
  },
  {
   "cell_type": "code",
   "execution_count": 29,
   "metadata": {
    "colab": {
     "base_uri": "https://localhost:8080/"
    },
    "id": "kUllwooz6blP",
    "outputId": "76b65a2a-1a0e-4615-d33d-c76bcd1656cc"
   },
   "outputs": [
    {
     "name": "stdout",
     "output_type": "stream",
     "text": [
      "   id_x  Name_x subject_id  id_y Name_y\n",
      "0     1    Alex       sub1   NaN    NaN\n",
      "1     2     Amy       sub2   1.0  Billy\n",
      "2     3   Allen       sub4   2.0  Brian\n",
      "3     4   Alice       sub6   4.0  Bryce\n",
      "4     5  Ayoung       sub5   5.0  Betty\n"
     ]
    }
   ],
   "source": [
    "import pandas as pd\n",
    "left = pd.DataFrame({\n",
    "   'id':[1,2,3,4,5],\n",
    "   'Name': ['Alex', 'Amy', 'Allen', 'Alice', 'Ayoung'],\n",
    "   'subject_id':['sub1','sub2','sub4','sub6','sub5']})\n",
    "right = pd.DataFrame({\n",
    "   'id':[1,2,3,4,5],\n",
    "   'Name': ['Billy', 'Brian', 'Bran', 'Bryce', 'Betty'],\n",
    "   'subject_id':['sub2','sub4','sub3','sub6','sub5']})\n",
    "print (pd.merge(left, right, on='subject_id', how='left'))"
   ]
  },
  {
   "cell_type": "code",
   "execution_count": 30,
   "metadata": {
    "colab": {
     "base_uri": "https://localhost:8080/"
    },
    "id": "GHxLLdhT6vfS",
    "outputId": "57094d72-8e30-4861-e13d-2f75221f3d3a"
   },
   "outputs": [
    {
     "name": "stdout",
     "output_type": "stream",
     "text": [
      "   id_x  Name_x subject_id  id_y Name_y\n",
      "0   2.0     Amy       sub2     1  Billy\n",
      "1   3.0   Allen       sub4     2  Brian\n",
      "2   NaN     NaN       sub3     3   Bran\n",
      "3   4.0   Alice       sub6     4  Bryce\n",
      "4   5.0  Ayoung       sub5     5  Betty\n"
     ]
    }
   ],
   "source": [
    "print (pd.merge(left, right, on='subject_id', how='right'))"
   ]
  },
  {
   "cell_type": "code",
   "execution_count": 31,
   "metadata": {
    "colab": {
     "base_uri": "https://localhost:8080/"
    },
    "id": "DF0t7j8p6xYI",
    "outputId": "601b136c-6d4c-44e4-f47e-1125a4f22c69"
   },
   "outputs": [
    {
     "name": "stdout",
     "output_type": "stream",
     "text": [
      "   id_x  Name_x subject_id  id_y Name_y\n",
      "0   1.0    Alex       sub1   NaN    NaN\n",
      "1   2.0     Amy       sub2   1.0  Billy\n",
      "2   3.0   Allen       sub4   2.0  Brian\n",
      "3   4.0   Alice       sub6   4.0  Bryce\n",
      "4   5.0  Ayoung       sub5   5.0  Betty\n",
      "5   NaN     NaN       sub3   3.0   Bran\n"
     ]
    }
   ],
   "source": [
    "print (pd.merge(left, right, how='outer', on='subject_id'))"
   ]
  },
  {
   "cell_type": "code",
   "execution_count": 32,
   "metadata": {
    "colab": {
     "base_uri": "https://localhost:8080/"
    },
    "id": "Wl9ANrXT6zxh",
    "outputId": "4d9ce24e-1418-4e58-94a4-1668ed246283"
   },
   "outputs": [
    {
     "name": "stdout",
     "output_type": "stream",
     "text": [
      "   id_x  Name_x subject_id  id_y Name_y\n",
      "0     2     Amy       sub2     1  Billy\n",
      "1     3   Allen       sub4     2  Brian\n",
      "2     4   Alice       sub6     4  Bryce\n",
      "3     5  Ayoung       sub5     5  Betty\n"
     ]
    }
   ],
   "source": [
    "print (pd.merge(left, right, on='subject_id', how='inner'))"
   ]
  },
  {
   "cell_type": "code",
   "execution_count": 33,
   "metadata": {
    "colab": {
     "base_uri": "https://localhost:8080/",
     "height": 230
    },
    "id": "wUU8BtJE7wHk",
    "outputId": "41ceadbc-4fd7-4e88-bc9e-02a41b0e8af0"
   },
   "outputs": [
    {
     "data": {
      "text/html": [
       "<div>\n",
       "<style scoped>\n",
       "    .dataframe tbody tr th:only-of-type {\n",
       "        vertical-align: middle;\n",
       "    }\n",
       "\n",
       "    .dataframe tbody tr th {\n",
       "        vertical-align: top;\n",
       "    }\n",
       "\n",
       "    .dataframe thead th {\n",
       "        text-align: right;\n",
       "    }\n",
       "</style>\n",
       "<table border=\"1\" class=\"dataframe\">\n",
       "  <thead>\n",
       "    <tr style=\"text-align: right;\">\n",
       "      <th></th>\n",
       "      <th>key</th>\n",
       "      <th>A</th>\n",
       "      <th>B</th>\n",
       "    </tr>\n",
       "  </thead>\n",
       "  <tbody>\n",
       "    <tr>\n",
       "      <th>0</th>\n",
       "      <td>K0</td>\n",
       "      <td>A0</td>\n",
       "      <td>B0</td>\n",
       "    </tr>\n",
       "    <tr>\n",
       "      <th>1</th>\n",
       "      <td>K1</td>\n",
       "      <td>A1</td>\n",
       "      <td>B1</td>\n",
       "    </tr>\n",
       "    <tr>\n",
       "      <th>2</th>\n",
       "      <td>K2</td>\n",
       "      <td>A2</td>\n",
       "      <td>B2</td>\n",
       "    </tr>\n",
       "    <tr>\n",
       "      <th>3</th>\n",
       "      <td>K3</td>\n",
       "      <td>A3</td>\n",
       "      <td>NaN</td>\n",
       "    </tr>\n",
       "    <tr>\n",
       "      <th>4</th>\n",
       "      <td>K4</td>\n",
       "      <td>A4</td>\n",
       "      <td>NaN</td>\n",
       "    </tr>\n",
       "    <tr>\n",
       "      <th>5</th>\n",
       "      <td>K5</td>\n",
       "      <td>A5</td>\n",
       "      <td>NaN</td>\n",
       "    </tr>\n",
       "  </tbody>\n",
       "</table>\n",
       "</div>"
      ],
      "text/plain": [
       "  key   A    B\n",
       "0  K0  A0   B0\n",
       "1  K1  A1   B1\n",
       "2  K2  A2   B2\n",
       "3  K3  A3  NaN\n",
       "4  K4  A4  NaN\n",
       "5  K5  A5  NaN"
      ]
     },
     "execution_count": 33,
     "metadata": {},
     "output_type": "execute_result"
    }
   ],
   "source": [
    "import pandas as pd  \n",
    "info = pd.DataFrame({'key': ['K0', 'K1', 'K2', 'K3', 'K4', 'K5'],  \n",
    "'A': ['A0', 'A1', 'A2', 'A3', 'A4', 'A5']})  \n",
    "x = pd.DataFrame({'key': ['K0', 'K1', 'K2'],  \n",
    "'B': ['B0', 'B1', 'B2']})  \n",
    "info.join(x, lsuffix='_caller', rsuffix='_x')   \n",
    "info.set_index('key').join(x.set_index('key'))  \n",
    "info.join(x.set_index('key'), on='key') "
   ]
  },
  {
   "cell_type": "markdown",
   "metadata": {
    "id": "83NqRE0z79vS"
   },
   "source": [
    "# 6. merge_ordered"
   ]
  },
  {
   "cell_type": "code",
   "execution_count": 34,
   "metadata": {
    "id": "yPrjvu-H7w4K"
   },
   "outputs": [],
   "source": [
    "df1 = pd.DataFrame(\n",
    "    {\n",
    "        \"key\": [\"a\", \"c\", \"e\", \"a\", \"c\", \"e\"],\n",
    "        \"lvalue\": [1, 2, 3, 1, 2, 3],\n",
    "        \"group\": [\"a\", \"a\", \"a\", \"b\", \"b\", \"b\"]\n",
    "    }\n",
    ")"
   ]
  },
  {
   "cell_type": "code",
   "execution_count": 35,
   "metadata": {
    "colab": {
     "base_uri": "https://localhost:8080/",
     "height": 230
    },
    "id": "WB4RtyDE8EqQ",
    "outputId": "43ca8d17-bce1-4512-d9c4-07182f217caf"
   },
   "outputs": [
    {
     "data": {
      "text/html": [
       "<div>\n",
       "<style scoped>\n",
       "    .dataframe tbody tr th:only-of-type {\n",
       "        vertical-align: middle;\n",
       "    }\n",
       "\n",
       "    .dataframe tbody tr th {\n",
       "        vertical-align: top;\n",
       "    }\n",
       "\n",
       "    .dataframe thead th {\n",
       "        text-align: right;\n",
       "    }\n",
       "</style>\n",
       "<table border=\"1\" class=\"dataframe\">\n",
       "  <thead>\n",
       "    <tr style=\"text-align: right;\">\n",
       "      <th></th>\n",
       "      <th>key</th>\n",
       "      <th>lvalue</th>\n",
       "      <th>group</th>\n",
       "    </tr>\n",
       "  </thead>\n",
       "  <tbody>\n",
       "    <tr>\n",
       "      <th>0</th>\n",
       "      <td>a</td>\n",
       "      <td>1</td>\n",
       "      <td>a</td>\n",
       "    </tr>\n",
       "    <tr>\n",
       "      <th>1</th>\n",
       "      <td>c</td>\n",
       "      <td>2</td>\n",
       "      <td>a</td>\n",
       "    </tr>\n",
       "    <tr>\n",
       "      <th>2</th>\n",
       "      <td>e</td>\n",
       "      <td>3</td>\n",
       "      <td>a</td>\n",
       "    </tr>\n",
       "    <tr>\n",
       "      <th>3</th>\n",
       "      <td>a</td>\n",
       "      <td>1</td>\n",
       "      <td>b</td>\n",
       "    </tr>\n",
       "    <tr>\n",
       "      <th>4</th>\n",
       "      <td>c</td>\n",
       "      <td>2</td>\n",
       "      <td>b</td>\n",
       "    </tr>\n",
       "    <tr>\n",
       "      <th>5</th>\n",
       "      <td>e</td>\n",
       "      <td>3</td>\n",
       "      <td>b</td>\n",
       "    </tr>\n",
       "  </tbody>\n",
       "</table>\n",
       "</div>"
      ],
      "text/plain": [
       "  key  lvalue group\n",
       "0   a       1     a\n",
       "1   c       2     a\n",
       "2   e       3     a\n",
       "3   a       1     b\n",
       "4   c       2     b\n",
       "5   e       3     b"
      ]
     },
     "execution_count": 35,
     "metadata": {},
     "output_type": "execute_result"
    }
   ],
   "source": [
    "df1"
   ]
  },
  {
   "cell_type": "code",
   "execution_count": 36,
   "metadata": {
    "colab": {
     "base_uri": "https://localhost:8080/",
     "height": 139
    },
    "id": "n3wViKQ98F2o",
    "outputId": "cfb66569-1d62-4dac-a924-02c559716e8c"
   },
   "outputs": [
    {
     "data": {
      "text/html": [
       "<div>\n",
       "<style scoped>\n",
       "    .dataframe tbody tr th:only-of-type {\n",
       "        vertical-align: middle;\n",
       "    }\n",
       "\n",
       "    .dataframe tbody tr th {\n",
       "        vertical-align: top;\n",
       "    }\n",
       "\n",
       "    .dataframe thead th {\n",
       "        text-align: right;\n",
       "    }\n",
       "</style>\n",
       "<table border=\"1\" class=\"dataframe\">\n",
       "  <thead>\n",
       "    <tr style=\"text-align: right;\">\n",
       "      <th></th>\n",
       "      <th>key</th>\n",
       "      <th>rvalue</th>\n",
       "    </tr>\n",
       "  </thead>\n",
       "  <tbody>\n",
       "    <tr>\n",
       "      <th>0</th>\n",
       "      <td>b</td>\n",
       "      <td>1</td>\n",
       "    </tr>\n",
       "    <tr>\n",
       "      <th>1</th>\n",
       "      <td>c</td>\n",
       "      <td>2</td>\n",
       "    </tr>\n",
       "    <tr>\n",
       "      <th>2</th>\n",
       "      <td>d</td>\n",
       "      <td>3</td>\n",
       "    </tr>\n",
       "  </tbody>\n",
       "</table>\n",
       "</div>"
      ],
      "text/plain": [
       "  key  rvalue\n",
       "0   b       1\n",
       "1   c       2\n",
       "2   d       3"
      ]
     },
     "execution_count": 36,
     "metadata": {},
     "output_type": "execute_result"
    }
   ],
   "source": [
    "df2 = pd.DataFrame({\"key\": [\"b\", \"c\", \"d\"], \"rvalue\": [1, 2, 3]})\n",
    "df2"
   ]
  },
  {
   "cell_type": "code",
   "execution_count": 37,
   "metadata": {
    "colab": {
     "base_uri": "https://localhost:8080/",
     "height": 352
    },
    "id": "xM1ywFEu8Jd2",
    "outputId": "04f7e099-171d-457b-dd73-f1572b2e761b"
   },
   "outputs": [
    {
     "data": {
      "text/html": [
       "<div>\n",
       "<style scoped>\n",
       "    .dataframe tbody tr th:only-of-type {\n",
       "        vertical-align: middle;\n",
       "    }\n",
       "\n",
       "    .dataframe tbody tr th {\n",
       "        vertical-align: top;\n",
       "    }\n",
       "\n",
       "    .dataframe thead th {\n",
       "        text-align: right;\n",
       "    }\n",
       "</style>\n",
       "<table border=\"1\" class=\"dataframe\">\n",
       "  <thead>\n",
       "    <tr style=\"text-align: right;\">\n",
       "      <th></th>\n",
       "      <th>key</th>\n",
       "      <th>lvalue</th>\n",
       "      <th>group</th>\n",
       "      <th>rvalue</th>\n",
       "    </tr>\n",
       "  </thead>\n",
       "  <tbody>\n",
       "    <tr>\n",
       "      <th>0</th>\n",
       "      <td>a</td>\n",
       "      <td>1</td>\n",
       "      <td>a</td>\n",
       "      <td>NaN</td>\n",
       "    </tr>\n",
       "    <tr>\n",
       "      <th>1</th>\n",
       "      <td>b</td>\n",
       "      <td>1</td>\n",
       "      <td>a</td>\n",
       "      <td>1.0</td>\n",
       "    </tr>\n",
       "    <tr>\n",
       "      <th>2</th>\n",
       "      <td>c</td>\n",
       "      <td>2</td>\n",
       "      <td>a</td>\n",
       "      <td>2.0</td>\n",
       "    </tr>\n",
       "    <tr>\n",
       "      <th>3</th>\n",
       "      <td>d</td>\n",
       "      <td>2</td>\n",
       "      <td>a</td>\n",
       "      <td>3.0</td>\n",
       "    </tr>\n",
       "    <tr>\n",
       "      <th>4</th>\n",
       "      <td>e</td>\n",
       "      <td>3</td>\n",
       "      <td>a</td>\n",
       "      <td>3.0</td>\n",
       "    </tr>\n",
       "    <tr>\n",
       "      <th>5</th>\n",
       "      <td>a</td>\n",
       "      <td>1</td>\n",
       "      <td>b</td>\n",
       "      <td>NaN</td>\n",
       "    </tr>\n",
       "    <tr>\n",
       "      <th>6</th>\n",
       "      <td>b</td>\n",
       "      <td>1</td>\n",
       "      <td>b</td>\n",
       "      <td>1.0</td>\n",
       "    </tr>\n",
       "    <tr>\n",
       "      <th>7</th>\n",
       "      <td>c</td>\n",
       "      <td>2</td>\n",
       "      <td>b</td>\n",
       "      <td>2.0</td>\n",
       "    </tr>\n",
       "    <tr>\n",
       "      <th>8</th>\n",
       "      <td>d</td>\n",
       "      <td>2</td>\n",
       "      <td>b</td>\n",
       "      <td>3.0</td>\n",
       "    </tr>\n",
       "    <tr>\n",
       "      <th>9</th>\n",
       "      <td>e</td>\n",
       "      <td>3</td>\n",
       "      <td>b</td>\n",
       "      <td>3.0</td>\n",
       "    </tr>\n",
       "  </tbody>\n",
       "</table>\n",
       "</div>"
      ],
      "text/plain": [
       "  key  lvalue group  rvalue\n",
       "0   a       1     a     NaN\n",
       "1   b       1     a     1.0\n",
       "2   c       2     a     2.0\n",
       "3   d       2     a     3.0\n",
       "4   e       3     a     3.0\n",
       "5   a       1     b     NaN\n",
       "6   b       1     b     1.0\n",
       "7   c       2     b     2.0\n",
       "8   d       2     b     3.0\n",
       "9   e       3     b     3.0"
      ]
     },
     "execution_count": 37,
     "metadata": {},
     "output_type": "execute_result"
    }
   ],
   "source": [
    "pd.merge_ordered(df1, df2, fill_method= \"ffill\", left_by=\"group\")"
   ]
  }
 ],
 "metadata": {
  "colab": {
   "name": "Merging and Concatenating Data.ipynb",
   "provenance": []
  },
  "kernelspec": {
   "display_name": "Python 3",
   "language": "python",
   "name": "python3"
  },
  "language_info": {
   "codemirror_mode": {
    "name": "ipython",
    "version": 3
   },
   "file_extension": ".py",
   "mimetype": "text/x-python",
   "name": "python",
   "nbconvert_exporter": "python",
   "pygments_lexer": "ipython3",
   "version": "3.8.5"
  }
 },
 "nbformat": 4,
 "nbformat_minor": 1
}
