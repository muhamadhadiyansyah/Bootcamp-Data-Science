{
  "nbformat": 4,
  "nbformat_minor": 0,
  "metadata": {
    "colab": {
      "name": "Classification2.ipynb",
      "provenance": [],
      "collapsed_sections": []
    },
    "kernelspec": {
      "display_name": "Python 3",
      "language": "python",
      "name": "python3"
    },
    "language_info": {
      "codemirror_mode": {
        "name": "ipython",
        "version": 3
      },
      "file_extension": ".py",
      "mimetype": "text/x-python",
      "name": "python",
      "nbconvert_exporter": "python",
      "pygments_lexer": "ipython3",
      "version": "3.8.5"
    }
  },
  "cells": [
    {
      "cell_type": "markdown",
      "metadata": {
        "id": "N2W81uVMZyDV"
      },
      "source": [
        "Customer churn is the loss of clients or customers. In order to avoid losing customers, a company needs to examine why its customers have left in the past and which features are more important to determine who will churn in the future. Our task is therefore to predict whether customers are about to churn and which are the most important features to get that prediction right. As in most prediction problems, we will use machine learning."
      ]
    },
    {
      "cell_type": "code",
      "metadata": {
        "id": "_fKif-Zftnzz",
        "outputId": "cc964004-45e8-4acf-854d-924c0fd40bc3",
        "colab": {
          "resources": {
            "http://localhost:8080/nbextensions/google.colab/files.js": {
              "data": "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",
              "ok": true,
              "headers": [
                [
                  "content-type",
                  "application/javascript"
                ]
              ],
              "status": 200,
              "status_text": ""
            }
          },
          "base_uri": "https://localhost:8080/",
          "height": 72
        }
      },
      "source": [
        "import pandas as pd\n",
        "from google.colab import files\n",
        "filenya = files.upload()"
      ],
      "execution_count": 1,
      "outputs": [
        {
          "output_type": "display_data",
          "data": {
            "text/html": [
              "\n",
              "     <input type=\"file\" id=\"files-a0d5536b-c565-4da5-af2e-72872a26afc3\" name=\"files[]\" multiple disabled\n",
              "        style=\"border:none\" />\n",
              "     <output id=\"result-a0d5536b-c565-4da5-af2e-72872a26afc3\">\n",
              "      Upload widget is only available when the cell has been executed in the\n",
              "      current browser session. Please rerun this cell to enable.\n",
              "      </output>\n",
              "      <script src=\"/nbextensions/google.colab/files.js\"></script> "
            ],
            "text/plain": [
              "<IPython.core.display.HTML object>"
            ]
          },
          "metadata": {
            "tags": []
          }
        },
        {
          "output_type": "stream",
          "text": [
            "Saving telco.csv to telco.csv\n"
          ],
          "name": "stdout"
        }
      ]
    },
    {
      "cell_type": "markdown",
      "metadata": {
        "id": "pAvbuNHEuFQd"
      },
      "source": [
        "## Import Library"
      ]
    },
    {
      "cell_type": "code",
      "metadata": {
        "id": "MLGG4J-RuFQh"
      },
      "source": [
        "import numpy as np\n",
        "import pandas as pd\n",
        "import seaborn as sns\n",
        "import matplotlib.pyplot as plt"
      ],
      "execution_count": 3,
      "outputs": []
    },
    {
      "cell_type": "markdown",
      "metadata": {
        "id": "rEeuVh8AuFQz"
      },
      "source": [
        "## Load Datasets"
      ]
    },
    {
      "cell_type": "code",
      "metadata": {
        "id": "fORF7oPnZI6F"
      },
      "source": [
        "# Load Data From Local File\n",
        "data = pd.read_csv(\"telco.csv\", sep=';')"
      ],
      "execution_count": 4,
      "outputs": []
    },
    {
      "cell_type": "markdown",
      "metadata": {
        "id": "s0zKntabuFQ9"
      },
      "source": [
        "## Data Understanding"
      ]
    },
    {
      "cell_type": "code",
      "metadata": {
        "colab": {
          "base_uri": "https://localhost:8080/",
          "height": 309
        },
        "id": "lOyXx49XuFQ-",
        "outputId": "76a726fe-4d3a-40cd-f7b6-b404c2f7fc1a"
      },
      "source": [
        "# See the first 5 data\n",
        "data.head()"
      ],
      "execution_count": 5,
      "outputs": [
        {
          "output_type": "execute_result",
          "data": {
            "text/html": [
              "<div>\n",
              "<style scoped>\n",
              "    .dataframe tbody tr th:only-of-type {\n",
              "        vertical-align: middle;\n",
              "    }\n",
              "\n",
              "    .dataframe tbody tr th {\n",
              "        vertical-align: top;\n",
              "    }\n",
              "\n",
              "    .dataframe thead th {\n",
              "        text-align: right;\n",
              "    }\n",
              "</style>\n",
              "<table border=\"1\" class=\"dataframe\">\n",
              "  <thead>\n",
              "    <tr style=\"text-align: right;\">\n",
              "      <th></th>\n",
              "      <th>customerid</th>\n",
              "      <th>region</th>\n",
              "      <th>gender</th>\n",
              "      <th>seniorcitizen</th>\n",
              "      <th>partner</th>\n",
              "      <th>dependents</th>\n",
              "      <th>tenure</th>\n",
              "      <th>phoneservice</th>\n",
              "      <th>multiplelines</th>\n",
              "      <th>internetservice</th>\n",
              "      <th>onlinesecurity</th>\n",
              "      <th>onlinebackup</th>\n",
              "      <th>deviceprotection</th>\n",
              "      <th>techsupport</th>\n",
              "      <th>streamingtv</th>\n",
              "      <th>streamingmovies</th>\n",
              "      <th>paperlessbilling</th>\n",
              "      <th>paymentmethod</th>\n",
              "      <th>monthlycharges</th>\n",
              "      <th>totalcharges</th>\n",
              "      <th>churn</th>\n",
              "    </tr>\n",
              "  </thead>\n",
              "  <tbody>\n",
              "    <tr>\n",
              "      <th>0</th>\n",
              "      <td>2424-WVHPL</td>\n",
              "      <td>France</td>\n",
              "      <td>Male</td>\n",
              "      <td>1</td>\n",
              "      <td>No</td>\n",
              "      <td>No</td>\n",
              "      <td>1</td>\n",
              "      <td>Yes</td>\n",
              "      <td>No</td>\n",
              "      <td>Fiber optic</td>\n",
              "      <td>No</td>\n",
              "      <td>No</td>\n",
              "      <td>No</td>\n",
              "      <td>Yes</td>\n",
              "      <td>No</td>\n",
              "      <td>No</td>\n",
              "      <td>No</td>\n",
              "      <td>Electronic check</td>\n",
              "      <td>12.00</td>\n",
              "      <td>12</td>\n",
              "      <td>No</td>\n",
              "    </tr>\n",
              "    <tr>\n",
              "      <th>1</th>\n",
              "      <td>3679-XASPY</td>\n",
              "      <td>France</td>\n",
              "      <td>Female</td>\n",
              "      <td>0</td>\n",
              "      <td>Yes</td>\n",
              "      <td>Yes</td>\n",
              "      <td>1</td>\n",
              "      <td>Yes</td>\n",
              "      <td>No</td>\n",
              "      <td>No</td>\n",
              "      <td>No internet service</td>\n",
              "      <td>No internet service</td>\n",
              "      <td>No internet service</td>\n",
              "      <td>No internet service</td>\n",
              "      <td>No internet service</td>\n",
              "      <td>No internet service</td>\n",
              "      <td>No</td>\n",
              "      <td>Electronic check</td>\n",
              "      <td>13.00</td>\n",
              "      <td>13</td>\n",
              "      <td>No</td>\n",
              "    </tr>\n",
              "    <tr>\n",
              "      <th>2</th>\n",
              "      <td>2967-MXRAV</td>\n",
              "      <td>Germany</td>\n",
              "      <td>Male</td>\n",
              "      <td>0</td>\n",
              "      <td>Yes</td>\n",
              "      <td>Yes</td>\n",
              "      <td>1</td>\n",
              "      <td>Yes</td>\n",
              "      <td>No</td>\n",
              "      <td>No</td>\n",
              "      <td>No internet service</td>\n",
              "      <td>No internet service</td>\n",
              "      <td>No internet service</td>\n",
              "      <td>No internet service</td>\n",
              "      <td>No internet service</td>\n",
              "      <td>No internet service</td>\n",
              "      <td>No</td>\n",
              "      <td>Mailed check</td>\n",
              "      <td>18.80</td>\n",
              "      <td>18.8</td>\n",
              "      <td>No</td>\n",
              "    </tr>\n",
              "    <tr>\n",
              "      <th>3</th>\n",
              "      <td>8992-CEUEN</td>\n",
              "      <td>Germany</td>\n",
              "      <td>Female</td>\n",
              "      <td>0</td>\n",
              "      <td>No</td>\n",
              "      <td>No</td>\n",
              "      <td>1</td>\n",
              "      <td>Yes</td>\n",
              "      <td>No</td>\n",
              "      <td>No</td>\n",
              "      <td>No internet service</td>\n",
              "      <td>No internet service</td>\n",
              "      <td>No internet service</td>\n",
              "      <td>No internet service</td>\n",
              "      <td>No internet service</td>\n",
              "      <td>No internet service</td>\n",
              "      <td>No</td>\n",
              "      <td>Electronic check</td>\n",
              "      <td>18.85</td>\n",
              "      <td>18.85</td>\n",
              "      <td>No</td>\n",
              "    </tr>\n",
              "    <tr>\n",
              "      <th>4</th>\n",
              "      <td>9318-NKNFC</td>\n",
              "      <td>Germany</td>\n",
              "      <td>Male</td>\n",
              "      <td>0</td>\n",
              "      <td>No</td>\n",
              "      <td>No</td>\n",
              "      <td>1</td>\n",
              "      <td>Yes</td>\n",
              "      <td>No</td>\n",
              "      <td>No</td>\n",
              "      <td>No internet service</td>\n",
              "      <td>No internet service</td>\n",
              "      <td>No internet service</td>\n",
              "      <td>No internet service</td>\n",
              "      <td>No internet service</td>\n",
              "      <td>No internet service</td>\n",
              "      <td>Yes</td>\n",
              "      <td>Mailed check</td>\n",
              "      <td>18.85</td>\n",
              "      <td>18.85</td>\n",
              "      <td>Yes</td>\n",
              "    </tr>\n",
              "  </tbody>\n",
              "</table>\n",
              "</div>"
            ],
            "text/plain": [
              "   customerid   region  gender  ...  monthlycharges totalcharges churn\n",
              "0  2424-WVHPL   France    Male  ...           12.00           12    No\n",
              "1  3679-XASPY   France  Female  ...           13.00           13    No\n",
              "2  2967-MXRAV  Germany    Male  ...           18.80         18.8    No\n",
              "3  8992-CEUEN  Germany  Female  ...           18.85        18.85    No\n",
              "4  9318-NKNFC  Germany    Male  ...           18.85        18.85   Yes\n",
              "\n",
              "[5 rows x 21 columns]"
            ]
          },
          "metadata": {
            "tags": []
          },
          "execution_count": 5
        }
      ]
    },
    {
      "cell_type": "code",
      "metadata": {
        "colab": {
          "base_uri": "https://localhost:8080/"
        },
        "id": "vZhNjh1EuFT4",
        "outputId": "5d7253c0-e270-4df8-b008-d046929c6f72"
      },
      "source": [
        "# See the number of rows and number of columns of data\n",
        "data.shape"
      ],
      "execution_count": 6,
      "outputs": [
        {
          "output_type": "execute_result",
          "data": {
            "text/plain": [
              "(7043, 21)"
            ]
          },
          "metadata": {
            "tags": []
          },
          "execution_count": 6
        }
      ]
    },
    {
      "cell_type": "code",
      "metadata": {
        "colab": {
          "base_uri": "https://localhost:8080/"
        },
        "id": "JhnaNLgeuFUY",
        "outputId": "5d2cf5e2-b857-401b-bcc7-6985d0983b88"
      },
      "source": [
        "# Understanding each variable\n",
        "data.info()"
      ],
      "execution_count": 7,
      "outputs": [
        {
          "output_type": "stream",
          "text": [
            "<class 'pandas.core.frame.DataFrame'>\n",
            "RangeIndex: 7043 entries, 0 to 7042\n",
            "Data columns (total 21 columns):\n",
            " #   Column            Non-Null Count  Dtype  \n",
            "---  ------            --------------  -----  \n",
            " 0   customerid        7043 non-null   object \n",
            " 1   region            7043 non-null   object \n",
            " 2   gender            7043 non-null   object \n",
            " 3   seniorcitizen     7043 non-null   int64  \n",
            " 4   partner           7043 non-null   object \n",
            " 5   dependents        7043 non-null   object \n",
            " 6   tenure            7043 non-null   int64  \n",
            " 7   phoneservice      7043 non-null   object \n",
            " 8   multiplelines     7043 non-null   object \n",
            " 9   internetservice   7043 non-null   object \n",
            " 10  onlinesecurity    7043 non-null   object \n",
            " 11  onlinebackup      7043 non-null   object \n",
            " 12  deviceprotection  7043 non-null   object \n",
            " 13  techsupport       7043 non-null   object \n",
            " 14  streamingtv       7043 non-null   object \n",
            " 15  streamingmovies   7043 non-null   object \n",
            " 16  paperlessbilling  7043 non-null   object \n",
            " 17  paymentmethod     7043 non-null   object \n",
            " 18  monthlycharges    7043 non-null   float64\n",
            " 19  totalcharges      7043 non-null   object \n",
            " 20  churn             7043 non-null   object \n",
            "dtypes: float64(1), int64(2), object(18)\n",
            "memory usage: 1.1+ MB\n"
          ],
          "name": "stdout"
        }
      ]
    },
    {
      "cell_type": "code",
      "metadata": {
        "colab": {
          "base_uri": "https://localhost:8080/",
          "height": 297
        },
        "id": "-SBYR0iKuFUm",
        "outputId": "c275ef12-baa8-4eb1-94bc-3c98f6184aa1"
      },
      "source": [
        "# See a statistical summary of variables with numeric types\n",
        "data.describe()"
      ],
      "execution_count": 8,
      "outputs": [
        {
          "output_type": "execute_result",
          "data": {
            "text/html": [
              "<div>\n",
              "<style scoped>\n",
              "    .dataframe tbody tr th:only-of-type {\n",
              "        vertical-align: middle;\n",
              "    }\n",
              "\n",
              "    .dataframe tbody tr th {\n",
              "        vertical-align: top;\n",
              "    }\n",
              "\n",
              "    .dataframe thead th {\n",
              "        text-align: right;\n",
              "    }\n",
              "</style>\n",
              "<table border=\"1\" class=\"dataframe\">\n",
              "  <thead>\n",
              "    <tr style=\"text-align: right;\">\n",
              "      <th></th>\n",
              "      <th>seniorcitizen</th>\n",
              "      <th>tenure</th>\n",
              "      <th>monthlycharges</th>\n",
              "    </tr>\n",
              "  </thead>\n",
              "  <tbody>\n",
              "    <tr>\n",
              "      <th>count</th>\n",
              "      <td>7043.000000</td>\n",
              "      <td>7043.000000</td>\n",
              "      <td>7043.000000</td>\n",
              "    </tr>\n",
              "    <tr>\n",
              "      <th>mean</th>\n",
              "      <td>0.162147</td>\n",
              "      <td>32.401107</td>\n",
              "      <td>64.751874</td>\n",
              "    </tr>\n",
              "    <tr>\n",
              "      <th>std</th>\n",
              "      <td>0.368612</td>\n",
              "      <td>24.606849</td>\n",
              "      <td>30.097858</td>\n",
              "    </tr>\n",
              "    <tr>\n",
              "      <th>min</th>\n",
              "      <td>0.000000</td>\n",
              "      <td>1.000000</td>\n",
              "      <td>12.000000</td>\n",
              "    </tr>\n",
              "    <tr>\n",
              "      <th>25%</th>\n",
              "      <td>0.000000</td>\n",
              "      <td>9.000000</td>\n",
              "      <td>35.500000</td>\n",
              "    </tr>\n",
              "    <tr>\n",
              "      <th>50%</th>\n",
              "      <td>0.000000</td>\n",
              "      <td>29.000000</td>\n",
              "      <td>70.350000</td>\n",
              "    </tr>\n",
              "    <tr>\n",
              "      <th>75%</th>\n",
              "      <td>0.000000</td>\n",
              "      <td>55.000000</td>\n",
              "      <td>89.850000</td>\n",
              "    </tr>\n",
              "    <tr>\n",
              "      <th>max</th>\n",
              "      <td>1.000000</td>\n",
              "      <td>120.000000</td>\n",
              "      <td>118.750000</td>\n",
              "    </tr>\n",
              "  </tbody>\n",
              "</table>\n",
              "</div>"
            ],
            "text/plain": [
              "       seniorcitizen       tenure  monthlycharges\n",
              "count    7043.000000  7043.000000     7043.000000\n",
              "mean        0.162147    32.401107       64.751874\n",
              "std         0.368612    24.606849       30.097858\n",
              "min         0.000000     1.000000       12.000000\n",
              "25%         0.000000     9.000000       35.500000\n",
              "50%         0.000000    29.000000       70.350000\n",
              "75%         0.000000    55.000000       89.850000\n",
              "max         1.000000   120.000000      118.750000"
            ]
          },
          "metadata": {
            "tags": []
          },
          "execution_count": 8
        }
      ]
    },
    {
      "cell_type": "markdown",
      "metadata": {
        "id": "BcPIWDL_amhm"
      },
      "source": [
        "The dataset includes information about:\n",
        "+ Customers who churned — the column is called Churn\n",
        "+ Services that each customer has signed up for — phone, multiple lines, internet, online security, online backup, device protection, tech support, and streaming TV and movies\n",
        "+ Customer account information — how long they’ve been a customer, the type of contract (month-to-month, one-year, two-years), payment method, paperless billing, monthly charges, and total charges\n",
        "+ Demographic info about customers — gender, age, and if they have partners and dependents"
      ]
    },
    {
      "cell_type": "markdown",
      "metadata": {
        "id": "6J7QMUsCuFUt"
      },
      "source": [
        "## Data Cleaning and Preprocessing"
      ]
    },
    {
      "cell_type": "markdown",
      "metadata": {
        "id": "Q_I5vqQXuFU0"
      },
      "source": [
        "### Check Duplicate Data"
      ]
    },
    {
      "cell_type": "code",
      "metadata": {
        "id": "FLBAkX2fuFU1"
      },
      "source": [
        "# Drop duplicate value\n",
        "data = data.drop_duplicates()"
      ],
      "execution_count": 9,
      "outputs": []
    },
    {
      "cell_type": "code",
      "metadata": {
        "colab": {
          "base_uri": "https://localhost:8080/"
        },
        "id": "ZXF8mNnUuFVM",
        "outputId": "b496923f-5dde-4eae-a20d-c6669796ad2b"
      },
      "source": [
        "# See changes in the number of rows and columns after the duplicate value is deleted\n",
        "data.shape"
      ],
      "execution_count": 10,
      "outputs": [
        {
          "output_type": "execute_result",
          "data": {
            "text/plain": [
              "(7043, 21)"
            ]
          },
          "metadata": {
            "tags": []
          },
          "execution_count": 10
        }
      ]
    },
    {
      "cell_type": "markdown",
      "metadata": {
        "id": "R8mx3BqkuFVW"
      },
      "source": [
        "### Check Data Types"
      ]
    },
    {
      "cell_type": "code",
      "metadata": {
        "colab": {
          "base_uri": "https://localhost:8080/"
        },
        "id": "dueNiZa1uFVZ",
        "scrolled": true,
        "outputId": "c9a59108-3207-4d23-b420-91fa600b4307"
      },
      "source": [
        "# Check Data Type\n",
        "data.dtypes"
      ],
      "execution_count": 11,
      "outputs": [
        {
          "output_type": "execute_result",
          "data": {
            "text/plain": [
              "customerid           object\n",
              "region               object\n",
              "gender               object\n",
              "seniorcitizen         int64\n",
              "partner              object\n",
              "dependents           object\n",
              "tenure                int64\n",
              "phoneservice         object\n",
              "multiplelines        object\n",
              "internetservice      object\n",
              "onlinesecurity       object\n",
              "onlinebackup         object\n",
              "deviceprotection     object\n",
              "techsupport          object\n",
              "streamingtv          object\n",
              "streamingmovies      object\n",
              "paperlessbilling     object\n",
              "paymentmethod        object\n",
              "monthlycharges      float64\n",
              "totalcharges         object\n",
              "churn                object\n",
              "dtype: object"
            ]
          },
          "metadata": {
            "tags": []
          },
          "execution_count": 11
        }
      ]
    },
    {
      "cell_type": "code",
      "metadata": {
        "id": "-8YL76LAuWca"
      },
      "source": [
        "# merubah nilai kosong dengan isi spasi menjadi NA\n",
        "data[\"totalcharges\"] = data[\"totalcharges\"].replace(\" \",np.nan)"
      ],
      "execution_count": 13,
      "outputs": []
    },
    {
      "cell_type": "code",
      "metadata": {
        "id": "EfBMIgwWuXsa"
      },
      "source": [
        "# merubah tipe data\n",
        "data[\"totalcharges\"] = data[\"totalcharges\"].astype(\"float64\")"
      ],
      "execution_count": 14,
      "outputs": []
    },
    {
      "cell_type": "code",
      "metadata": {
        "id": "RdzR1zjyuZx4",
        "outputId": "be089532-91fc-4afd-a008-9926ebb6e183"
      },
      "source": [
        "data.dtypes"
      ],
      "execution_count": null,
      "outputs": [
        {
          "output_type": "execute_result",
          "data": {
            "text/plain": [
              "customerid           object\n",
              "region               object\n",
              "gender               object\n",
              "seniorcitizen         int64\n",
              "partner              object\n",
              "dependents           object\n",
              "tenure                int64\n",
              "phoneservice         object\n",
              "multiplelines        object\n",
              "internetservice      object\n",
              "onlinesecurity       object\n",
              "onlinebackup         object\n",
              "deviceprotection     object\n",
              "techsupport          object\n",
              "streamingtv          object\n",
              "streamingmovies      object\n",
              "paperlessbilling     object\n",
              "paymentmethod        object\n",
              "monthlycharges      float64\n",
              "totalcharges        float64\n",
              "churn                object\n",
              "dtype: object"
            ]
          },
          "metadata": {
            "tags": []
          },
          "execution_count": 12
        }
      ]
    },
    {
      "cell_type": "markdown",
      "metadata": {
        "id": "T-83zvsZuFWN"
      },
      "source": [
        "### Check Missing Value"
      ]
    },
    {
      "cell_type": "code",
      "metadata": {
        "colab": {
          "base_uri": "https://localhost:8080/"
        },
        "id": "ATcLu2WwuFWP",
        "scrolled": true,
        "outputId": "6fe0fa25-9ae6-405a-aebf-94c5d690524d"
      },
      "source": [
        "# Check the missing value\n",
        "data.isnull().sum()"
      ],
      "execution_count": 15,
      "outputs": [
        {
          "output_type": "execute_result",
          "data": {
            "text/plain": [
              "customerid           0\n",
              "region               0\n",
              "gender               0\n",
              "seniorcitizen        0\n",
              "partner              0\n",
              "dependents           0\n",
              "tenure               0\n",
              "phoneservice         0\n",
              "multiplelines        0\n",
              "internetservice      0\n",
              "onlinesecurity       0\n",
              "onlinebackup         0\n",
              "deviceprotection     0\n",
              "techsupport          0\n",
              "streamingtv          0\n",
              "streamingmovies      0\n",
              "paperlessbilling     0\n",
              "paymentmethod        0\n",
              "monthlycharges       0\n",
              "totalcharges        11\n",
              "churn                0\n",
              "dtype: int64"
            ]
          },
          "metadata": {
            "tags": []
          },
          "execution_count": 15
        }
      ]
    },
    {
      "cell_type": "markdown",
      "metadata": {
        "id": "4DheYhbIuFWW"
      },
      "source": [
        "### Impute Missing value"
      ]
    },
    {
      "cell_type": "code",
      "metadata": {
        "colab": {
          "base_uri": "https://localhost:8080/",
          "height": 388
        },
        "id": "qRkGeBe6uFWY",
        "outputId": "3e117b84-fc36-4498-c81e-9ec036bd5305"
      },
      "source": [
        "# Look at the distribution of the totalcharges variable with histogram and density plot\n",
        "plt.figure(figsize = (10, 5))\n",
        "sns.distplot(data[\"totalcharges\"])\n",
        "plt.show()"
      ],
      "execution_count": 16,
      "outputs": [
        {
          "output_type": "stream",
          "text": [
            "/usr/local/lib/python3.7/dist-packages/seaborn/distributions.py:2557: FutureWarning: `distplot` is a deprecated function and will be removed in a future version. Please adapt your code to use either `displot` (a figure-level function with similar flexibility) or `histplot` (an axes-level function for histograms).\n",
            "  warnings.warn(msg, FutureWarning)\n"
          ],
          "name": "stderr"
        },
        {
          "output_type": "display_data",
          "data": {
            "image/png": "[encoded data removed]",
            "text/plain": [
              "<Figure size 720x360 with 1 Axes>"
            ]
          },
          "metadata": {
            "tags": [],
            "needs_background": "light"
          }
        }
      ]
    },
    {
      "cell_type": "code",
      "metadata": {
        "colab": {
          "base_uri": "https://localhost:8080/",
          "height": 388
        },
        "id": "9xCbuAwzuFWf",
        "outputId": "a62c7bca-cd72-45f4-cde6-864a659f9726"
      },
      "source": [
        "# Look at the distribution of the totalcharges variable with boxplot\n",
        "plt.figure(figsize = (10, 5))\n",
        "sns.boxplot(data[\"totalcharges\"])\n",
        "plt.show()"
      ],
      "execution_count": 17,
      "outputs": [
        {
          "output_type": "stream",
          "text": [
            "/usr/local/lib/python3.7/dist-packages/seaborn/_decorators.py:43: FutureWarning: Pass the following variable as a keyword arg: x. From version 0.12, the only valid positional argument will be `data`, and passing other arguments without an explicit keyword will result in an error or misinterpretation.\n",
            "  FutureWarning\n"
          ],
          "name": "stderr"
        },
        {
          "output_type": "display_data",
          "data": {
            "image/png": "[encoded data removed]",
            "text/plain": [
              "<Figure size 720x360 with 1 Axes>"
            ]
          },
          "metadata": {
            "tags": [],
            "needs_background": "light"
          }
        }
      ]
    },
    {
      "cell_type": "code",
      "metadata": {
        "id": "OambUgR5uFWs"
      },
      "source": [
        "# Because the totalcharges variable has positive skewed, therefore the missing value is imputed with the median\n",
        "fill = data[\"totalcharges\"].median()\n",
        "data[\"totalcharges\"] = data[\"totalcharges\"].fillna(fill)"
      ],
      "execution_count": 18,
      "outputs": []
    },
    {
      "cell_type": "code",
      "metadata": {
        "colab": {
          "base_uri": "https://localhost:8080/"
        },
        "id": "n4M5sZmZuFW0",
        "outputId": "b598126d-f155-47df-ae9b-976af3e19b6b"
      },
      "source": [
        "# Check missing value after imputation\n",
        "data.isnull().sum()"
      ],
      "execution_count": 19,
      "outputs": [
        {
          "output_type": "execute_result",
          "data": {
            "text/plain": [
              "customerid          0\n",
              "region              0\n",
              "gender              0\n",
              "seniorcitizen       0\n",
              "partner             0\n",
              "dependents          0\n",
              "tenure              0\n",
              "phoneservice        0\n",
              "multiplelines       0\n",
              "internetservice     0\n",
              "onlinesecurity      0\n",
              "onlinebackup        0\n",
              "deviceprotection    0\n",
              "techsupport         0\n",
              "streamingtv         0\n",
              "streamingmovies     0\n",
              "paperlessbilling    0\n",
              "paymentmethod       0\n",
              "monthlycharges      0\n",
              "totalcharges        0\n",
              "churn               0\n",
              "dtype: int64"
            ]
          },
          "metadata": {
            "tags": []
          },
          "execution_count": 19
        }
      ]
    },
    {
      "cell_type": "markdown",
      "metadata": {
        "id": "wb0OK2hHuFXT"
      },
      "source": [
        "### Outlier Detection"
      ]
    },
    {
      "cell_type": "code",
      "metadata": {
        "colab": {
          "base_uri": "https://localhost:8080/",
          "height": 388
        },
        "id": "-mG8aYrcuFXi",
        "outputId": "152aacbd-26fb-49d5-997c-1ee795818527"
      },
      "source": [
        "# Check Outlier on the Tenure variable\n",
        "plt.figure(figsize = (10, 5))\n",
        "sns.boxplot(data[\"tenure\"])\n",
        "plt.show()"
      ],
      "execution_count": 20,
      "outputs": [
        {
          "output_type": "stream",
          "text": [
            "/usr/local/lib/python3.7/dist-packages/seaborn/_decorators.py:43: FutureWarning: Pass the following variable as a keyword arg: x. From version 0.12, the only valid positional argument will be `data`, and passing other arguments without an explicit keyword will result in an error or misinterpretation.\n",
            "  FutureWarning\n"
          ],
          "name": "stderr"
        },
        {
          "output_type": "display_data",
          "data": {
            "image/png": "[encoded data removed]",
            "text/plain": [
              "<Figure size 720x360 with 1 Axes>"
            ]
          },
          "metadata": {
            "tags": [],
            "needs_background": "light"
          }
        }
      ]
    },
    {
      "cell_type": "code",
      "metadata": {
        "colab": {
          "base_uri": "https://localhost:8080/",
          "height": 388
        },
        "id": "ER6PNOqSuFXq",
        "outputId": "60f20139-e3be-4111-a4ea-3cbacb8443d5"
      },
      "source": [
        "# Check Outlier on the monthlycharges variable\n",
        "plt.figure(figsize = (10, 5))\n",
        "sns.boxplot(data[\"monthlycharges\"])\n",
        "plt.show()"
      ],
      "execution_count": 21,
      "outputs": [
        {
          "output_type": "stream",
          "text": [
            "/usr/local/lib/python3.7/dist-packages/seaborn/_decorators.py:43: FutureWarning: Pass the following variable as a keyword arg: x. From version 0.12, the only valid positional argument will be `data`, and passing other arguments without an explicit keyword will result in an error or misinterpretation.\n",
            "  FutureWarning\n"
          ],
          "name": "stderr"
        },
        {
          "output_type": "display_data",
          "data": {
            "image/png": "[encoded data removed]",
            "text/plain": [
              "<Figure size 720x360 with 1 Axes>"
            ]
          },
          "metadata": {
            "tags": [],
            "needs_background": "light"
          }
        }
      ]
    },
    {
      "cell_type": "code",
      "metadata": {
        "colab": {
          "base_uri": "https://localhost:8080/",
          "height": 388
        },
        "id": "L2vJJzqXuFXz",
        "outputId": "aa70df26-0b7f-4d73-a90b-b743ee11987b"
      },
      "source": [
        "# Check Outlier on the totalcharges variable\n",
        "plt.figure(figsize = (10, 5))\n",
        "sns.boxplot(data[\"totalcharges\"])\n",
        "plt.show()"
      ],
      "execution_count": 22,
      "outputs": [
        {
          "output_type": "stream",
          "text": [
            "/usr/local/lib/python3.7/dist-packages/seaborn/_decorators.py:43: FutureWarning: Pass the following variable as a keyword arg: x. From version 0.12, the only valid positional argument will be `data`, and passing other arguments without an explicit keyword will result in an error or misinterpretation.\n",
            "  FutureWarning\n"
          ],
          "name": "stderr"
        },
        {
          "output_type": "display_data",
          "data": {
            "image/png": "[encoded data removed]",
            "text/plain": [
              "<Figure size 720x360 with 1 Axes>"
            ]
          },
          "metadata": {
            "tags": [],
            "needs_background": "light"
          }
        }
      ]
    },
    {
      "cell_type": "code",
      "metadata": {
        "id": "l5LJbuYqtiXv",
        "outputId": "ab033fc3-c46f-4f47-9712-490f1ba46691",
        "colab": {
          "base_uri": "https://localhost:8080/",
          "height": 453
        }
      },
      "source": [
        "# See observation outliers on the totalcharges variable\n",
        "Q1 = data[\"totalcharges\"].quantile(0.25)\n",
        "Q3 = data[\"totalcharges\"].quantile(0.75)\n",
        "IQR = Q3 - Q1\n",
        "lower_range = Q1 - (1.5 * IQR)\n",
        "upper_range = Q3 + (1.5 * IQR)\n",
        "data.loc[(data[\"totalcharges\"] > upper_range),:]"
      ],
      "execution_count": 23,
      "outputs": [
        {
          "output_type": "execute_result",
          "data": {
            "text/html": [
              "<div>\n",
              "<style scoped>\n",
              "    .dataframe tbody tr th:only-of-type {\n",
              "        vertical-align: middle;\n",
              "    }\n",
              "\n",
              "    .dataframe tbody tr th {\n",
              "        vertical-align: top;\n",
              "    }\n",
              "\n",
              "    .dataframe thead th {\n",
              "        text-align: right;\n",
              "    }\n",
              "</style>\n",
              "<table border=\"1\" class=\"dataframe\">\n",
              "  <thead>\n",
              "    <tr style=\"text-align: right;\">\n",
              "      <th></th>\n",
              "      <th>customerid</th>\n",
              "      <th>region</th>\n",
              "      <th>gender</th>\n",
              "      <th>seniorcitizen</th>\n",
              "      <th>partner</th>\n",
              "      <th>dependents</th>\n",
              "      <th>tenure</th>\n",
              "      <th>phoneservice</th>\n",
              "      <th>multiplelines</th>\n",
              "      <th>internetservice</th>\n",
              "      <th>onlinesecurity</th>\n",
              "      <th>onlinebackup</th>\n",
              "      <th>deviceprotection</th>\n",
              "      <th>techsupport</th>\n",
              "      <th>streamingtv</th>\n",
              "      <th>streamingmovies</th>\n",
              "      <th>paperlessbilling</th>\n",
              "      <th>paymentmethod</th>\n",
              "      <th>monthlycharges</th>\n",
              "      <th>totalcharges</th>\n",
              "      <th>churn</th>\n",
              "    </tr>\n",
              "  </thead>\n",
              "  <tbody>\n",
              "    <tr>\n",
              "      <th>7024</th>\n",
              "      <td>2889-FPWRM</td>\n",
              "      <td>Germany</td>\n",
              "      <td>Male</td>\n",
              "      <td>0</td>\n",
              "      <td>Yes</td>\n",
              "      <td>No</td>\n",
              "      <td>96</td>\n",
              "      <td>Yes</td>\n",
              "      <td>Yes</td>\n",
              "      <td>Fiber optic</td>\n",
              "      <td>Yes</td>\n",
              "      <td>Yes</td>\n",
              "      <td>Yes</td>\n",
              "      <td>Yes</td>\n",
              "      <td>Yes</td>\n",
              "      <td>Yes</td>\n",
              "      <td>Yes</td>\n",
              "      <td>Bank transfer (automatic)</td>\n",
              "      <td>117.80</td>\n",
              "      <td>11308.8</td>\n",
              "      <td>Yes</td>\n",
              "    </tr>\n",
              "    <tr>\n",
              "      <th>7025</th>\n",
              "      <td>7892-POOKP</td>\n",
              "      <td>France</td>\n",
              "      <td>Female</td>\n",
              "      <td>0</td>\n",
              "      <td>Yes</td>\n",
              "      <td>No</td>\n",
              "      <td>120</td>\n",
              "      <td>Yes</td>\n",
              "      <td>Yes</td>\n",
              "      <td>Fiber optic</td>\n",
              "      <td>No</td>\n",
              "      <td>No</td>\n",
              "      <td>Yes</td>\n",
              "      <td>Yes</td>\n",
              "      <td>Yes</td>\n",
              "      <td>Yes</td>\n",
              "      <td>Yes</td>\n",
              "      <td>Electronic check</td>\n",
              "      <td>104.80</td>\n",
              "      <td>12576.0</td>\n",
              "      <td>Yes</td>\n",
              "    </tr>\n",
              "    <tr>\n",
              "      <th>7026</th>\n",
              "      <td>7569-NMZYQ</td>\n",
              "      <td>Germany</td>\n",
              "      <td>Female</td>\n",
              "      <td>0</td>\n",
              "      <td>Yes</td>\n",
              "      <td>Yes</td>\n",
              "      <td>72</td>\n",
              "      <td>Yes</td>\n",
              "      <td>Yes</td>\n",
              "      <td>Fiber optic</td>\n",
              "      <td>Yes</td>\n",
              "      <td>Yes</td>\n",
              "      <td>Yes</td>\n",
              "      <td>Yes</td>\n",
              "      <td>Yes</td>\n",
              "      <td>Yes</td>\n",
              "      <td>Yes</td>\n",
              "      <td>Bank transfer (automatic)</td>\n",
              "      <td>118.75</td>\n",
              "      <td>15087.9</td>\n",
              "      <td>No</td>\n",
              "    </tr>\n",
              "    <tr>\n",
              "      <th>7027</th>\n",
              "      <td>9739-JLPQJ</td>\n",
              "      <td>Germany</td>\n",
              "      <td>Female</td>\n",
              "      <td>0</td>\n",
              "      <td>Yes</td>\n",
              "      <td>Yes</td>\n",
              "      <td>72</td>\n",
              "      <td>Yes</td>\n",
              "      <td>Yes</td>\n",
              "      <td>Fiber optic</td>\n",
              "      <td>Yes</td>\n",
              "      <td>Yes</td>\n",
              "      <td>Yes</td>\n",
              "      <td>Yes</td>\n",
              "      <td>Yes</td>\n",
              "      <td>Yes</td>\n",
              "      <td>No</td>\n",
              "      <td>Credit card (automatic)</td>\n",
              "      <td>117.50</td>\n",
              "      <td>16987.9</td>\n",
              "      <td>No</td>\n",
              "    </tr>\n",
              "    <tr>\n",
              "      <th>7028</th>\n",
              "      <td>9924-JPRMC</td>\n",
              "      <td>Germany</td>\n",
              "      <td>Male</td>\n",
              "      <td>0</td>\n",
              "      <td>No</td>\n",
              "      <td>No</td>\n",
              "      <td>72</td>\n",
              "      <td>Yes</td>\n",
              "      <td>Yes</td>\n",
              "      <td>Fiber optic</td>\n",
              "      <td>Yes</td>\n",
              "      <td>Yes</td>\n",
              "      <td>Yes</td>\n",
              "      <td>Yes</td>\n",
              "      <td>Yes</td>\n",
              "      <td>Yes</td>\n",
              "      <td>Yes</td>\n",
              "      <td>Electronic check</td>\n",
              "      <td>118.20</td>\n",
              "      <td>17987.3</td>\n",
              "      <td>No</td>\n",
              "    </tr>\n",
              "    <tr>\n",
              "      <th>7029</th>\n",
              "      <td>8879-XUAHX</td>\n",
              "      <td>Germany</td>\n",
              "      <td>Male</td>\n",
              "      <td>0</td>\n",
              "      <td>Yes</td>\n",
              "      <td>No</td>\n",
              "      <td>71</td>\n",
              "      <td>Yes</td>\n",
              "      <td>Yes</td>\n",
              "      <td>Fiber optic</td>\n",
              "      <td>Yes</td>\n",
              "      <td>Yes</td>\n",
              "      <td>Yes</td>\n",
              "      <td>Yes</td>\n",
              "      <td>Yes</td>\n",
              "      <td>Yes</td>\n",
              "      <td>Yes</td>\n",
              "      <td>Electronic check</td>\n",
              "      <td>116.25</td>\n",
              "      <td>18987.9</td>\n",
              "      <td>No</td>\n",
              "    </tr>\n",
              "    <tr>\n",
              "      <th>7030</th>\n",
              "      <td>9788-HNGUT</td>\n",
              "      <td>Germany</td>\n",
              "      <td>Male</td>\n",
              "      <td>0</td>\n",
              "      <td>Yes</td>\n",
              "      <td>No</td>\n",
              "      <td>72</td>\n",
              "      <td>Yes</td>\n",
              "      <td>Yes</td>\n",
              "      <td>Fiber optic</td>\n",
              "      <td>Yes</td>\n",
              "      <td>Yes</td>\n",
              "      <td>Yes</td>\n",
              "      <td>Yes</td>\n",
              "      <td>Yes</td>\n",
              "      <td>Yes</td>\n",
              "      <td>Yes</td>\n",
              "      <td>Credit card (automatic)</td>\n",
              "      <td>116.95</td>\n",
              "      <td>21987.5</td>\n",
              "      <td>No</td>\n",
              "    </tr>\n",
              "    <tr>\n",
              "      <th>7031</th>\n",
              "      <td>6007-TCTST</td>\n",
              "      <td>Germany</td>\n",
              "      <td>Female</td>\n",
              "      <td>0</td>\n",
              "      <td>Yes</td>\n",
              "      <td>Yes</td>\n",
              "      <td>72</td>\n",
              "      <td>Yes</td>\n",
              "      <td>Yes</td>\n",
              "      <td>Fiber optic</td>\n",
              "      <td>Yes</td>\n",
              "      <td>Yes</td>\n",
              "      <td>Yes</td>\n",
              "      <td>Yes</td>\n",
              "      <td>Yes</td>\n",
              "      <td>Yes</td>\n",
              "      <td>Yes</td>\n",
              "      <td>Bank transfer (automatic)</td>\n",
              "      <td>115.80</td>\n",
              "      <td>22345.6</td>\n",
              "      <td>No</td>\n",
              "    </tr>\n",
              "  </tbody>\n",
              "</table>\n",
              "</div>"
            ],
            "text/plain": [
              "      customerid   region  gender  ...  monthlycharges totalcharges churn\n",
              "7024  2889-FPWRM  Germany    Male  ...          117.80      11308.8   Yes\n",
              "7025  7892-POOKP   France  Female  ...          104.80      12576.0   Yes\n",
              "7026  7569-NMZYQ  Germany  Female  ...          118.75      15087.9    No\n",
              "7027  9739-JLPQJ  Germany  Female  ...          117.50      16987.9    No\n",
              "7028  9924-JPRMC  Germany    Male  ...          118.20      17987.3    No\n",
              "7029  8879-XUAHX  Germany    Male  ...          116.25      18987.9    No\n",
              "7030  9788-HNGUT  Germany    Male  ...          116.95      21987.5    No\n",
              "7031  6007-TCTST  Germany  Female  ...          115.80      22345.6    No\n",
              "\n",
              "[8 rows x 21 columns]"
            ]
          },
          "metadata": {
            "tags": []
          },
          "execution_count": 23
        }
      ]
    },
    {
      "cell_type": "code",
      "metadata": {
        "id": "RMgsRAaguFYR"
      },
      "source": [
        "# Replace outlier observations with upper bound and lower bound\n",
        "data.loc[(data[\"totalcharges\"] > upper_range),\"totalcharges\"] = upper_range"
      ],
      "execution_count": 24,
      "outputs": []
    },
    {
      "cell_type": "code",
      "metadata": {
        "colab": {
          "base_uri": "https://localhost:8080/",
          "height": 388
        },
        "id": "08R5JJyeuFYk",
        "outputId": "ab3c1b22-e50c-423c-f23e-96af5f825b5a"
      },
      "source": [
        "# Check Outlier on the totalcharges variable\n",
        "plt.figure(figsize = (10, 5))\n",
        "sns.boxplot(data[\"totalcharges\"])\n",
        "plt.show()"
      ],
      "execution_count": 25,
      "outputs": [
        {
          "output_type": "stream",
          "text": [
            "/usr/local/lib/python3.7/dist-packages/seaborn/_decorators.py:43: FutureWarning: Pass the following variable as a keyword arg: x. From version 0.12, the only valid positional argument will be `data`, and passing other arguments without an explicit keyword will result in an error or misinterpretation.\n",
            "  FutureWarning\n"
          ],
          "name": "stderr"
        },
        {
          "output_type": "display_data",
          "data": {
            "image/png": "[encoded data removed]",
            "text/plain": [
              "<Figure size 720x360 with 1 Axes>"
            ]
          },
          "metadata": {
            "tags": [],
            "needs_background": "light"
          }
        }
      ]
    },
    {
      "cell_type": "markdown",
      "metadata": {
        "id": "c1fZiNNEuFY2"
      },
      "source": [
        "### Handle Inconsistent Data"
      ]
    },
    {
      "cell_type": "code",
      "metadata": {
        "id": "-CEkZgfkuFY5"
      },
      "source": [
        "# Replace \"No Internet Service\" with \"No\"\n",
        "replace_cols1 = ['onlinesecurity', 'onlinebackup', 'deviceprotection',\n",
        "                'techsupport', 'streamingtv', 'streamingmovies']\n",
        "for i in replace_cols1 :\n",
        "    data[i]  = data[i].replace({'No internet service' : 'No'})\n",
        "\n",
        "# Replace \"No Phone Service\" with \"No\"\n",
        "data['multiplelines']  = data['multiplelines'].replace({'No phone service' : 'No'})"
      ],
      "execution_count": 26,
      "outputs": []
    },
    {
      "cell_type": "markdown",
      "metadata": {
        "id": "1V90BuecuFZR"
      },
      "source": [
        "### Encoding Variables"
      ]
    },
    {
      "cell_type": "code",
      "metadata": {
        "id": "p9bjhivTuFZS"
      },
      "source": [
        "from sklearn.preprocessing import LabelEncoder\n",
        "\n",
        "# Separating categorical and numerical columns\n",
        "Id_col     = ['customerid']\n",
        "num_cols   = ['tenure', 'monthlycharges', 'totalcharges']\n",
        "\n",
        "# Biner category columns\n",
        "bin_cols   = ['gender', 'seniorcitizen', 'partner', 'dependents', 'phoneservice', 'multiplelines', 'onlinesecurity', 'churn',\n",
        "              'onlinebackup', 'deviceprotection', 'techsupport', 'streamingtv', 'streamingmovies', 'paperlessbilling']\n",
        "\n",
        "# Multi category columns\n",
        "multi_cols = ['region', 'internetservice', 'paymentmethod']\n",
        "\n",
        "# Label encoding Biner category columns\n",
        "le = LabelEncoder()\n",
        "for i in bin_cols :\n",
        "    data[i] = le.fit_transform(data[i])\n",
        "    \n",
        "# Label encoding for nominal multi category columns\n",
        "data = pd.get_dummies(data = data, columns = multi_cols, drop_first = False)"
      ],
      "execution_count": 27,
      "outputs": []
    },
    {
      "cell_type": "code",
      "metadata": {
        "colab": {
          "base_uri": "https://localhost:8080/",
          "height": 626
        },
        "id": "CCBHYnybjkDy",
        "scrolled": false,
        "outputId": "569c649b-1df9-4c48-bc01-c79f54269c6c"
      },
      "source": [
        "data"
      ],
      "execution_count": 28,
      "outputs": [
        {
          "output_type": "execute_result",
          "data": {
            "text/html": [
              "<div>\n",
              "<style scoped>\n",
              "    .dataframe tbody tr th:only-of-type {\n",
              "        vertical-align: middle;\n",
              "    }\n",
              "\n",
              "    .dataframe tbody tr th {\n",
              "        vertical-align: top;\n",
              "    }\n",
              "\n",
              "    .dataframe thead th {\n",
              "        text-align: right;\n",
              "    }\n",
              "</style>\n",
              "<table border=\"1\" class=\"dataframe\">\n",
              "  <thead>\n",
              "    <tr style=\"text-align: right;\">\n",
              "      <th></th>\n",
              "      <th>customerid</th>\n",
              "      <th>gender</th>\n",
              "      <th>seniorcitizen</th>\n",
              "      <th>partner</th>\n",
              "      <th>dependents</th>\n",
              "      <th>tenure</th>\n",
              "      <th>phoneservice</th>\n",
              "      <th>multiplelines</th>\n",
              "      <th>onlinesecurity</th>\n",
              "      <th>onlinebackup</th>\n",
              "      <th>deviceprotection</th>\n",
              "      <th>techsupport</th>\n",
              "      <th>streamingtv</th>\n",
              "      <th>streamingmovies</th>\n",
              "      <th>paperlessbilling</th>\n",
              "      <th>monthlycharges</th>\n",
              "      <th>totalcharges</th>\n",
              "      <th>churn</th>\n",
              "      <th>region_England</th>\n",
              "      <th>region_France</th>\n",
              "      <th>region_Germany</th>\n",
              "      <th>internetservice_DSL</th>\n",
              "      <th>internetservice_Fiber optic</th>\n",
              "      <th>internetservice_No</th>\n",
              "      <th>paymentmethod_Bank transfer (automatic)</th>\n",
              "      <th>paymentmethod_Credit card (automatic)</th>\n",
              "      <th>paymentmethod_Electronic check</th>\n",
              "      <th>paymentmethod_Mailed check</th>\n",
              "    </tr>\n",
              "  </thead>\n",
              "  <tbody>\n",
              "    <tr>\n",
              "      <th>0</th>\n",
              "      <td>2424-WVHPL</td>\n",
              "      <td>1</td>\n",
              "      <td>1</td>\n",
              "      <td>0</td>\n",
              "      <td>0</td>\n",
              "      <td>1</td>\n",
              "      <td>1</td>\n",
              "      <td>0</td>\n",
              "      <td>0</td>\n",
              "      <td>0</td>\n",
              "      <td>0</td>\n",
              "      <td>1</td>\n",
              "      <td>0</td>\n",
              "      <td>0</td>\n",
              "      <td>0</td>\n",
              "      <td>12.00</td>\n",
              "      <td>12.000</td>\n",
              "      <td>0</td>\n",
              "      <td>0</td>\n",
              "      <td>1</td>\n",
              "      <td>0</td>\n",
              "      <td>0</td>\n",
              "      <td>1</td>\n",
              "      <td>0</td>\n",
              "      <td>0</td>\n",
              "      <td>0</td>\n",
              "      <td>1</td>\n",
              "      <td>0</td>\n",
              "    </tr>\n",
              "    <tr>\n",
              "      <th>1</th>\n",
              "      <td>3679-XASPY</td>\n",
              "      <td>0</td>\n",
              "      <td>0</td>\n",
              "      <td>1</td>\n",
              "      <td>1</td>\n",
              "      <td>1</td>\n",
              "      <td>1</td>\n",
              "      <td>0</td>\n",
              "      <td>0</td>\n",
              "      <td>0</td>\n",
              "      <td>0</td>\n",
              "      <td>0</td>\n",
              "      <td>0</td>\n",
              "      <td>0</td>\n",
              "      <td>0</td>\n",
              "      <td>13.00</td>\n",
              "      <td>13.000</td>\n",
              "      <td>0</td>\n",
              "      <td>0</td>\n",
              "      <td>1</td>\n",
              "      <td>0</td>\n",
              "      <td>0</td>\n",
              "      <td>0</td>\n",
              "      <td>1</td>\n",
              "      <td>0</td>\n",
              "      <td>0</td>\n",
              "      <td>1</td>\n",
              "      <td>0</td>\n",
              "    </tr>\n",
              "    <tr>\n",
              "      <th>2</th>\n",
              "      <td>2967-MXRAV</td>\n",
              "      <td>1</td>\n",
              "      <td>0</td>\n",
              "      <td>1</td>\n",
              "      <td>1</td>\n",
              "      <td>1</td>\n",
              "      <td>1</td>\n",
              "      <td>0</td>\n",
              "      <td>0</td>\n",
              "      <td>0</td>\n",
              "      <td>0</td>\n",
              "      <td>0</td>\n",
              "      <td>0</td>\n",
              "      <td>0</td>\n",
              "      <td>0</td>\n",
              "      <td>18.80</td>\n",
              "      <td>18.800</td>\n",
              "      <td>0</td>\n",
              "      <td>0</td>\n",
              "      <td>0</td>\n",
              "      <td>1</td>\n",
              "      <td>0</td>\n",
              "      <td>0</td>\n",
              "      <td>1</td>\n",
              "      <td>0</td>\n",
              "      <td>0</td>\n",
              "      <td>0</td>\n",
              "      <td>1</td>\n",
              "    </tr>\n",
              "    <tr>\n",
              "      <th>3</th>\n",
              "      <td>8992-CEUEN</td>\n",
              "      <td>0</td>\n",
              "      <td>0</td>\n",
              "      <td>0</td>\n",
              "      <td>0</td>\n",
              "      <td>1</td>\n",
              "      <td>1</td>\n",
              "      <td>0</td>\n",
              "      <td>0</td>\n",
              "      <td>0</td>\n",
              "      <td>0</td>\n",
              "      <td>0</td>\n",
              "      <td>0</td>\n",
              "      <td>0</td>\n",
              "      <td>0</td>\n",
              "      <td>18.85</td>\n",
              "      <td>18.850</td>\n",
              "      <td>0</td>\n",
              "      <td>0</td>\n",
              "      <td>0</td>\n",
              "      <td>1</td>\n",
              "      <td>0</td>\n",
              "      <td>0</td>\n",
              "      <td>1</td>\n",
              "      <td>0</td>\n",
              "      <td>0</td>\n",
              "      <td>1</td>\n",
              "      <td>0</td>\n",
              "    </tr>\n",
              "    <tr>\n",
              "      <th>4</th>\n",
              "      <td>9318-NKNFC</td>\n",
              "      <td>1</td>\n",
              "      <td>0</td>\n",
              "      <td>0</td>\n",
              "      <td>0</td>\n",
              "      <td>1</td>\n",
              "      <td>1</td>\n",
              "      <td>0</td>\n",
              "      <td>0</td>\n",
              "      <td>0</td>\n",
              "      <td>0</td>\n",
              "      <td>0</td>\n",
              "      <td>0</td>\n",
              "      <td>0</td>\n",
              "      <td>1</td>\n",
              "      <td>18.85</td>\n",
              "      <td>18.850</td>\n",
              "      <td>1</td>\n",
              "      <td>0</td>\n",
              "      <td>0</td>\n",
              "      <td>1</td>\n",
              "      <td>0</td>\n",
              "      <td>0</td>\n",
              "      <td>1</td>\n",
              "      <td>0</td>\n",
              "      <td>0</td>\n",
              "      <td>0</td>\n",
              "      <td>1</td>\n",
              "    </tr>\n",
              "    <tr>\n",
              "      <th>...</th>\n",
              "      <td>...</td>\n",
              "      <td>...</td>\n",
              "      <td>...</td>\n",
              "      <td>...</td>\n",
              "      <td>...</td>\n",
              "      <td>...</td>\n",
              "      <td>...</td>\n",
              "      <td>...</td>\n",
              "      <td>...</td>\n",
              "      <td>...</td>\n",
              "      <td>...</td>\n",
              "      <td>...</td>\n",
              "      <td>...</td>\n",
              "      <td>...</td>\n",
              "      <td>...</td>\n",
              "      <td>...</td>\n",
              "      <td>...</td>\n",
              "      <td>...</td>\n",
              "      <td>...</td>\n",
              "      <td>...</td>\n",
              "      <td>...</td>\n",
              "      <td>...</td>\n",
              "      <td>...</td>\n",
              "      <td>...</td>\n",
              "      <td>...</td>\n",
              "      <td>...</td>\n",
              "      <td>...</td>\n",
              "      <td>...</td>\n",
              "    </tr>\n",
              "    <tr>\n",
              "      <th>7038</th>\n",
              "      <td>4472-LVYGI</td>\n",
              "      <td>0</td>\n",
              "      <td>0</td>\n",
              "      <td>1</td>\n",
              "      <td>1</td>\n",
              "      <td>2</td>\n",
              "      <td>0</td>\n",
              "      <td>0</td>\n",
              "      <td>1</td>\n",
              "      <td>0</td>\n",
              "      <td>1</td>\n",
              "      <td>1</td>\n",
              "      <td>1</td>\n",
              "      <td>0</td>\n",
              "      <td>1</td>\n",
              "      <td>52.55</td>\n",
              "      <td>1397.475</td>\n",
              "      <td>0</td>\n",
              "      <td>0</td>\n",
              "      <td>0</td>\n",
              "      <td>1</td>\n",
              "      <td>1</td>\n",
              "      <td>0</td>\n",
              "      <td>0</td>\n",
              "      <td>1</td>\n",
              "      <td>0</td>\n",
              "      <td>0</td>\n",
              "      <td>0</td>\n",
              "    </tr>\n",
              "    <tr>\n",
              "      <th>7039</th>\n",
              "      <td>1371-DWPAZ</td>\n",
              "      <td>0</td>\n",
              "      <td>0</td>\n",
              "      <td>1</td>\n",
              "      <td>1</td>\n",
              "      <td>2</td>\n",
              "      <td>0</td>\n",
              "      <td>0</td>\n",
              "      <td>1</td>\n",
              "      <td>1</td>\n",
              "      <td>1</td>\n",
              "      <td>1</td>\n",
              "      <td>1</td>\n",
              "      <td>0</td>\n",
              "      <td>0</td>\n",
              "      <td>56.05</td>\n",
              "      <td>1397.475</td>\n",
              "      <td>0</td>\n",
              "      <td>0</td>\n",
              "      <td>0</td>\n",
              "      <td>1</td>\n",
              "      <td>1</td>\n",
              "      <td>0</td>\n",
              "      <td>0</td>\n",
              "      <td>0</td>\n",
              "      <td>1</td>\n",
              "      <td>0</td>\n",
              "      <td>0</td>\n",
              "    </tr>\n",
              "    <tr>\n",
              "      <th>7040</th>\n",
              "      <td>2775-SEFEE</td>\n",
              "      <td>1</td>\n",
              "      <td>0</td>\n",
              "      <td>0</td>\n",
              "      <td>1</td>\n",
              "      <td>3</td>\n",
              "      <td>1</td>\n",
              "      <td>1</td>\n",
              "      <td>1</td>\n",
              "      <td>1</td>\n",
              "      <td>0</td>\n",
              "      <td>1</td>\n",
              "      <td>0</td>\n",
              "      <td>0</td>\n",
              "      <td>1</td>\n",
              "      <td>61.90</td>\n",
              "      <td>1397.475</td>\n",
              "      <td>0</td>\n",
              "      <td>0</td>\n",
              "      <td>0</td>\n",
              "      <td>1</td>\n",
              "      <td>1</td>\n",
              "      <td>0</td>\n",
              "      <td>0</td>\n",
              "      <td>1</td>\n",
              "      <td>0</td>\n",
              "      <td>0</td>\n",
              "      <td>0</td>\n",
              "    </tr>\n",
              "    <tr>\n",
              "      <th>7041</th>\n",
              "      <td>4075-WKNIU</td>\n",
              "      <td>0</td>\n",
              "      <td>0</td>\n",
              "      <td>1</td>\n",
              "      <td>1</td>\n",
              "      <td>3</td>\n",
              "      <td>1</td>\n",
              "      <td>1</td>\n",
              "      <td>0</td>\n",
              "      <td>1</td>\n",
              "      <td>1</td>\n",
              "      <td>1</td>\n",
              "      <td>1</td>\n",
              "      <td>0</td>\n",
              "      <td>0</td>\n",
              "      <td>73.35</td>\n",
              "      <td>1397.475</td>\n",
              "      <td>0</td>\n",
              "      <td>0</td>\n",
              "      <td>0</td>\n",
              "      <td>1</td>\n",
              "      <td>1</td>\n",
              "      <td>0</td>\n",
              "      <td>0</td>\n",
              "      <td>0</td>\n",
              "      <td>0</td>\n",
              "      <td>0</td>\n",
              "      <td>1</td>\n",
              "    </tr>\n",
              "    <tr>\n",
              "      <th>7042</th>\n",
              "      <td>5709-LVOEQ</td>\n",
              "      <td>0</td>\n",
              "      <td>0</td>\n",
              "      <td>1</td>\n",
              "      <td>1</td>\n",
              "      <td>3</td>\n",
              "      <td>1</td>\n",
              "      <td>0</td>\n",
              "      <td>1</td>\n",
              "      <td>1</td>\n",
              "      <td>1</td>\n",
              "      <td>0</td>\n",
              "      <td>1</td>\n",
              "      <td>1</td>\n",
              "      <td>0</td>\n",
              "      <td>80.85</td>\n",
              "      <td>1397.475</td>\n",
              "      <td>0</td>\n",
              "      <td>0</td>\n",
              "      <td>0</td>\n",
              "      <td>1</td>\n",
              "      <td>1</td>\n",
              "      <td>0</td>\n",
              "      <td>0</td>\n",
              "      <td>0</td>\n",
              "      <td>0</td>\n",
              "      <td>0</td>\n",
              "      <td>1</td>\n",
              "    </tr>\n",
              "  </tbody>\n",
              "</table>\n",
              "<p>7043 rows × 28 columns</p>\n",
              "</div>"
            ],
            "text/plain": [
              "      customerid  ...  paymentmethod_Mailed check\n",
              "0     2424-WVHPL  ...                           0\n",
              "1     3679-XASPY  ...                           0\n",
              "2     2967-MXRAV  ...                           1\n",
              "3     8992-CEUEN  ...                           0\n",
              "4     9318-NKNFC  ...                           1\n",
              "...          ...  ...                         ...\n",
              "7038  4472-LVYGI  ...                           0\n",
              "7039  1371-DWPAZ  ...                           0\n",
              "7040  2775-SEFEE  ...                           0\n",
              "7041  4075-WKNIU  ...                           1\n",
              "7042  5709-LVOEQ  ...                           1\n",
              "\n",
              "[7043 rows x 28 columns]"
            ]
          },
          "metadata": {
            "tags": []
          },
          "execution_count": 28
        }
      ]
    },
    {
      "cell_type": "markdown",
      "metadata": {
        "id": "jR952cm1uFaL"
      },
      "source": [
        "## Data Partition"
      ]
    },
    {
      "cell_type": "code",
      "metadata": {
        "id": "kSR2EDLZtiX1"
      },
      "source": [
        "data = data.drop(labels = \"customerid\", axis = 1)"
      ],
      "execution_count": 29,
      "outputs": []
    },
    {
      "cell_type": "code",
      "metadata": {
        "id": "4liI6drRuFaL"
      },
      "source": [
        "from sklearn.model_selection import train_test_split\n",
        "\n",
        "# Partition data into data training and data testing\n",
        "train, test = train_test_split(data, test_size = 0.20 , random_state = 111)\n",
        "    \n",
        "# Seperating dependent and independent variables on training and testing data\n",
        "train_X = train.drop(labels = 'churn',axis = 1)\n",
        "train_Y = train['churn']\n",
        "test_X  = test.drop(labels = 'churn', axis = 1)\n",
        "test_Y  = test['churn']"
      ],
      "execution_count": 30,
      "outputs": []
    },
    {
      "cell_type": "markdown",
      "metadata": {
        "id": "jTTJQGNPtiX2"
      },
      "source": [
        "## SMOTE (Synthetic Minority Oversampling Technique)"
      ]
    },
    {
      "cell_type": "code",
      "metadata": {
        "id": "MzDt0EJ3tiX3",
        "outputId": "1de76306-f49d-453f-ea0d-c675357c3df3",
        "colab": {
          "base_uri": "https://localhost:8080/"
        }
      },
      "source": [
        "from imblearn.over_sampling import SMOTE\n",
        "\n",
        "# Handle imbalance class using oversampling minority class with smote method\n",
        "os = SMOTE(sampling_strategy = 'minority', random_state = 123, k_neighbors = 5)\n",
        "train_smote_X, train_smote_Y = os.fit_resample(train_X, train_Y)\n",
        "train_smote_X = pd.DataFrame(data = train_smote_X, columns = train_X.columns)\n",
        "train_smote_Y = pd.DataFrame(data = train_smote_Y)"
      ],
      "execution_count": 31,
      "outputs": [
        {
          "output_type": "stream",
          "text": [
            "/usr/local/lib/python3.7/dist-packages/sklearn/externals/six.py:31: FutureWarning: The module is deprecated in version 0.21 and will be removed in version 0.23 since we've dropped support for Python 2.7. Please rely on the official version of six (https://pypi.org/project/six/).\n",
            "  \"(https://pypi.org/project/six/).\", FutureWarning)\n",
            "/usr/local/lib/python3.7/dist-packages/sklearn/utils/deprecation.py:144: FutureWarning: The sklearn.neighbors.base module is  deprecated in version 0.22 and will be removed in version 0.24. The corresponding classes / functions should instead be imported from sklearn.neighbors. Anything that cannot be imported from sklearn.neighbors is now part of the private API.\n",
            "  warnings.warn(message, FutureWarning)\n",
            "/usr/local/lib/python3.7/dist-packages/sklearn/utils/deprecation.py:87: FutureWarning: Function safe_indexing is deprecated; safe_indexing is deprecated in version 0.22 and will be removed in version 0.24.\n",
            "  warnings.warn(msg, category=FutureWarning)\n"
          ],
          "name": "stderr"
        }
      ]
    },
    {
      "cell_type": "code",
      "metadata": {
        "id": "No_OxzHutiX3",
        "outputId": "e5c32e9c-281a-45b6-8c33-2a3eb498f17a",
        "colab": {
          "base_uri": "https://localhost:8080/"
        }
      },
      "source": [
        "# Proportion before smote\n",
        "train_Y.value_counts()"
      ],
      "execution_count": 32,
      "outputs": [
        {
          "output_type": "execute_result",
          "data": {
            "text/plain": [
              "0    4136\n",
              "1    1498\n",
              "Name: churn, dtype: int64"
            ]
          },
          "metadata": {
            "tags": []
          },
          "execution_count": 32
        }
      ]
    },
    {
      "cell_type": "code",
      "metadata": {
        "id": "YnZOtqdPtiX4",
        "outputId": "beb8e59e-6cab-4591-902a-e2bb46211906",
        "colab": {
          "base_uri": "https://localhost:8080/"
        }
      },
      "source": [
        "# Proportion after smote\n",
        "train_smote_Y.value_counts()"
      ],
      "execution_count": 33,
      "outputs": [
        {
          "output_type": "execute_result",
          "data": {
            "text/plain": [
              "1    4136\n",
              "0    4136\n",
              "dtype: int64"
            ]
          },
          "metadata": {
            "tags": []
          },
          "execution_count": 33
        }
      ]
    },
    {
      "cell_type": "markdown",
      "metadata": {
        "id": "3jOnOXEdtiX4"
      },
      "source": [
        "## Feature Scaling Khusus SVM"
      ]
    },
    {
      "cell_type": "code",
      "metadata": {
        "id": "u5NiBQTPtiX4"
      },
      "source": [
        "from sklearn.preprocessing import StandardScaler\n",
        "ss = StandardScaler()\n",
        "train_smote_X_2 = train_smote_X\n",
        "test_X_2 = test_X\n",
        "train_smote_X_2[num_cols] = ss.fit_transform(train_smote_X_2[num_cols])\n",
        "test_X_2[num_cols] = ss.transform(test_X_2[num_cols])"
      ],
      "execution_count": 34,
      "outputs": []
    },
    {
      "cell_type": "markdown",
      "metadata": {
        "id": "2ww7NcZYxLOF"
      },
      "source": [
        "# Modeling"
      ]
    },
    {
      "cell_type": "markdown",
      "metadata": {
        "id": "jYvk2FMztiX5"
      },
      "source": [
        "## Support Vector Machine"
      ]
    },
    {
      "cell_type": "code",
      "metadata": {
        "id": "tkVWxOS7tiX5"
      },
      "source": [
        "from sklearn.svm import SVC\n",
        "from sklearn.metrics import accuracy_score\n",
        "svm = SVC()\n",
        "# Tuning Hyperparameter\n",
        "param_grid = { \n",
        "    \"C\" : [0.1, 1],\n",
        "    \"gamma\" : [0.1, 1],\n",
        "    \"kernel\":[\"linear\", \"rbf\"]\n",
        "}"
      ],
      "execution_count": 35,
      "outputs": []
    },
    {
      "cell_type": "code",
      "metadata": {
        "id": "B9A9HjMVtiX6",
        "outputId": "f4abc7f7-484d-490b-9ca3-709843b3a8a3",
        "colab": {
          "base_uri": "https://localhost:8080/"
        }
      },
      "source": [
        "from sklearn.model_selection import GridSearchCV\n",
        "CV_svm = GridSearchCV(estimator = svm, param_grid = param_grid, cv = 2)\n",
        "CV_svm.fit(train_smote_X_2, train_smote_Y)"
      ],
      "execution_count": 36,
      "outputs": [
        {
          "output_type": "stream",
          "text": [
            "/usr/local/lib/python3.7/dist-packages/sklearn/utils/validation.py:760: DataConversionWarning: A column-vector y was passed when a 1d array was expected. Please change the shape of y to (n_samples, ), for example using ravel().\n",
            "  y = column_or_1d(y, warn=True)\n",
            "/usr/local/lib/python3.7/dist-packages/sklearn/utils/validation.py:760: DataConversionWarning: A column-vector y was passed when a 1d array was expected. Please change the shape of y to (n_samples, ), for example using ravel().\n",
            "  y = column_or_1d(y, warn=True)\n",
            "/usr/local/lib/python3.7/dist-packages/sklearn/utils/validation.py:760: DataConversionWarning: A column-vector y was passed when a 1d array was expected. Please change the shape of y to (n_samples, ), for example using ravel().\n",
            "  y = column_or_1d(y, warn=True)\n",
            "/usr/local/lib/python3.7/dist-packages/sklearn/utils/validation.py:760: DataConversionWarning: A column-vector y was passed when a 1d array was expected. Please change the shape of y to (n_samples, ), for example using ravel().\n",
            "  y = column_or_1d(y, warn=True)\n",
            "/usr/local/lib/python3.7/dist-packages/sklearn/utils/validation.py:760: DataConversionWarning: A column-vector y was passed when a 1d array was expected. Please change the shape of y to (n_samples, ), for example using ravel().\n",
            "  y = column_or_1d(y, warn=True)\n",
            "/usr/local/lib/python3.7/dist-packages/sklearn/utils/validation.py:760: DataConversionWarning: A column-vector y was passed when a 1d array was expected. Please change the shape of y to (n_samples, ), for example using ravel().\n",
            "  y = column_or_1d(y, warn=True)\n",
            "/usr/local/lib/python3.7/dist-packages/sklearn/utils/validation.py:760: DataConversionWarning: A column-vector y was passed when a 1d array was expected. Please change the shape of y to (n_samples, ), for example using ravel().\n",
            "  y = column_or_1d(y, warn=True)\n",
            "/usr/local/lib/python3.7/dist-packages/sklearn/utils/validation.py:760: DataConversionWarning: A column-vector y was passed when a 1d array was expected. Please change the shape of y to (n_samples, ), for example using ravel().\n",
            "  y = column_or_1d(y, warn=True)\n",
            "/usr/local/lib/python3.7/dist-packages/sklearn/utils/validation.py:760: DataConversionWarning: A column-vector y was passed when a 1d array was expected. Please change the shape of y to (n_samples, ), for example using ravel().\n",
            "  y = column_or_1d(y, warn=True)\n",
            "/usr/local/lib/python3.7/dist-packages/sklearn/utils/validation.py:760: DataConversionWarning: A column-vector y was passed when a 1d array was expected. Please change the shape of y to (n_samples, ), for example using ravel().\n",
            "  y = column_or_1d(y, warn=True)\n",
            "/usr/local/lib/python3.7/dist-packages/sklearn/utils/validation.py:760: DataConversionWarning: A column-vector y was passed when a 1d array was expected. Please change the shape of y to (n_samples, ), for example using ravel().\n",
            "  y = column_or_1d(y, warn=True)\n",
            "/usr/local/lib/python3.7/dist-packages/sklearn/utils/validation.py:760: DataConversionWarning: A column-vector y was passed when a 1d array was expected. Please change the shape of y to (n_samples, ), for example using ravel().\n",
            "  y = column_or_1d(y, warn=True)\n",
            "/usr/local/lib/python3.7/dist-packages/sklearn/utils/validation.py:760: DataConversionWarning: A column-vector y was passed when a 1d array was expected. Please change the shape of y to (n_samples, ), for example using ravel().\n",
            "  y = column_or_1d(y, warn=True)\n",
            "/usr/local/lib/python3.7/dist-packages/sklearn/utils/validation.py:760: DataConversionWarning: A column-vector y was passed when a 1d array was expected. Please change the shape of y to (n_samples, ), for example using ravel().\n",
            "  y = column_or_1d(y, warn=True)\n",
            "/usr/local/lib/python3.7/dist-packages/sklearn/utils/validation.py:760: DataConversionWarning: A column-vector y was passed when a 1d array was expected. Please change the shape of y to (n_samples, ), for example using ravel().\n",
            "  y = column_or_1d(y, warn=True)\n",
            "/usr/local/lib/python3.7/dist-packages/sklearn/utils/validation.py:760: DataConversionWarning: A column-vector y was passed when a 1d array was expected. Please change the shape of y to (n_samples, ), for example using ravel().\n",
            "  y = column_or_1d(y, warn=True)\n",
            "/usr/local/lib/python3.7/dist-packages/sklearn/utils/validation.py:760: DataConversionWarning: A column-vector y was passed when a 1d array was expected. Please change the shape of y to (n_samples, ), for example using ravel().\n",
            "  y = column_or_1d(y, warn=True)\n"
          ],
          "name": "stderr"
        },
        {
          "output_type": "execute_result",
          "data": {
            "text/plain": [
              "GridSearchCV(cv=2, error_score=nan,\n",
              "             estimator=SVC(C=1.0, break_ties=False, cache_size=200,\n",
              "                           class_weight=None, coef0=0.0,\n",
              "                           decision_function_shape='ovr', degree=3,\n",
              "                           gamma='scale', kernel='rbf', max_iter=-1,\n",
              "                           probability=False, random_state=None, shrinking=True,\n",
              "                           tol=0.001, verbose=False),\n",
              "             iid='deprecated', n_jobs=None,\n",
              "             param_grid={'C': [0.1, 1], 'gamma': [0.1, 1],\n",
              "                         'kernel': ['linear', 'rbf']},\n",
              "             pre_dispatch='2*n_jobs', refit=True, return_train_score=False,\n",
              "             scoring=None, verbose=0)"
            ]
          },
          "metadata": {
            "tags": []
          },
          "execution_count": 36
        }
      ]
    },
    {
      "cell_type": "code",
      "metadata": {
        "id": "WF9eeMpAtiX6",
        "outputId": "e24e48b0-8fd2-4fa9-bad9-bd3377f5d52b",
        "colab": {
          "base_uri": "https://localhost:8080/"
        }
      },
      "source": [
        "CV_svm.best_params_"
      ],
      "execution_count": 37,
      "outputs": [
        {
          "output_type": "execute_result",
          "data": {
            "text/plain": [
              "{'C': 1, 'gamma': 1, 'kernel': 'rbf'}"
            ]
          },
          "metadata": {
            "tags": []
          },
          "execution_count": 37
        }
      ]
    },
    {
      "cell_type": "markdown",
      "metadata": {
        "id": "BUXWq45jtiX7"
      },
      "source": [
        "#### Evaluation"
      ]
    },
    {
      "cell_type": "code",
      "metadata": {
        "id": "Y40mVJrEtiX7"
      },
      "source": [
        "pred = CV_svm.predict(test_X_2)"
      ],
      "execution_count": 38,
      "outputs": []
    },
    {
      "cell_type": "code",
      "metadata": {
        "id": "fO8msi7MtiX7",
        "outputId": "1c8d0767-1fb2-4896-e4f1-3694f4bf6a24",
        "colab": {
          "base_uri": "https://localhost:8080/"
        }
      },
      "source": [
        "from sklearn.metrics import accuracy_score\n",
        "print(\"Accuracy for Logreg on test data: \", accuracy_score(test_Y, pred))"
      ],
      "execution_count": 39,
      "outputs": [
        {
          "output_type": "stream",
          "text": [
            "Accuracy for Logreg on test data:  0.751596877217885\n"
          ],
          "name": "stdout"
        }
      ]
    },
    {
      "cell_type": "code",
      "metadata": {
        "id": "2gSqPABTtiX8",
        "outputId": "5ad795fd-eb5a-417a-d56e-53ff1b2651a7",
        "colab": {
          "base_uri": "https://localhost:8080/"
        }
      },
      "source": [
        "from sklearn.metrics import confusion_matrix\n",
        "CF = confusion_matrix(test_Y, pred)\n",
        "CF"
      ],
      "execution_count": 40,
      "outputs": [
        {
          "output_type": "execute_result",
          "data": {
            "text/plain": [
              "array([[882, 156],\n",
              "       [194, 177]])"
            ]
          },
          "metadata": {
            "tags": []
          },
          "execution_count": 40
        }
      ]
    },
    {
      "cell_type": "code",
      "metadata": {
        "id": "BSgZRQ0jtiX8",
        "outputId": "3b23fe8a-c4c5-4fb1-d4f6-c520d6f766be",
        "colab": {
          "base_uri": "https://localhost:8080/"
        }
      },
      "source": [
        "from sklearn.metrics import classification_report\n",
        "target_names = ['No', 'Yes']\n",
        "print(classification_report(test_Y,pred, target_names = target_names))"
      ],
      "execution_count": 41,
      "outputs": [
        {
          "output_type": "stream",
          "text": [
            "              precision    recall  f1-score   support\n",
            "\n",
            "          No       0.82      0.85      0.83      1038\n",
            "         Yes       0.53      0.48      0.50       371\n",
            "\n",
            "    accuracy                           0.75      1409\n",
            "   macro avg       0.68      0.66      0.67      1409\n",
            "weighted avg       0.74      0.75      0.75      1409\n",
            "\n"
          ],
          "name": "stdout"
        }
      ]
    },
    {
      "cell_type": "code",
      "metadata": {
        "id": "oqD3DNWjtiX9",
        "outputId": "6e30c203-3095-4480-c51a-cf583ced7275",
        "colab": {
          "base_uri": "https://localhost:8080/",
          "height": 295
        }
      },
      "source": [
        "from sklearn.metrics import roc_curve\n",
        "\n",
        "# Generate ROC curve values: fpr, tpr, thresholds\n",
        "fpr, tpr, thresholds = roc_curve(test_Y, pred)\n",
        "\n",
        "# Plot ROC curve\n",
        "plt.plot([0, 1], [0, 1], 'k--')\n",
        "plt.plot(fpr, tpr)\n",
        "plt.xlabel('False Positive Rate')\n",
        "plt.ylabel('True Positive Rate')\n",
        "plt.title('ROC Curve')\n",
        "plt.show()"
      ],
      "execution_count": 42,
      "outputs": [
        {
          "output_type": "display_data",
          "data": {
            "image/png": "[encoded data removed]",
            "text/plain": [
              "<Figure size 432x288 with 1 Axes>"
            ]
          },
          "metadata": {
            "tags": [],
            "needs_background": "light"
          }
        }
      ]
    },
    {
      "cell_type": "code",
      "metadata": {
        "id": "ewVqi6MltiX9",
        "outputId": "481cc9e8-db76-4c16-c576-d1bb38b0ba95",
        "colab": {
          "base_uri": "https://localhost:8080/"
        }
      },
      "source": [
        "from sklearn.metrics import roc_auc_score\n",
        "roc_auc_score(test_Y, pred)"
      ],
      "execution_count": 43,
      "outputs": [
        {
          "output_type": "execute_result",
          "data": {
            "text/plain": [
              "0.6633999657230107"
            ]
          },
          "metadata": {
            "tags": []
          },
          "execution_count": 43
        }
      ]
    },
    {
      "cell_type": "markdown",
      "metadata": {
        "id": "KY2ozgEGtiX9"
      },
      "source": [
        "## Decision Tree"
      ]
    },
    {
      "cell_type": "code",
      "metadata": {
        "id": "jlEej6s-tiX-"
      },
      "source": [
        "from sklearn import tree\n",
        "dtc = tree.DecisionTreeClassifier()\n",
        "param_grid = {\"criterion\": [\"gini\", \"entropy\"],\n",
        "              'min_samples_split': [2, 5, 10, 50, 100],\n",
        "             \"max_depth\": [3, 4, 5, 6, 7, 8, 9, 10, 11, 12, 13, 14, 15]}"
      ],
      "execution_count": 44,
      "outputs": []
    },
    {
      "cell_type": "code",
      "metadata": {
        "id": "zpX6EOVrtiX-",
        "outputId": "11d0cc58-04bd-49a6-8a38-f2e8be0e34dc",
        "colab": {
          "base_uri": "https://localhost:8080/"
        }
      },
      "source": [
        "CV_dtc = GridSearchCV(estimator = dtc, param_grid = param_grid, cv = 2)\n",
        "CV_dtc.fit(train_smote_X, train_smote_Y)"
      ],
      "execution_count": 45,
      "outputs": [
        {
          "output_type": "execute_result",
          "data": {
            "text/plain": [
              "GridSearchCV(cv=2, error_score=nan,\n",
              "             estimator=DecisionTreeClassifier(ccp_alpha=0.0, class_weight=None,\n",
              "                                              criterion='gini', max_depth=None,\n",
              "                                              max_features=None,\n",
              "                                              max_leaf_nodes=None,\n",
              "                                              min_impurity_decrease=0.0,\n",
              "                                              min_impurity_split=None,\n",
              "                                              min_samples_leaf=1,\n",
              "                                              min_samples_split=2,\n",
              "                                              min_weight_fraction_leaf=0.0,\n",
              "                                              presort='deprecated',\n",
              "                                              random_state=None,\n",
              "                                              splitter='best'),\n",
              "             iid='deprecated', n_jobs=None,\n",
              "             param_grid={'criterion': ['gini', 'entropy'],\n",
              "                         'max_depth': [3, 4, 5, 6, 7, 8, 9, 10, 11, 12, 13, 14,\n",
              "                                       15],\n",
              "                         'min_samples_split': [2, 5, 10, 50, 100]},\n",
              "             pre_dispatch='2*n_jobs', refit=True, return_train_score=False,\n",
              "             scoring=None, verbose=0)"
            ]
          },
          "metadata": {
            "tags": []
          },
          "execution_count": 45
        }
      ]
    },
    {
      "cell_type": "code",
      "metadata": {
        "id": "OHjar3FMtiX_",
        "outputId": "70cc7b32-0d96-41f7-ddc1-0fc452a69b15",
        "colab": {
          "base_uri": "https://localhost:8080/"
        }
      },
      "source": [
        "CV_dtc.best_params_"
      ],
      "execution_count": 46,
      "outputs": [
        {
          "output_type": "execute_result",
          "data": {
            "text/plain": [
              "{'criterion': 'entropy', 'max_depth': 8, 'min_samples_split': 50}"
            ]
          },
          "metadata": {
            "tags": []
          },
          "execution_count": 46
        }
      ]
    },
    {
      "cell_type": "code",
      "metadata": {
        "id": "V81-QFnGtiX_",
        "outputId": "97535567-3100-45d5-8cf0-9cd662d82096",
        "colab": {
          "base_uri": "https://localhost:8080/",
          "height": 1000
        }
      },
      "source": [
        "import graphviz\n",
        "from sklearn.tree import export_graphviz\n",
        "dot_data = export_graphviz(CV_dtc.best_estimator_, out_file = None, filled = True, rounded = True,  \n",
        "                                feature_names = train_smote_X.columns, class_names = ['0','1'])\n",
        "graph = graphviz.Source(dot_data)  \n",
        "graph"
      ],
      "execution_count": 47,
      "outputs": [
        {
          "output_type": "execute_result",
          "data": {
            "text/plain": [
              "<graphviz.files.Source at 0x7fcfe90973d0>"
            ],
            "image/svg+xml": "<?xml version=\"1.0\" encoding=\"UTF-8\" standalone=\"no\"?>\n<!DOCTYPE svg PUBLIC \"-//W3C//DTD SVG 1.1//EN\"\n \"http://www.w3.org/Graphics/SVG/1.1/DTD/svg11.dtd\">\n<!-- Generated by graphviz version 2.40.1 (20161225.0304)\n -->\n<!-- Title: Tree Pages: 1 -->\n<svg width=\"9718pt\" height=\"1028pt\"\n viewBox=\"0.00 0.00 9717.50 1028.00\" xmlns=\"http://www.w3.org/2000/svg\" xmlns:xlink=\"http://www.w3.org/1999/xlink\">\n<g id=\"graph0\" class=\"graph\" transform=\"scale(1 1) rotate(0) translate(4 1024)\">\n<title>Tree</title>\n<polygon fill=\"#ffffff\" stroke=\"transparent\" points=\"-4,4 -4,-1024 9713.5,-1024 9713.5,4 -4,4\"/>\n<!-- 0 -->\n<g id=\"node1\" class=\"node\">\n<title>0</title>\n<path fill=\"#ffffff\" stroke=\"#000000\" d=\"M5906,-1020C5906,-1020 5649,-1020 5649,-1020 5643,-1020 5637,-1014 5637,-1008 5637,-1008 5637,-949 5637,-949 5637,-943 5643,-937 5649,-937 5649,-937 5906,-937 5906,-937 5912,-937 5918,-943 5918,-949 5918,-949 5918,-1008 5918,-1008 5918,-1014 5912,-1020 5906,-1020\"/>\n<text text-anchor=\"middle\" x=\"5777.5\" y=\"-1004.8\" font-family=\"Helvetica,sans-Serif\" font-size=\"14.00\" fill=\"#000000\">paymentmethod_Electronic check &lt;= 0.0</text>\n<text text-anchor=\"middle\" x=\"5777.5\" y=\"-989.8\" font-family=\"Helvetica,sans-Serif\" font-size=\"14.00\" fill=\"#000000\">entropy = 1.0</text>\n<text text-anchor=\"middle\" x=\"5777.5\" y=\"-974.8\" font-family=\"Helvetica,sans-Serif\" font-size=\"14.00\" fill=\"#000000\">samples = 8272</text>\n<text text-anchor=\"middle\" x=\"5777.5\" y=\"-959.8\" font-family=\"Helvetica,sans-Serif\" font-size=\"14.00\" fill=\"#000000\">value = [4136, 4136]</text>\n<text text-anchor=\"middle\" x=\"5777.5\" y=\"-944.8\" font-family=\"Helvetica,sans-Serif\" font-size=\"14.00\" fill=\"#000000\">class = 0</text>\n</g>\n<!-- 1 -->\n<g id=\"node2\" class=\"node\">\n<title>1</title>\n<path fill=\"#eeaf81\" stroke=\"#000000\" d=\"M4651,-901C4651,-901 4526,-901 4526,-901 4520,-901 4514,-895 4514,-889 4514,-889 4514,-830 4514,-830 4514,-824 4520,-818 4526,-818 4526,-818 4651,-818 4651,-818 4657,-818 4663,-824 4663,-830 4663,-830 4663,-889 4663,-889 4663,-895 4657,-901 4651,-901\"/>\n<text text-anchor=\"middle\" x=\"4588.5\" y=\"-885.8\" font-family=\"Helvetica,sans-Serif\" font-size=\"14.00\" fill=\"#000000\">tenure &lt;= &#45;0.616</text>\n<text text-anchor=\"middle\" x=\"4588.5\" y=\"-870.8\" font-family=\"Helvetica,sans-Serif\" font-size=\"14.00\" fill=\"#000000\">entropy = 0.836</text>\n<text text-anchor=\"middle\" x=\"4588.5\" y=\"-855.8\" font-family=\"Helvetica,sans-Serif\" font-size=\"14.00\" fill=\"#000000\">samples = 4222</text>\n<text text-anchor=\"middle\" x=\"4588.5\" y=\"-840.8\" font-family=\"Helvetica,sans-Serif\" font-size=\"14.00\" fill=\"#000000\">value = [3097, 1125]</text>\n<text text-anchor=\"middle\" x=\"4588.5\" y=\"-825.8\" font-family=\"Helvetica,sans-Serif\" font-size=\"14.00\" fill=\"#000000\">class = 0</text>\n</g>\n<!-- 0&#45;&gt;1 -->\n<g id=\"edge1\" class=\"edge\">\n<title>0&#45;&gt;1</title>\n<path fill=\"none\" stroke=\"#000000\" d=\"M5636.7306,-964.4112C5387.3249,-939.4497 4875.125,-888.1866 4673.106,-867.9677\"/>\n<polygon fill=\"#000000\" stroke=\"#000000\" points=\"4673.4415,-864.4839 4663.1426,-866.9705 4672.7443,-871.4491 4673.4415,-864.4839\"/>\n<text text-anchor=\"middle\" x=\"4678.9719\" y=\"-882.6208\" font-family=\"Helvetica,sans-Serif\" font-size=\"14.00\" fill=\"#000000\">True</text>\n</g>\n<!-- 130 -->\n<g id=\"node131\" class=\"node\">\n<title>130</title>\n<path fill=\"#7dbfee\" stroke=\"#000000\" d=\"M6555,-901C6555,-901 6282,-901 6282,-901 6276,-901 6270,-895 6270,-889 6270,-889 6270,-830 6270,-830 6270,-824 6276,-818 6282,-818 6282,-818 6555,-818 6555,-818 6561,-818 6567,-824 6567,-830 6567,-830 6567,-889 6567,-889 6567,-895 6561,-901 6555,-901\"/>\n<text text-anchor=\"middle\" x=\"6418.5\" y=\"-885.8\" font-family=\"Helvetica,sans-Serif\" font-size=\"14.00\" fill=\"#000000\">paymentmethod_Electronic check &lt;= 0.999</text>\n<text text-anchor=\"middle\" x=\"6418.5\" y=\"-870.8\" font-family=\"Helvetica,sans-Serif\" font-size=\"14.00\" fill=\"#000000\">entropy = 0.821</text>\n<text text-anchor=\"middle\" x=\"6418.5\" y=\"-855.8\" font-family=\"Helvetica,sans-Serif\" font-size=\"14.00\" fill=\"#000000\">samples = 4050</text>\n<text text-anchor=\"middle\" x=\"6418.5\" y=\"-840.8\" font-family=\"Helvetica,sans-Serif\" font-size=\"14.00\" fill=\"#000000\">value = [1039, 3011]</text>\n<text text-anchor=\"middle\" x=\"6418.5\" y=\"-825.8\" font-family=\"Helvetica,sans-Serif\" font-size=\"14.00\" fill=\"#000000\">class = 1</text>\n</g>\n<!-- 0&#45;&gt;130 -->\n<g id=\"edge130\" class=\"edge\">\n<title>0&#45;&gt;130</title>\n<path fill=\"none\" stroke=\"#000000\" d=\"M5918.1702,-952.3849C6019.0273,-933.6611 6155.0126,-908.4158 6259.7575,-888.9701\"/>\n<polygon fill=\"#000000\" stroke=\"#000000\" points=\"6260.6012,-892.3734 6269.7943,-887.1068 6259.3234,-885.491 6260.6012,-892.3734\"/>\n<text text-anchor=\"middle\" x=\"6255.6403\" y=\"-904.0142\" font-family=\"Helvetica,sans-Serif\" font-size=\"14.00\" fill=\"#000000\">False</text>\n</g>\n<!-- 2 -->\n<g id=\"node3\" class=\"node\">\n<title>2</title>\n<path fill=\"#f9fcfe\" stroke=\"#000000\" d=\"M2547.5,-782C2547.5,-782 2323.5,-782 2323.5,-782 2317.5,-782 2311.5,-776 2311.5,-770 2311.5,-770 2311.5,-711 2311.5,-711 2311.5,-705 2317.5,-699 2323.5,-699 2323.5,-699 2547.5,-699 2547.5,-699 2553.5,-699 2559.5,-705 2559.5,-711 2559.5,-711 2559.5,-770 2559.5,-770 2559.5,-776 2553.5,-782 2547.5,-782\"/>\n<text text-anchor=\"middle\" x=\"2435.5\" y=\"-766.8\" font-family=\"Helvetica,sans-Serif\" font-size=\"14.00\" fill=\"#000000\">internetservice_Fiber optic &lt;= 0.049</text>\n<text text-anchor=\"middle\" x=\"2435.5\" y=\"-751.8\" font-family=\"Helvetica,sans-Serif\" font-size=\"14.00\" fill=\"#000000\">entropy = 1.0</text>\n<text text-anchor=\"middle\" x=\"2435.5\" y=\"-736.8\" font-family=\"Helvetica,sans-Serif\" font-size=\"14.00\" fill=\"#000000\">samples = 1266</text>\n<text text-anchor=\"middle\" x=\"2435.5\" y=\"-721.8\" font-family=\"Helvetica,sans-Serif\" font-size=\"14.00\" fill=\"#000000\">value = [624, 642]</text>\n<text text-anchor=\"middle\" x=\"2435.5\" y=\"-706.8\" font-family=\"Helvetica,sans-Serif\" font-size=\"14.00\" fill=\"#000000\">class = 1</text>\n</g>\n<!-- 1&#45;&gt;2 -->\n<g id=\"edge2\" class=\"edge\">\n<title>1&#45;&gt;2</title>\n<path fill=\"none\" stroke=\"#000000\" d=\"M4513.7636,-855.3692C4198.9801,-837.9706 2978.5255,-770.5139 2569.7663,-747.9211\"/>\n<polygon fill=\"#000000\" stroke=\"#000000\" points=\"2569.8516,-744.4206 2559.6736,-747.3633 2569.4652,-751.4099 2569.8516,-744.4206\"/>\n</g>\n<!-- 59 -->\n<g id=\"node60\" class=\"node\">\n<title>59</title>\n<path fill=\"#ea9a60\" stroke=\"#000000\" d=\"M4700.5,-782C4700.5,-782 4476.5,-782 4476.5,-782 4470.5,-782 4464.5,-776 4464.5,-770 4464.5,-770 4464.5,-711 4464.5,-711 4464.5,-705 4470.5,-699 4476.5,-699 4476.5,-699 4700.5,-699 4700.5,-699 4706.5,-699 4712.5,-705 4712.5,-711 4712.5,-711 4712.5,-770 4712.5,-770 4712.5,-776 4706.5,-782 4700.5,-782\"/>\n<text text-anchor=\"middle\" x=\"4588.5\" y=\"-766.8\" font-family=\"Helvetica,sans-Serif\" font-size=\"14.00\" fill=\"#000000\">internetservice_Fiber optic &lt;= 0.006</text>\n<text text-anchor=\"middle\" x=\"4588.5\" y=\"-751.8\" font-family=\"Helvetica,sans-Serif\" font-size=\"14.00\" fill=\"#000000\">entropy = 0.642</text>\n<text text-anchor=\"middle\" x=\"4588.5\" y=\"-736.8\" font-family=\"Helvetica,sans-Serif\" font-size=\"14.00\" fill=\"#000000\">samples = 2956</text>\n<text text-anchor=\"middle\" x=\"4588.5\" y=\"-721.8\" font-family=\"Helvetica,sans-Serif\" font-size=\"14.00\" fill=\"#000000\">value = [2473, 483]</text>\n<text text-anchor=\"middle\" x=\"4588.5\" y=\"-706.8\" font-family=\"Helvetica,sans-Serif\" font-size=\"14.00\" fill=\"#000000\">class = 0</text>\n</g>\n<!-- 1&#45;&gt;59 -->\n<g id=\"edge59\" class=\"edge\">\n<title>1&#45;&gt;59</title>\n<path fill=\"none\" stroke=\"#000000\" d=\"M4588.5,-817.8796C4588.5,-809.6838 4588.5,-800.9891 4588.5,-792.5013\"/>\n<polygon fill=\"#000000\" stroke=\"#000000\" points=\"4592.0001,-792.298 4588.5,-782.2981 4585.0001,-792.2981 4592.0001,-792.298\"/>\n</g>\n<!-- 3 -->\n<g id=\"node4\" class=\"node\">\n<title>3</title>\n<path fill=\"#f8dbc7\" stroke=\"#000000\" d=\"M1191.5,-663C1191.5,-663 1083.5,-663 1083.5,-663 1077.5,-663 1071.5,-657 1071.5,-651 1071.5,-651 1071.5,-592 1071.5,-592 1071.5,-586 1077.5,-580 1083.5,-580 1083.5,-580 1191.5,-580 1191.5,-580 1197.5,-580 1203.5,-586 1203.5,-592 1203.5,-592 1203.5,-651 1203.5,-651 1203.5,-657 1197.5,-663 1191.5,-663\"/>\n<text text-anchor=\"middle\" x=\"1137.5\" y=\"-647.8\" font-family=\"Helvetica,sans-Serif\" font-size=\"14.00\" fill=\"#000000\">tenure &lt;= &#45;1.084</text>\n<text text-anchor=\"middle\" x=\"1137.5\" y=\"-632.8\" font-family=\"Helvetica,sans-Serif\" font-size=\"14.00\" fill=\"#000000\">entropy = 0.98</text>\n<text text-anchor=\"middle\" x=\"1137.5\" y=\"-617.8\" font-family=\"Helvetica,sans-Serif\" font-size=\"14.00\" fill=\"#000000\">samples = 939</text>\n<text text-anchor=\"middle\" x=\"1137.5\" y=\"-602.8\" font-family=\"Helvetica,sans-Serif\" font-size=\"14.00\" fill=\"#000000\">value = [547, 392]</text>\n<text text-anchor=\"middle\" x=\"1137.5\" y=\"-587.8\" font-family=\"Helvetica,sans-Serif\" font-size=\"14.00\" fill=\"#000000\">class = 0</text>\n</g>\n<!-- 2&#45;&gt;3 -->\n<g id=\"edge3\" class=\"edge\">\n<title>2&#45;&gt;3</title>\n<path fill=\"none\" stroke=\"#000000\" d=\"M2311.3364,-729.1167C2045.7416,-704.7671 1429.1213,-648.2357 1213.548,-628.472\"/>\n<polygon fill=\"#000000\" stroke=\"#000000\" points=\"1213.8666,-624.9867 1203.5887,-627.559 1213.2274,-631.9574 1213.8666,-624.9867\"/>\n</g>\n<!-- 40 -->\n<g id=\"node41\" class=\"node\">\n<title>40</title>\n<path fill=\"#76bbed\" stroke=\"#000000\" d=\"M2600,-663C2600,-663 2271,-663 2271,-663 2265,-663 2259,-657 2259,-651 2259,-651 2259,-592 2259,-592 2259,-586 2265,-580 2271,-580 2271,-580 2600,-580 2600,-580 2606,-580 2612,-586 2612,-592 2612,-592 2612,-651 2612,-651 2612,-657 2606,-663 2600,-663\"/>\n<text text-anchor=\"middle\" x=\"2435.5\" y=\"-647.8\" font-family=\"Helvetica,sans-Serif\" font-size=\"14.00\" fill=\"#000000\">paymentmethod_Bank transfer (automatic) &lt;= 0.012</text>\n<text text-anchor=\"middle\" x=\"2435.5\" y=\"-632.8\" font-family=\"Helvetica,sans-Serif\" font-size=\"14.00\" fill=\"#000000\">entropy = 0.787</text>\n<text text-anchor=\"middle\" x=\"2435.5\" y=\"-617.8\" font-family=\"Helvetica,sans-Serif\" font-size=\"14.00\" fill=\"#000000\">samples = 327</text>\n<text text-anchor=\"middle\" x=\"2435.5\" y=\"-602.8\" font-family=\"Helvetica,sans-Serif\" font-size=\"14.00\" fill=\"#000000\">value = [77, 250]</text>\n<text text-anchor=\"middle\" x=\"2435.5\" y=\"-587.8\" font-family=\"Helvetica,sans-Serif\" font-size=\"14.00\" fill=\"#000000\">class = 1</text>\n</g>\n<!-- 2&#45;&gt;40 -->\n<g id=\"edge40\" class=\"edge\">\n<title>2&#45;&gt;40</title>\n<path fill=\"none\" stroke=\"#000000\" d=\"M2435.5,-698.8796C2435.5,-690.6838 2435.5,-681.9891 2435.5,-673.5013\"/>\n<polygon fill=\"#000000\" stroke=\"#000000\" points=\"2439.0001,-673.298 2435.5,-663.2981 2432.0001,-673.2981 2439.0001,-673.298\"/>\n</g>\n<!-- 4 -->\n<g id=\"node5\" class=\"node\">\n<title>4</title>\n<path fill=\"#afd8f5\" stroke=\"#000000\" d=\"M564.5,-544C564.5,-544 312.5,-544 312.5,-544 306.5,-544 300.5,-538 300.5,-532 300.5,-532 300.5,-473 300.5,-473 300.5,-467 306.5,-461 312.5,-461 312.5,-461 564.5,-461 564.5,-461 570.5,-461 576.5,-467 576.5,-473 576.5,-473 576.5,-532 576.5,-532 576.5,-538 570.5,-544 564.5,-544\"/>\n<text text-anchor=\"middle\" x=\"438.5\" y=\"-528.8\" font-family=\"Helvetica,sans-Serif\" font-size=\"14.00\" fill=\"#000000\">paymentmethod_Mailed check &lt;= 0.025</text>\n<text text-anchor=\"middle\" x=\"438.5\" y=\"-513.8\" font-family=\"Helvetica,sans-Serif\" font-size=\"14.00\" fill=\"#000000\">entropy = 0.954</text>\n<text text-anchor=\"middle\" x=\"438.5\" y=\"-498.8\" font-family=\"Helvetica,sans-Serif\" font-size=\"14.00\" fill=\"#000000\">samples = 345</text>\n<text text-anchor=\"middle\" x=\"438.5\" y=\"-483.8\" font-family=\"Helvetica,sans-Serif\" font-size=\"14.00\" fill=\"#000000\">value = [129, 216]</text>\n<text text-anchor=\"middle\" x=\"438.5\" y=\"-468.8\" font-family=\"Helvetica,sans-Serif\" font-size=\"14.00\" fill=\"#000000\">class = 1</text>\n</g>\n<!-- 3&#45;&gt;4 -->\n<g id=\"edge4\" class=\"edge\">\n<title>3&#45;&gt;4</title>\n<path fill=\"none\" stroke=\"#000000\" d=\"M1071.425,-610.2512C961.0591,-591.4621 736.5806,-553.2462 586.824,-527.7511\"/>\n<polygon fill=\"#000000\" stroke=\"#000000\" points=\"587.0673,-524.2423 576.6217,-526.0143 585.8925,-531.143 587.0673,-524.2423\"/>\n</g>\n<!-- 17 -->\n<g id=\"node18\" class=\"node\">\n<title>17</title>\n<path fill=\"#f0b68c\" stroke=\"#000000\" d=\"M1229.5,-544C1229.5,-544 1045.5,-544 1045.5,-544 1039.5,-544 1033.5,-538 1033.5,-532 1033.5,-532 1033.5,-473 1033.5,-473 1033.5,-467 1039.5,-461 1045.5,-461 1045.5,-461 1229.5,-461 1229.5,-461 1235.5,-461 1241.5,-467 1241.5,-473 1241.5,-473 1241.5,-532 1241.5,-532 1241.5,-538 1235.5,-544 1229.5,-544\"/>\n<text text-anchor=\"middle\" x=\"1137.5\" y=\"-528.8\" font-family=\"Helvetica,sans-Serif\" font-size=\"14.00\" fill=\"#000000\">internetservice_DSL &lt;= 0.021</text>\n<text text-anchor=\"middle\" x=\"1137.5\" y=\"-513.8\" font-family=\"Helvetica,sans-Serif\" font-size=\"14.00\" fill=\"#000000\">entropy = 0.877</text>\n<text text-anchor=\"middle\" x=\"1137.5\" y=\"-498.8\" font-family=\"Helvetica,sans-Serif\" font-size=\"14.00\" fill=\"#000000\">samples = 594</text>\n<text text-anchor=\"middle\" x=\"1137.5\" y=\"-483.8\" font-family=\"Helvetica,sans-Serif\" font-size=\"14.00\" fill=\"#000000\">value = [418, 176]</text>\n<text text-anchor=\"middle\" x=\"1137.5\" y=\"-468.8\" font-family=\"Helvetica,sans-Serif\" font-size=\"14.00\" fill=\"#000000\">class = 0</text>\n</g>\n<!-- 3&#45;&gt;17 -->\n<g id=\"edge17\" class=\"edge\">\n<title>3&#45;&gt;17</title>\n<path fill=\"none\" stroke=\"#000000\" d=\"M1137.5,-579.8796C1137.5,-571.6838 1137.5,-562.9891 1137.5,-554.5013\"/>\n<polygon fill=\"#000000\" stroke=\"#000000\" points=\"1141.0001,-554.298 1137.5,-544.2981 1134.0001,-554.2981 1141.0001,-554.298\"/>\n</g>\n<!-- 5 -->\n<g id=\"node6\" class=\"node\">\n<title>5</title>\n<path fill=\"#f1b992\" stroke=\"#000000\" d=\"M319.5,-417.5C319.5,-417.5 225.5,-417.5 225.5,-417.5 219.5,-417.5 213.5,-411.5 213.5,-405.5 213.5,-405.5 213.5,-361.5 213.5,-361.5 213.5,-355.5 219.5,-349.5 225.5,-349.5 225.5,-349.5 319.5,-349.5 319.5,-349.5 325.5,-349.5 331.5,-355.5 331.5,-361.5 331.5,-361.5 331.5,-405.5 331.5,-405.5 331.5,-411.5 325.5,-417.5 319.5,-417.5\"/>\n<text text-anchor=\"middle\" x=\"272.5\" y=\"-402.3\" font-family=\"Helvetica,sans-Serif\" font-size=\"14.00\" fill=\"#000000\">entropy = 0.893</text>\n<text text-anchor=\"middle\" x=\"272.5\" y=\"-387.3\" font-family=\"Helvetica,sans-Serif\" font-size=\"14.00\" fill=\"#000000\">samples = 42</text>\n<text text-anchor=\"middle\" x=\"272.5\" y=\"-372.3\" font-family=\"Helvetica,sans-Serif\" font-size=\"14.00\" fill=\"#000000\">value = [29, 13]</text>\n<text text-anchor=\"middle\" x=\"272.5\" y=\"-357.3\" font-family=\"Helvetica,sans-Serif\" font-size=\"14.00\" fill=\"#000000\">class = 0</text>\n</g>\n<!-- 4&#45;&gt;5 -->\n<g id=\"edge5\" class=\"edge\">\n<title>4&#45;&gt;5</title>\n<path fill=\"none\" stroke=\"#000000\" d=\"M380.4413,-460.8796C363.642,-448.8368 345.3401,-435.7167 328.659,-423.7586\"/>\n<polygon fill=\"#000000\" stroke=\"#000000\" points=\"330.2668,-420.6047 320.1002,-417.623 326.1884,-426.2939 330.2668,-420.6047\"/>\n</g>\n<!-- 6 -->\n<g id=\"node7\" class=\"node\">\n<title>6</title>\n<path fill=\"#9bcdf2\" stroke=\"#000000\" d=\"M515.5,-425C515.5,-425 361.5,-425 361.5,-425 355.5,-425 349.5,-419 349.5,-413 349.5,-413 349.5,-354 349.5,-354 349.5,-348 355.5,-342 361.5,-342 361.5,-342 515.5,-342 515.5,-342 521.5,-342 527.5,-348 527.5,-354 527.5,-354 527.5,-413 527.5,-413 527.5,-419 521.5,-425 515.5,-425\"/>\n<text text-anchor=\"middle\" x=\"438.5\" y=\"-409.8\" font-family=\"Helvetica,sans-Serif\" font-size=\"14.00\" fill=\"#000000\">paperlessbilling &lt;= 0.001</text>\n<text text-anchor=\"middle\" x=\"438.5\" y=\"-394.8\" font-family=\"Helvetica,sans-Serif\" font-size=\"14.00\" fill=\"#000000\">entropy = 0.915</text>\n<text text-anchor=\"middle\" x=\"438.5\" y=\"-379.8\" font-family=\"Helvetica,sans-Serif\" font-size=\"14.00\" fill=\"#000000\">samples = 303</text>\n<text text-anchor=\"middle\" x=\"438.5\" y=\"-364.8\" font-family=\"Helvetica,sans-Serif\" font-size=\"14.00\" fill=\"#000000\">value = [100, 203]</text>\n<text text-anchor=\"middle\" x=\"438.5\" y=\"-349.8\" font-family=\"Helvetica,sans-Serif\" font-size=\"14.00\" fill=\"#000000\">class = 1</text>\n</g>\n<!-- 4&#45;&gt;6 -->\n<g id=\"edge6\" class=\"edge\">\n<title>4&#45;&gt;6</title>\n<path fill=\"none\" stroke=\"#000000\" d=\"M438.5,-460.8796C438.5,-452.6838 438.5,-443.9891 438.5,-435.5013\"/>\n<polygon fill=\"#000000\" stroke=\"#000000\" points=\"442.0001,-435.298 438.5,-425.2981 435.0001,-435.2981 442.0001,-435.298\"/>\n</g>\n<!-- 7 -->\n<g id=\"node8\" class=\"node\">\n<title>7</title>\n<path fill=\"#d1e8f9\" stroke=\"#000000\" d=\"M279,-306C279,-306 118,-306 118,-306 112,-306 106,-300 106,-294 106,-294 106,-235 106,-235 106,-229 112,-223 118,-223 118,-223 279,-223 279,-223 285,-223 291,-229 291,-235 291,-235 291,-294 291,-294 291,-300 285,-306 279,-306\"/>\n<text text-anchor=\"middle\" x=\"198.5\" y=\"-290.8\" font-family=\"Helvetica,sans-Serif\" font-size=\"14.00\" fill=\"#000000\">monthlycharges &lt;= &#45;1.691</text>\n<text text-anchor=\"middle\" x=\"198.5\" y=\"-275.8\" font-family=\"Helvetica,sans-Serif\" font-size=\"14.00\" fill=\"#000000\">entropy = 0.987</text>\n<text text-anchor=\"middle\" x=\"198.5\" y=\"-260.8\" font-family=\"Helvetica,sans-Serif\" font-size=\"14.00\" fill=\"#000000\">samples = 152</text>\n<text text-anchor=\"middle\" x=\"198.5\" y=\"-245.8\" font-family=\"Helvetica,sans-Serif\" font-size=\"14.00\" fill=\"#000000\">value = [66, 86]</text>\n<text text-anchor=\"middle\" x=\"198.5\" y=\"-230.8\" font-family=\"Helvetica,sans-Serif\" font-size=\"14.00\" fill=\"#000000\">class = 1</text>\n</g>\n<!-- 6&#45;&gt;7 -->\n<g id=\"edge7\" class=\"edge\">\n<title>6&#45;&gt;7</title>\n<path fill=\"none\" stroke=\"#000000\" d=\"M354.5596,-341.8796C334.189,-331.7791 312.2901,-320.9209 291.5273,-310.626\"/>\n<polygon fill=\"#000000\" stroke=\"#000000\" points=\"292.9069,-307.4035 282.393,-306.0969 289.7973,-313.6749 292.9069,-307.4035\"/>\n</g>\n<!-- 12 -->\n<g id=\"node13\" class=\"node\">\n<title>12</title>\n<path fill=\"#73b9ed\" stroke=\"#000000\" d=\"M515.5,-306C515.5,-306 361.5,-306 361.5,-306 355.5,-306 349.5,-300 349.5,-294 349.5,-294 349.5,-235 349.5,-235 349.5,-229 355.5,-223 361.5,-223 361.5,-223 515.5,-223 515.5,-223 521.5,-223 527.5,-229 527.5,-235 527.5,-235 527.5,-294 527.5,-294 527.5,-300 521.5,-306 515.5,-306\"/>\n<text text-anchor=\"middle\" x=\"438.5\" y=\"-290.8\" font-family=\"Helvetica,sans-Serif\" font-size=\"14.00\" fill=\"#000000\">paperlessbilling &lt;= 0.987</text>\n<text text-anchor=\"middle\" x=\"438.5\" y=\"-275.8\" font-family=\"Helvetica,sans-Serif\" font-size=\"14.00\" fill=\"#000000\">entropy = 0.769</text>\n<text text-anchor=\"middle\" x=\"438.5\" y=\"-260.8\" font-family=\"Helvetica,sans-Serif\" font-size=\"14.00\" fill=\"#000000\">samples = 151</text>\n<text text-anchor=\"middle\" x=\"438.5\" y=\"-245.8\" font-family=\"Helvetica,sans-Serif\" font-size=\"14.00\" fill=\"#000000\">value = [34, 117]</text>\n<text text-anchor=\"middle\" x=\"438.5\" y=\"-230.8\" font-family=\"Helvetica,sans-Serif\" font-size=\"14.00\" fill=\"#000000\">class = 1</text>\n</g>\n<!-- 6&#45;&gt;12 -->\n<g id=\"edge12\" class=\"edge\">\n<title>6&#45;&gt;12</title>\n<path fill=\"none\" stroke=\"#000000\" d=\"M438.5,-341.8796C438.5,-333.6838 438.5,-324.9891 438.5,-316.5013\"/>\n<polygon fill=\"#000000\" stroke=\"#000000\" points=\"442.0001,-316.298 438.5,-306.2981 435.0001,-316.2981 442.0001,-316.298\"/>\n</g>\n<!-- 8 -->\n<g id=\"node9\" class=\"node\">\n<title>8</title>\n<path fill=\"#e58139\" stroke=\"#000000\" d=\"M89,-179.5C89,-179.5 12,-179.5 12,-179.5 6,-179.5 0,-173.5 0,-167.5 0,-167.5 0,-123.5 0,-123.5 0,-117.5 6,-111.5 12,-111.5 12,-111.5 89,-111.5 89,-111.5 95,-111.5 101,-117.5 101,-123.5 101,-123.5 101,-167.5 101,-167.5 101,-173.5 95,-179.5 89,-179.5\"/>\n<text text-anchor=\"middle\" x=\"50.5\" y=\"-164.3\" font-family=\"Helvetica,sans-Serif\" font-size=\"14.00\" fill=\"#000000\">entropy = 0.0</text>\n<text text-anchor=\"middle\" x=\"50.5\" y=\"-149.3\" font-family=\"Helvetica,sans-Serif\" font-size=\"14.00\" fill=\"#000000\">samples = 6</text>\n<text text-anchor=\"middle\" x=\"50.5\" y=\"-134.3\" font-family=\"Helvetica,sans-Serif\" font-size=\"14.00\" fill=\"#000000\">value = [6, 0]</text>\n<text text-anchor=\"middle\" x=\"50.5\" y=\"-119.3\" font-family=\"Helvetica,sans-Serif\" font-size=\"14.00\" fill=\"#000000\">class = 0</text>\n</g>\n<!-- 7&#45;&gt;8 -->\n<g id=\"edge8\" class=\"edge\">\n<title>7&#45;&gt;8</title>\n<path fill=\"none\" stroke=\"#000000\" d=\"M146.7368,-222.8796C131.9669,-211.0038 115.8941,-198.0804 101.1892,-186.2568\"/>\n<polygon fill=\"#000000\" stroke=\"#000000\" points=\"103.1639,-183.3535 93.1774,-179.8149 98.7775,-188.8088 103.1639,-183.3535\"/>\n</g>\n<!-- 9 -->\n<g id=\"node10\" class=\"node\">\n<title>9</title>\n<path fill=\"#c3e1f7\" stroke=\"#000000\" d=\"M265.5,-187C265.5,-187 131.5,-187 131.5,-187 125.5,-187 119.5,-181 119.5,-175 119.5,-175 119.5,-116 119.5,-116 119.5,-110 125.5,-104 131.5,-104 131.5,-104 265.5,-104 265.5,-104 271.5,-104 277.5,-110 277.5,-116 277.5,-116 277.5,-175 277.5,-175 277.5,-181 271.5,-187 265.5,-187\"/>\n<text text-anchor=\"middle\" x=\"198.5\" y=\"-171.8\" font-family=\"Helvetica,sans-Serif\" font-size=\"14.00\" fill=\"#000000\">seniorcitizen &lt;= 0.054</text>\n<text text-anchor=\"middle\" x=\"198.5\" y=\"-156.8\" font-family=\"Helvetica,sans-Serif\" font-size=\"14.00\" fill=\"#000000\">entropy = 0.977</text>\n<text text-anchor=\"middle\" x=\"198.5\" y=\"-141.8\" font-family=\"Helvetica,sans-Serif\" font-size=\"14.00\" fill=\"#000000\">samples = 146</text>\n<text text-anchor=\"middle\" x=\"198.5\" y=\"-126.8\" font-family=\"Helvetica,sans-Serif\" font-size=\"14.00\" fill=\"#000000\">value = [60, 86]</text>\n<text text-anchor=\"middle\" x=\"198.5\" y=\"-111.8\" font-family=\"Helvetica,sans-Serif\" font-size=\"14.00\" fill=\"#000000\">class = 1</text>\n</g>\n<!-- 7&#45;&gt;9 -->\n<g id=\"edge9\" class=\"edge\">\n<title>7&#45;&gt;9</title>\n<path fill=\"none\" stroke=\"#000000\" d=\"M198.5,-222.8796C198.5,-214.6838 198.5,-205.9891 198.5,-197.5013\"/>\n<polygon fill=\"#000000\" stroke=\"#000000\" points=\"202.0001,-197.298 198.5,-187.2981 195.0001,-197.2981 202.0001,-197.298\"/>\n</g>\n<!-- 10 -->\n<g id=\"node11\" class=\"node\">\n<title>10</title>\n<path fill=\"#d1e8f9\" stroke=\"#000000\" d=\"M125.5,-68C125.5,-68 31.5,-68 31.5,-68 25.5,-68 19.5,-62 19.5,-56 19.5,-56 19.5,-12 19.5,-12 19.5,-6 25.5,0 31.5,0 31.5,0 125.5,0 125.5,0 131.5,0 137.5,-6 137.5,-12 137.5,-12 137.5,-56 137.5,-56 137.5,-62 131.5,-68 125.5,-68\"/>\n<text text-anchor=\"middle\" x=\"78.5\" y=\"-52.8\" font-family=\"Helvetica,sans-Serif\" font-size=\"14.00\" fill=\"#000000\">entropy = 0.988</text>\n<text text-anchor=\"middle\" x=\"78.5\" y=\"-37.8\" font-family=\"Helvetica,sans-Serif\" font-size=\"14.00\" fill=\"#000000\">samples = 138</text>\n<text text-anchor=\"middle\" x=\"78.5\" y=\"-22.8\" font-family=\"Helvetica,sans-Serif\" font-size=\"14.00\" fill=\"#000000\">value = [60, 78]</text>\n<text text-anchor=\"middle\" x=\"78.5\" y=\"-7.8\" font-family=\"Helvetica,sans-Serif\" font-size=\"14.00\" fill=\"#000000\">class = 1</text>\n</g>\n<!-- 9&#45;&gt;10 -->\n<g id=\"edge10\" class=\"edge\">\n<title>9&#45;&gt;10</title>\n<path fill=\"none\" stroke=\"#000000\" d=\"M153.8164,-103.9815C143.7273,-94.607 133.019,-84.6572 122.9399,-75.2921\"/>\n<polygon fill=\"#000000\" stroke=\"#000000\" points=\"125.0839,-72.5065 115.3757,-68.2637 120.3191,-77.6346 125.0839,-72.5065\"/>\n</g>\n<!-- 11 -->\n<g id=\"node12\" class=\"node\">\n<title>11</title>\n<path fill=\"#399de5\" stroke=\"#000000\" d=\"M245,-68C245,-68 168,-68 168,-68 162,-68 156,-62 156,-56 156,-56 156,-12 156,-12 156,-6 162,0 168,0 168,0 245,0 245,0 251,0 257,-6 257,-12 257,-12 257,-56 257,-56 257,-62 251,-68 245,-68\"/>\n<text text-anchor=\"middle\" x=\"206.5\" y=\"-52.8\" font-family=\"Helvetica,sans-Serif\" font-size=\"14.00\" fill=\"#000000\">entropy = 0.0</text>\n<text text-anchor=\"middle\" x=\"206.5\" y=\"-37.8\" font-family=\"Helvetica,sans-Serif\" font-size=\"14.00\" fill=\"#000000\">samples = 8</text>\n<text text-anchor=\"middle\" x=\"206.5\" y=\"-22.8\" font-family=\"Helvetica,sans-Serif\" font-size=\"14.00\" fill=\"#000000\">value = [0, 8]</text>\n<text text-anchor=\"middle\" x=\"206.5\" y=\"-7.8\" font-family=\"Helvetica,sans-Serif\" font-size=\"14.00\" fill=\"#000000\">class = 1</text>\n</g>\n<!-- 9&#45;&gt;11 -->\n<g id=\"edge11\" class=\"edge\">\n<title>9&#45;&gt;11</title>\n<path fill=\"none\" stroke=\"#000000\" d=\"M201.4789,-103.9815C202.079,-95.618 202.7119,-86.7965 203.3186,-78.3409\"/>\n<polygon fill=\"#000000\" stroke=\"#000000\" points=\"206.8169,-78.4885 204.0416,-68.2637 199.8349,-77.9875 206.8169,-78.4885\"/>\n</g>\n<!-- 13 -->\n<g id=\"node14\" class=\"node\">\n<title>13</title>\n<path fill=\"#399de5\" stroke=\"#000000\" d=\"M390,-179.5C390,-179.5 307,-179.5 307,-179.5 301,-179.5 295,-173.5 295,-167.5 295,-167.5 295,-123.5 295,-123.5 295,-117.5 301,-111.5 307,-111.5 307,-111.5 390,-111.5 390,-111.5 396,-111.5 402,-117.5 402,-123.5 402,-123.5 402,-167.5 402,-167.5 402,-173.5 396,-179.5 390,-179.5\"/>\n<text text-anchor=\"middle\" x=\"348.5\" y=\"-164.3\" font-family=\"Helvetica,sans-Serif\" font-size=\"14.00\" fill=\"#000000\">entropy = 0.0</text>\n<text text-anchor=\"middle\" x=\"348.5\" y=\"-149.3\" font-family=\"Helvetica,sans-Serif\" font-size=\"14.00\" fill=\"#000000\">samples = 32</text>\n<text text-anchor=\"middle\" x=\"348.5\" y=\"-134.3\" font-family=\"Helvetica,sans-Serif\" font-size=\"14.00\" fill=\"#000000\">value = [0, 32]</text>\n<text text-anchor=\"middle\" x=\"348.5\" y=\"-119.3\" font-family=\"Helvetica,sans-Serif\" font-size=\"14.00\" fill=\"#000000\">class = 1</text>\n</g>\n<!-- 12&#45;&gt;13 -->\n<g id=\"edge13\" class=\"edge\">\n<title>12&#45;&gt;13</title>\n<path fill=\"none\" stroke=\"#000000\" d=\"M407.0224,-222.8796C398.4565,-211.5536 389.17,-199.2748 380.5717,-187.9058\"/>\n<polygon fill=\"#000000\" stroke=\"#000000\" points=\"383.2762,-185.6795 374.4525,-179.8149 377.6931,-189.902 383.2762,-185.6795\"/>\n</g>\n<!-- 14 -->\n<g id=\"node15\" class=\"node\">\n<title>14</title>\n<path fill=\"#88c4ef\" stroke=\"#000000\" d=\"M526.5,-187C526.5,-187 432.5,-187 432.5,-187 426.5,-187 420.5,-181 420.5,-175 420.5,-175 420.5,-116 420.5,-116 420.5,-110 426.5,-104 432.5,-104 432.5,-104 526.5,-104 526.5,-104 532.5,-104 538.5,-110 538.5,-116 538.5,-116 538.5,-175 538.5,-175 538.5,-181 532.5,-187 526.5,-187\"/>\n<text text-anchor=\"middle\" x=\"479.5\" y=\"-171.8\" font-family=\"Helvetica,sans-Serif\" font-size=\"14.00\" fill=\"#000000\">gender &lt;= 0.92</text>\n<text text-anchor=\"middle\" x=\"479.5\" y=\"-156.8\" font-family=\"Helvetica,sans-Serif\" font-size=\"14.00\" fill=\"#000000\">entropy = 0.863</text>\n<text text-anchor=\"middle\" x=\"479.5\" y=\"-141.8\" font-family=\"Helvetica,sans-Serif\" font-size=\"14.00\" fill=\"#000000\">samples = 119</text>\n<text text-anchor=\"middle\" x=\"479.5\" y=\"-126.8\" font-family=\"Helvetica,sans-Serif\" font-size=\"14.00\" fill=\"#000000\">value = [34, 85]</text>\n<text text-anchor=\"middle\" x=\"479.5\" y=\"-111.8\" font-family=\"Helvetica,sans-Serif\" font-size=\"14.00\" fill=\"#000000\">class = 1</text>\n</g>\n<!-- 12&#45;&gt;14 -->\n<g id=\"edge14\" class=\"edge\">\n<title>12&#45;&gt;14</title>\n<path fill=\"none\" stroke=\"#000000\" d=\"M452.8398,-222.8796C455.7256,-214.5037 458.791,-205.6067 461.7763,-196.942\"/>\n<polygon fill=\"#000000\" stroke=\"#000000\" points=\"465.1506,-197.8928 465.099,-187.2981 458.5324,-195.6125 465.1506,-197.8928\"/>\n</g>\n<!-- 15 -->\n<g id=\"node16\" class=\"node\">\n<title>15</title>\n<path fill=\"#63b2eb\" stroke=\"#000000\" d=\"M391.5,-68C391.5,-68 297.5,-68 297.5,-68 291.5,-68 285.5,-62 285.5,-56 285.5,-56 285.5,-12 285.5,-12 285.5,-6 291.5,0 297.5,0 297.5,0 391.5,0 391.5,0 397.5,0 403.5,-6 403.5,-12 403.5,-12 403.5,-56 403.5,-56 403.5,-62 397.5,-68 391.5,-68\"/>\n<text text-anchor=\"middle\" x=\"344.5\" y=\"-52.8\" font-family=\"Helvetica,sans-Serif\" font-size=\"14.00\" fill=\"#000000\">entropy = 0.672</text>\n<text text-anchor=\"middle\" x=\"344.5\" y=\"-37.8\" font-family=\"Helvetica,sans-Serif\" font-size=\"14.00\" fill=\"#000000\">samples = 68</text>\n<text text-anchor=\"middle\" x=\"344.5\" y=\"-22.8\" font-family=\"Helvetica,sans-Serif\" font-size=\"14.00\" fill=\"#000000\">value = [12, 56]</text>\n<text text-anchor=\"middle\" x=\"344.5\" y=\"-7.8\" font-family=\"Helvetica,sans-Serif\" font-size=\"14.00\" fill=\"#000000\">class = 1</text>\n</g>\n<!-- 14&#45;&gt;15 -->\n<g id=\"edge15\" class=\"edge\">\n<title>14&#45;&gt;15</title>\n<path fill=\"none\" stroke=\"#000000\" d=\"M429.231,-103.9815C417.6582,-94.4232 405.3611,-84.2668 393.8287,-74.7419\"/>\n<polygon fill=\"#000000\" stroke=\"#000000\" points=\"395.9243,-71.9332 385.9852,-68.2637 391.4666,-77.3304 395.9243,-71.9332\"/>\n</g>\n<!-- 16 -->\n<g id=\"node17\" class=\"node\">\n<title>16</title>\n<path fill=\"#cfe7f9\" stroke=\"#000000\" d=\"M527.5,-68C527.5,-68 433.5,-68 433.5,-68 427.5,-68 421.5,-62 421.5,-56 421.5,-56 421.5,-12 421.5,-12 421.5,-6 427.5,0 433.5,0 433.5,0 527.5,0 527.5,0 533.5,0 539.5,-6 539.5,-12 539.5,-12 539.5,-56 539.5,-56 539.5,-62 533.5,-68 527.5,-68\"/>\n<text text-anchor=\"middle\" x=\"480.5\" y=\"-52.8\" font-family=\"Helvetica,sans-Serif\" font-size=\"14.00\" fill=\"#000000\">entropy = 0.986</text>\n<text text-anchor=\"middle\" x=\"480.5\" y=\"-37.8\" font-family=\"Helvetica,sans-Serif\" font-size=\"14.00\" fill=\"#000000\">samples = 51</text>\n<text text-anchor=\"middle\" x=\"480.5\" y=\"-22.8\" font-family=\"Helvetica,sans-Serif\" font-size=\"14.00\" fill=\"#000000\">value = [22, 29]</text>\n<text text-anchor=\"middle\" x=\"480.5\" y=\"-7.8\" font-family=\"Helvetica,sans-Serif\" font-size=\"14.00\" fill=\"#000000\">class = 1</text>\n</g>\n<!-- 14&#45;&gt;16 -->\n<g id=\"edge16\" class=\"edge\">\n<title>14&#45;&gt;16</title>\n<path fill=\"none\" stroke=\"#000000\" d=\"M479.8724,-103.9815C479.9474,-95.618 480.0265,-86.7965 480.1023,-78.3409\"/>\n<polygon fill=\"#000000\" stroke=\"#000000\" points=\"483.6028,-78.2947 480.1927,-68.2637 476.6031,-78.2318 483.6028,-78.2947\"/>\n</g>\n<!-- 18 -->\n<g id=\"node19\" class=\"node\">\n<title>18</title>\n<path fill=\"#e99356\" stroke=\"#000000\" d=\"M1145.5,-425C1145.5,-425 893.5,-425 893.5,-425 887.5,-425 881.5,-419 881.5,-413 881.5,-413 881.5,-354 881.5,-354 881.5,-348 887.5,-342 893.5,-342 893.5,-342 1145.5,-342 1145.5,-342 1151.5,-342 1157.5,-348 1157.5,-354 1157.5,-354 1157.5,-413 1157.5,-413 1157.5,-419 1151.5,-425 1145.5,-425\"/>\n<text text-anchor=\"middle\" x=\"1019.5\" y=\"-409.8\" font-family=\"Helvetica,sans-Serif\" font-size=\"14.00\" fill=\"#000000\">paymentmethod_Mailed check &lt;= 0.957</text>\n<text text-anchor=\"middle\" x=\"1019.5\" y=\"-394.8\" font-family=\"Helvetica,sans-Serif\" font-size=\"14.00\" fill=\"#000000\">entropy = 0.552</text>\n<text text-anchor=\"middle\" x=\"1019.5\" y=\"-379.8\" font-family=\"Helvetica,sans-Serif\" font-size=\"14.00\" fill=\"#000000\">samples = 258</text>\n<text text-anchor=\"middle\" x=\"1019.5\" y=\"-364.8\" font-family=\"Helvetica,sans-Serif\" font-size=\"14.00\" fill=\"#000000\">value = [225, 33]</text>\n<text text-anchor=\"middle\" x=\"1019.5\" y=\"-349.8\" font-family=\"Helvetica,sans-Serif\" font-size=\"14.00\" fill=\"#000000\">class = 0</text>\n</g>\n<!-- 17&#45;&gt;18 -->\n<g id=\"edge18\" class=\"edge\">\n<title>17&#45;&gt;18</title>\n<path fill=\"none\" stroke=\"#000000\" d=\"M1096.2293,-460.8796C1087.1201,-451.6931 1077.3892,-441.8798 1068.0224,-432.4336\"/>\n<polygon fill=\"#000000\" stroke=\"#000000\" points=\"1070.4733,-429.9345 1060.9468,-425.2981 1065.5027,-434.8634 1070.4733,-429.9345\"/>\n</g>\n<!-- 29 -->\n<g id=\"node30\" class=\"node\">\n<title>29</title>\n<path fill=\"#f8decc\" stroke=\"#000000\" d=\"M1353,-425C1353,-425 1216,-425 1216,-425 1210,-425 1204,-419 1204,-413 1204,-413 1204,-354 1204,-354 1204,-348 1210,-342 1216,-342 1216,-342 1353,-342 1353,-342 1359,-342 1365,-348 1365,-354 1365,-354 1365,-413 1365,-413 1365,-419 1359,-425 1353,-425\"/>\n<text text-anchor=\"middle\" x=\"1284.5\" y=\"-409.8\" font-family=\"Helvetica,sans-Serif\" font-size=\"14.00\" fill=\"#000000\">totalcharges &lt;= &#45;0.789</text>\n<text text-anchor=\"middle\" x=\"1284.5\" y=\"-394.8\" font-family=\"Helvetica,sans-Serif\" font-size=\"14.00\" fill=\"#000000\">entropy = 0.984</text>\n<text text-anchor=\"middle\" x=\"1284.5\" y=\"-379.8\" font-family=\"Helvetica,sans-Serif\" font-size=\"14.00\" fill=\"#000000\">samples = 336</text>\n<text text-anchor=\"middle\" x=\"1284.5\" y=\"-364.8\" font-family=\"Helvetica,sans-Serif\" font-size=\"14.00\" fill=\"#000000\">value = [193, 143]</text>\n<text text-anchor=\"middle\" x=\"1284.5\" y=\"-349.8\" font-family=\"Helvetica,sans-Serif\" font-size=\"14.00\" fill=\"#000000\">class = 0</text>\n</g>\n<!-- 17&#45;&gt;29 -->\n<g id=\"edge29\" class=\"edge\">\n<title>17&#45;&gt;29</title>\n<path fill=\"none\" stroke=\"#000000\" d=\"M1188.9135,-460.8796C1200.5952,-451.4229 1213.0975,-441.302 1225.081,-431.6011\"/>\n<polygon fill=\"#000000\" stroke=\"#000000\" points=\"1227.2968,-434.3105 1232.8671,-425.2981 1222.8924,-428.8697 1227.2968,-434.3105\"/>\n</g>\n<!-- 19 -->\n<g id=\"node20\" class=\"node\">\n<title>19</title>\n<path fill=\"#eca26d\" stroke=\"#000000\" d=\"M874.5,-306C874.5,-306 622.5,-306 622.5,-306 616.5,-306 610.5,-300 610.5,-294 610.5,-294 610.5,-235 610.5,-235 610.5,-229 616.5,-223 622.5,-223 622.5,-223 874.5,-223 874.5,-223 880.5,-223 886.5,-229 886.5,-235 886.5,-235 886.5,-294 886.5,-294 886.5,-300 880.5,-306 874.5,-306\"/>\n<text text-anchor=\"middle\" x=\"748.5\" y=\"-290.8\" font-family=\"Helvetica,sans-Serif\" font-size=\"14.00\" fill=\"#000000\">paymentmethod_Mailed check &lt;= 0.287</text>\n<text text-anchor=\"middle\" x=\"748.5\" y=\"-275.8\" font-family=\"Helvetica,sans-Serif\" font-size=\"14.00\" fill=\"#000000\">entropy = 0.74</text>\n<text text-anchor=\"middle\" x=\"748.5\" y=\"-260.8\" font-family=\"Helvetica,sans-Serif\" font-size=\"14.00\" fill=\"#000000\">samples = 86</text>\n<text text-anchor=\"middle\" x=\"748.5\" y=\"-245.8\" font-family=\"Helvetica,sans-Serif\" font-size=\"14.00\" fill=\"#000000\">value = [68, 18]</text>\n<text text-anchor=\"middle\" x=\"748.5\" y=\"-230.8\" font-family=\"Helvetica,sans-Serif\" font-size=\"14.00\" fill=\"#000000\">class = 0</text>\n</g>\n<!-- 18&#45;&gt;19 -->\n<g id=\"edge19\" class=\"edge\">\n<title>18&#45;&gt;19</title>\n<path fill=\"none\" stroke=\"#000000\" d=\"M924.7174,-341.8796C901.4061,-331.6433 876.3224,-320.6286 852.5978,-310.2108\"/>\n<polygon fill=\"#000000\" stroke=\"#000000\" points=\"853.7925,-306.9129 843.2291,-306.0969 850.978,-313.3222 853.7925,-306.9129\"/>\n</g>\n<!-- 24 -->\n<g id=\"node25\" class=\"node\">\n<title>24</title>\n<path fill=\"#e78d4c\" stroke=\"#000000\" d=\"M1100,-306C1100,-306 939,-306 939,-306 933,-306 927,-300 927,-294 927,-294 927,-235 927,-235 927,-229 933,-223 939,-223 939,-223 1100,-223 1100,-223 1106,-223 1112,-229 1112,-235 1112,-235 1112,-294 1112,-294 1112,-300 1106,-306 1100,-306\"/>\n<text text-anchor=\"middle\" x=\"1019.5\" y=\"-290.8\" font-family=\"Helvetica,sans-Serif\" font-size=\"14.00\" fill=\"#000000\">monthlycharges &lt;= &#45;1.651</text>\n<text text-anchor=\"middle\" x=\"1019.5\" y=\"-275.8\" font-family=\"Helvetica,sans-Serif\" font-size=\"14.00\" fill=\"#000000\">entropy = 0.427</text>\n<text text-anchor=\"middle\" x=\"1019.5\" y=\"-260.8\" font-family=\"Helvetica,sans-Serif\" font-size=\"14.00\" fill=\"#000000\">samples = 172</text>\n<text text-anchor=\"middle\" x=\"1019.5\" y=\"-245.8\" font-family=\"Helvetica,sans-Serif\" font-size=\"14.00\" fill=\"#000000\">value = [157, 15]</text>\n<text text-anchor=\"middle\" x=\"1019.5\" y=\"-230.8\" font-family=\"Helvetica,sans-Serif\" font-size=\"14.00\" fill=\"#000000\">class = 0</text>\n</g>\n<!-- 18&#45;&gt;24 -->\n<g id=\"edge24\" class=\"edge\">\n<title>18&#45;&gt;24</title>\n<path fill=\"none\" stroke=\"#000000\" d=\"M1019.5,-341.8796C1019.5,-333.6838 1019.5,-324.9891 1019.5,-316.5013\"/>\n<polygon fill=\"#000000\" stroke=\"#000000\" points=\"1023.0001,-316.298 1019.5,-306.2981 1016.0001,-316.2981 1023.0001,-316.298\"/>\n</g>\n<!-- 20 -->\n<g id=\"node21\" class=\"node\">\n<title>20</title>\n<path fill=\"#ea995f\" stroke=\"#000000\" d=\"M668,-187C668,-187 569,-187 569,-187 563,-187 557,-181 557,-175 557,-175 557,-116 557,-116 557,-110 563,-104 569,-104 569,-104 668,-104 668,-104 674,-104 680,-110 680,-116 680,-116 680,-175 680,-175 680,-181 674,-187 668,-187\"/>\n<text text-anchor=\"middle\" x=\"618.5\" y=\"-171.8\" font-family=\"Helvetica,sans-Serif\" font-size=\"14.00\" fill=\"#000000\">tenure &lt;= &#45;0.672</text>\n<text text-anchor=\"middle\" x=\"618.5\" y=\"-156.8\" font-family=\"Helvetica,sans-Serif\" font-size=\"14.00\" fill=\"#000000\">entropy = 0.635</text>\n<text text-anchor=\"middle\" x=\"618.5\" y=\"-141.8\" font-family=\"Helvetica,sans-Serif\" font-size=\"14.00\" fill=\"#000000\">samples = 81</text>\n<text text-anchor=\"middle\" x=\"618.5\" y=\"-126.8\" font-family=\"Helvetica,sans-Serif\" font-size=\"14.00\" fill=\"#000000\">value = [68, 13]</text>\n<text text-anchor=\"middle\" x=\"618.5\" y=\"-111.8\" font-family=\"Helvetica,sans-Serif\" font-size=\"14.00\" fill=\"#000000\">class = 0</text>\n</g>\n<!-- 19&#45;&gt;20 -->\n<g id=\"edge20\" class=\"edge\">\n<title>19&#45;&gt;20</title>\n<path fill=\"none\" stroke=\"#000000\" d=\"M703.0323,-222.8796C692.8983,-213.6031 682.066,-203.6874 671.6535,-194.1559\"/>\n<polygon fill=\"#000000\" stroke=\"#000000\" points=\"673.9013,-191.4685 664.1618,-187.2981 669.1748,-196.6319 673.9013,-191.4685\"/>\n</g>\n<!-- 23 -->\n<g id=\"node24\" class=\"node\">\n<title>23</title>\n<path fill=\"#399de5\" stroke=\"#000000\" d=\"M787,-179.5C787,-179.5 710,-179.5 710,-179.5 704,-179.5 698,-173.5 698,-167.5 698,-167.5 698,-123.5 698,-123.5 698,-117.5 704,-111.5 710,-111.5 710,-111.5 787,-111.5 787,-111.5 793,-111.5 799,-117.5 799,-123.5 799,-123.5 799,-167.5 799,-167.5 799,-173.5 793,-179.5 787,-179.5\"/>\n<text text-anchor=\"middle\" x=\"748.5\" y=\"-164.3\" font-family=\"Helvetica,sans-Serif\" font-size=\"14.00\" fill=\"#000000\">entropy = 0.0</text>\n<text text-anchor=\"middle\" x=\"748.5\" y=\"-149.3\" font-family=\"Helvetica,sans-Serif\" font-size=\"14.00\" fill=\"#000000\">samples = 5</text>\n<text text-anchor=\"middle\" x=\"748.5\" y=\"-134.3\" font-family=\"Helvetica,sans-Serif\" font-size=\"14.00\" fill=\"#000000\">value = [0, 5]</text>\n<text text-anchor=\"middle\" x=\"748.5\" y=\"-119.3\" font-family=\"Helvetica,sans-Serif\" font-size=\"14.00\" fill=\"#000000\">class = 1</text>\n</g>\n<!-- 19&#45;&gt;23 -->\n<g id=\"edge23\" class=\"edge\">\n<title>19&#45;&gt;23</title>\n<path fill=\"none\" stroke=\"#000000\" d=\"M748.5,-222.8796C748.5,-212.2134 748.5,-200.7021 748.5,-189.9015\"/>\n<polygon fill=\"#000000\" stroke=\"#000000\" points=\"752.0001,-189.8149 748.5,-179.8149 745.0001,-189.815 752.0001,-189.8149\"/>\n</g>\n<!-- 21 -->\n<g id=\"node22\" class=\"node\">\n<title>21</title>\n<path fill=\"#eb9e67\" stroke=\"#000000\" d=\"M664.5,-68C664.5,-68 570.5,-68 570.5,-68 564.5,-68 558.5,-62 558.5,-56 558.5,-56 558.5,-12 558.5,-12 558.5,-6 564.5,0 570.5,0 570.5,0 664.5,0 664.5,0 670.5,0 676.5,-6 676.5,-12 676.5,-12 676.5,-56 676.5,-56 676.5,-62 670.5,-68 664.5,-68\"/>\n<text text-anchor=\"middle\" x=\"617.5\" y=\"-52.8\" font-family=\"Helvetica,sans-Serif\" font-size=\"14.00\" fill=\"#000000\">entropy = 0.698</text>\n<text text-anchor=\"middle\" x=\"617.5\" y=\"-37.8\" font-family=\"Helvetica,sans-Serif\" font-size=\"14.00\" fill=\"#000000\">samples = 69</text>\n<text text-anchor=\"middle\" x=\"617.5\" y=\"-22.8\" font-family=\"Helvetica,sans-Serif\" font-size=\"14.00\" fill=\"#000000\">value = [56, 13]</text>\n<text text-anchor=\"middle\" x=\"617.5\" y=\"-7.8\" font-family=\"Helvetica,sans-Serif\" font-size=\"14.00\" fill=\"#000000\">class = 0</text>\n</g>\n<!-- 20&#45;&gt;21 -->\n<g id=\"edge21\" class=\"edge\">\n<title>20&#45;&gt;21</title>\n<path fill=\"none\" stroke=\"#000000\" d=\"M618.1276,-103.9815C618.0526,-95.618 617.9735,-86.7965 617.8977,-78.3409\"/>\n<polygon fill=\"#000000\" stroke=\"#000000\" points=\"621.3969,-78.2318 617.8073,-68.2637 614.3972,-78.2947 621.3969,-78.2318\"/>\n</g>\n<!-- 22 -->\n<g id=\"node23\" class=\"node\">\n<title>22</title>\n<path fill=\"#e58139\" stroke=\"#000000\" d=\"M790,-68C790,-68 707,-68 707,-68 701,-68 695,-62 695,-56 695,-56 695,-12 695,-12 695,-6 701,0 707,0 707,0 790,0 790,0 796,0 802,-6 802,-12 802,-12 802,-56 802,-56 802,-62 796,-68 790,-68\"/>\n<text text-anchor=\"middle\" x=\"748.5\" y=\"-52.8\" font-family=\"Helvetica,sans-Serif\" font-size=\"14.00\" fill=\"#000000\">entropy = 0.0</text>\n<text text-anchor=\"middle\" x=\"748.5\" y=\"-37.8\" font-family=\"Helvetica,sans-Serif\" font-size=\"14.00\" fill=\"#000000\">samples = 12</text>\n<text text-anchor=\"middle\" x=\"748.5\" y=\"-22.8\" font-family=\"Helvetica,sans-Serif\" font-size=\"14.00\" fill=\"#000000\">value = [12, 0]</text>\n<text text-anchor=\"middle\" x=\"748.5\" y=\"-7.8\" font-family=\"Helvetica,sans-Serif\" font-size=\"14.00\" fill=\"#000000\">class = 0</text>\n</g>\n<!-- 20&#45;&gt;22 -->\n<g id=\"edge22\" class=\"edge\">\n<title>20&#45;&gt;22</title>\n<path fill=\"none\" stroke=\"#000000\" d=\"M666.9072,-103.9815C677.9442,-94.5151 689.6653,-84.462 700.6777,-75.0168\"/>\n<polygon fill=\"#000000\" stroke=\"#000000\" points=\"703.2394,-77.4307 708.5513,-68.2637 698.6822,-72.1173 703.2394,-77.4307\"/>\n</g>\n<!-- 25 -->\n<g id=\"node26\" class=\"node\">\n<title>25</title>\n<path fill=\"#e99254\" stroke=\"#000000\" d=\"M958,-187C958,-187 829,-187 829,-187 823,-187 817,-181 817,-175 817,-175 817,-116 817,-116 817,-110 823,-104 829,-104 829,-104 958,-104 958,-104 964,-104 970,-110 970,-116 970,-116 970,-175 970,-175 970,-181 964,-187 958,-187\"/>\n<text text-anchor=\"middle\" x=\"893.5\" y=\"-171.8\" font-family=\"Helvetica,sans-Serif\" font-size=\"14.00\" fill=\"#000000\">totalcharges &lt;= &#45;0.85</text>\n<text text-anchor=\"middle\" x=\"893.5\" y=\"-156.8\" font-family=\"Helvetica,sans-Serif\" font-size=\"14.00\" fill=\"#000000\">entropy = 0.529</text>\n<text text-anchor=\"middle\" x=\"893.5\" y=\"-141.8\" font-family=\"Helvetica,sans-Serif\" font-size=\"14.00\" fill=\"#000000\">samples = 125</text>\n<text text-anchor=\"middle\" x=\"893.5\" y=\"-126.8\" font-family=\"Helvetica,sans-Serif\" font-size=\"14.00\" fill=\"#000000\">value = [110, 15]</text>\n<text text-anchor=\"middle\" x=\"893.5\" y=\"-111.8\" font-family=\"Helvetica,sans-Serif\" font-size=\"14.00\" fill=\"#000000\">class = 0</text>\n</g>\n<!-- 24&#45;&gt;25 -->\n<g id=\"edge25\" class=\"edge\">\n<title>24&#45;&gt;25</title>\n<path fill=\"none\" stroke=\"#000000\" d=\"M975.4313,-222.8796C965.7045,-213.6931 955.3139,-203.8798 945.3121,-194.4336\"/>\n<polygon fill=\"#000000\" stroke=\"#000000\" points=\"947.4301,-191.6198 937.7568,-187.2981 942.6237,-196.7089 947.4301,-191.6198\"/>\n</g>\n<!-- 28 -->\n<g id=\"node29\" class=\"node\">\n<title>28</title>\n<path fill=\"#e58139\" stroke=\"#000000\" d=\"M1083,-179.5C1083,-179.5 1000,-179.5 1000,-179.5 994,-179.5 988,-173.5 988,-167.5 988,-167.5 988,-123.5 988,-123.5 988,-117.5 994,-111.5 1000,-111.5 1000,-111.5 1083,-111.5 1083,-111.5 1089,-111.5 1095,-117.5 1095,-123.5 1095,-123.5 1095,-167.5 1095,-167.5 1095,-173.5 1089,-179.5 1083,-179.5\"/>\n<text text-anchor=\"middle\" x=\"1041.5\" y=\"-164.3\" font-family=\"Helvetica,sans-Serif\" font-size=\"14.00\" fill=\"#000000\">entropy = 0.0</text>\n<text text-anchor=\"middle\" x=\"1041.5\" y=\"-149.3\" font-family=\"Helvetica,sans-Serif\" font-size=\"14.00\" fill=\"#000000\">samples = 47</text>\n<text text-anchor=\"middle\" x=\"1041.5\" y=\"-134.3\" font-family=\"Helvetica,sans-Serif\" font-size=\"14.00\" fill=\"#000000\">value = [47, 0]</text>\n<text text-anchor=\"middle\" x=\"1041.5\" y=\"-119.3\" font-family=\"Helvetica,sans-Serif\" font-size=\"14.00\" fill=\"#000000\">class = 0</text>\n</g>\n<!-- 24&#45;&gt;28 -->\n<g id=\"edge28\" class=\"edge\">\n<title>24&#45;&gt;28</title>\n<path fill=\"none\" stroke=\"#000000\" d=\"M1027.1945,-222.8796C1029.1664,-212.2134 1031.2946,-200.7021 1033.2913,-189.9015\"/>\n<polygon fill=\"#000000\" stroke=\"#000000\" points=\"1036.7797,-190.2846 1035.1561,-179.8149 1029.8964,-189.012 1036.7797,-190.2846\"/>\n</g>\n<!-- 26 -->\n<g id=\"node27\" class=\"node\">\n<title>26</title>\n<path fill=\"#e78c4a\" stroke=\"#000000\" d=\"M933.5,-68C933.5,-68 839.5,-68 839.5,-68 833.5,-68 827.5,-62 827.5,-56 827.5,-56 827.5,-12 827.5,-12 827.5,-6 833.5,0 839.5,0 839.5,0 933.5,0 933.5,0 939.5,0 945.5,-6 945.5,-12 945.5,-12 945.5,-56 945.5,-56 945.5,-62 939.5,-68 933.5,-68\"/>\n<text text-anchor=\"middle\" x=\"886.5\" y=\"-52.8\" font-family=\"Helvetica,sans-Serif\" font-size=\"14.00\" fill=\"#000000\">entropy = 0.405</text>\n<text text-anchor=\"middle\" x=\"886.5\" y=\"-37.8\" font-family=\"Helvetica,sans-Serif\" font-size=\"14.00\" fill=\"#000000\">samples = 99</text>\n<text text-anchor=\"middle\" x=\"886.5\" y=\"-22.8\" font-family=\"Helvetica,sans-Serif\" font-size=\"14.00\" fill=\"#000000\">value = [91, 8]</text>\n<text text-anchor=\"middle\" x=\"886.5\" y=\"-7.8\" font-family=\"Helvetica,sans-Serif\" font-size=\"14.00\" fill=\"#000000\">class = 0</text>\n</g>\n<!-- 25&#45;&gt;26 -->\n<g id=\"edge26\" class=\"edge\">\n<title>25&#45;&gt;26</title>\n<path fill=\"none\" stroke=\"#000000\" d=\"M890.8935,-103.9815C890.3684,-95.618 889.8146,-86.7965 889.2837,-78.3409\"/>\n<polygon fill=\"#000000\" stroke=\"#000000\" points=\"892.7709,-78.0247 888.6511,-68.2637 885.7846,-78.4634 892.7709,-78.0247\"/>\n</g>\n<!-- 27 -->\n<g id=\"node28\" class=\"node\">\n<title>27</title>\n<path fill=\"#efaf82\" stroke=\"#000000\" d=\"M1061.5,-68C1061.5,-68 975.5,-68 975.5,-68 969.5,-68 963.5,-62 963.5,-56 963.5,-56 963.5,-12 963.5,-12 963.5,-6 969.5,0 975.5,0 975.5,0 1061.5,0 1061.5,0 1067.5,0 1073.5,-6 1073.5,-12 1073.5,-12 1073.5,-56 1073.5,-56 1073.5,-62 1067.5,-68 1061.5,-68\"/>\n<text text-anchor=\"middle\" x=\"1018.5\" y=\"-52.8\" font-family=\"Helvetica,sans-Serif\" font-size=\"14.00\" fill=\"#000000\">entropy = 0.84</text>\n<text text-anchor=\"middle\" x=\"1018.5\" y=\"-37.8\" font-family=\"Helvetica,sans-Serif\" font-size=\"14.00\" fill=\"#000000\">samples = 26</text>\n<text text-anchor=\"middle\" x=\"1018.5\" y=\"-22.8\" font-family=\"Helvetica,sans-Serif\" font-size=\"14.00\" fill=\"#000000\">value = [19, 7]</text>\n<text text-anchor=\"middle\" x=\"1018.5\" y=\"-7.8\" font-family=\"Helvetica,sans-Serif\" font-size=\"14.00\" fill=\"#000000\">class = 0</text>\n</g>\n<!-- 25&#45;&gt;27 -->\n<g id=\"edge27\" class=\"edge\">\n<title>25&#45;&gt;27</title>\n<path fill=\"none\" stroke=\"#000000\" d=\"M940.0454,-103.9815C950.6579,-94.5151 961.9282,-84.462 972.5171,-75.0168\"/>\n<polygon fill=\"#000000\" stroke=\"#000000\" points=\"974.9551,-77.5322 980.0878,-68.2637 970.2954,-72.3084 974.9551,-77.5322\"/>\n</g>\n<!-- 30 -->\n<g id=\"node31\" class=\"node\">\n<title>30</title>\n<path fill=\"#cde6f8\" stroke=\"#000000\" d=\"M1356,-306C1356,-306 1213,-306 1213,-306 1207,-306 1201,-300 1201,-294 1201,-294 1201,-235 1201,-235 1201,-229 1207,-223 1213,-223 1213,-223 1356,-223 1356,-223 1362,-223 1368,-229 1368,-235 1368,-235 1368,-294 1368,-294 1368,-300 1362,-306 1356,-306\"/>\n<text text-anchor=\"middle\" x=\"1284.5\" y=\"-290.8\" font-family=\"Helvetica,sans-Serif\" font-size=\"14.00\" fill=\"#000000\">onlinesecurity &lt;= 0.941</text>\n<text text-anchor=\"middle\" x=\"1284.5\" y=\"-275.8\" font-family=\"Helvetica,sans-Serif\" font-size=\"14.00\" fill=\"#000000\">entropy = 0.985</text>\n<text text-anchor=\"middle\" x=\"1284.5\" y=\"-260.8\" font-family=\"Helvetica,sans-Serif\" font-size=\"14.00\" fill=\"#000000\">samples = 187</text>\n<text text-anchor=\"middle\" x=\"1284.5\" y=\"-245.8\" font-family=\"Helvetica,sans-Serif\" font-size=\"14.00\" fill=\"#000000\">value = [80, 107]</text>\n<text text-anchor=\"middle\" x=\"1284.5\" y=\"-230.8\" font-family=\"Helvetica,sans-Serif\" font-size=\"14.00\" fill=\"#000000\">class = 1</text>\n</g>\n<!-- 29&#45;&gt;30 -->\n<g id=\"edge30\" class=\"edge\">\n<title>29&#45;&gt;30</title>\n<path fill=\"none\" stroke=\"#000000\" d=\"M1284.5,-341.8796C1284.5,-333.6838 1284.5,-324.9891 1284.5,-316.5013\"/>\n<polygon fill=\"#000000\" stroke=\"#000000\" points=\"1288.0001,-316.298 1284.5,-306.2981 1281.0001,-316.2981 1288.0001,-316.298\"/>\n</g>\n<!-- 35 -->\n<g id=\"node36\" class=\"node\">\n<title>35</title>\n<path fill=\"#eda978\" stroke=\"#000000\" d=\"M1617.5,-306C1617.5,-306 1517.5,-306 1517.5,-306 1511.5,-306 1505.5,-300 1505.5,-294 1505.5,-294 1505.5,-235 1505.5,-235 1505.5,-229 1511.5,-223 1517.5,-223 1517.5,-223 1617.5,-223 1617.5,-223 1623.5,-223 1629.5,-229 1629.5,-235 1629.5,-235 1629.5,-294 1629.5,-294 1629.5,-300 1623.5,-306 1617.5,-306\"/>\n<text text-anchor=\"middle\" x=\"1567.5\" y=\"-290.8\" font-family=\"Helvetica,sans-Serif\" font-size=\"14.00\" fill=\"#000000\">tenure &lt;= &#45;0.649</text>\n<text text-anchor=\"middle\" x=\"1567.5\" y=\"-275.8\" font-family=\"Helvetica,sans-Serif\" font-size=\"14.00\" fill=\"#000000\">entropy = 0.798</text>\n<text text-anchor=\"middle\" x=\"1567.5\" y=\"-260.8\" font-family=\"Helvetica,sans-Serif\" font-size=\"14.00\" fill=\"#000000\">samples = 149</text>\n<text text-anchor=\"middle\" x=\"1567.5\" y=\"-245.8\" font-family=\"Helvetica,sans-Serif\" font-size=\"14.00\" fill=\"#000000\">value = [113, 36]</text>\n<text text-anchor=\"middle\" x=\"1567.5\" y=\"-230.8\" font-family=\"Helvetica,sans-Serif\" font-size=\"14.00\" fill=\"#000000\">class = 0</text>\n</g>\n<!-- 29&#45;&gt;35 -->\n<g id=\"edge35\" class=\"edge\">\n<title>29&#45;&gt;35</title>\n<path fill=\"none\" stroke=\"#000000\" d=\"M1365.2177,-349.5586C1406.3571,-332.2597 1455.9598,-311.4021 1495.7497,-294.6706\"/>\n<polygon fill=\"#000000\" stroke=\"#000000\" points=\"1497.2593,-297.8328 1505.1208,-290.7301 1494.5459,-291.38 1497.2593,-297.8328\"/>\n</g>\n<!-- 31 -->\n<g id=\"node32\" class=\"node\">\n<title>31</title>\n<path fill=\"#a5d3f3\" stroke=\"#000000\" d=\"M1224,-187C1224,-187 1125,-187 1125,-187 1119,-187 1113,-181 1113,-175 1113,-175 1113,-116 1113,-116 1113,-110 1119,-104 1125,-104 1125,-104 1224,-104 1224,-104 1230,-104 1236,-110 1236,-116 1236,-116 1236,-175 1236,-175 1236,-181 1230,-187 1224,-187\"/>\n<text text-anchor=\"middle\" x=\"1174.5\" y=\"-171.8\" font-family=\"Helvetica,sans-Serif\" font-size=\"14.00\" fill=\"#000000\">tenure &lt;= &#45;0.767</text>\n<text text-anchor=\"middle\" x=\"1174.5\" y=\"-156.8\" font-family=\"Helvetica,sans-Serif\" font-size=\"14.00\" fill=\"#000000\">entropy = 0.937</text>\n<text text-anchor=\"middle\" x=\"1174.5\" y=\"-141.8\" font-family=\"Helvetica,sans-Serif\" font-size=\"14.00\" fill=\"#000000\">samples = 147</text>\n<text text-anchor=\"middle\" x=\"1174.5\" y=\"-126.8\" font-family=\"Helvetica,sans-Serif\" font-size=\"14.00\" fill=\"#000000\">value = [52, 95]</text>\n<text text-anchor=\"middle\" x=\"1174.5\" y=\"-111.8\" font-family=\"Helvetica,sans-Serif\" font-size=\"14.00\" fill=\"#000000\">class = 1</text>\n</g>\n<!-- 30&#45;&gt;31 -->\n<g id=\"edge31\" class=\"edge\">\n<title>30&#45;&gt;31</title>\n<path fill=\"none\" stroke=\"#000000\" d=\"M1246.0273,-222.8796C1237.6189,-213.7832 1228.6424,-204.0722 1219.9897,-194.7116\"/>\n<polygon fill=\"#000000\" stroke=\"#000000\" points=\"1222.495,-192.2656 1213.1369,-187.2981 1217.3547,-197.0172 1222.495,-192.2656\"/>\n</g>\n<!-- 34 -->\n<g id=\"node35\" class=\"node\">\n<title>34</title>\n<path fill=\"#f0b78e\" stroke=\"#000000\" d=\"M1360.5,-179.5C1360.5,-179.5 1266.5,-179.5 1266.5,-179.5 1260.5,-179.5 1254.5,-173.5 1254.5,-167.5 1254.5,-167.5 1254.5,-123.5 1254.5,-123.5 1254.5,-117.5 1260.5,-111.5 1266.5,-111.5 1266.5,-111.5 1360.5,-111.5 1360.5,-111.5 1366.5,-111.5 1372.5,-117.5 1372.5,-123.5 1372.5,-123.5 1372.5,-167.5 1372.5,-167.5 1372.5,-173.5 1366.5,-179.5 1360.5,-179.5\"/>\n<text text-anchor=\"middle\" x=\"1313.5\" y=\"-164.3\" font-family=\"Helvetica,sans-Serif\" font-size=\"14.00\" fill=\"#000000\">entropy = 0.881</text>\n<text text-anchor=\"middle\" x=\"1313.5\" y=\"-149.3\" font-family=\"Helvetica,sans-Serif\" font-size=\"14.00\" fill=\"#000000\">samples = 40</text>\n<text text-anchor=\"middle\" x=\"1313.5\" y=\"-134.3\" font-family=\"Helvetica,sans-Serif\" font-size=\"14.00\" fill=\"#000000\">value = [28, 12]</text>\n<text text-anchor=\"middle\" x=\"1313.5\" y=\"-119.3\" font-family=\"Helvetica,sans-Serif\" font-size=\"14.00\" fill=\"#000000\">class = 0</text>\n</g>\n<!-- 30&#45;&gt;34 -->\n<g id=\"edge34\" class=\"edge\">\n<title>30&#45;&gt;34</title>\n<path fill=\"none\" stroke=\"#000000\" d=\"M1294.6428,-222.8796C1297.2689,-212.1034 1300.1052,-200.4647 1302.7608,-189.5677\"/>\n<polygon fill=\"#000000\" stroke=\"#000000\" points=\"1306.1703,-190.3593 1305.1375,-179.8149 1299.3693,-188.7019 1306.1703,-190.3593\"/>\n</g>\n<!-- 32 -->\n<g id=\"node33\" class=\"node\">\n<title>32</title>\n<path fill=\"#b7dbf5\" stroke=\"#000000\" d=\"M1205.5,-68C1205.5,-68 1111.5,-68 1111.5,-68 1105.5,-68 1099.5,-62 1099.5,-56 1099.5,-56 1099.5,-12 1099.5,-12 1099.5,-6 1105.5,0 1111.5,0 1111.5,0 1205.5,0 1205.5,0 1211.5,0 1217.5,-6 1217.5,-12 1217.5,-12 1217.5,-56 1217.5,-56 1217.5,-62 1211.5,-68 1205.5,-68\"/>\n<text text-anchor=\"middle\" x=\"1158.5\" y=\"-52.8\" font-family=\"Helvetica,sans-Serif\" font-size=\"14.00\" fill=\"#000000\">entropy = 0.964</text>\n<text text-anchor=\"middle\" x=\"1158.5\" y=\"-37.8\" font-family=\"Helvetica,sans-Serif\" font-size=\"14.00\" fill=\"#000000\">samples = 134</text>\n<text text-anchor=\"middle\" x=\"1158.5\" y=\"-22.8\" font-family=\"Helvetica,sans-Serif\" font-size=\"14.00\" fill=\"#000000\">value = [52, 82]</text>\n<text text-anchor=\"middle\" x=\"1158.5\" y=\"-7.8\" font-family=\"Helvetica,sans-Serif\" font-size=\"14.00\" fill=\"#000000\">class = 1</text>\n</g>\n<!-- 31&#45;&gt;32 -->\n<g id=\"edge32\" class=\"edge\">\n<title>31&#45;&gt;32</title>\n<path fill=\"none\" stroke=\"#000000\" d=\"M1168.5422,-103.9815C1167.342,-95.618 1166.0762,-86.7965 1164.8628,-78.3409\"/>\n<polygon fill=\"#000000\" stroke=\"#000000\" points=\"1168.3018,-77.6651 1163.4168,-68.2637 1161.3728,-78.6595 1168.3018,-77.6651\"/>\n</g>\n<!-- 33 -->\n<g id=\"node34\" class=\"node\">\n<title>33</title>\n<path fill=\"#399de5\" stroke=\"#000000\" d=\"M1331,-68C1331,-68 1248,-68 1248,-68 1242,-68 1236,-62 1236,-56 1236,-56 1236,-12 1236,-12 1236,-6 1242,0 1248,0 1248,0 1331,0 1331,0 1337,0 1343,-6 1343,-12 1343,-12 1343,-56 1343,-56 1343,-62 1337,-68 1331,-68\"/>\n<text text-anchor=\"middle\" x=\"1289.5\" y=\"-52.8\" font-family=\"Helvetica,sans-Serif\" font-size=\"14.00\" fill=\"#000000\">entropy = 0.0</text>\n<text text-anchor=\"middle\" x=\"1289.5\" y=\"-37.8\" font-family=\"Helvetica,sans-Serif\" font-size=\"14.00\" fill=\"#000000\">samples = 13</text>\n<text text-anchor=\"middle\" x=\"1289.5\" y=\"-22.8\" font-family=\"Helvetica,sans-Serif\" font-size=\"14.00\" fill=\"#000000\">value = [0, 13]</text>\n<text text-anchor=\"middle\" x=\"1289.5\" y=\"-7.8\" font-family=\"Helvetica,sans-Serif\" font-size=\"14.00\" fill=\"#000000\">class = 1</text>\n</g>\n<!-- 31&#45;&gt;33 -->\n<g id=\"edge33\" class=\"edge\">\n<title>31&#45;&gt;33</title>\n<path fill=\"none\" stroke=\"#000000\" d=\"M1217.3218,-103.9815C1226.9905,-94.607 1237.2527,-84.6572 1246.9118,-75.2921\"/>\n<polygon fill=\"#000000\" stroke=\"#000000\" points=\"1249.4176,-77.7375 1254.1608,-68.2637 1244.5449,-72.7118 1249.4176,-77.7375\"/>\n</g>\n<!-- 36 -->\n<g id=\"node37\" class=\"node\">\n<title>36</title>\n<path fill=\"#eca571\" stroke=\"#000000\" d=\"M1732,-187C1732,-187 1403,-187 1403,-187 1397,-187 1391,-181 1391,-175 1391,-175 1391,-116 1391,-116 1391,-110 1397,-104 1403,-104 1403,-104 1732,-104 1732,-104 1738,-104 1744,-110 1744,-116 1744,-116 1744,-175 1744,-175 1744,-181 1738,-187 1732,-187\"/>\n<text text-anchor=\"middle\" x=\"1567.5\" y=\"-171.8\" font-family=\"Helvetica,sans-Serif\" font-size=\"14.00\" fill=\"#000000\">paymentmethod_Bank transfer (automatic) &lt;= 0.812</text>\n<text text-anchor=\"middle\" x=\"1567.5\" y=\"-156.8\" font-family=\"Helvetica,sans-Serif\" font-size=\"14.00\" fill=\"#000000\">entropy = 0.761</text>\n<text text-anchor=\"middle\" x=\"1567.5\" y=\"-141.8\" font-family=\"Helvetica,sans-Serif\" font-size=\"14.00\" fill=\"#000000\">samples = 145</text>\n<text text-anchor=\"middle\" x=\"1567.5\" y=\"-126.8\" font-family=\"Helvetica,sans-Serif\" font-size=\"14.00\" fill=\"#000000\">value = [113, 32]</text>\n<text text-anchor=\"middle\" x=\"1567.5\" y=\"-111.8\" font-family=\"Helvetica,sans-Serif\" font-size=\"14.00\" fill=\"#000000\">class = 0</text>\n</g>\n<!-- 35&#45;&gt;36 -->\n<g id=\"edge36\" class=\"edge\">\n<title>35&#45;&gt;36</title>\n<path fill=\"none\" stroke=\"#000000\" d=\"M1567.5,-222.8796C1567.5,-214.6838 1567.5,-205.9891 1567.5,-197.5013\"/>\n<polygon fill=\"#000000\" stroke=\"#000000\" points=\"1571.0001,-197.298 1567.5,-187.2981 1564.0001,-197.2981 1571.0001,-197.298\"/>\n</g>\n<!-- 39 -->\n<g id=\"node40\" class=\"node\">\n<title>39</title>\n<path fill=\"#399de5\" stroke=\"#000000\" d=\"M1851,-179.5C1851,-179.5 1774,-179.5 1774,-179.5 1768,-179.5 1762,-173.5 1762,-167.5 1762,-167.5 1762,-123.5 1762,-123.5 1762,-117.5 1768,-111.5 1774,-111.5 1774,-111.5 1851,-111.5 1851,-111.5 1857,-111.5 1863,-117.5 1863,-123.5 1863,-123.5 1863,-167.5 1863,-167.5 1863,-173.5 1857,-179.5 1851,-179.5\"/>\n<text text-anchor=\"middle\" x=\"1812.5\" y=\"-164.3\" font-family=\"Helvetica,sans-Serif\" font-size=\"14.00\" fill=\"#000000\">entropy = 0.0</text>\n<text text-anchor=\"middle\" x=\"1812.5\" y=\"-149.3\" font-family=\"Helvetica,sans-Serif\" font-size=\"14.00\" fill=\"#000000\">samples = 4</text>\n<text text-anchor=\"middle\" x=\"1812.5\" y=\"-134.3\" font-family=\"Helvetica,sans-Serif\" font-size=\"14.00\" fill=\"#000000\">value = [0, 4]</text>\n<text text-anchor=\"middle\" x=\"1812.5\" y=\"-119.3\" font-family=\"Helvetica,sans-Serif\" font-size=\"14.00\" fill=\"#000000\">class = 1</text>\n</g>\n<!-- 35&#45;&gt;39 -->\n<g id=\"edge39\" class=\"edge\">\n<title>35&#45;&gt;39</title>\n<path fill=\"none\" stroke=\"#000000\" d=\"M1629.8243,-242.1314C1666.4301,-228.0825 1713.0978,-208.5721 1752.5,-187 1753.8193,-186.2777 1755.1452,-185.5332 1756.4745,-184.7699\"/>\n<polygon fill=\"#000000\" stroke=\"#000000\" points=\"1758.4834,-187.6463 1765.2577,-179.5001 1754.8819,-181.6438 1758.4834,-187.6463\"/>\n</g>\n<!-- 37 -->\n<g id=\"node38\" class=\"node\">\n<title>37</title>\n<path fill=\"#efb185\" stroke=\"#000000\" d=\"M1546.5,-68C1546.5,-68 1454.5,-68 1454.5,-68 1448.5,-68 1442.5,-62 1442.5,-56 1442.5,-56 1442.5,-12 1442.5,-12 1442.5,-6 1448.5,0 1454.5,0 1454.5,0 1546.5,0 1546.5,0 1552.5,0 1558.5,-6 1558.5,-12 1558.5,-12 1558.5,-56 1558.5,-56 1558.5,-62 1552.5,-68 1546.5,-68\"/>\n<text text-anchor=\"middle\" x=\"1500.5\" y=\"-52.8\" font-family=\"Helvetica,sans-Serif\" font-size=\"14.00\" fill=\"#000000\">entropy = 0.85</text>\n<text text-anchor=\"middle\" x=\"1500.5\" y=\"-37.8\" font-family=\"Helvetica,sans-Serif\" font-size=\"14.00\" fill=\"#000000\">samples = 105</text>\n<text text-anchor=\"middle\" x=\"1500.5\" y=\"-22.8\" font-family=\"Helvetica,sans-Serif\" font-size=\"14.00\" fill=\"#000000\">value = [76, 29]</text>\n<text text-anchor=\"middle\" x=\"1500.5\" y=\"-7.8\" font-family=\"Helvetica,sans-Serif\" font-size=\"14.00\" fill=\"#000000\">class = 0</text>\n</g>\n<!-- 36&#45;&gt;37 -->\n<g id=\"edge37\" class=\"edge\">\n<title>36&#45;&gt;37</title>\n<path fill=\"none\" stroke=\"#000000\" d=\"M1542.5517,-103.9815C1537.2499,-95.1585 1531.6419,-85.8258 1526.3089,-76.9506\"/>\n<polygon fill=\"#000000\" stroke=\"#000000\" points=\"1529.2396,-75.0325 1521.0889,-68.2637 1523.2395,-78.638 1529.2396,-75.0325\"/>\n</g>\n<!-- 38 -->\n<g id=\"node39\" class=\"node\">\n<title>38</title>\n<path fill=\"#e78b49\" stroke=\"#000000\" d=\"M1682.5,-68C1682.5,-68 1588.5,-68 1588.5,-68 1582.5,-68 1576.5,-62 1576.5,-56 1576.5,-56 1576.5,-12 1576.5,-12 1576.5,-6 1582.5,0 1588.5,0 1588.5,0 1682.5,0 1682.5,0 1688.5,0 1694.5,-6 1694.5,-12 1694.5,-12 1694.5,-56 1694.5,-56 1694.5,-62 1688.5,-68 1682.5,-68\"/>\n<text text-anchor=\"middle\" x=\"1635.5\" y=\"-52.8\" font-family=\"Helvetica,sans-Serif\" font-size=\"14.00\" fill=\"#000000\">entropy = 0.384</text>\n<text text-anchor=\"middle\" x=\"1635.5\" y=\"-37.8\" font-family=\"Helvetica,sans-Serif\" font-size=\"14.00\" fill=\"#000000\">samples = 40</text>\n<text text-anchor=\"middle\" x=\"1635.5\" y=\"-22.8\" font-family=\"Helvetica,sans-Serif\" font-size=\"14.00\" fill=\"#000000\">value = [37, 3]</text>\n<text text-anchor=\"middle\" x=\"1635.5\" y=\"-7.8\" font-family=\"Helvetica,sans-Serif\" font-size=\"14.00\" fill=\"#000000\">class = 0</text>\n</g>\n<!-- 36&#45;&gt;38 -->\n<g id=\"edge38\" class=\"edge\">\n<title>36&#45;&gt;38</title>\n<path fill=\"none\" stroke=\"#000000\" d=\"M1592.8207,-103.9815C1598.2016,-95.1585 1603.8932,-85.8258 1609.3059,-76.9506\"/>\n<polygon fill=\"#000000\" stroke=\"#000000\" points=\"1612.3851,-78.6236 1614.6038,-68.2637 1606.4088,-74.9789 1612.3851,-78.6236\"/>\n</g>\n<!-- 41 -->\n<g id=\"node42\" class=\"node\">\n<title>41</title>\n<path fill=\"#92c9f1\" stroke=\"#000000\" d=\"M2356.5,-544C2356.5,-544 2256.5,-544 2256.5,-544 2250.5,-544 2244.5,-538 2244.5,-532 2244.5,-532 2244.5,-473 2244.5,-473 2244.5,-467 2250.5,-461 2256.5,-461 2256.5,-461 2356.5,-461 2356.5,-461 2362.5,-461 2368.5,-467 2368.5,-473 2368.5,-473 2368.5,-532 2368.5,-532 2368.5,-538 2362.5,-544 2356.5,-544\"/>\n<text text-anchor=\"middle\" x=\"2306.5\" y=\"-528.8\" font-family=\"Helvetica,sans-Serif\" font-size=\"14.00\" fill=\"#000000\">tenure &lt;= &#45;1.09</text>\n<text text-anchor=\"middle\" x=\"2306.5\" y=\"-513.8\" font-family=\"Helvetica,sans-Serif\" font-size=\"14.00\" fill=\"#000000\">entropy = 0.893</text>\n<text text-anchor=\"middle\" x=\"2306.5\" y=\"-498.8\" font-family=\"Helvetica,sans-Serif\" font-size=\"14.00\" fill=\"#000000\">samples = 200</text>\n<text text-anchor=\"middle\" x=\"2306.5\" y=\"-483.8\" font-family=\"Helvetica,sans-Serif\" font-size=\"14.00\" fill=\"#000000\">value = [62, 138]</text>\n<text text-anchor=\"middle\" x=\"2306.5\" y=\"-468.8\" font-family=\"Helvetica,sans-Serif\" font-size=\"14.00\" fill=\"#000000\">class = 1</text>\n</g>\n<!-- 40&#45;&gt;41 -->\n<g id=\"edge41\" class=\"edge\">\n<title>40&#45;&gt;41</title>\n<path fill=\"none\" stroke=\"#000000\" d=\"M2390.3821,-579.8796C2380.326,-570.6031 2369.577,-560.6874 2359.2446,-551.1559\"/>\n<polygon fill=\"#000000\" stroke=\"#000000\" points=\"2361.5339,-548.506 2351.8105,-544.2981 2356.7876,-553.6511 2361.5339,-548.506\"/>\n</g>\n<!-- 54 -->\n<g id=\"node55\" class=\"node\">\n<title>54</title>\n<path fill=\"#54aae8\" stroke=\"#000000\" d=\"M2728,-544C2728,-544 2399,-544 2399,-544 2393,-544 2387,-538 2387,-532 2387,-532 2387,-473 2387,-473 2387,-467 2393,-461 2399,-461 2399,-461 2728,-461 2728,-461 2734,-461 2740,-467 2740,-473 2740,-473 2740,-532 2740,-532 2740,-538 2734,-544 2728,-544\"/>\n<text text-anchor=\"middle\" x=\"2563.5\" y=\"-528.8\" font-family=\"Helvetica,sans-Serif\" font-size=\"14.00\" fill=\"#000000\">paymentmethod_Bank transfer (automatic) &lt;= 0.983</text>\n<text text-anchor=\"middle\" x=\"2563.5\" y=\"-513.8\" font-family=\"Helvetica,sans-Serif\" font-size=\"14.00\" fill=\"#000000\">entropy = 0.524</text>\n<text text-anchor=\"middle\" x=\"2563.5\" y=\"-498.8\" font-family=\"Helvetica,sans-Serif\" font-size=\"14.00\" fill=\"#000000\">samples = 127</text>\n<text text-anchor=\"middle\" x=\"2563.5\" y=\"-483.8\" font-family=\"Helvetica,sans-Serif\" font-size=\"14.00\" fill=\"#000000\">value = [15, 112]</text>\n<text text-anchor=\"middle\" x=\"2563.5\" y=\"-468.8\" font-family=\"Helvetica,sans-Serif\" font-size=\"14.00\" fill=\"#000000\">class = 1</text>\n</g>\n<!-- 40&#45;&gt;54 -->\n<g id=\"edge54\" class=\"edge\">\n<title>40&#45;&gt;54</title>\n<path fill=\"none\" stroke=\"#000000\" d=\"M2480.2682,-579.8796C2490.2463,-570.6031 2500.9119,-560.6874 2511.1642,-551.1559\"/>\n<polygon fill=\"#000000\" stroke=\"#000000\" points=\"2513.6,-553.6704 2518.5407,-544.2981 2508.8337,-548.5436 2513.6,-553.6704\"/>\n</g>\n<!-- 42 -->\n<g id=\"node43\" class=\"node\">\n<title>42</title>\n<path fill=\"#51a9e8\" stroke=\"#000000\" d=\"M2215,-425C2215,-425 2102,-425 2102,-425 2096,-425 2090,-419 2090,-413 2090,-413 2090,-354 2090,-354 2090,-348 2096,-342 2102,-342 2102,-342 2215,-342 2215,-342 2221,-342 2227,-348 2227,-354 2227,-354 2227,-413 2227,-413 2227,-419 2221,-425 2215,-425\"/>\n<text text-anchor=\"middle\" x=\"2158.5\" y=\"-409.8\" font-family=\"Helvetica,sans-Serif\" font-size=\"14.00\" fill=\"#000000\">techsupport &lt;= 0.5</text>\n<text text-anchor=\"middle\" x=\"2158.5\" y=\"-394.8\" font-family=\"Helvetica,sans-Serif\" font-size=\"14.00\" fill=\"#000000\">entropy = 0.498</text>\n<text text-anchor=\"middle\" x=\"2158.5\" y=\"-379.8\" font-family=\"Helvetica,sans-Serif\" font-size=\"14.00\" fill=\"#000000\">samples = 64</text>\n<text text-anchor=\"middle\" x=\"2158.5\" y=\"-364.8\" font-family=\"Helvetica,sans-Serif\" font-size=\"14.00\" fill=\"#000000\">value = [7, 57]</text>\n<text text-anchor=\"middle\" x=\"2158.5\" y=\"-349.8\" font-family=\"Helvetica,sans-Serif\" font-size=\"14.00\" fill=\"#000000\">class = 1</text>\n</g>\n<!-- 41&#45;&gt;42 -->\n<g id=\"edge42\" class=\"edge\">\n<title>41&#45;&gt;42</title>\n<path fill=\"none\" stroke=\"#000000\" d=\"M2254.7368,-460.8796C2242.9072,-451.368 2230.2419,-441.1843 2218.1129,-431.432\"/>\n<polygon fill=\"#000000\" stroke=\"#000000\" points=\"2220.2204,-428.6355 2210.234,-425.0969 2215.8341,-434.0908 2220.2204,-428.6355\"/>\n</g>\n<!-- 47 -->\n<g id=\"node48\" class=\"node\">\n<title>47</title>\n<path fill=\"#bfe0f7\" stroke=\"#000000\" d=\"M2382,-425C2382,-425 2257,-425 2257,-425 2251,-425 2245,-419 2245,-413 2245,-413 2245,-354 2245,-354 2245,-348 2251,-342 2257,-342 2257,-342 2382,-342 2382,-342 2388,-342 2394,-348 2394,-354 2394,-354 2394,-413 2394,-413 2394,-419 2388,-425 2382,-425\"/>\n<text text-anchor=\"middle\" x=\"2319.5\" y=\"-409.8\" font-family=\"Helvetica,sans-Serif\" font-size=\"14.00\" fill=\"#000000\">multiplelines &lt;= 0.03</text>\n<text text-anchor=\"middle\" x=\"2319.5\" y=\"-394.8\" font-family=\"Helvetica,sans-Serif\" font-size=\"14.00\" fill=\"#000000\">entropy = 0.973</text>\n<text text-anchor=\"middle\" x=\"2319.5\" y=\"-379.8\" font-family=\"Helvetica,sans-Serif\" font-size=\"14.00\" fill=\"#000000\">samples = 136</text>\n<text text-anchor=\"middle\" x=\"2319.5\" y=\"-364.8\" font-family=\"Helvetica,sans-Serif\" font-size=\"14.00\" fill=\"#000000\">value = [55, 81]</text>\n<text text-anchor=\"middle\" x=\"2319.5\" y=\"-349.8\" font-family=\"Helvetica,sans-Serif\" font-size=\"14.00\" fill=\"#000000\">class = 1</text>\n</g>\n<!-- 41&#45;&gt;47 -->\n<g id=\"edge47\" class=\"edge\">\n<title>41&#45;&gt;47</title>\n<path fill=\"none\" stroke=\"#000000\" d=\"M2311.0468,-460.8796C2311.9421,-452.6838 2312.8919,-443.9891 2313.8192,-435.5013\"/>\n<polygon fill=\"#000000\" stroke=\"#000000\" points=\"2317.3271,-435.6191 2314.9338,-425.2981 2310.3685,-434.8588 2317.3271,-435.6191\"/>\n</g>\n<!-- 43 -->\n<g id=\"node44\" class=\"node\">\n<title>43</title>\n<path fill=\"#4aa6e7\" stroke=\"#000000\" d=\"M2085,-306C2085,-306 1928,-306 1928,-306 1922,-306 1916,-300 1916,-294 1916,-294 1916,-235 1916,-235 1916,-229 1922,-223 1928,-223 1928,-223 2085,-223 2085,-223 2091,-223 2097,-229 2097,-235 2097,-235 2097,-294 2097,-294 2097,-300 2091,-306 2085,-306\"/>\n<text text-anchor=\"middle\" x=\"2006.5\" y=\"-290.8\" font-family=\"Helvetica,sans-Serif\" font-size=\"14.00\" fill=\"#000000\">monthlycharges &lt;= 0.096</text>\n<text text-anchor=\"middle\" x=\"2006.5\" y=\"-275.8\" font-family=\"Helvetica,sans-Serif\" font-size=\"14.00\" fill=\"#000000\">entropy = 0.404</text>\n<text text-anchor=\"middle\" x=\"2006.5\" y=\"-260.8\" font-family=\"Helvetica,sans-Serif\" font-size=\"14.00\" fill=\"#000000\">samples = 62</text>\n<text text-anchor=\"middle\" x=\"2006.5\" y=\"-245.8\" font-family=\"Helvetica,sans-Serif\" font-size=\"14.00\" fill=\"#000000\">value = [5, 57]</text>\n<text text-anchor=\"middle\" x=\"2006.5\" y=\"-230.8\" font-family=\"Helvetica,sans-Serif\" font-size=\"14.00\" fill=\"#000000\">class = 1</text>\n</g>\n<!-- 42&#45;&gt;43 -->\n<g id=\"edge43\" class=\"edge\">\n<title>42&#45;&gt;43</title>\n<path fill=\"none\" stroke=\"#000000\" d=\"M2105.3378,-341.8796C2093.1885,-332.368 2080.1808,-322.1843 2067.724,-312.432\"/>\n<polygon fill=\"#000000\" stroke=\"#000000\" points=\"2069.6638,-309.5055 2059.6322,-306.0969 2065.3486,-315.0173 2069.6638,-309.5055\"/>\n</g>\n<!-- 46 -->\n<g id=\"node47\" class=\"node\">\n<title>46</title>\n<path fill=\"#e58139\" stroke=\"#000000\" d=\"M2204,-298.5C2204,-298.5 2127,-298.5 2127,-298.5 2121,-298.5 2115,-292.5 2115,-286.5 2115,-286.5 2115,-242.5 2115,-242.5 2115,-236.5 2121,-230.5 2127,-230.5 2127,-230.5 2204,-230.5 2204,-230.5 2210,-230.5 2216,-236.5 2216,-242.5 2216,-242.5 2216,-286.5 2216,-286.5 2216,-292.5 2210,-298.5 2204,-298.5\"/>\n<text text-anchor=\"middle\" x=\"2165.5\" y=\"-283.3\" font-family=\"Helvetica,sans-Serif\" font-size=\"14.00\" fill=\"#000000\">entropy = 0.0</text>\n<text text-anchor=\"middle\" x=\"2165.5\" y=\"-268.3\" font-family=\"Helvetica,sans-Serif\" font-size=\"14.00\" fill=\"#000000\">samples = 2</text>\n<text text-anchor=\"middle\" x=\"2165.5\" y=\"-253.3\" font-family=\"Helvetica,sans-Serif\" font-size=\"14.00\" fill=\"#000000\">value = [2, 0]</text>\n<text text-anchor=\"middle\" x=\"2165.5\" y=\"-238.3\" font-family=\"Helvetica,sans-Serif\" font-size=\"14.00\" fill=\"#000000\">class = 0</text>\n</g>\n<!-- 42&#45;&gt;46 -->\n<g id=\"edge46\" class=\"edge\">\n<title>42&#45;&gt;46</title>\n<path fill=\"none\" stroke=\"#000000\" d=\"M2160.9483,-341.8796C2161.5757,-331.2134 2162.2528,-319.7021 2162.8881,-308.9015\"/>\n<polygon fill=\"#000000\" stroke=\"#000000\" points=\"2166.3881,-309.0032 2163.4815,-298.8149 2159.4002,-308.5921 2166.3881,-309.0032\"/>\n</g>\n<!-- 44 -->\n<g id=\"node45\" class=\"node\">\n<title>44</title>\n<path fill=\"#399de5\" stroke=\"#000000\" d=\"M1976,-179.5C1976,-179.5 1893,-179.5 1893,-179.5 1887,-179.5 1881,-173.5 1881,-167.5 1881,-167.5 1881,-123.5 1881,-123.5 1881,-117.5 1887,-111.5 1893,-111.5 1893,-111.5 1976,-111.5 1976,-111.5 1982,-111.5 1988,-117.5 1988,-123.5 1988,-123.5 1988,-167.5 1988,-167.5 1988,-173.5 1982,-179.5 1976,-179.5\"/>\n<text text-anchor=\"middle\" x=\"1934.5\" y=\"-164.3\" font-family=\"Helvetica,sans-Serif\" font-size=\"14.00\" fill=\"#000000\">entropy = 0.0</text>\n<text text-anchor=\"middle\" x=\"1934.5\" y=\"-149.3\" font-family=\"Helvetica,sans-Serif\" font-size=\"14.00\" fill=\"#000000\">samples = 18</text>\n<text text-anchor=\"middle\" x=\"1934.5\" y=\"-134.3\" font-family=\"Helvetica,sans-Serif\" font-size=\"14.00\" fill=\"#000000\">value = [0, 18]</text>\n<text text-anchor=\"middle\" x=\"1934.5\" y=\"-119.3\" font-family=\"Helvetica,sans-Serif\" font-size=\"14.00\" fill=\"#000000\">class = 1</text>\n</g>\n<!-- 43&#45;&gt;44 -->\n<g id=\"edge44\" class=\"edge\">\n<title>43&#45;&gt;44</title>\n<path fill=\"none\" stroke=\"#000000\" d=\"M1981.3179,-222.8796C1974.5983,-211.7735 1967.3243,-199.7513 1960.5586,-188.5691\"/>\n<polygon fill=\"#000000\" stroke=\"#000000\" points=\"1963.4332,-186.5589 1955.262,-179.8149 1957.4441,-190.1826 1963.4332,-186.5589\"/>\n</g>\n<!-- 45 -->\n<g id=\"node46\" class=\"node\">\n<title>45</title>\n<path fill=\"#52aae8\" stroke=\"#000000\" d=\"M2112.5,-179.5C2112.5,-179.5 2018.5,-179.5 2018.5,-179.5 2012.5,-179.5 2006.5,-173.5 2006.5,-167.5 2006.5,-167.5 2006.5,-123.5 2006.5,-123.5 2006.5,-117.5 2012.5,-111.5 2018.5,-111.5 2018.5,-111.5 2112.5,-111.5 2112.5,-111.5 2118.5,-111.5 2124.5,-117.5 2124.5,-123.5 2124.5,-123.5 2124.5,-167.5 2124.5,-167.5 2124.5,-173.5 2118.5,-179.5 2112.5,-179.5\"/>\n<text text-anchor=\"middle\" x=\"2065.5\" y=\"-164.3\" font-family=\"Helvetica,sans-Serif\" font-size=\"14.00\" fill=\"#000000\">entropy = 0.511</text>\n<text text-anchor=\"middle\" x=\"2065.5\" y=\"-149.3\" font-family=\"Helvetica,sans-Serif\" font-size=\"14.00\" fill=\"#000000\">samples = 44</text>\n<text text-anchor=\"middle\" x=\"2065.5\" y=\"-134.3\" font-family=\"Helvetica,sans-Serif\" font-size=\"14.00\" fill=\"#000000\">value = [5, 39]</text>\n<text text-anchor=\"middle\" x=\"2065.5\" y=\"-119.3\" font-family=\"Helvetica,sans-Serif\" font-size=\"14.00\" fill=\"#000000\">class = 1</text>\n</g>\n<!-- 43&#45;&gt;45 -->\n<g id=\"edge45\" class=\"edge\">\n<title>43&#45;&gt;45</title>\n<path fill=\"none\" stroke=\"#000000\" d=\"M2027.1353,-222.8796C2032.5872,-211.8835 2038.4843,-199.9893 2043.9816,-188.9015\"/>\n<polygon fill=\"#000000\" stroke=\"#000000\" points=\"2047.1804,-190.3289 2048.4867,-179.8149 2040.9089,-187.2195 2047.1804,-190.3289\"/>\n</g>\n<!-- 48 -->\n<g id=\"node49\" class=\"node\">\n<title>48</title>\n<path fill=\"#fcefe6\" stroke=\"#000000\" d=\"M2377.5,-306C2377.5,-306 2249.5,-306 2249.5,-306 2243.5,-306 2237.5,-300 2237.5,-294 2237.5,-294 2237.5,-235 2237.5,-235 2237.5,-229 2243.5,-223 2249.5,-223 2249.5,-223 2377.5,-223 2377.5,-223 2383.5,-223 2389.5,-229 2389.5,-235 2389.5,-235 2389.5,-294 2389.5,-294 2389.5,-300 2383.5,-306 2377.5,-306\"/>\n<text text-anchor=\"middle\" x=\"2313.5\" y=\"-290.8\" font-family=\"Helvetica,sans-Serif\" font-size=\"14.00\" fill=\"#000000\">streamingtv &lt;= 0.118</text>\n<text text-anchor=\"middle\" x=\"2313.5\" y=\"-275.8\" font-family=\"Helvetica,sans-Serif\" font-size=\"14.00\" fill=\"#000000\">entropy = 0.997</text>\n<text text-anchor=\"middle\" x=\"2313.5\" y=\"-260.8\" font-family=\"Helvetica,sans-Serif\" font-size=\"14.00\" fill=\"#000000\">samples = 73</text>\n<text text-anchor=\"middle\" x=\"2313.5\" y=\"-245.8\" font-family=\"Helvetica,sans-Serif\" font-size=\"14.00\" fill=\"#000000\">value = [39, 34]</text>\n<text text-anchor=\"middle\" x=\"2313.5\" y=\"-230.8\" font-family=\"Helvetica,sans-Serif\" font-size=\"14.00\" fill=\"#000000\">class = 0</text>\n</g>\n<!-- 47&#45;&gt;48 -->\n<g id=\"edge48\" class=\"edge\">\n<title>47&#45;&gt;48</title>\n<path fill=\"none\" stroke=\"#000000\" d=\"M2317.4015,-341.8796C2316.9883,-333.6838 2316.5499,-324.9891 2316.1219,-316.5013\"/>\n<polygon fill=\"#000000\" stroke=\"#000000\" points=\"2319.6067,-316.1091 2315.6075,-306.2981 2312.6156,-316.4617 2319.6067,-316.1091\"/>\n</g>\n<!-- 51 -->\n<g id=\"node52\" class=\"node\">\n<title>51</title>\n<path fill=\"#7cbeee\" stroke=\"#000000\" d=\"M2577,-306C2577,-306 2420,-306 2420,-306 2414,-306 2408,-300 2408,-294 2408,-294 2408,-235 2408,-235 2408,-229 2414,-223 2420,-223 2420,-223 2577,-223 2577,-223 2583,-223 2589,-229 2589,-235 2589,-235 2589,-294 2589,-294 2589,-300 2583,-306 2577,-306\"/>\n<text text-anchor=\"middle\" x=\"2498.5\" y=\"-290.8\" font-family=\"Helvetica,sans-Serif\" font-size=\"14.00\" fill=\"#000000\">monthlycharges &lt;= 0.447</text>\n<text text-anchor=\"middle\" x=\"2498.5\" y=\"-275.8\" font-family=\"Helvetica,sans-Serif\" font-size=\"14.00\" fill=\"#000000\">entropy = 0.818</text>\n<text text-anchor=\"middle\" x=\"2498.5\" y=\"-260.8\" font-family=\"Helvetica,sans-Serif\" font-size=\"14.00\" fill=\"#000000\">samples = 63</text>\n<text text-anchor=\"middle\" x=\"2498.5\" y=\"-245.8\" font-family=\"Helvetica,sans-Serif\" font-size=\"14.00\" fill=\"#000000\">value = [16, 47]</text>\n<text text-anchor=\"middle\" x=\"2498.5\" y=\"-230.8\" font-family=\"Helvetica,sans-Serif\" font-size=\"14.00\" fill=\"#000000\">class = 1</text>\n</g>\n<!-- 47&#45;&gt;51 -->\n<g id=\"edge51\" class=\"edge\">\n<title>47&#45;&gt;51</title>\n<path fill=\"none\" stroke=\"#000000\" d=\"M2382.1055,-341.8796C2396.6854,-332.1868 2412.3151,-321.7961 2427.2382,-311.8752\"/>\n<polygon fill=\"#000000\" stroke=\"#000000\" points=\"2429.5399,-314.5479 2435.9298,-306.0969 2425.6645,-308.7185 2429.5399,-314.5479\"/>\n</g>\n<!-- 49 -->\n<g id=\"node50\" class=\"node\">\n<title>49</title>\n<path fill=\"#f2be99\" stroke=\"#000000\" d=\"M2248.5,-179.5C2248.5,-179.5 2154.5,-179.5 2154.5,-179.5 2148.5,-179.5 2142.5,-173.5 2142.5,-167.5 2142.5,-167.5 2142.5,-123.5 2142.5,-123.5 2142.5,-117.5 2148.5,-111.5 2154.5,-111.5 2154.5,-111.5 2248.5,-111.5 2248.5,-111.5 2254.5,-111.5 2260.5,-117.5 2260.5,-123.5 2260.5,-123.5 2260.5,-167.5 2260.5,-167.5 2260.5,-173.5 2254.5,-179.5 2248.5,-179.5\"/>\n<text text-anchor=\"middle\" x=\"2201.5\" y=\"-164.3\" font-family=\"Helvetica,sans-Serif\" font-size=\"14.00\" fill=\"#000000\">entropy = 0.911</text>\n<text text-anchor=\"middle\" x=\"2201.5\" y=\"-149.3\" font-family=\"Helvetica,sans-Serif\" font-size=\"14.00\" fill=\"#000000\">samples = 46</text>\n<text text-anchor=\"middle\" x=\"2201.5\" y=\"-134.3\" font-family=\"Helvetica,sans-Serif\" font-size=\"14.00\" fill=\"#000000\">value = [31, 15]</text>\n<text text-anchor=\"middle\" x=\"2201.5\" y=\"-119.3\" font-family=\"Helvetica,sans-Serif\" font-size=\"14.00\" fill=\"#000000\">class = 0</text>\n</g>\n<!-- 48&#45;&gt;49 -->\n<g id=\"edge49\" class=\"edge\">\n<title>48&#45;&gt;49</title>\n<path fill=\"none\" stroke=\"#000000\" d=\"M2274.3278,-222.8796C2263.4611,-211.3337 2251.6624,-198.7976 2240.7891,-187.2446\"/>\n<polygon fill=\"#000000\" stroke=\"#000000\" points=\"2243.1988,-184.6982 2233.7964,-179.8149 2238.1014,-189.4958 2243.1988,-184.6982\"/>\n</g>\n<!-- 50 -->\n<g id=\"node51\" class=\"node\">\n<title>50</title>\n<path fill=\"#8cc6f0\" stroke=\"#000000\" d=\"M2384.5,-179.5C2384.5,-179.5 2290.5,-179.5 2290.5,-179.5 2284.5,-179.5 2278.5,-173.5 2278.5,-167.5 2278.5,-167.5 2278.5,-123.5 2278.5,-123.5 2278.5,-117.5 2284.5,-111.5 2290.5,-111.5 2290.5,-111.5 2384.5,-111.5 2384.5,-111.5 2390.5,-111.5 2396.5,-117.5 2396.5,-123.5 2396.5,-123.5 2396.5,-167.5 2396.5,-167.5 2396.5,-173.5 2390.5,-179.5 2384.5,-179.5\"/>\n<text text-anchor=\"middle\" x=\"2337.5\" y=\"-164.3\" font-family=\"Helvetica,sans-Serif\" font-size=\"14.00\" fill=\"#000000\">entropy = 0.877</text>\n<text text-anchor=\"middle\" x=\"2337.5\" y=\"-149.3\" font-family=\"Helvetica,sans-Serif\" font-size=\"14.00\" fill=\"#000000\">samples = 27</text>\n<text text-anchor=\"middle\" x=\"2337.5\" y=\"-134.3\" font-family=\"Helvetica,sans-Serif\" font-size=\"14.00\" fill=\"#000000\">value = [8, 19]</text>\n<text text-anchor=\"middle\" x=\"2337.5\" y=\"-119.3\" font-family=\"Helvetica,sans-Serif\" font-size=\"14.00\" fill=\"#000000\">class = 1</text>\n</g>\n<!-- 48&#45;&gt;50 -->\n<g id=\"edge50\" class=\"edge\">\n<title>48&#45;&gt;50</title>\n<path fill=\"none\" stroke=\"#000000\" d=\"M2321.894,-222.8796C2324.0452,-212.2134 2326.3668,-200.7021 2328.5451,-189.9015\"/>\n<polygon fill=\"#000000\" stroke=\"#000000\" points=\"2332.0332,-190.3095 2330.5793,-179.8149 2325.1713,-188.9256 2332.0332,-190.3095\"/>\n</g>\n<!-- 52 -->\n<g id=\"node53\" class=\"node\">\n<title>52</title>\n<path fill=\"#b9dcf6\" stroke=\"#000000\" d=\"M2520.5,-179.5C2520.5,-179.5 2426.5,-179.5 2426.5,-179.5 2420.5,-179.5 2414.5,-173.5 2414.5,-167.5 2414.5,-167.5 2414.5,-123.5 2414.5,-123.5 2414.5,-117.5 2420.5,-111.5 2426.5,-111.5 2426.5,-111.5 2520.5,-111.5 2520.5,-111.5 2526.5,-111.5 2532.5,-117.5 2532.5,-123.5 2532.5,-123.5 2532.5,-167.5 2532.5,-167.5 2532.5,-173.5 2526.5,-179.5 2520.5,-179.5\"/>\n<text text-anchor=\"middle\" x=\"2473.5\" y=\"-164.3\" font-family=\"Helvetica,sans-Serif\" font-size=\"14.00\" fill=\"#000000\">entropy = 0.967</text>\n<text text-anchor=\"middle\" x=\"2473.5\" y=\"-149.3\" font-family=\"Helvetica,sans-Serif\" font-size=\"14.00\" fill=\"#000000\">samples = 28</text>\n<text text-anchor=\"middle\" x=\"2473.5\" y=\"-134.3\" font-family=\"Helvetica,sans-Serif\" font-size=\"14.00\" fill=\"#000000\">value = [11, 17]</text>\n<text text-anchor=\"middle\" x=\"2473.5\" y=\"-119.3\" font-family=\"Helvetica,sans-Serif\" font-size=\"14.00\" fill=\"#000000\">class = 1</text>\n</g>\n<!-- 51&#45;&gt;52 -->\n<g id=\"edge52\" class=\"edge\">\n<title>51&#45;&gt;52</title>\n<path fill=\"none\" stroke=\"#000000\" d=\"M2489.7562,-222.8796C2487.5154,-212.2134 2485.0971,-200.7021 2482.8281,-189.9015\"/>\n<polygon fill=\"#000000\" stroke=\"#000000\" points=\"2486.1903,-188.8817 2480.709,-179.8149 2479.3398,-190.3209 2486.1903,-188.8817\"/>\n</g>\n<!-- 53 -->\n<g id=\"node54\" class=\"node\">\n<title>53</title>\n<path fill=\"#5aade9\" stroke=\"#000000\" d=\"M2656.5,-179.5C2656.5,-179.5 2562.5,-179.5 2562.5,-179.5 2556.5,-179.5 2550.5,-173.5 2550.5,-167.5 2550.5,-167.5 2550.5,-123.5 2550.5,-123.5 2550.5,-117.5 2556.5,-111.5 2562.5,-111.5 2562.5,-111.5 2656.5,-111.5 2656.5,-111.5 2662.5,-111.5 2668.5,-117.5 2668.5,-123.5 2668.5,-123.5 2668.5,-167.5 2668.5,-167.5 2668.5,-173.5 2662.5,-179.5 2656.5,-179.5\"/>\n<text text-anchor=\"middle\" x=\"2609.5\" y=\"-164.3\" font-family=\"Helvetica,sans-Serif\" font-size=\"14.00\" fill=\"#000000\">entropy = 0.592</text>\n<text text-anchor=\"middle\" x=\"2609.5\" y=\"-149.3\" font-family=\"Helvetica,sans-Serif\" font-size=\"14.00\" fill=\"#000000\">samples = 35</text>\n<text text-anchor=\"middle\" x=\"2609.5\" y=\"-134.3\" font-family=\"Helvetica,sans-Serif\" font-size=\"14.00\" fill=\"#000000\">value = [5, 30]</text>\n<text text-anchor=\"middle\" x=\"2609.5\" y=\"-119.3\" font-family=\"Helvetica,sans-Serif\" font-size=\"14.00\" fill=\"#000000\">class = 1</text>\n</g>\n<!-- 51&#45;&gt;53 -->\n<g id=\"edge53\" class=\"edge\">\n<title>51&#45;&gt;53</title>\n<path fill=\"none\" stroke=\"#000000\" d=\"M2537.3224,-222.8796C2548.0921,-211.3337 2559.7854,-198.7976 2570.5617,-187.2446\"/>\n<polygon fill=\"#000000\" stroke=\"#000000\" points=\"2573.2303,-189.5149 2577.492,-179.8149 2568.1115,-184.7402 2573.2303,-189.5149\"/>\n</g>\n<!-- 55 -->\n<g id=\"node56\" class=\"node\">\n<title>55</title>\n<path fill=\"#399de5\" stroke=\"#000000\" d=\"M2603,-417.5C2603,-417.5 2520,-417.5 2520,-417.5 2514,-417.5 2508,-411.5 2508,-405.5 2508,-405.5 2508,-361.5 2508,-361.5 2508,-355.5 2514,-349.5 2520,-349.5 2520,-349.5 2603,-349.5 2603,-349.5 2609,-349.5 2615,-355.5 2615,-361.5 2615,-361.5 2615,-405.5 2615,-405.5 2615,-411.5 2609,-417.5 2603,-417.5\"/>\n<text text-anchor=\"middle\" x=\"2561.5\" y=\"-402.3\" font-family=\"Helvetica,sans-Serif\" font-size=\"14.00\" fill=\"#000000\">entropy = 0.0</text>\n<text text-anchor=\"middle\" x=\"2561.5\" y=\"-387.3\" font-family=\"Helvetica,sans-Serif\" font-size=\"14.00\" fill=\"#000000\">samples = 45</text>\n<text text-anchor=\"middle\" x=\"2561.5\" y=\"-372.3\" font-family=\"Helvetica,sans-Serif\" font-size=\"14.00\" fill=\"#000000\">value = [0, 45]</text>\n<text text-anchor=\"middle\" x=\"2561.5\" y=\"-357.3\" font-family=\"Helvetica,sans-Serif\" font-size=\"14.00\" fill=\"#000000\">class = 1</text>\n</g>\n<!-- 54&#45;&gt;55 -->\n<g id=\"edge55\" class=\"edge\">\n<title>54&#45;&gt;55</title>\n<path fill=\"none\" stroke=\"#000000\" d=\"M2562.8005,-460.8796C2562.6212,-450.2134 2562.4278,-438.7021 2562.2462,-427.9015\"/>\n<polygon fill=\"#000000\" stroke=\"#000000\" points=\"2565.7444,-427.7547 2562.0767,-417.8149 2558.7454,-427.8724 2565.7444,-427.7547\"/>\n</g>\n<!-- 56 -->\n<g id=\"node57\" class=\"node\">\n<title>56</title>\n<path fill=\"#65b3eb\" stroke=\"#000000\" d=\"M2744,-425C2744,-425 2645,-425 2645,-425 2639,-425 2633,-419 2633,-413 2633,-413 2633,-354 2633,-354 2633,-348 2639,-342 2645,-342 2645,-342 2744,-342 2744,-342 2750,-342 2756,-348 2756,-354 2756,-354 2756,-413 2756,-413 2756,-419 2750,-425 2744,-425\"/>\n<text text-anchor=\"middle\" x=\"2694.5\" y=\"-409.8\" font-family=\"Helvetica,sans-Serif\" font-size=\"14.00\" fill=\"#000000\">tenure &lt;= &#45;0.923</text>\n<text text-anchor=\"middle\" x=\"2694.5\" y=\"-394.8\" font-family=\"Helvetica,sans-Serif\" font-size=\"14.00\" fill=\"#000000\">entropy = 0.686</text>\n<text text-anchor=\"middle\" x=\"2694.5\" y=\"-379.8\" font-family=\"Helvetica,sans-Serif\" font-size=\"14.00\" fill=\"#000000\">samples = 82</text>\n<text text-anchor=\"middle\" x=\"2694.5\" y=\"-364.8\" font-family=\"Helvetica,sans-Serif\" font-size=\"14.00\" fill=\"#000000\">value = [15, 67]</text>\n<text text-anchor=\"middle\" x=\"2694.5\" y=\"-349.8\" font-family=\"Helvetica,sans-Serif\" font-size=\"14.00\" fill=\"#000000\">class = 1</text>\n</g>\n<!-- 54&#45;&gt;56 -->\n<g id=\"edge56\" class=\"edge\">\n<title>54&#45;&gt;56</title>\n<path fill=\"none\" stroke=\"#000000\" d=\"M2609.3174,-460.8796C2619.5294,-451.6031 2630.445,-441.6874 2640.9376,-432.1559\"/>\n<polygon fill=\"#000000\" stroke=\"#000000\" points=\"2643.4384,-434.6127 2648.487,-425.2981 2638.7316,-429.4313 2643.4384,-434.6127\"/>\n</g>\n<!-- 57 -->\n<g id=\"node58\" class=\"node\">\n<title>57</title>\n<path fill=\"#45a3e7\" stroke=\"#000000\" d=\"M2739.5,-298.5C2739.5,-298.5 2645.5,-298.5 2645.5,-298.5 2639.5,-298.5 2633.5,-292.5 2633.5,-286.5 2633.5,-286.5 2633.5,-242.5 2633.5,-242.5 2633.5,-236.5 2639.5,-230.5 2645.5,-230.5 2645.5,-230.5 2739.5,-230.5 2739.5,-230.5 2745.5,-230.5 2751.5,-236.5 2751.5,-242.5 2751.5,-242.5 2751.5,-286.5 2751.5,-286.5 2751.5,-292.5 2745.5,-298.5 2739.5,-298.5\"/>\n<text text-anchor=\"middle\" x=\"2692.5\" y=\"-283.3\" font-family=\"Helvetica,sans-Serif\" font-size=\"14.00\" fill=\"#000000\">entropy = 0.316</text>\n<text text-anchor=\"middle\" x=\"2692.5\" y=\"-268.3\" font-family=\"Helvetica,sans-Serif\" font-size=\"14.00\" fill=\"#000000\">samples = 35</text>\n<text text-anchor=\"middle\" x=\"2692.5\" y=\"-253.3\" font-family=\"Helvetica,sans-Serif\" font-size=\"14.00\" fill=\"#000000\">value = [2, 33]</text>\n<text text-anchor=\"middle\" x=\"2692.5\" y=\"-238.3\" font-family=\"Helvetica,sans-Serif\" font-size=\"14.00\" fill=\"#000000\">class = 1</text>\n</g>\n<!-- 56&#45;&gt;57 -->\n<g id=\"edge57\" class=\"edge\">\n<title>56&#45;&gt;57</title>\n<path fill=\"none\" stroke=\"#000000\" d=\"M2693.8005,-341.8796C2693.6212,-331.2134 2693.4278,-319.7021 2693.2462,-308.9015\"/>\n<polygon fill=\"#000000\" stroke=\"#000000\" points=\"2696.7444,-308.7547 2693.0767,-298.8149 2689.7454,-308.8724 2696.7444,-308.7547\"/>\n</g>\n<!-- 58 -->\n<g id=\"node59\" class=\"node\">\n<title>58</title>\n<path fill=\"#85c2ef\" stroke=\"#000000\" d=\"M2875.5,-298.5C2875.5,-298.5 2781.5,-298.5 2781.5,-298.5 2775.5,-298.5 2769.5,-292.5 2769.5,-286.5 2769.5,-286.5 2769.5,-242.5 2769.5,-242.5 2769.5,-236.5 2775.5,-230.5 2781.5,-230.5 2781.5,-230.5 2875.5,-230.5 2875.5,-230.5 2881.5,-230.5 2887.5,-236.5 2887.5,-242.5 2887.5,-242.5 2887.5,-286.5 2887.5,-286.5 2887.5,-292.5 2881.5,-298.5 2875.5,-298.5\"/>\n<text text-anchor=\"middle\" x=\"2828.5\" y=\"-283.3\" font-family=\"Helvetica,sans-Serif\" font-size=\"14.00\" fill=\"#000000\">entropy = 0.851</text>\n<text text-anchor=\"middle\" x=\"2828.5\" y=\"-268.3\" font-family=\"Helvetica,sans-Serif\" font-size=\"14.00\" fill=\"#000000\">samples = 47</text>\n<text text-anchor=\"middle\" x=\"2828.5\" y=\"-253.3\" font-family=\"Helvetica,sans-Serif\" font-size=\"14.00\" fill=\"#000000\">value = [13, 34]</text>\n<text text-anchor=\"middle\" x=\"2828.5\" y=\"-238.3\" font-family=\"Helvetica,sans-Serif\" font-size=\"14.00\" fill=\"#000000\">class = 1</text>\n</g>\n<!-- 56&#45;&gt;58 -->\n<g id=\"edge58\" class=\"edge\">\n<title>56&#45;&gt;58</title>\n<path fill=\"none\" stroke=\"#000000\" d=\"M2741.3667,-341.8796C2754.6156,-330.1138 2769.0224,-317.3197 2782.2356,-305.5855\"/>\n<polygon fill=\"#000000\" stroke=\"#000000\" points=\"2784.7065,-308.0722 2789.8597,-298.8149 2780.0584,-302.8381 2784.7065,-308.0722\"/>\n</g>\n<!-- 60 -->\n<g id=\"node61\" class=\"node\">\n<title>60</title>\n<path fill=\"#e78c4a\" stroke=\"#000000\" d=\"M4349.5,-663C4349.5,-663 4233.5,-663 4233.5,-663 4227.5,-663 4221.5,-657 4221.5,-651 4221.5,-651 4221.5,-592 4221.5,-592 4221.5,-586 4227.5,-580 4233.5,-580 4233.5,-580 4349.5,-580 4349.5,-580 4355.5,-580 4361.5,-586 4361.5,-592 4361.5,-592 4361.5,-651 4361.5,-651 4361.5,-657 4355.5,-663 4349.5,-663\"/>\n<text text-anchor=\"middle\" x=\"4291.5\" y=\"-647.8\" font-family=\"Helvetica,sans-Serif\" font-size=\"14.00\" fill=\"#000000\">tenure &lt;= 1.333</text>\n<text text-anchor=\"middle\" x=\"4291.5\" y=\"-632.8\" font-family=\"Helvetica,sans-Serif\" font-size=\"14.00\" fill=\"#000000\">entropy = 0.394</text>\n<text text-anchor=\"middle\" x=\"4291.5\" y=\"-617.8\" font-family=\"Helvetica,sans-Serif\" font-size=\"14.00\" fill=\"#000000\">samples = 1867</text>\n<text text-anchor=\"middle\" x=\"4291.5\" y=\"-602.8\" font-family=\"Helvetica,sans-Serif\" font-size=\"14.00\" fill=\"#000000\">value = [1722, 145]</text>\n<text text-anchor=\"middle\" x=\"4291.5\" y=\"-587.8\" font-family=\"Helvetica,sans-Serif\" font-size=\"14.00\" fill=\"#000000\">class = 0</text>\n</g>\n<!-- 59&#45;&gt;60 -->\n<g id=\"edge60\" class=\"edge\">\n<title>59&#45;&gt;60</title>\n<path fill=\"none\" stroke=\"#000000\" d=\"M4484.6238,-698.8796C4447.4685,-683.9924 4406.2046,-667.4591 4371.3895,-653.5096\"/>\n<polygon fill=\"#000000\" stroke=\"#000000\" points=\"4372.334,-650.1176 4361.7496,-649.6472 4369.7305,-656.6154 4372.334,-650.1176\"/>\n</g>\n<!-- 99 -->\n<g id=\"node100\" class=\"node\">\n<title>99</title>\n<path fill=\"#f1ba92\" stroke=\"#000000\" d=\"M5169.5,-663C5169.5,-663 5039.5,-663 5039.5,-663 5033.5,-663 5027.5,-657 5027.5,-651 5027.5,-651 5027.5,-592 5027.5,-592 5027.5,-586 5033.5,-580 5039.5,-580 5039.5,-580 5169.5,-580 5169.5,-580 5175.5,-580 5181.5,-586 5181.5,-592 5181.5,-592 5181.5,-651 5181.5,-651 5181.5,-657 5175.5,-663 5169.5,-663\"/>\n<text text-anchor=\"middle\" x=\"5104.5\" y=\"-647.8\" font-family=\"Helvetica,sans-Serif\" font-size=\"14.00\" fill=\"#000000\">techsupport &lt;= 0.996</text>\n<text text-anchor=\"middle\" x=\"5104.5\" y=\"-632.8\" font-family=\"Helvetica,sans-Serif\" font-size=\"14.00\" fill=\"#000000\">entropy = 0.894</text>\n<text text-anchor=\"middle\" x=\"5104.5\" y=\"-617.8\" font-family=\"Helvetica,sans-Serif\" font-size=\"14.00\" fill=\"#000000\">samples = 1089</text>\n<text text-anchor=\"middle\" x=\"5104.5\" y=\"-602.8\" font-family=\"Helvetica,sans-Serif\" font-size=\"14.00\" fill=\"#000000\">value = [751, 338]</text>\n<text text-anchor=\"middle\" x=\"5104.5\" y=\"-587.8\" font-family=\"Helvetica,sans-Serif\" font-size=\"14.00\" fill=\"#000000\">class = 0</text>\n</g>\n<!-- 59&#45;&gt;99 -->\n<g id=\"edge99\" class=\"edge\">\n<title>59&#45;&gt;99</title>\n<path fill=\"none\" stroke=\"#000000\" d=\"M4712.7515,-711.8451C4806.8871,-690.1355 4933.8577,-660.8536 5017.3924,-641.5888\"/>\n<polygon fill=\"#000000\" stroke=\"#000000\" points=\"5018.4014,-644.948 5027.3591,-639.2903 5016.8283,-638.1271 5018.4014,-644.948\"/>\n</g>\n<!-- 61 -->\n<g id=\"node62\" class=\"node\">\n<title>61</title>\n<path fill=\"#e89050\" stroke=\"#000000\" d=\"M3762.5,-544C3762.5,-544 3578.5,-544 3578.5,-544 3572.5,-544 3566.5,-538 3566.5,-532 3566.5,-532 3566.5,-473 3566.5,-473 3566.5,-467 3572.5,-461 3578.5,-461 3578.5,-461 3762.5,-461 3762.5,-461 3768.5,-461 3774.5,-467 3774.5,-473 3774.5,-473 3774.5,-532 3774.5,-532 3774.5,-538 3768.5,-544 3762.5,-544\"/>\n<text text-anchor=\"middle\" x=\"3670.5\" y=\"-528.8\" font-family=\"Helvetica,sans-Serif\" font-size=\"14.00\" fill=\"#000000\">internetservice_DSL &lt;= 0.123</text>\n<text text-anchor=\"middle\" x=\"3670.5\" y=\"-513.8\" font-family=\"Helvetica,sans-Serif\" font-size=\"14.00\" fill=\"#000000\">entropy = 0.487</text>\n<text text-anchor=\"middle\" x=\"3670.5\" y=\"-498.8\" font-family=\"Helvetica,sans-Serif\" font-size=\"14.00\" fill=\"#000000\">samples = 1287</text>\n<text text-anchor=\"middle\" x=\"3670.5\" y=\"-483.8\" font-family=\"Helvetica,sans-Serif\" font-size=\"14.00\" fill=\"#000000\">value = [1151, 136]</text>\n<text text-anchor=\"middle\" x=\"3670.5\" y=\"-468.8\" font-family=\"Helvetica,sans-Serif\" font-size=\"14.00\" fill=\"#000000\">class = 0</text>\n</g>\n<!-- 60&#45;&gt;61 -->\n<g id=\"edge61\" class=\"edge\">\n<title>60&#45;&gt;61</title>\n<path fill=\"none\" stroke=\"#000000\" d=\"M4221.4705,-608.0805C4115.201,-587.7165 3912.1004,-548.797 3784.39,-524.3243\"/>\n<polygon fill=\"#000000\" stroke=\"#000000\" points=\"3785.0452,-520.8863 3774.5651,-522.4416 3783.7277,-527.7612 3785.0452,-520.8863\"/>\n</g>\n<!-- 86 -->\n<g id=\"node87\" class=\"node\">\n<title>86</title>\n<path fill=\"#e5833c\" stroke=\"#000000\" d=\"M4358,-544C4358,-544 4225,-544 4225,-544 4219,-544 4213,-538 4213,-532 4213,-532 4213,-473 4213,-473 4213,-467 4219,-461 4225,-461 4225,-461 4358,-461 4358,-461 4364,-461 4370,-467 4370,-473 4370,-473 4370,-532 4370,-532 4370,-538 4364,-544 4358,-544\"/>\n<text text-anchor=\"middle\" x=\"4291.5\" y=\"-528.8\" font-family=\"Helvetica,sans-Serif\" font-size=\"14.00\" fill=\"#000000\">totalcharges &lt;= 1.204</text>\n<text text-anchor=\"middle\" x=\"4291.5\" y=\"-513.8\" font-family=\"Helvetica,sans-Serif\" font-size=\"14.00\" fill=\"#000000\">entropy = 0.115</text>\n<text text-anchor=\"middle\" x=\"4291.5\" y=\"-498.8\" font-family=\"Helvetica,sans-Serif\" font-size=\"14.00\" fill=\"#000000\">samples = 580</text>\n<text text-anchor=\"middle\" x=\"4291.5\" y=\"-483.8\" font-family=\"Helvetica,sans-Serif\" font-size=\"14.00\" fill=\"#000000\">value = [571, 9]</text>\n<text text-anchor=\"middle\" x=\"4291.5\" y=\"-468.8\" font-family=\"Helvetica,sans-Serif\" font-size=\"14.00\" fill=\"#000000\">class = 0</text>\n</g>\n<!-- 60&#45;&gt;86 -->\n<g id=\"edge86\" class=\"edge\">\n<title>60&#45;&gt;86</title>\n<path fill=\"none\" stroke=\"#000000\" d=\"M4291.5,-579.8796C4291.5,-571.6838 4291.5,-562.9891 4291.5,-554.5013\"/>\n<polygon fill=\"#000000\" stroke=\"#000000\" points=\"4295.0001,-554.298 4291.5,-544.2981 4288.0001,-554.2981 4295.0001,-554.298\"/>\n</g>\n<!-- 62 -->\n<g id=\"node63\" class=\"node\">\n<title>62</title>\n<path fill=\"#e68642\" stroke=\"#000000\" d=\"M3474.5,-425C3474.5,-425 3318.5,-425 3318.5,-425 3312.5,-425 3306.5,-419 3306.5,-413 3306.5,-413 3306.5,-354 3306.5,-354 3306.5,-348 3312.5,-342 3318.5,-342 3318.5,-342 3474.5,-342 3474.5,-342 3480.5,-342 3486.5,-348 3486.5,-354 3486.5,-354 3486.5,-413 3486.5,-413 3486.5,-419 3480.5,-425 3474.5,-425\"/>\n<text text-anchor=\"middle\" x=\"3396.5\" y=\"-409.8\" font-family=\"Helvetica,sans-Serif\" font-size=\"14.00\" fill=\"#000000\">region_England &lt;= 0.005</text>\n<text text-anchor=\"middle\" x=\"3396.5\" y=\"-394.8\" font-family=\"Helvetica,sans-Serif\" font-size=\"14.00\" fill=\"#000000\">entropy = 0.249</text>\n<text text-anchor=\"middle\" x=\"3396.5\" y=\"-379.8\" font-family=\"Helvetica,sans-Serif\" font-size=\"14.00\" fill=\"#000000\">samples = 556</text>\n<text text-anchor=\"middle\" x=\"3396.5\" y=\"-364.8\" font-family=\"Helvetica,sans-Serif\" font-size=\"14.00\" fill=\"#000000\">value = [533, 23]</text>\n<text text-anchor=\"middle\" x=\"3396.5\" y=\"-349.8\" font-family=\"Helvetica,sans-Serif\" font-size=\"14.00\" fill=\"#000000\">class = 0</text>\n</g>\n<!-- 61&#45;&gt;62 -->\n<g id=\"edge62\" class=\"edge\">\n<title>61&#45;&gt;62</title>\n<path fill=\"none\" stroke=\"#000000\" d=\"M3574.6681,-460.8796C3549.2409,-449.8364 3521.7279,-437.8873 3496.1048,-426.759\"/>\n<polygon fill=\"#000000\" stroke=\"#000000\" points=\"3497.3241,-423.4728 3486.7576,-422.6995 3494.5356,-429.8934 3497.3241,-423.4728\"/>\n</g>\n<!-- 71 -->\n<g id=\"node72\" class=\"node\">\n<title>71</title>\n<path fill=\"#ea985d\" stroke=\"#000000\" d=\"M3739,-425C3739,-425 3602,-425 3602,-425 3596,-425 3590,-419 3590,-413 3590,-413 3590,-354 3590,-354 3590,-348 3596,-342 3602,-342 3602,-342 3739,-342 3739,-342 3745,-342 3751,-348 3751,-354 3751,-354 3751,-413 3751,-413 3751,-419 3745,-425 3739,-425\"/>\n<text text-anchor=\"middle\" x=\"3670.5\" y=\"-409.8\" font-family=\"Helvetica,sans-Serif\" font-size=\"14.00\" fill=\"#000000\">totalcharges &lt;= &#45;0.429</text>\n<text text-anchor=\"middle\" x=\"3670.5\" y=\"-394.8\" font-family=\"Helvetica,sans-Serif\" font-size=\"14.00\" fill=\"#000000\">entropy = 0.621</text>\n<text text-anchor=\"middle\" x=\"3670.5\" y=\"-379.8\" font-family=\"Helvetica,sans-Serif\" font-size=\"14.00\" fill=\"#000000\">samples = 731</text>\n<text text-anchor=\"middle\" x=\"3670.5\" y=\"-364.8\" font-family=\"Helvetica,sans-Serif\" font-size=\"14.00\" fill=\"#000000\">value = [618, 113]</text>\n<text text-anchor=\"middle\" x=\"3670.5\" y=\"-349.8\" font-family=\"Helvetica,sans-Serif\" font-size=\"14.00\" fill=\"#000000\">class = 0</text>\n</g>\n<!-- 61&#45;&gt;71 -->\n<g id=\"edge71\" class=\"edge\">\n<title>61&#45;&gt;71</title>\n<path fill=\"none\" stroke=\"#000000\" d=\"M3670.5,-460.8796C3670.5,-452.6838 3670.5,-443.9891 3670.5,-435.5013\"/>\n<polygon fill=\"#000000\" stroke=\"#000000\" points=\"3674.0001,-435.298 3670.5,-425.2981 3667.0001,-435.2981 3674.0001,-435.298\"/>\n</g>\n<!-- 63 -->\n<g id=\"node64\" class=\"node\">\n<title>63</title>\n<path fill=\"#e68640\" stroke=\"#000000\" d=\"M3170.5,-306C3170.5,-306 3070.5,-306 3070.5,-306 3064.5,-306 3058.5,-300 3058.5,-294 3058.5,-294 3058.5,-235 3058.5,-235 3058.5,-229 3064.5,-223 3070.5,-223 3070.5,-223 3170.5,-223 3170.5,-223 3176.5,-223 3182.5,-229 3182.5,-235 3182.5,-235 3182.5,-294 3182.5,-294 3182.5,-300 3176.5,-306 3170.5,-306\"/>\n<text text-anchor=\"middle\" x=\"3120.5\" y=\"-290.8\" font-family=\"Helvetica,sans-Serif\" font-size=\"14.00\" fill=\"#000000\">tenure &lt;= &#45;0.38</text>\n<text text-anchor=\"middle\" x=\"3120.5\" y=\"-275.8\" font-family=\"Helvetica,sans-Serif\" font-size=\"14.00\" fill=\"#000000\">entropy = 0.217</text>\n<text text-anchor=\"middle\" x=\"3120.5\" y=\"-260.8\" font-family=\"Helvetica,sans-Serif\" font-size=\"14.00\" fill=\"#000000\">samples = 548</text>\n<text text-anchor=\"middle\" x=\"3120.5\" y=\"-245.8\" font-family=\"Helvetica,sans-Serif\" font-size=\"14.00\" fill=\"#000000\">value = [529, 19]</text>\n<text text-anchor=\"middle\" x=\"3120.5\" y=\"-230.8\" font-family=\"Helvetica,sans-Serif\" font-size=\"14.00\" fill=\"#000000\">class = 0</text>\n</g>\n<!-- 62&#45;&gt;63 -->\n<g id=\"edge63\" class=\"edge\">\n<title>62&#45;&gt;63</title>\n<path fill=\"none\" stroke=\"#000000\" d=\"M3306.1273,-344.5349C3269.1956,-328.6115 3227.0768,-310.4516 3192.3053,-295.4595\"/>\n<polygon fill=\"#000000\" stroke=\"#000000\" points=\"3193.2718,-292.0648 3182.7032,-291.3195 3190.5003,-298.4928 3193.2718,-292.0648\"/>\n</g>\n<!-- 70 -->\n<g id=\"node71\" class=\"node\">\n<title>70</title>\n<path fill=\"#ffffff\" stroke=\"#000000\" d=\"M3435,-298.5C3435,-298.5 3358,-298.5 3358,-298.5 3352,-298.5 3346,-292.5 3346,-286.5 3346,-286.5 3346,-242.5 3346,-242.5 3346,-236.5 3352,-230.5 3358,-230.5 3358,-230.5 3435,-230.5 3435,-230.5 3441,-230.5 3447,-236.5 3447,-242.5 3447,-242.5 3447,-286.5 3447,-286.5 3447,-292.5 3441,-298.5 3435,-298.5\"/>\n<text text-anchor=\"middle\" x=\"3396.5\" y=\"-283.3\" font-family=\"Helvetica,sans-Serif\" font-size=\"14.00\" fill=\"#000000\">entropy = 1.0</text>\n<text text-anchor=\"middle\" x=\"3396.5\" y=\"-268.3\" font-family=\"Helvetica,sans-Serif\" font-size=\"14.00\" fill=\"#000000\">samples = 8</text>\n<text text-anchor=\"middle\" x=\"3396.5\" y=\"-253.3\" font-family=\"Helvetica,sans-Serif\" font-size=\"14.00\" fill=\"#000000\">value = [4, 4]</text>\n<text text-anchor=\"middle\" x=\"3396.5\" y=\"-238.3\" font-family=\"Helvetica,sans-Serif\" font-size=\"14.00\" fill=\"#000000\">class = 0</text>\n</g>\n<!-- 62&#45;&gt;70 -->\n<g id=\"edge70\" class=\"edge\">\n<title>62&#45;&gt;70</title>\n<path fill=\"none\" stroke=\"#000000\" d=\"M3396.5,-341.8796C3396.5,-331.2134 3396.5,-319.7021 3396.5,-308.9015\"/>\n<polygon fill=\"#000000\" stroke=\"#000000\" points=\"3400.0001,-308.8149 3396.5,-298.8149 3393.0001,-308.815 3400.0001,-308.8149\"/>\n</g>\n<!-- 64 -->\n<g id=\"node65\" class=\"node\">\n<title>64</title>\n<path fill=\"#e89153\" stroke=\"#000000\" d=\"M3010.5,-187C3010.5,-187 2698.5,-187 2698.5,-187 2692.5,-187 2686.5,-181 2686.5,-175 2686.5,-175 2686.5,-116 2686.5,-116 2686.5,-110 2692.5,-104 2698.5,-104 2698.5,-104 3010.5,-104 3010.5,-104 3016.5,-104 3022.5,-110 3022.5,-116 3022.5,-116 3022.5,-175 3022.5,-175 3022.5,-181 3016.5,-187 3010.5,-187\"/>\n<text text-anchor=\"middle\" x=\"2854.5\" y=\"-171.8\" font-family=\"Helvetica,sans-Serif\" font-size=\"14.00\" fill=\"#000000\">paymentmethod_Bank transfer (automatic) &lt;= 0.5</text>\n<text text-anchor=\"middle\" x=\"2854.5\" y=\"-156.8\" font-family=\"Helvetica,sans-Serif\" font-size=\"14.00\" fill=\"#000000\">entropy = 0.514</text>\n<text text-anchor=\"middle\" x=\"2854.5\" y=\"-141.8\" font-family=\"Helvetica,sans-Serif\" font-size=\"14.00\" fill=\"#000000\">samples = 96</text>\n<text text-anchor=\"middle\" x=\"2854.5\" y=\"-126.8\" font-family=\"Helvetica,sans-Serif\" font-size=\"14.00\" fill=\"#000000\">value = [85, 11]</text>\n<text text-anchor=\"middle\" x=\"2854.5\" y=\"-111.8\" font-family=\"Helvetica,sans-Serif\" font-size=\"14.00\" fill=\"#000000\">class = 0</text>\n</g>\n<!-- 63&#45;&gt;64 -->\n<g id=\"edge64\" class=\"edge\">\n<title>63&#45;&gt;64</title>\n<path fill=\"none\" stroke=\"#000000\" d=\"M3058.4705,-236.75C3028.1718,-223.1953 2990.9237,-206.5317 2956.586,-191.17\"/>\n<polygon fill=\"#000000\" stroke=\"#000000\" points=\"2958.0148,-187.975 2947.4573,-187.0862 2955.1562,-194.3647 2958.0148,-187.975\"/>\n</g>\n<!-- 67 -->\n<g id=\"node68\" class=\"node\">\n<title>67</title>\n<path fill=\"#e5833d\" stroke=\"#000000\" d=\"M3185,-187C3185,-187 3056,-187 3056,-187 3050,-187 3044,-181 3044,-175 3044,-175 3044,-116 3044,-116 3044,-110 3050,-104 3056,-104 3056,-104 3185,-104 3185,-104 3191,-104 3197,-110 3197,-116 3197,-116 3197,-175 3197,-175 3197,-181 3191,-187 3185,-187\"/>\n<text text-anchor=\"middle\" x=\"3120.5\" y=\"-171.8\" font-family=\"Helvetica,sans-Serif\" font-size=\"14.00\" fill=\"#000000\">totalcharges &lt;= &#45;0.63</text>\n<text text-anchor=\"middle\" x=\"3120.5\" y=\"-156.8\" font-family=\"Helvetica,sans-Serif\" font-size=\"14.00\" fill=\"#000000\">entropy = 0.128</text>\n<text text-anchor=\"middle\" x=\"3120.5\" y=\"-141.8\" font-family=\"Helvetica,sans-Serif\" font-size=\"14.00\" fill=\"#000000\">samples = 452</text>\n<text text-anchor=\"middle\" x=\"3120.5\" y=\"-126.8\" font-family=\"Helvetica,sans-Serif\" font-size=\"14.00\" fill=\"#000000\">value = [444, 8]</text>\n<text text-anchor=\"middle\" x=\"3120.5\" y=\"-111.8\" font-family=\"Helvetica,sans-Serif\" font-size=\"14.00\" fill=\"#000000\">class = 0</text>\n</g>\n<!-- 63&#45;&gt;67 -->\n<g id=\"edge67\" class=\"edge\">\n<title>63&#45;&gt;67</title>\n<path fill=\"none\" stroke=\"#000000\" d=\"M3120.5,-222.8796C3120.5,-214.6838 3120.5,-205.9891 3120.5,-197.5013\"/>\n<polygon fill=\"#000000\" stroke=\"#000000\" points=\"3124.0001,-197.298 3120.5,-187.2981 3117.0001,-197.2981 3124.0001,-197.298\"/>\n</g>\n<!-- 65 -->\n<g id=\"node66\" class=\"node\">\n<title>65</title>\n<path fill=\"#e68844\" stroke=\"#000000\" d=\"M2763.5,-68C2763.5,-68 2669.5,-68 2669.5,-68 2663.5,-68 2657.5,-62 2657.5,-56 2657.5,-56 2657.5,-12 2657.5,-12 2657.5,-6 2663.5,0 2669.5,0 2669.5,0 2763.5,0 2763.5,0 2769.5,0 2775.5,-6 2775.5,-12 2775.5,-12 2775.5,-56 2775.5,-56 2775.5,-62 2769.5,-68 2763.5,-68\"/>\n<text text-anchor=\"middle\" x=\"2716.5\" y=\"-52.8\" font-family=\"Helvetica,sans-Serif\" font-size=\"14.00\" fill=\"#000000\">entropy = 0.292</text>\n<text text-anchor=\"middle\" x=\"2716.5\" y=\"-37.8\" font-family=\"Helvetica,sans-Serif\" font-size=\"14.00\" fill=\"#000000\">samples = 78</text>\n<text text-anchor=\"middle\" x=\"2716.5\" y=\"-22.8\" font-family=\"Helvetica,sans-Serif\" font-size=\"14.00\" fill=\"#000000\">value = [74, 4]</text>\n<text text-anchor=\"middle\" x=\"2716.5\" y=\"-7.8\" font-family=\"Helvetica,sans-Serif\" font-size=\"14.00\" fill=\"#000000\">class = 0</text>\n</g>\n<!-- 64&#45;&gt;65 -->\n<g id=\"edge65\" class=\"edge\">\n<title>64&#45;&gt;65</title>\n<path fill=\"none\" stroke=\"#000000\" d=\"M2803.1139,-103.9815C2791.2839,-94.4232 2778.7136,-84.2668 2766.9249,-74.7419\"/>\n<polygon fill=\"#000000\" stroke=\"#000000\" points=\"2768.8851,-71.826 2758.9071,-68.2637 2764.4858,-77.2708 2768.8851,-71.826\"/>\n</g>\n<!-- 66 -->\n<g id=\"node67\" class=\"node\">\n<title>66</title>\n<path fill=\"#f6d1b7\" stroke=\"#000000\" d=\"M2899.5,-68C2899.5,-68 2805.5,-68 2805.5,-68 2799.5,-68 2793.5,-62 2793.5,-56 2793.5,-56 2793.5,-12 2793.5,-12 2793.5,-6 2799.5,0 2805.5,0 2805.5,0 2899.5,0 2899.5,0 2905.5,0 2911.5,-6 2911.5,-12 2911.5,-12 2911.5,-56 2911.5,-56 2911.5,-62 2905.5,-68 2899.5,-68\"/>\n<text text-anchor=\"middle\" x=\"2852.5\" y=\"-52.8\" font-family=\"Helvetica,sans-Serif\" font-size=\"14.00\" fill=\"#000000\">entropy = 0.964</text>\n<text text-anchor=\"middle\" x=\"2852.5\" y=\"-37.8\" font-family=\"Helvetica,sans-Serif\" font-size=\"14.00\" fill=\"#000000\">samples = 18</text>\n<text text-anchor=\"middle\" x=\"2852.5\" y=\"-22.8\" font-family=\"Helvetica,sans-Serif\" font-size=\"14.00\" fill=\"#000000\">value = [11, 7]</text>\n<text text-anchor=\"middle\" x=\"2852.5\" y=\"-7.8\" font-family=\"Helvetica,sans-Serif\" font-size=\"14.00\" fill=\"#000000\">class = 0</text>\n</g>\n<!-- 64&#45;&gt;66 -->\n<g id=\"edge66\" class=\"edge\">\n<title>64&#45;&gt;66</title>\n<path fill=\"none\" stroke=\"#000000\" d=\"M2853.7553,-103.9815C2853.6053,-95.618 2853.447,-86.7965 2853.2954,-78.3409\"/>\n<polygon fill=\"#000000\" stroke=\"#000000\" points=\"2856.7935,-78.1993 2853.1146,-68.2637 2849.7946,-78.3249 2856.7935,-78.1993\"/>\n</g>\n<!-- 68 -->\n<g id=\"node69\" class=\"node\">\n<title>68</title>\n<path fill=\"#e58139\" stroke=\"#000000\" d=\"M3033.5,-68C3033.5,-68 2941.5,-68 2941.5,-68 2935.5,-68 2929.5,-62 2929.5,-56 2929.5,-56 2929.5,-12 2929.5,-12 2929.5,-6 2935.5,0 2941.5,0 2941.5,0 3033.5,0 3033.5,0 3039.5,0 3045.5,-6 3045.5,-12 3045.5,-12 3045.5,-56 3045.5,-56 3045.5,-62 3039.5,-68 3033.5,-68\"/>\n<text text-anchor=\"middle\" x=\"2987.5\" y=\"-52.8\" font-family=\"Helvetica,sans-Serif\" font-size=\"14.00\" fill=\"#000000\">entropy = 0.0</text>\n<text text-anchor=\"middle\" x=\"2987.5\" y=\"-37.8\" font-family=\"Helvetica,sans-Serif\" font-size=\"14.00\" fill=\"#000000\">samples = 175</text>\n<text text-anchor=\"middle\" x=\"2987.5\" y=\"-22.8\" font-family=\"Helvetica,sans-Serif\" font-size=\"14.00\" fill=\"#000000\">value = [175, 0]</text>\n<text text-anchor=\"middle\" x=\"2987.5\" y=\"-7.8\" font-family=\"Helvetica,sans-Serif\" font-size=\"14.00\" fill=\"#000000\">class = 0</text>\n</g>\n<!-- 67&#45;&gt;68 -->\n<g id=\"edge68\" class=\"edge\">\n<title>67&#45;&gt;68</title>\n<path fill=\"none\" stroke=\"#000000\" d=\"M3070.9757,-103.9815C3059.5743,-94.4232 3047.4595,-84.2668 3036.0979,-74.7419\"/>\n<polygon fill=\"#000000\" stroke=\"#000000\" points=\"3038.2825,-72.006 3028.3706,-68.2637 3033.7853,-77.3704 3038.2825,-72.006\"/>\n</g>\n<!-- 69 -->\n<g id=\"node70\" class=\"node\">\n<title>69</title>\n<path fill=\"#e6853f\" stroke=\"#000000\" d=\"M3169.5,-68C3169.5,-68 3075.5,-68 3075.5,-68 3069.5,-68 3063.5,-62 3063.5,-56 3063.5,-56 3063.5,-12 3063.5,-12 3063.5,-6 3069.5,0 3075.5,0 3075.5,0 3169.5,0 3169.5,0 3175.5,0 3181.5,-6 3181.5,-12 3181.5,-12 3181.5,-56 3181.5,-56 3181.5,-62 3175.5,-68 3169.5,-68\"/>\n<text text-anchor=\"middle\" x=\"3122.5\" y=\"-52.8\" font-family=\"Helvetica,sans-Serif\" font-size=\"14.00\" fill=\"#000000\">entropy = 0.189</text>\n<text text-anchor=\"middle\" x=\"3122.5\" y=\"-37.8\" font-family=\"Helvetica,sans-Serif\" font-size=\"14.00\" fill=\"#000000\">samples = 277</text>\n<text text-anchor=\"middle\" x=\"3122.5\" y=\"-22.8\" font-family=\"Helvetica,sans-Serif\" font-size=\"14.00\" fill=\"#000000\">value = [269, 8]</text>\n<text text-anchor=\"middle\" x=\"3122.5\" y=\"-7.8\" font-family=\"Helvetica,sans-Serif\" font-size=\"14.00\" fill=\"#000000\">class = 0</text>\n</g>\n<!-- 67&#45;&gt;69 -->\n<g id=\"edge69\" class=\"edge\">\n<title>67&#45;&gt;69</title>\n<path fill=\"none\" stroke=\"#000000\" d=\"M3121.2447,-103.9815C3121.3947,-95.618 3121.553,-86.7965 3121.7046,-78.3409\"/>\n<polygon fill=\"#000000\" stroke=\"#000000\" points=\"3125.2054,-78.3249 3121.8854,-68.2637 3118.2065,-78.1993 3125.2054,-78.3249\"/>\n</g>\n<!-- 72 -->\n<g id=\"node73\" class=\"node\">\n<title>72</title>\n<path fill=\"#f1bd97\" stroke=\"#000000\" d=\"M3689.5,-306C3689.5,-306 3535.5,-306 3535.5,-306 3529.5,-306 3523.5,-300 3523.5,-294 3523.5,-294 3523.5,-235 3523.5,-235 3523.5,-229 3529.5,-223 3535.5,-223 3535.5,-223 3689.5,-223 3689.5,-223 3695.5,-223 3701.5,-229 3701.5,-235 3701.5,-235 3701.5,-294 3701.5,-294 3701.5,-300 3695.5,-306 3689.5,-306\"/>\n<text text-anchor=\"middle\" x=\"3612.5\" y=\"-290.8\" font-family=\"Helvetica,sans-Serif\" font-size=\"14.00\" fill=\"#000000\">paperlessbilling &lt;= 0.046</text>\n<text text-anchor=\"middle\" x=\"3612.5\" y=\"-275.8\" font-family=\"Helvetica,sans-Serif\" font-size=\"14.00\" fill=\"#000000\">entropy = 0.907</text>\n<text text-anchor=\"middle\" x=\"3612.5\" y=\"-260.8\" font-family=\"Helvetica,sans-Serif\" font-size=\"14.00\" fill=\"#000000\">samples = 155</text>\n<text text-anchor=\"middle\" x=\"3612.5\" y=\"-245.8\" font-family=\"Helvetica,sans-Serif\" font-size=\"14.00\" fill=\"#000000\">value = [105, 50]</text>\n<text text-anchor=\"middle\" x=\"3612.5\" y=\"-230.8\" font-family=\"Helvetica,sans-Serif\" font-size=\"14.00\" fill=\"#000000\">class = 0</text>\n</g>\n<!-- 71&#45;&gt;72 -->\n<g id=\"edge72\" class=\"edge\">\n<title>71&#45;&gt;72</title>\n<path fill=\"none\" stroke=\"#000000\" d=\"M3650.2144,-341.8796C3646.0443,-333.3236 3641.6091,-324.2238 3637.3003,-315.3833\"/>\n<polygon fill=\"#000000\" stroke=\"#000000\" points=\"3640.3997,-313.7538 3632.8722,-306.2981 3634.1073,-316.8207 3640.3997,-313.7538\"/>\n</g>\n<!-- 79 -->\n<g id=\"node80\" class=\"node\">\n<title>79</title>\n<path fill=\"#e89051\" stroke=\"#000000\" d=\"M3933,-306C3933,-306 3800,-306 3800,-306 3794,-306 3788,-300 3788,-294 3788,-294 3788,-235 3788,-235 3788,-229 3794,-223 3800,-223 3800,-223 3933,-223 3933,-223 3939,-223 3945,-229 3945,-235 3945,-235 3945,-294 3945,-294 3945,-300 3939,-306 3933,-306\"/>\n<text text-anchor=\"middle\" x=\"3866.5\" y=\"-290.8\" font-family=\"Helvetica,sans-Serif\" font-size=\"14.00\" fill=\"#000000\">totalcharges &lt;= 0.532</text>\n<text text-anchor=\"middle\" x=\"3866.5\" y=\"-275.8\" font-family=\"Helvetica,sans-Serif\" font-size=\"14.00\" fill=\"#000000\">entropy = 0.498</text>\n<text text-anchor=\"middle\" x=\"3866.5\" y=\"-260.8\" font-family=\"Helvetica,sans-Serif\" font-size=\"14.00\" fill=\"#000000\">samples = 576</text>\n<text text-anchor=\"middle\" x=\"3866.5\" y=\"-245.8\" font-family=\"Helvetica,sans-Serif\" font-size=\"14.00\" fill=\"#000000\">value = [513, 63]</text>\n<text text-anchor=\"middle\" x=\"3866.5\" y=\"-230.8\" font-family=\"Helvetica,sans-Serif\" font-size=\"14.00\" fill=\"#000000\">class = 0</text>\n</g>\n<!-- 71&#45;&gt;79 -->\n<g id=\"edge79\" class=\"edge\">\n<title>71&#45;&gt;79</title>\n<path fill=\"none\" stroke=\"#000000\" d=\"M3739.0513,-341.8796C3755.3143,-332.0056 3772.7701,-321.4075 3789.3858,-311.3193\"/>\n<polygon fill=\"#000000\" stroke=\"#000000\" points=\"3791.256,-314.2785 3797.9874,-306.0969 3787.6231,-308.295 3791.256,-314.2785\"/>\n</g>\n<!-- 73 -->\n<g id=\"node74\" class=\"node\">\n<title>73</title>\n<path fill=\"#e99457\" stroke=\"#000000\" d=\"M3453.5,-187C3453.5,-187 3335.5,-187 3335.5,-187 3329.5,-187 3323.5,-181 3323.5,-175 3323.5,-175 3323.5,-116 3323.5,-116 3323.5,-110 3329.5,-104 3335.5,-104 3335.5,-104 3453.5,-104 3453.5,-104 3459.5,-104 3465.5,-110 3465.5,-116 3465.5,-116 3465.5,-175 3465.5,-175 3465.5,-181 3459.5,-187 3453.5,-187\"/>\n<text text-anchor=\"middle\" x=\"3394.5\" y=\"-171.8\" font-family=\"Helvetica,sans-Serif\" font-size=\"14.00\" fill=\"#000000\">seniorcitizen &lt;= 0.5</text>\n<text text-anchor=\"middle\" x=\"3394.5\" y=\"-156.8\" font-family=\"Helvetica,sans-Serif\" font-size=\"14.00\" fill=\"#000000\">entropy = 0.561</text>\n<text text-anchor=\"middle\" x=\"3394.5\" y=\"-141.8\" font-family=\"Helvetica,sans-Serif\" font-size=\"14.00\" fill=\"#000000\">samples = 61</text>\n<text text-anchor=\"middle\" x=\"3394.5\" y=\"-126.8\" font-family=\"Helvetica,sans-Serif\" font-size=\"14.00\" fill=\"#000000\">value = [53, 8]</text>\n<text text-anchor=\"middle\" x=\"3394.5\" y=\"-111.8\" font-family=\"Helvetica,sans-Serif\" font-size=\"14.00\" fill=\"#000000\">class = 0</text>\n</g>\n<!-- 72&#45;&gt;73 -->\n<g id=\"edge73\" class=\"edge\">\n<title>72&#45;&gt;73</title>\n<path fill=\"none\" stroke=\"#000000\" d=\"M3536.2542,-222.8796C3516.2535,-211.9618 3494.6308,-200.1586 3474.4427,-189.1384\"/>\n<polygon fill=\"#000000\" stroke=\"#000000\" points=\"3476.0388,-186.0223 3465.5844,-184.303 3472.6849,-192.1665 3476.0388,-186.0223\"/>\n</g>\n<!-- 76 -->\n<g id=\"node77\" class=\"node\">\n<title>76</title>\n<path fill=\"#fae7d9\" stroke=\"#000000\" d=\"M3685.5,-187C3685.5,-187 3539.5,-187 3539.5,-187 3533.5,-187 3527.5,-181 3527.5,-175 3527.5,-175 3527.5,-116 3527.5,-116 3527.5,-110 3533.5,-104 3539.5,-104 3539.5,-104 3685.5,-104 3685.5,-104 3691.5,-104 3697.5,-110 3697.5,-116 3697.5,-116 3697.5,-175 3697.5,-175 3697.5,-181 3691.5,-187 3685.5,-187\"/>\n<text text-anchor=\"middle\" x=\"3612.5\" y=\"-171.8\" font-family=\"Helvetica,sans-Serif\" font-size=\"14.00\" fill=\"#000000\">paperlessbilling &lt;= 0.96</text>\n<text text-anchor=\"middle\" x=\"3612.5\" y=\"-156.8\" font-family=\"Helvetica,sans-Serif\" font-size=\"14.00\" fill=\"#000000\">entropy = 0.992</text>\n<text text-anchor=\"middle\" x=\"3612.5\" y=\"-141.8\" font-family=\"Helvetica,sans-Serif\" font-size=\"14.00\" fill=\"#000000\">samples = 94</text>\n<text text-anchor=\"middle\" x=\"3612.5\" y=\"-126.8\" font-family=\"Helvetica,sans-Serif\" font-size=\"14.00\" fill=\"#000000\">value = [52, 42]</text>\n<text text-anchor=\"middle\" x=\"3612.5\" y=\"-111.8\" font-family=\"Helvetica,sans-Serif\" font-size=\"14.00\" fill=\"#000000\">class = 0</text>\n</g>\n<!-- 72&#45;&gt;76 -->\n<g id=\"edge76\" class=\"edge\">\n<title>72&#45;&gt;76</title>\n<path fill=\"none\" stroke=\"#000000\" d=\"M3612.5,-222.8796C3612.5,-214.6838 3612.5,-205.9891 3612.5,-197.5013\"/>\n<polygon fill=\"#000000\" stroke=\"#000000\" points=\"3616.0001,-197.298 3612.5,-187.2981 3609.0001,-197.2981 3616.0001,-197.298\"/>\n</g>\n<!-- 74 -->\n<g id=\"node75\" class=\"node\">\n<title>74</title>\n<path fill=\"#e78945\" stroke=\"#000000\" d=\"M3305.5,-68C3305.5,-68 3211.5,-68 3211.5,-68 3205.5,-68 3199.5,-62 3199.5,-56 3199.5,-56 3199.5,-12 3199.5,-12 3199.5,-6 3205.5,0 3211.5,0 3211.5,0 3305.5,0 3305.5,0 3311.5,0 3317.5,-6 3317.5,-12 3317.5,-12 3317.5,-56 3317.5,-56 3317.5,-62 3311.5,-68 3305.5,-68\"/>\n<text text-anchor=\"middle\" x=\"3258.5\" y=\"-52.8\" font-family=\"Helvetica,sans-Serif\" font-size=\"14.00\" fill=\"#000000\">entropy = 0.314</text>\n<text text-anchor=\"middle\" x=\"3258.5\" y=\"-37.8\" font-family=\"Helvetica,sans-Serif\" font-size=\"14.00\" fill=\"#000000\">samples = 53</text>\n<text text-anchor=\"middle\" x=\"3258.5\" y=\"-22.8\" font-family=\"Helvetica,sans-Serif\" font-size=\"14.00\" fill=\"#000000\">value = [50, 3]</text>\n<text text-anchor=\"middle\" x=\"3258.5\" y=\"-7.8\" font-family=\"Helvetica,sans-Serif\" font-size=\"14.00\" fill=\"#000000\">class = 0</text>\n</g>\n<!-- 73&#45;&gt;74 -->\n<g id=\"edge74\" class=\"edge\">\n<title>73&#45;&gt;74</title>\n<path fill=\"none\" stroke=\"#000000\" d=\"M3343.8586,-103.9815C3332.2001,-94.4232 3319.812,-84.2668 3308.1941,-74.7419\"/>\n<polygon fill=\"#000000\" stroke=\"#000000\" points=\"3310.2448,-71.8972 3300.2925,-68.2637 3305.8067,-77.3105 3310.2448,-71.8972\"/>\n</g>\n<!-- 75 -->\n<g id=\"node76\" class=\"node\">\n<title>75</title>\n<path fill=\"#b0d8f5\" stroke=\"#000000\" d=\"M3441.5,-68C3441.5,-68 3347.5,-68 3347.5,-68 3341.5,-68 3335.5,-62 3335.5,-56 3335.5,-56 3335.5,-12 3335.5,-12 3335.5,-6 3341.5,0 3347.5,0 3347.5,0 3441.5,0 3441.5,0 3447.5,0 3453.5,-6 3453.5,-12 3453.5,-12 3453.5,-56 3453.5,-56 3453.5,-62 3447.5,-68 3441.5,-68\"/>\n<text text-anchor=\"middle\" x=\"3394.5\" y=\"-52.8\" font-family=\"Helvetica,sans-Serif\" font-size=\"14.00\" fill=\"#000000\">entropy = 0.954</text>\n<text text-anchor=\"middle\" x=\"3394.5\" y=\"-37.8\" font-family=\"Helvetica,sans-Serif\" font-size=\"14.00\" fill=\"#000000\">samples = 8</text>\n<text text-anchor=\"middle\" x=\"3394.5\" y=\"-22.8\" font-family=\"Helvetica,sans-Serif\" font-size=\"14.00\" fill=\"#000000\">value = [3, 5]</text>\n<text text-anchor=\"middle\" x=\"3394.5\" y=\"-7.8\" font-family=\"Helvetica,sans-Serif\" font-size=\"14.00\" fill=\"#000000\">class = 1</text>\n</g>\n<!-- 73&#45;&gt;75 -->\n<g id=\"edge75\" class=\"edge\">\n<title>73&#45;&gt;75</title>\n<path fill=\"none\" stroke=\"#000000\" d=\"M3394.5,-103.9815C3394.5,-95.618 3394.5,-86.7965 3394.5,-78.3409\"/>\n<polygon fill=\"#000000\" stroke=\"#000000\" points=\"3398.0001,-78.2636 3394.5,-68.2637 3391.0001,-78.2637 3398.0001,-78.2636\"/>\n</g>\n<!-- 77 -->\n<g id=\"node78\" class=\"node\">\n<title>77</title>\n<path fill=\"#399de5\" stroke=\"#000000\" d=\"M3567,-68C3567,-68 3484,-68 3484,-68 3478,-68 3472,-62 3472,-56 3472,-56 3472,-12 3472,-12 3472,-6 3478,0 3484,0 3484,0 3567,0 3567,0 3573,0 3579,-6 3579,-12 3579,-12 3579,-56 3579,-56 3579,-62 3573,-68 3567,-68\"/>\n<text text-anchor=\"middle\" x=\"3525.5\" y=\"-52.8\" font-family=\"Helvetica,sans-Serif\" font-size=\"14.00\" fill=\"#000000\">entropy = 0.0</text>\n<text text-anchor=\"middle\" x=\"3525.5\" y=\"-37.8\" font-family=\"Helvetica,sans-Serif\" font-size=\"14.00\" fill=\"#000000\">samples = 11</text>\n<text text-anchor=\"middle\" x=\"3525.5\" y=\"-22.8\" font-family=\"Helvetica,sans-Serif\" font-size=\"14.00\" fill=\"#000000\">value = [0, 11]</text>\n<text text-anchor=\"middle\" x=\"3525.5\" y=\"-7.8\" font-family=\"Helvetica,sans-Serif\" font-size=\"14.00\" fill=\"#000000\">class = 1</text>\n</g>\n<!-- 76&#45;&gt;77 -->\n<g id=\"edge77\" class=\"edge\">\n<title>76&#45;&gt;77</title>\n<path fill=\"none\" stroke=\"#000000\" d=\"M3580.1044,-103.9815C3573.0766,-94.9747 3565.6345,-85.4367 3558.5807,-76.3965\"/>\n<polygon fill=\"#000000\" stroke=\"#000000\" points=\"3561.146,-73.9946 3552.2349,-68.2637 3555.6272,-78.3008 3561.146,-73.9946\"/>\n</g>\n<!-- 78 -->\n<g id=\"node79\" class=\"node\">\n<title>78</title>\n<path fill=\"#f4ccaf\" stroke=\"#000000\" d=\"M3703.5,-68C3703.5,-68 3609.5,-68 3609.5,-68 3603.5,-68 3597.5,-62 3597.5,-56 3597.5,-56 3597.5,-12 3597.5,-12 3597.5,-6 3603.5,0 3609.5,0 3609.5,0 3703.5,0 3703.5,0 3709.5,0 3715.5,-6 3715.5,-12 3715.5,-12 3715.5,-56 3715.5,-56 3715.5,-62 3709.5,-68 3703.5,-68\"/>\n<text text-anchor=\"middle\" x=\"3656.5\" y=\"-52.8\" font-family=\"Helvetica,sans-Serif\" font-size=\"14.00\" fill=\"#000000\">entropy = 0.953</text>\n<text text-anchor=\"middle\" x=\"3656.5\" y=\"-37.8\" font-family=\"Helvetica,sans-Serif\" font-size=\"14.00\" fill=\"#000000\">samples = 83</text>\n<text text-anchor=\"middle\" x=\"3656.5\" y=\"-22.8\" font-family=\"Helvetica,sans-Serif\" font-size=\"14.00\" fill=\"#000000\">value = [52, 31]</text>\n<text text-anchor=\"middle\" x=\"3656.5\" y=\"-7.8\" font-family=\"Helvetica,sans-Serif\" font-size=\"14.00\" fill=\"#000000\">class = 0</text>\n</g>\n<!-- 76&#45;&gt;78 -->\n<g id=\"edge78\" class=\"edge\">\n<title>76&#45;&gt;78</title>\n<path fill=\"none\" stroke=\"#000000\" d=\"M3628.884,-103.9815C3632.2569,-95.4342 3635.8186,-86.4086 3639.222,-77.7839\"/>\n<polygon fill=\"#000000\" stroke=\"#000000\" points=\"3642.5638,-78.8504 3642.9789,-68.2637 3636.0525,-76.2808 3642.5638,-78.8504\"/>\n</g>\n<!-- 80 -->\n<g id=\"node81\" class=\"node\">\n<title>80</title>\n<path fill=\"#e99558\" stroke=\"#000000\" d=\"M3936.5,-187C3936.5,-187 3796.5,-187 3796.5,-187 3790.5,-187 3784.5,-181 3784.5,-175 3784.5,-175 3784.5,-116 3784.5,-116 3784.5,-110 3790.5,-104 3796.5,-104 3796.5,-104 3936.5,-104 3936.5,-104 3942.5,-104 3948.5,-110 3948.5,-116 3948.5,-116 3948.5,-175 3948.5,-175 3948.5,-181 3942.5,-187 3936.5,-187\"/>\n<text text-anchor=\"middle\" x=\"3866.5\" y=\"-171.8\" font-family=\"Helvetica,sans-Serif\" font-size=\"14.00\" fill=\"#000000\">onlinebackup &lt;= 0.097</text>\n<text text-anchor=\"middle\" x=\"3866.5\" y=\"-156.8\" font-family=\"Helvetica,sans-Serif\" font-size=\"14.00\" fill=\"#000000\">entropy = 0.569</text>\n<text text-anchor=\"middle\" x=\"3866.5\" y=\"-141.8\" font-family=\"Helvetica,sans-Serif\" font-size=\"14.00\" fill=\"#000000\">samples = 440</text>\n<text text-anchor=\"middle\" x=\"3866.5\" y=\"-126.8\" font-family=\"Helvetica,sans-Serif\" font-size=\"14.00\" fill=\"#000000\">value = [381, 59]</text>\n<text text-anchor=\"middle\" x=\"3866.5\" y=\"-111.8\" font-family=\"Helvetica,sans-Serif\" font-size=\"14.00\" fill=\"#000000\">class = 0</text>\n</g>\n<!-- 79&#45;&gt;80 -->\n<g id=\"edge80\" class=\"edge\">\n<title>79&#45;&gt;80</title>\n<path fill=\"none\" stroke=\"#000000\" d=\"M3866.5,-222.8796C3866.5,-214.6838 3866.5,-205.9891 3866.5,-197.5013\"/>\n<polygon fill=\"#000000\" stroke=\"#000000\" points=\"3870.0001,-197.298 3866.5,-187.2981 3863.0001,-197.2981 3870.0001,-197.298\"/>\n</g>\n<!-- 83 -->\n<g id=\"node84\" class=\"node\">\n<title>83</title>\n<path fill=\"#e6853f\" stroke=\"#000000\" d=\"M4123.5,-187C4123.5,-187 4029.5,-187 4029.5,-187 4023.5,-187 4017.5,-181 4017.5,-175 4017.5,-175 4017.5,-116 4017.5,-116 4017.5,-110 4023.5,-104 4029.5,-104 4029.5,-104 4123.5,-104 4123.5,-104 4129.5,-104 4135.5,-110 4135.5,-116 4135.5,-116 4135.5,-175 4135.5,-175 4135.5,-181 4129.5,-187 4123.5,-187\"/>\n<text text-anchor=\"middle\" x=\"4076.5\" y=\"-171.8\" font-family=\"Helvetica,sans-Serif\" font-size=\"14.00\" fill=\"#000000\">gender &lt;= 0.5</text>\n<text text-anchor=\"middle\" x=\"4076.5\" y=\"-156.8\" font-family=\"Helvetica,sans-Serif\" font-size=\"14.00\" fill=\"#000000\">entropy = 0.191</text>\n<text text-anchor=\"middle\" x=\"4076.5\" y=\"-141.8\" font-family=\"Helvetica,sans-Serif\" font-size=\"14.00\" fill=\"#000000\">samples = 136</text>\n<text text-anchor=\"middle\" x=\"4076.5\" y=\"-126.8\" font-family=\"Helvetica,sans-Serif\" font-size=\"14.00\" fill=\"#000000\">value = [132, 4]</text>\n<text text-anchor=\"middle\" x=\"4076.5\" y=\"-111.8\" font-family=\"Helvetica,sans-Serif\" font-size=\"14.00\" fill=\"#000000\">class = 0</text>\n</g>\n<!-- 79&#45;&gt;83 -->\n<g id=\"edge83\" class=\"edge\">\n<title>79&#45;&gt;83</title>\n<path fill=\"none\" stroke=\"#000000\" d=\"M3939.9478,-222.8796C3962.1941,-210.2734 3986.5235,-196.4867 4008.4034,-184.0881\"/>\n<polygon fill=\"#000000\" stroke=\"#000000\" points=\"4010.3211,-187.0243 4017.2958,-179.0491 4006.87,-180.9342 4010.3211,-187.0243\"/>\n</g>\n<!-- 81 -->\n<g id=\"node82\" class=\"node\">\n<title>81</title>\n<path fill=\"#e78c4b\" stroke=\"#000000\" d=\"M3845.5,-68C3845.5,-68 3745.5,-68 3745.5,-68 3739.5,-68 3733.5,-62 3733.5,-56 3733.5,-56 3733.5,-12 3733.5,-12 3733.5,-6 3739.5,0 3745.5,0 3745.5,0 3845.5,0 3845.5,0 3851.5,0 3857.5,-6 3857.5,-12 3857.5,-12 3857.5,-56 3857.5,-56 3857.5,-62 3851.5,-68 3845.5,-68\"/>\n<text text-anchor=\"middle\" x=\"3795.5\" y=\"-52.8\" font-family=\"Helvetica,sans-Serif\" font-size=\"14.00\" fill=\"#000000\">entropy = 0.41</text>\n<text text-anchor=\"middle\" x=\"3795.5\" y=\"-37.8\" font-family=\"Helvetica,sans-Serif\" font-size=\"14.00\" fill=\"#000000\">samples = 219</text>\n<text text-anchor=\"middle\" x=\"3795.5\" y=\"-22.8\" font-family=\"Helvetica,sans-Serif\" font-size=\"14.00\" fill=\"#000000\">value = [201, 18]</text>\n<text text-anchor=\"middle\" x=\"3795.5\" y=\"-7.8\" font-family=\"Helvetica,sans-Serif\" font-size=\"14.00\" fill=\"#000000\">class = 0</text>\n</g>\n<!-- 80&#45;&gt;81 -->\n<g id=\"edge81\" class=\"edge\">\n<title>80&#45;&gt;81</title>\n<path fill=\"none\" stroke=\"#000000\" d=\"M3840.0622,-103.9815C3834.444,-95.1585 3828.5012,-85.8258 3822.8497,-76.9506\"/>\n<polygon fill=\"#000000\" stroke=\"#000000\" points=\"3825.6416,-74.8188 3817.3181,-68.2637 3819.7371,-78.5787 3825.6416,-74.8188\"/>\n</g>\n<!-- 82 -->\n<g id=\"node83\" class=\"node\">\n<title>82</title>\n<path fill=\"#eb9e66\" stroke=\"#000000\" d=\"M3987.5,-68C3987.5,-68 3887.5,-68 3887.5,-68 3881.5,-68 3875.5,-62 3875.5,-56 3875.5,-56 3875.5,-12 3875.5,-12 3875.5,-6 3881.5,0 3887.5,0 3887.5,0 3987.5,0 3987.5,0 3993.5,0 3999.5,-6 3999.5,-12 3999.5,-12 3999.5,-56 3999.5,-56 3999.5,-62 3993.5,-68 3987.5,-68\"/>\n<text text-anchor=\"middle\" x=\"3937.5\" y=\"-52.8\" font-family=\"Helvetica,sans-Serif\" font-size=\"14.00\" fill=\"#000000\">entropy = 0.692</text>\n<text text-anchor=\"middle\" x=\"3937.5\" y=\"-37.8\" font-family=\"Helvetica,sans-Serif\" font-size=\"14.00\" fill=\"#000000\">samples = 221</text>\n<text text-anchor=\"middle\" x=\"3937.5\" y=\"-22.8\" font-family=\"Helvetica,sans-Serif\" font-size=\"14.00\" fill=\"#000000\">value = [180, 41]</text>\n<text text-anchor=\"middle\" x=\"3937.5\" y=\"-7.8\" font-family=\"Helvetica,sans-Serif\" font-size=\"14.00\" fill=\"#000000\">class = 0</text>\n</g>\n<!-- 80&#45;&gt;82 -->\n<g id=\"edge82\" class=\"edge\">\n<title>80&#45;&gt;82</title>\n<path fill=\"none\" stroke=\"#000000\" d=\"M3892.9378,-103.9815C3898.556,-95.1585 3904.4988,-85.8258 3910.1503,-76.9506\"/>\n<polygon fill=\"#000000\" stroke=\"#000000\" points=\"3913.2629,-78.5787 3915.6819,-68.2637 3907.3584,-74.8188 3913.2629,-78.5787\"/>\n</g>\n<!-- 84 -->\n<g id=\"node85\" class=\"node\">\n<title>84</title>\n<path fill=\"#e68844\" stroke=\"#000000\" d=\"M4123.5,-68C4123.5,-68 4029.5,-68 4029.5,-68 4023.5,-68 4017.5,-62 4017.5,-56 4017.5,-56 4017.5,-12 4017.5,-12 4017.5,-6 4023.5,0 4029.5,0 4029.5,0 4123.5,0 4123.5,0 4129.5,0 4135.5,-6 4135.5,-12 4135.5,-12 4135.5,-56 4135.5,-56 4135.5,-62 4129.5,-68 4123.5,-68\"/>\n<text text-anchor=\"middle\" x=\"4076.5\" y=\"-52.8\" font-family=\"Helvetica,sans-Serif\" font-size=\"14.00\" fill=\"#000000\">entropy = 0.297</text>\n<text text-anchor=\"middle\" x=\"4076.5\" y=\"-37.8\" font-family=\"Helvetica,sans-Serif\" font-size=\"14.00\" fill=\"#000000\">samples = 76</text>\n<text text-anchor=\"middle\" x=\"4076.5\" y=\"-22.8\" font-family=\"Helvetica,sans-Serif\" font-size=\"14.00\" fill=\"#000000\">value = [72, 4]</text>\n<text text-anchor=\"middle\" x=\"4076.5\" y=\"-7.8\" font-family=\"Helvetica,sans-Serif\" font-size=\"14.00\" fill=\"#000000\">class = 0</text>\n</g>\n<!-- 83&#45;&gt;84 -->\n<g id=\"edge84\" class=\"edge\">\n<title>83&#45;&gt;84</title>\n<path fill=\"none\" stroke=\"#000000\" d=\"M4076.5,-103.9815C4076.5,-95.618 4076.5,-86.7965 4076.5,-78.3409\"/>\n<polygon fill=\"#000000\" stroke=\"#000000\" points=\"4080.0001,-78.2636 4076.5,-68.2637 4073.0001,-78.2637 4080.0001,-78.2636\"/>\n</g>\n<!-- 85 -->\n<g id=\"node86\" class=\"node\">\n<title>85</title>\n<path fill=\"#e58139\" stroke=\"#000000\" d=\"M4249,-68C4249,-68 4166,-68 4166,-68 4160,-68 4154,-62 4154,-56 4154,-56 4154,-12 4154,-12 4154,-6 4160,0 4166,0 4166,0 4249,0 4249,0 4255,0 4261,-6 4261,-12 4261,-12 4261,-56 4261,-56 4261,-62 4255,-68 4249,-68\"/>\n<text text-anchor=\"middle\" x=\"4207.5\" y=\"-52.8\" font-family=\"Helvetica,sans-Serif\" font-size=\"14.00\" fill=\"#000000\">entropy = 0.0</text>\n<text text-anchor=\"middle\" x=\"4207.5\" y=\"-37.8\" font-family=\"Helvetica,sans-Serif\" font-size=\"14.00\" fill=\"#000000\">samples = 60</text>\n<text text-anchor=\"middle\" x=\"4207.5\" y=\"-22.8\" font-family=\"Helvetica,sans-Serif\" font-size=\"14.00\" fill=\"#000000\">value = [60, 0]</text>\n<text text-anchor=\"middle\" x=\"4207.5\" y=\"-7.8\" font-family=\"Helvetica,sans-Serif\" font-size=\"14.00\" fill=\"#000000\">class = 0</text>\n</g>\n<!-- 83&#45;&gt;85 -->\n<g id=\"edge85\" class=\"edge\">\n<title>83&#45;&gt;85</title>\n<path fill=\"none\" stroke=\"#000000\" d=\"M4125.2796,-103.9815C4136.4015,-94.5151 4148.2128,-84.462 4159.3099,-75.0168\"/>\n<polygon fill=\"#000000\" stroke=\"#000000\" points=\"4161.8975,-77.4105 4167.244,-68.2637 4157.3604,-72.08 4161.8975,-77.4105\"/>\n</g>\n<!-- 87 -->\n<g id=\"node88\" class=\"node\">\n<title>87</title>\n<path fill=\"#e5813a\" stroke=\"#000000\" d=\"M4272,-425C4272,-425 4135,-425 4135,-425 4129,-425 4123,-419 4123,-413 4123,-413 4123,-354 4123,-354 4123,-348 4129,-342 4135,-342 4135,-342 4272,-342 4272,-342 4278,-342 4284,-348 4284,-354 4284,-354 4284,-413 4284,-413 4284,-419 4278,-425 4272,-425\"/>\n<text text-anchor=\"middle\" x=\"4203.5\" y=\"-409.8\" font-family=\"Helvetica,sans-Serif\" font-size=\"14.00\" fill=\"#000000\">totalcharges &lt;= &#45;0.387</text>\n<text text-anchor=\"middle\" x=\"4203.5\" y=\"-394.8\" font-family=\"Helvetica,sans-Serif\" font-size=\"14.00\" fill=\"#000000\">entropy = 0.028</text>\n<text text-anchor=\"middle\" x=\"4203.5\" y=\"-379.8\" font-family=\"Helvetica,sans-Serif\" font-size=\"14.00\" fill=\"#000000\">samples = 361</text>\n<text text-anchor=\"middle\" x=\"4203.5\" y=\"-364.8\" font-family=\"Helvetica,sans-Serif\" font-size=\"14.00\" fill=\"#000000\">value = [360, 1]</text>\n<text text-anchor=\"middle\" x=\"4203.5\" y=\"-349.8\" font-family=\"Helvetica,sans-Serif\" font-size=\"14.00\" fill=\"#000000\">class = 0</text>\n</g>\n<!-- 86&#45;&gt;87 -->\n<g id=\"edge87\" class=\"edge\">\n<title>86&#45;&gt;87</title>\n<path fill=\"none\" stroke=\"#000000\" d=\"M4260.7219,-460.8796C4254.1949,-452.0534 4247.2401,-442.6485 4240.5092,-433.5466\"/>\n<polygon fill=\"#000000\" stroke=\"#000000\" points=\"4243.1695,-431.2574 4234.4095,-425.2981 4237.5412,-435.4195 4243.1695,-431.2574\"/>\n</g>\n<!-- 90 -->\n<g id=\"node91\" class=\"node\">\n<title>90</title>\n<path fill=\"#e68641\" stroke=\"#000000\" d=\"M4447,-425C4447,-425 4314,-425 4314,-425 4308,-425 4302,-419 4302,-413 4302,-413 4302,-354 4302,-354 4302,-348 4308,-342 4314,-342 4314,-342 4447,-342 4447,-342 4453,-342 4459,-348 4459,-354 4459,-354 4459,-413 4459,-413 4459,-419 4453,-425 4447,-425\"/>\n<text text-anchor=\"middle\" x=\"4380.5\" y=\"-409.8\" font-family=\"Helvetica,sans-Serif\" font-size=\"14.00\" fill=\"#000000\">totalcharges &lt;= 1.531</text>\n<text text-anchor=\"middle\" x=\"4380.5\" y=\"-394.8\" font-family=\"Helvetica,sans-Serif\" font-size=\"14.00\" fill=\"#000000\">entropy = 0.226</text>\n<text text-anchor=\"middle\" x=\"4380.5\" y=\"-379.8\" font-family=\"Helvetica,sans-Serif\" font-size=\"14.00\" fill=\"#000000\">samples = 219</text>\n<text text-anchor=\"middle\" x=\"4380.5\" y=\"-364.8\" font-family=\"Helvetica,sans-Serif\" font-size=\"14.00\" fill=\"#000000\">value = [211, 8]</text>\n<text text-anchor=\"middle\" x=\"4380.5\" y=\"-349.8\" font-family=\"Helvetica,sans-Serif\" font-size=\"14.00\" fill=\"#000000\">class = 0</text>\n</g>\n<!-- 86&#45;&gt;90 -->\n<g id=\"edge90\" class=\"edge\">\n<title>86&#45;&gt;90</title>\n<path fill=\"none\" stroke=\"#000000\" d=\"M4322.6279,-460.8796C4329.229,-452.0534 4336.2629,-442.6485 4343.0702,-433.5466\"/>\n<polygon fill=\"#000000\" stroke=\"#000000\" points=\"4346.0528,-435.4024 4349.2393,-425.2981 4340.4472,-431.2099 4346.0528,-435.4024\"/>\n</g>\n<!-- 88 -->\n<g id=\"node89\" class=\"node\">\n<title>88</title>\n<path fill=\"#e9965a\" stroke=\"#000000\" d=\"M4121.5,-298.5C4121.5,-298.5 4027.5,-298.5 4027.5,-298.5 4021.5,-298.5 4015.5,-292.5 4015.5,-286.5 4015.5,-286.5 4015.5,-242.5 4015.5,-242.5 4015.5,-236.5 4021.5,-230.5 4027.5,-230.5 4027.5,-230.5 4121.5,-230.5 4121.5,-230.5 4127.5,-230.5 4133.5,-236.5 4133.5,-242.5 4133.5,-242.5 4133.5,-286.5 4133.5,-286.5 4133.5,-292.5 4127.5,-298.5 4121.5,-298.5\"/>\n<text text-anchor=\"middle\" x=\"4074.5\" y=\"-283.3\" font-family=\"Helvetica,sans-Serif\" font-size=\"14.00\" fill=\"#000000\">entropy = 0.592</text>\n<text text-anchor=\"middle\" x=\"4074.5\" y=\"-268.3\" font-family=\"Helvetica,sans-Serif\" font-size=\"14.00\" fill=\"#000000\">samples = 7</text>\n<text text-anchor=\"middle\" x=\"4074.5\" y=\"-253.3\" font-family=\"Helvetica,sans-Serif\" font-size=\"14.00\" fill=\"#000000\">value = [6, 1]</text>\n<text text-anchor=\"middle\" x=\"4074.5\" y=\"-238.3\" font-family=\"Helvetica,sans-Serif\" font-size=\"14.00\" fill=\"#000000\">class = 0</text>\n</g>\n<!-- 87&#45;&gt;88 -->\n<g id=\"edge88\" class=\"edge\">\n<title>87&#45;&gt;88</title>\n<path fill=\"none\" stroke=\"#000000\" d=\"M4158.3821,-341.8796C4145.7467,-330.2237 4132.0174,-317.5587 4119.395,-305.9148\"/>\n<polygon fill=\"#000000\" stroke=\"#000000\" points=\"4121.422,-303.0228 4111.6985,-298.8149 4116.6756,-308.168 4121.422,-303.0228\"/>\n</g>\n<!-- 89 -->\n<g id=\"node90\" class=\"node\">\n<title>89</title>\n<path fill=\"#e58139\" stroke=\"#000000\" d=\"M4255.5,-298.5C4255.5,-298.5 4163.5,-298.5 4163.5,-298.5 4157.5,-298.5 4151.5,-292.5 4151.5,-286.5 4151.5,-286.5 4151.5,-242.5 4151.5,-242.5 4151.5,-236.5 4157.5,-230.5 4163.5,-230.5 4163.5,-230.5 4255.5,-230.5 4255.5,-230.5 4261.5,-230.5 4267.5,-236.5 4267.5,-242.5 4267.5,-242.5 4267.5,-286.5 4267.5,-286.5 4267.5,-292.5 4261.5,-298.5 4255.5,-298.5\"/>\n<text text-anchor=\"middle\" x=\"4209.5\" y=\"-283.3\" font-family=\"Helvetica,sans-Serif\" font-size=\"14.00\" fill=\"#000000\">entropy = 0.0</text>\n<text text-anchor=\"middle\" x=\"4209.5\" y=\"-268.3\" font-family=\"Helvetica,sans-Serif\" font-size=\"14.00\" fill=\"#000000\">samples = 354</text>\n<text text-anchor=\"middle\" x=\"4209.5\" y=\"-253.3\" font-family=\"Helvetica,sans-Serif\" font-size=\"14.00\" fill=\"#000000\">value = [354, 0]</text>\n<text text-anchor=\"middle\" x=\"4209.5\" y=\"-238.3\" font-family=\"Helvetica,sans-Serif\" font-size=\"14.00\" fill=\"#000000\">class = 0</text>\n</g>\n<!-- 87&#45;&gt;89 -->\n<g id=\"edge89\" class=\"edge\">\n<title>87&#45;&gt;89</title>\n<path fill=\"none\" stroke=\"#000000\" d=\"M4205.5985,-341.8796C4206.1363,-331.2134 4206.7167,-319.7021 4207.2613,-308.9015\"/>\n<polygon fill=\"#000000\" stroke=\"#000000\" points=\"4210.7617,-308.9785 4207.7698,-298.8149 4203.7706,-308.626 4210.7617,-308.9785\"/>\n</g>\n<!-- 91 -->\n<g id=\"node92\" class=\"node\">\n<title>91</title>\n<path fill=\"#e78c4b\" stroke=\"#000000\" d=\"M4442,-306C4442,-306 4309,-306 4309,-306 4303,-306 4297,-300 4297,-294 4297,-294 4297,-235 4297,-235 4297,-229 4303,-223 4309,-223 4309,-223 4442,-223 4442,-223 4448,-223 4454,-229 4454,-235 4454,-235 4454,-294 4454,-294 4454,-300 4448,-306 4442,-306\"/>\n<text text-anchor=\"middle\" x=\"4375.5\" y=\"-290.8\" font-family=\"Helvetica,sans-Serif\" font-size=\"14.00\" fill=\"#000000\">totalcharges &lt;= 1.488</text>\n<text text-anchor=\"middle\" x=\"4375.5\" y=\"-275.8\" font-family=\"Helvetica,sans-Serif\" font-size=\"14.00\" fill=\"#000000\">entropy = 0.414</text>\n<text text-anchor=\"middle\" x=\"4375.5\" y=\"-260.8\" font-family=\"Helvetica,sans-Serif\" font-size=\"14.00\" fill=\"#000000\">samples = 84</text>\n<text text-anchor=\"middle\" x=\"4375.5\" y=\"-245.8\" font-family=\"Helvetica,sans-Serif\" font-size=\"14.00\" fill=\"#000000\">value = [77, 7]</text>\n<text text-anchor=\"middle\" x=\"4375.5\" y=\"-230.8\" font-family=\"Helvetica,sans-Serif\" font-size=\"14.00\" fill=\"#000000\">class = 0</text>\n</g>\n<!-- 90&#45;&gt;91 -->\n<g id=\"edge91\" class=\"edge\">\n<title>90&#45;&gt;91</title>\n<path fill=\"none\" stroke=\"#000000\" d=\"M4378.7512,-341.8796C4378.4069,-333.6838 4378.0416,-324.9891 4377.6849,-316.5013\"/>\n<polygon fill=\"#000000\" stroke=\"#000000\" points=\"4381.173,-316.1423 4377.2562,-306.2981 4374.1792,-316.4362 4381.173,-316.1423\"/>\n</g>\n<!-- 96 -->\n<g id=\"node97\" class=\"node\">\n<title>96</title>\n<path fill=\"#e5823a\" stroke=\"#000000\" d=\"M4641,-306C4641,-306 4484,-306 4484,-306 4478,-306 4472,-300 4472,-294 4472,-294 4472,-235 4472,-235 4472,-229 4478,-223 4484,-223 4484,-223 4641,-223 4641,-223 4647,-223 4653,-229 4653,-235 4653,-235 4653,-294 4653,-294 4653,-300 4647,-306 4641,-306\"/>\n<text text-anchor=\"middle\" x=\"4562.5\" y=\"-290.8\" font-family=\"Helvetica,sans-Serif\" font-size=\"14.00\" fill=\"#000000\">monthlycharges &lt;= 0.858</text>\n<text text-anchor=\"middle\" x=\"4562.5\" y=\"-275.8\" font-family=\"Helvetica,sans-Serif\" font-size=\"14.00\" fill=\"#000000\">entropy = 0.063</text>\n<text text-anchor=\"middle\" x=\"4562.5\" y=\"-260.8\" font-family=\"Helvetica,sans-Serif\" font-size=\"14.00\" fill=\"#000000\">samples = 135</text>\n<text text-anchor=\"middle\" x=\"4562.5\" y=\"-245.8\" font-family=\"Helvetica,sans-Serif\" font-size=\"14.00\" fill=\"#000000\">value = [134, 1]</text>\n<text text-anchor=\"middle\" x=\"4562.5\" y=\"-230.8\" font-family=\"Helvetica,sans-Serif\" font-size=\"14.00\" fill=\"#000000\">class = 0</text>\n</g>\n<!-- 90&#45;&gt;96 -->\n<g id=\"edge96\" class=\"edge\">\n<title>90&#45;&gt;96</title>\n<path fill=\"none\" stroke=\"#000000\" d=\"M4444.1548,-341.8796C4459.1176,-332.0962 4475.1677,-321.6019 4490.4691,-311.5971\"/>\n<polygon fill=\"#000000\" stroke=\"#000000\" points=\"4492.4269,-314.4989 4498.8812,-306.0969 4488.5961,-308.6401 4492.4269,-314.4989\"/>\n</g>\n<!-- 92 -->\n<g id=\"node93\" class=\"node\">\n<title>92</title>\n<path fill=\"#e68642\" stroke=\"#000000\" d=\"M4312,-187C4312,-187 4179,-187 4179,-187 4173,-187 4167,-181 4167,-175 4167,-175 4167,-116 4167,-116 4167,-110 4173,-104 4179,-104 4179,-104 4312,-104 4312,-104 4318,-104 4324,-110 4324,-116 4324,-116 4324,-175 4324,-175 4324,-181 4318,-187 4312,-187\"/>\n<text text-anchor=\"middle\" x=\"4245.5\" y=\"-171.8\" font-family=\"Helvetica,sans-Serif\" font-size=\"14.00\" fill=\"#000000\">totalcharges &lt;= 1.209</text>\n<text text-anchor=\"middle\" x=\"4245.5\" y=\"-156.8\" font-family=\"Helvetica,sans-Serif\" font-size=\"14.00\" fill=\"#000000\">entropy = 0.25</text>\n<text text-anchor=\"middle\" x=\"4245.5\" y=\"-141.8\" font-family=\"Helvetica,sans-Serif\" font-size=\"14.00\" fill=\"#000000\">samples = 72</text>\n<text text-anchor=\"middle\" x=\"4245.5\" y=\"-126.8\" font-family=\"Helvetica,sans-Serif\" font-size=\"14.00\" fill=\"#000000\">value = [69, 3]</text>\n<text text-anchor=\"middle\" x=\"4245.5\" y=\"-111.8\" font-family=\"Helvetica,sans-Serif\" font-size=\"14.00\" fill=\"#000000\">class = 0</text>\n</g>\n<!-- 91&#45;&gt;92 -->\n<g id=\"edge92\" class=\"edge\">\n<title>91&#45;&gt;92</title>\n<path fill=\"none\" stroke=\"#000000\" d=\"M4330.0323,-222.8796C4319.8983,-213.6031 4309.066,-203.6874 4298.6535,-194.1559\"/>\n<polygon fill=\"#000000\" stroke=\"#000000\" points=\"4300.9013,-191.4685 4291.1618,-187.2981 4296.1748,-196.6319 4300.9013,-191.4685\"/>\n</g>\n<!-- 95 -->\n<g id=\"node96\" class=\"node\">\n<title>95</title>\n<path fill=\"#f2c09c\" stroke=\"#000000\" d=\"M4448.5,-179.5C4448.5,-179.5 4354.5,-179.5 4354.5,-179.5 4348.5,-179.5 4342.5,-173.5 4342.5,-167.5 4342.5,-167.5 4342.5,-123.5 4342.5,-123.5 4342.5,-117.5 4348.5,-111.5 4354.5,-111.5 4354.5,-111.5 4448.5,-111.5 4448.5,-111.5 4454.5,-111.5 4460.5,-117.5 4460.5,-123.5 4460.5,-123.5 4460.5,-167.5 4460.5,-167.5 4460.5,-173.5 4454.5,-179.5 4448.5,-179.5\"/>\n<text text-anchor=\"middle\" x=\"4401.5\" y=\"-164.3\" font-family=\"Helvetica,sans-Serif\" font-size=\"14.00\" fill=\"#000000\">entropy = 0.918</text>\n<text text-anchor=\"middle\" x=\"4401.5\" y=\"-149.3\" font-family=\"Helvetica,sans-Serif\" font-size=\"14.00\" fill=\"#000000\">samples = 12</text>\n<text text-anchor=\"middle\" x=\"4401.5\" y=\"-134.3\" font-family=\"Helvetica,sans-Serif\" font-size=\"14.00\" fill=\"#000000\">value = [8, 4]</text>\n<text text-anchor=\"middle\" x=\"4401.5\" y=\"-119.3\" font-family=\"Helvetica,sans-Serif\" font-size=\"14.00\" fill=\"#000000\">class = 0</text>\n</g>\n<!-- 91&#45;&gt;95 -->\n<g id=\"edge95\" class=\"edge\">\n<title>91&#45;&gt;95</title>\n<path fill=\"none\" stroke=\"#000000\" d=\"M4384.5935,-222.8796C4386.924,-212.2134 4389.439,-200.7021 4391.7988,-189.9015\"/>\n<polygon fill=\"#000000\" stroke=\"#000000\" points=\"4395.2874,-190.3316 4394.0026,-179.8149 4388.4487,-188.8374 4395.2874,-190.3316\"/>\n</g>\n<!-- 93 -->\n<g id=\"node94\" class=\"node\">\n<title>93</title>\n<path fill=\"#399de5\" stroke=\"#000000\" d=\"M4368,-68C4368,-68 4291,-68 4291,-68 4285,-68 4279,-62 4279,-56 4279,-56 4279,-12 4279,-12 4279,-6 4285,0 4291,0 4291,0 4368,0 4368,0 4374,0 4380,-6 4380,-12 4380,-12 4380,-56 4380,-56 4380,-62 4374,-68 4368,-68\"/>\n<text text-anchor=\"middle\" x=\"4329.5\" y=\"-52.8\" font-family=\"Helvetica,sans-Serif\" font-size=\"14.00\" fill=\"#000000\">entropy = 0.0</text>\n<text text-anchor=\"middle\" x=\"4329.5\" y=\"-37.8\" font-family=\"Helvetica,sans-Serif\" font-size=\"14.00\" fill=\"#000000\">samples = 1</text>\n<text text-anchor=\"middle\" x=\"4329.5\" y=\"-22.8\" font-family=\"Helvetica,sans-Serif\" font-size=\"14.00\" fill=\"#000000\">value = [0, 1]</text>\n<text text-anchor=\"middle\" x=\"4329.5\" y=\"-7.8\" font-family=\"Helvetica,sans-Serif\" font-size=\"14.00\" fill=\"#000000\">class = 1</text>\n</g>\n<!-- 92&#45;&gt;93 -->\n<g id=\"edge93\" class=\"edge\">\n<title>92&#45;&gt;93</title>\n<path fill=\"none\" stroke=\"#000000\" d=\"M4276.7785,-103.9815C4283.5639,-94.9747 4290.7495,-85.4367 4297.5601,-76.3965\"/>\n<polygon fill=\"#000000\" stroke=\"#000000\" points=\"4300.4653,-78.3568 4303.687,-68.2637 4294.8743,-74.1448 4300.4653,-78.3568\"/>\n</g>\n<!-- 94 -->\n<g id=\"node95\" class=\"node\">\n<title>94</title>\n<path fill=\"#e6853f\" stroke=\"#000000\" d=\"M4504.5,-68C4504.5,-68 4410.5,-68 4410.5,-68 4404.5,-68 4398.5,-62 4398.5,-56 4398.5,-56 4398.5,-12 4398.5,-12 4398.5,-6 4404.5,0 4410.5,0 4410.5,0 4504.5,0 4504.5,0 4510.5,0 4516.5,-6 4516.5,-12 4516.5,-12 4516.5,-56 4516.5,-56 4516.5,-62 4510.5,-68 4504.5,-68\"/>\n<text text-anchor=\"middle\" x=\"4457.5\" y=\"-52.8\" font-family=\"Helvetica,sans-Serif\" font-size=\"14.00\" fill=\"#000000\">entropy = 0.185</text>\n<text text-anchor=\"middle\" x=\"4457.5\" y=\"-37.8\" font-family=\"Helvetica,sans-Serif\" font-size=\"14.00\" fill=\"#000000\">samples = 71</text>\n<text text-anchor=\"middle\" x=\"4457.5\" y=\"-22.8\" font-family=\"Helvetica,sans-Serif\" font-size=\"14.00\" fill=\"#000000\">value = [69, 2]</text>\n<text text-anchor=\"middle\" x=\"4457.5\" y=\"-7.8\" font-family=\"Helvetica,sans-Serif\" font-size=\"14.00\" fill=\"#000000\">class = 0</text>\n</g>\n<!-- 92&#45;&gt;94 -->\n<g id=\"edge94\" class=\"edge\">\n<title>92&#45;&gt;94</title>\n<path fill=\"none\" stroke=\"#000000\" d=\"M4324.1397,-104.14C4345.4905,-92.9107 4368.431,-80.8453 4389.1622,-69.9418\"/>\n<polygon fill=\"#000000\" stroke=\"#000000\" points=\"4390.987,-72.9367 4398.2084,-65.1841 4387.7286,-66.7413 4390.987,-72.9367\"/>\n</g>\n<!-- 97 -->\n<g id=\"node98\" class=\"node\">\n<title>97</title>\n<path fill=\"#e58139\" stroke=\"#000000\" d=\"M4582.5,-179.5C4582.5,-179.5 4490.5,-179.5 4490.5,-179.5 4484.5,-179.5 4478.5,-173.5 4478.5,-167.5 4478.5,-167.5 4478.5,-123.5 4478.5,-123.5 4478.5,-117.5 4484.5,-111.5 4490.5,-111.5 4490.5,-111.5 4582.5,-111.5 4582.5,-111.5 4588.5,-111.5 4594.5,-117.5 4594.5,-123.5 4594.5,-123.5 4594.5,-167.5 4594.5,-167.5 4594.5,-173.5 4588.5,-179.5 4582.5,-179.5\"/>\n<text text-anchor=\"middle\" x=\"4536.5\" y=\"-164.3\" font-family=\"Helvetica,sans-Serif\" font-size=\"14.00\" fill=\"#000000\">entropy = 0.0</text>\n<text text-anchor=\"middle\" x=\"4536.5\" y=\"-149.3\" font-family=\"Helvetica,sans-Serif\" font-size=\"14.00\" fill=\"#000000\">samples = 130</text>\n<text text-anchor=\"middle\" x=\"4536.5\" y=\"-134.3\" font-family=\"Helvetica,sans-Serif\" font-size=\"14.00\" fill=\"#000000\">value = [130, 0]</text>\n<text text-anchor=\"middle\" x=\"4536.5\" y=\"-119.3\" font-family=\"Helvetica,sans-Serif\" font-size=\"14.00\" fill=\"#000000\">class = 0</text>\n</g>\n<!-- 96&#45;&gt;97 -->\n<g id=\"edge97\" class=\"edge\">\n<title>96&#45;&gt;97</title>\n<path fill=\"none\" stroke=\"#000000\" d=\"M4553.4065,-222.8796C4551.076,-212.2134 4548.561,-200.7021 4546.2012,-189.9015\"/>\n<polygon fill=\"#000000\" stroke=\"#000000\" points=\"4549.5513,-188.8374 4543.9974,-179.8149 4542.7126,-190.3316 4549.5513,-188.8374\"/>\n</g>\n<!-- 98 -->\n<g id=\"node99\" class=\"node\">\n<title>98</title>\n<path fill=\"#eca06a\" stroke=\"#000000\" d=\"M4718.5,-179.5C4718.5,-179.5 4624.5,-179.5 4624.5,-179.5 4618.5,-179.5 4612.5,-173.5 4612.5,-167.5 4612.5,-167.5 4612.5,-123.5 4612.5,-123.5 4612.5,-117.5 4618.5,-111.5 4624.5,-111.5 4624.5,-111.5 4718.5,-111.5 4718.5,-111.5 4724.5,-111.5 4730.5,-117.5 4730.5,-123.5 4730.5,-123.5 4730.5,-167.5 4730.5,-167.5 4730.5,-173.5 4724.5,-179.5 4718.5,-179.5\"/>\n<text text-anchor=\"middle\" x=\"4671.5\" y=\"-164.3\" font-family=\"Helvetica,sans-Serif\" font-size=\"14.00\" fill=\"#000000\">entropy = 0.722</text>\n<text text-anchor=\"middle\" x=\"4671.5\" y=\"-149.3\" font-family=\"Helvetica,sans-Serif\" font-size=\"14.00\" fill=\"#000000\">samples = 5</text>\n<text text-anchor=\"middle\" x=\"4671.5\" y=\"-134.3\" font-family=\"Helvetica,sans-Serif\" font-size=\"14.00\" fill=\"#000000\">value = [4, 1]</text>\n<text text-anchor=\"middle\" x=\"4671.5\" y=\"-119.3\" font-family=\"Helvetica,sans-Serif\" font-size=\"14.00\" fill=\"#000000\">class = 0</text>\n</g>\n<!-- 96&#45;&gt;98 -->\n<g id=\"edge98\" class=\"edge\">\n<title>96&#45;&gt;98</title>\n<path fill=\"none\" stroke=\"#000000\" d=\"M4600.6229,-222.8796C4611.1986,-211.3337 4622.6812,-198.7976 4633.2633,-187.2446\"/>\n<polygon fill=\"#000000\" stroke=\"#000000\" points=\"4635.8951,-189.5531 4640.0687,-179.8149 4630.7333,-184.825 4635.8951,-189.5531\"/>\n</g>\n<!-- 100 -->\n<g id=\"node101\" class=\"node\">\n<title>100</title>\n<path fill=\"#f8dcc8\" stroke=\"#000000\" d=\"M5169.5,-544C5169.5,-544 5039.5,-544 5039.5,-544 5033.5,-544 5027.5,-538 5027.5,-532 5027.5,-532 5027.5,-473 5027.5,-473 5027.5,-467 5033.5,-461 5039.5,-461 5039.5,-461 5169.5,-461 5169.5,-461 5175.5,-461 5181.5,-467 5181.5,-473 5181.5,-473 5181.5,-532 5181.5,-532 5181.5,-538 5175.5,-544 5169.5,-544\"/>\n<text text-anchor=\"middle\" x=\"5104.5\" y=\"-528.8\" font-family=\"Helvetica,sans-Serif\" font-size=\"14.00\" fill=\"#000000\">techsupport &lt;= 0.033</text>\n<text text-anchor=\"middle\" x=\"5104.5\" y=\"-513.8\" font-family=\"Helvetica,sans-Serif\" font-size=\"14.00\" fill=\"#000000\">entropy = 0.981</text>\n<text text-anchor=\"middle\" x=\"5104.5\" y=\"-498.8\" font-family=\"Helvetica,sans-Serif\" font-size=\"14.00\" fill=\"#000000\">samples = 677</text>\n<text text-anchor=\"middle\" x=\"5104.5\" y=\"-483.8\" font-family=\"Helvetica,sans-Serif\" font-size=\"14.00\" fill=\"#000000\">value = [393, 284]</text>\n<text text-anchor=\"middle\" x=\"5104.5\" y=\"-468.8\" font-family=\"Helvetica,sans-Serif\" font-size=\"14.00\" fill=\"#000000\">class = 0</text>\n</g>\n<!-- 99&#45;&gt;100 -->\n<g id=\"edge100\" class=\"edge\">\n<title>99&#45;&gt;100</title>\n<path fill=\"none\" stroke=\"#000000\" d=\"M5104.5,-579.8796C5104.5,-571.6838 5104.5,-562.9891 5104.5,-554.5013\"/>\n<polygon fill=\"#000000\" stroke=\"#000000\" points=\"5108.0001,-554.298 5104.5,-544.2981 5101.0001,-554.2981 5108.0001,-554.298\"/>\n</g>\n<!-- 115 -->\n<g id=\"node116\" class=\"node\">\n<title>115</title>\n<path fill=\"#e99457\" stroke=\"#000000\" d=\"M5668.5,-544C5668.5,-544 5568.5,-544 5568.5,-544 5562.5,-544 5556.5,-538 5556.5,-532 5556.5,-532 5556.5,-473 5556.5,-473 5556.5,-467 5562.5,-461 5568.5,-461 5568.5,-461 5668.5,-461 5668.5,-461 5674.5,-461 5680.5,-467 5680.5,-473 5680.5,-473 5680.5,-532 5680.5,-532 5680.5,-538 5674.5,-544 5668.5,-544\"/>\n<text text-anchor=\"middle\" x=\"5618.5\" y=\"-528.8\" font-family=\"Helvetica,sans-Serif\" font-size=\"14.00\" fill=\"#000000\">tenure &lt;= 1.793</text>\n<text text-anchor=\"middle\" x=\"5618.5\" y=\"-513.8\" font-family=\"Helvetica,sans-Serif\" font-size=\"14.00\" fill=\"#000000\">entropy = 0.56</text>\n<text text-anchor=\"middle\" x=\"5618.5\" y=\"-498.8\" font-family=\"Helvetica,sans-Serif\" font-size=\"14.00\" fill=\"#000000\">samples = 412</text>\n<text text-anchor=\"middle\" x=\"5618.5\" y=\"-483.8\" font-family=\"Helvetica,sans-Serif\" font-size=\"14.00\" fill=\"#000000\">value = [358, 54]</text>\n<text text-anchor=\"middle\" x=\"5618.5\" y=\"-468.8\" font-family=\"Helvetica,sans-Serif\" font-size=\"14.00\" fill=\"#000000\">class = 0</text>\n</g>\n<!-- 99&#45;&gt;115 -->\n<g id=\"edge115\" class=\"edge\">\n<title>99&#45;&gt;115</title>\n<path fill=\"none\" stroke=\"#000000\" d=\"M5181.7291,-603.6201C5280.5254,-580.747 5450.3325,-541.4337 5546.5291,-519.1625\"/>\n<polygon fill=\"#000000\" stroke=\"#000000\" points=\"5547.5063,-522.5289 5556.4591,-516.8635 5545.9274,-515.7093 5547.5063,-522.5289\"/>\n</g>\n<!-- 101 -->\n<g id=\"node102\" class=\"node\">\n<title>101</title>\n<path fill=\"#f4c8a9\" stroke=\"#000000\" d=\"M5099,-425C5099,-425 4956,-425 4956,-425 4950,-425 4944,-419 4944,-413 4944,-413 4944,-354 4944,-354 4944,-348 4950,-342 4956,-342 4956,-342 5099,-342 5099,-342 5105,-342 5111,-348 5111,-354 5111,-354 5111,-413 5111,-413 5111,-419 5105,-425 5099,-425\"/>\n<text text-anchor=\"middle\" x=\"5027.5\" y=\"-409.8\" font-family=\"Helvetica,sans-Serif\" font-size=\"14.00\" fill=\"#000000\">onlinesecurity &lt;= 0.991</text>\n<text text-anchor=\"middle\" x=\"5027.5\" y=\"-394.8\" font-family=\"Helvetica,sans-Serif\" font-size=\"14.00\" fill=\"#000000\">entropy = 0.944</text>\n<text text-anchor=\"middle\" x=\"5027.5\" y=\"-379.8\" font-family=\"Helvetica,sans-Serif\" font-size=\"14.00\" fill=\"#000000\">samples = 616</text>\n<text text-anchor=\"middle\" x=\"5027.5\" y=\"-364.8\" font-family=\"Helvetica,sans-Serif\" font-size=\"14.00\" fill=\"#000000\">value = [393, 223]</text>\n<text text-anchor=\"middle\" x=\"5027.5\" y=\"-349.8\" font-family=\"Helvetica,sans-Serif\" font-size=\"14.00\" fill=\"#000000\">class = 0</text>\n</g>\n<!-- 100&#45;&gt;101 -->\n<g id=\"edge101\" class=\"edge\">\n<title>100&#45;&gt;101</title>\n<path fill=\"none\" stroke=\"#000000\" d=\"M5077.5691,-460.8796C5071.9163,-452.1434 5065.8967,-442.8404 5060.0634,-433.8253\"/>\n<polygon fill=\"#000000\" stroke=\"#000000\" points=\"5062.9169,-431.7924 5054.5458,-425.2981 5057.0399,-435.5952 5062.9169,-431.7924\"/>\n</g>\n<!-- 114 -->\n<g id=\"node115\" class=\"node\">\n<title>114</title>\n<path fill=\"#399de5\" stroke=\"#000000\" d=\"M5224,-417.5C5224,-417.5 5141,-417.5 5141,-417.5 5135,-417.5 5129,-411.5 5129,-405.5 5129,-405.5 5129,-361.5 5129,-361.5 5129,-355.5 5135,-349.5 5141,-349.5 5141,-349.5 5224,-349.5 5224,-349.5 5230,-349.5 5236,-355.5 5236,-361.5 5236,-361.5 5236,-405.5 5236,-405.5 5236,-411.5 5230,-417.5 5224,-417.5\"/>\n<text text-anchor=\"middle\" x=\"5182.5\" y=\"-402.3\" font-family=\"Helvetica,sans-Serif\" font-size=\"14.00\" fill=\"#000000\">entropy = 0.0</text>\n<text text-anchor=\"middle\" x=\"5182.5\" y=\"-387.3\" font-family=\"Helvetica,sans-Serif\" font-size=\"14.00\" fill=\"#000000\">samples = 61</text>\n<text text-anchor=\"middle\" x=\"5182.5\" y=\"-372.3\" font-family=\"Helvetica,sans-Serif\" font-size=\"14.00\" fill=\"#000000\">value = [0, 61]</text>\n<text text-anchor=\"middle\" x=\"5182.5\" y=\"-357.3\" font-family=\"Helvetica,sans-Serif\" font-size=\"14.00\" fill=\"#000000\">class = 1</text>\n</g>\n<!-- 100&#45;&gt;114 -->\n<g id=\"edge114\" class=\"edge\">\n<title>100&#45;&gt;114</title>\n<path fill=\"none\" stroke=\"#000000\" d=\"M5131.7806,-460.8796C5139.1323,-449.6636 5147.0964,-437.5131 5154.4874,-426.2372\"/>\n<polygon fill=\"#000000\" stroke=\"#000000\" points=\"5157.4531,-428.0972 5160.0079,-417.8149 5151.5986,-424.2598 5157.4531,-428.0972\"/>\n</g>\n<!-- 102 -->\n<g id=\"node103\" class=\"node\">\n<title>102</title>\n<path fill=\"#fae8db\" stroke=\"#000000\" d=\"M5015.5,-306C5015.5,-306 4881.5,-306 4881.5,-306 4875.5,-306 4869.5,-300 4869.5,-294 4869.5,-294 4869.5,-235 4869.5,-235 4869.5,-229 4875.5,-223 4881.5,-223 4881.5,-223 5015.5,-223 5015.5,-223 5021.5,-223 5027.5,-229 5027.5,-235 5027.5,-235 5027.5,-294 5027.5,-294 5027.5,-300 5021.5,-306 5015.5,-306\"/>\n<text text-anchor=\"middle\" x=\"4948.5\" y=\"-290.8\" font-family=\"Helvetica,sans-Serif\" font-size=\"14.00\" fill=\"#000000\">onlinesecurity &lt;= 0.01</text>\n<text text-anchor=\"middle\" x=\"4948.5\" y=\"-275.8\" font-family=\"Helvetica,sans-Serif\" font-size=\"14.00\" fill=\"#000000\">entropy = 0.993</text>\n<text text-anchor=\"middle\" x=\"4948.5\" y=\"-260.8\" font-family=\"Helvetica,sans-Serif\" font-size=\"14.00\" fill=\"#000000\">samples = 426</text>\n<text text-anchor=\"middle\" x=\"4948.5\" y=\"-245.8\" font-family=\"Helvetica,sans-Serif\" font-size=\"14.00\" fill=\"#000000\">value = [234, 192]</text>\n<text text-anchor=\"middle\" x=\"4948.5\" y=\"-230.8\" font-family=\"Helvetica,sans-Serif\" font-size=\"14.00\" fill=\"#000000\">class = 0</text>\n</g>\n<!-- 101&#45;&gt;102 -->\n<g id=\"edge102\" class=\"edge\">\n<title>101&#45;&gt;102</title>\n<path fill=\"none\" stroke=\"#000000\" d=\"M4999.8696,-341.8796C4994.07,-333.1434 4987.8941,-323.8404 4981.9092,-314.8253\"/>\n<polygon fill=\"#000000\" stroke=\"#000000\" points=\"4984.6951,-312.6935 4976.2483,-306.2981 4978.8632,-316.5652 4984.6951,-312.6935\"/>\n</g>\n<!-- 107 -->\n<g id=\"node108\" class=\"node\">\n<title>107</title>\n<path fill=\"#ea9a60\" stroke=\"#000000\" d=\"M5157.5,-306C5157.5,-306 5057.5,-306 5057.5,-306 5051.5,-306 5045.5,-300 5045.5,-294 5045.5,-294 5045.5,-235 5045.5,-235 5045.5,-229 5051.5,-223 5057.5,-223 5057.5,-223 5157.5,-223 5157.5,-223 5163.5,-223 5169.5,-229 5169.5,-235 5169.5,-235 5169.5,-294 5169.5,-294 5169.5,-300 5163.5,-306 5157.5,-306\"/>\n<text text-anchor=\"middle\" x=\"5107.5\" y=\"-290.8\" font-family=\"Helvetica,sans-Serif\" font-size=\"14.00\" fill=\"#000000\">tenure &lt;= 1.292</text>\n<text text-anchor=\"middle\" x=\"5107.5\" y=\"-275.8\" font-family=\"Helvetica,sans-Serif\" font-size=\"14.00\" fill=\"#000000\">entropy = 0.642</text>\n<text text-anchor=\"middle\" x=\"5107.5\" y=\"-260.8\" font-family=\"Helvetica,sans-Serif\" font-size=\"14.00\" fill=\"#000000\">samples = 190</text>\n<text text-anchor=\"middle\" x=\"5107.5\" y=\"-245.8\" font-family=\"Helvetica,sans-Serif\" font-size=\"14.00\" fill=\"#000000\">value = [159, 31]</text>\n<text text-anchor=\"middle\" x=\"5107.5\" y=\"-230.8\" font-family=\"Helvetica,sans-Serif\" font-size=\"14.00\" fill=\"#000000\">class = 0</text>\n</g>\n<!-- 101&#45;&gt;107 -->\n<g id=\"edge107\" class=\"edge\">\n<title>101&#45;&gt;107</title>\n<path fill=\"none\" stroke=\"#000000\" d=\"M5055.4801,-341.8796C5061.3531,-333.1434 5067.6073,-323.8404 5073.6679,-314.8253\"/>\n<polygon fill=\"#000000\" stroke=\"#000000\" points=\"5076.7259,-316.5498 5079.4005,-306.2981 5070.9166,-312.6444 5076.7259,-316.5498\"/>\n</g>\n<!-- 103 -->\n<g id=\"node104\" class=\"node\">\n<title>103</title>\n<path fill=\"#f8dbc7\" stroke=\"#000000\" d=\"M4868.5,-187C4868.5,-187 4760.5,-187 4760.5,-187 4754.5,-187 4748.5,-181 4748.5,-175 4748.5,-175 4748.5,-116 4748.5,-116 4748.5,-110 4754.5,-104 4760.5,-104 4760.5,-104 4868.5,-104 4868.5,-104 4874.5,-104 4880.5,-110 4880.5,-116 4880.5,-116 4880.5,-175 4880.5,-175 4880.5,-181 4874.5,-187 4868.5,-187\"/>\n<text text-anchor=\"middle\" x=\"4814.5\" y=\"-171.8\" font-family=\"Helvetica,sans-Serif\" font-size=\"14.00\" fill=\"#000000\">tenure &lt;= 0.972</text>\n<text text-anchor=\"middle\" x=\"4814.5\" y=\"-156.8\" font-family=\"Helvetica,sans-Serif\" font-size=\"14.00\" fill=\"#000000\">entropy = 0.98</text>\n<text text-anchor=\"middle\" x=\"4814.5\" y=\"-141.8\" font-family=\"Helvetica,sans-Serif\" font-size=\"14.00\" fill=\"#000000\">samples = 402</text>\n<text text-anchor=\"middle\" x=\"4814.5\" y=\"-126.8\" font-family=\"Helvetica,sans-Serif\" font-size=\"14.00\" fill=\"#000000\">value = [234, 168]</text>\n<text text-anchor=\"middle\" x=\"4814.5\" y=\"-111.8\" font-family=\"Helvetica,sans-Serif\" font-size=\"14.00\" fill=\"#000000\">class = 0</text>\n</g>\n<!-- 102&#45;&gt;103 -->\n<g id=\"edge103\" class=\"edge\">\n<title>102&#45;&gt;103</title>\n<path fill=\"none\" stroke=\"#000000\" d=\"M4901.6333,-222.8796C4891.1875,-213.6031 4880.0219,-203.6874 4869.289,-194.1559\"/>\n<polygon fill=\"#000000\" stroke=\"#000000\" points=\"4871.368,-191.3213 4861.5667,-187.2981 4866.7199,-196.5553 4871.368,-191.3213\"/>\n</g>\n<!-- 106 -->\n<g id=\"node107\" class=\"node\">\n<title>106</title>\n<path fill=\"#399de5\" stroke=\"#000000\" d=\"M4994,-179.5C4994,-179.5 4911,-179.5 4911,-179.5 4905,-179.5 4899,-173.5 4899,-167.5 4899,-167.5 4899,-123.5 4899,-123.5 4899,-117.5 4905,-111.5 4911,-111.5 4911,-111.5 4994,-111.5 4994,-111.5 5000,-111.5 5006,-117.5 5006,-123.5 5006,-123.5 5006,-167.5 5006,-167.5 5006,-173.5 5000,-179.5 4994,-179.5\"/>\n<text text-anchor=\"middle\" x=\"4952.5\" y=\"-164.3\" font-family=\"Helvetica,sans-Serif\" font-size=\"14.00\" fill=\"#000000\">entropy = 0.0</text>\n<text text-anchor=\"middle\" x=\"4952.5\" y=\"-149.3\" font-family=\"Helvetica,sans-Serif\" font-size=\"14.00\" fill=\"#000000\">samples = 24</text>\n<text text-anchor=\"middle\" x=\"4952.5\" y=\"-134.3\" font-family=\"Helvetica,sans-Serif\" font-size=\"14.00\" fill=\"#000000\">value = [0, 24]</text>\n<text text-anchor=\"middle\" x=\"4952.5\" y=\"-119.3\" font-family=\"Helvetica,sans-Serif\" font-size=\"14.00\" fill=\"#000000\">class = 1</text>\n</g>\n<!-- 102&#45;&gt;106 -->\n<g id=\"edge106\" class=\"edge\">\n<title>102&#45;&gt;106</title>\n<path fill=\"none\" stroke=\"#000000\" d=\"M4949.899,-222.8796C4950.2575,-212.2134 4950.6445,-200.7021 4951.0075,-189.9015\"/>\n<polygon fill=\"#000000\" stroke=\"#000000\" points=\"4954.5085,-189.9269 4951.3466,-179.8149 4947.5125,-189.6917 4954.5085,-189.9269\"/>\n</g>\n<!-- 104 -->\n<g id=\"node105\" class=\"node\">\n<title>104</title>\n<path fill=\"#fef9f5\" stroke=\"#000000\" d=\"M4733.5,-68C4733.5,-68 4625.5,-68 4625.5,-68 4619.5,-68 4613.5,-62 4613.5,-56 4613.5,-56 4613.5,-12 4613.5,-12 4613.5,-6 4619.5,0 4625.5,0 4625.5,0 4733.5,0 4733.5,0 4739.5,0 4745.5,-6 4745.5,-12 4745.5,-12 4745.5,-56 4745.5,-56 4745.5,-62 4739.5,-68 4733.5,-68\"/>\n<text text-anchor=\"middle\" x=\"4679.5\" y=\"-52.8\" font-family=\"Helvetica,sans-Serif\" font-size=\"14.00\" fill=\"#000000\">entropy = 1.0</text>\n<text text-anchor=\"middle\" x=\"4679.5\" y=\"-37.8\" font-family=\"Helvetica,sans-Serif\" font-size=\"14.00\" fill=\"#000000\">samples = 281</text>\n<text text-anchor=\"middle\" x=\"4679.5\" y=\"-22.8\" font-family=\"Helvetica,sans-Serif\" font-size=\"14.00\" fill=\"#000000\">value = [144, 137]</text>\n<text text-anchor=\"middle\" x=\"4679.5\" y=\"-7.8\" font-family=\"Helvetica,sans-Serif\" font-size=\"14.00\" fill=\"#000000\">class = 0</text>\n</g>\n<!-- 103&#45;&gt;104 -->\n<g id=\"edge104\" class=\"edge\">\n<title>103&#45;&gt;104</title>\n<path fill=\"none\" stroke=\"#000000\" d=\"M4764.231,-103.9815C4752.6582,-94.4232 4740.3611,-84.2668 4728.8287,-74.7419\"/>\n<polygon fill=\"#000000\" stroke=\"#000000\" points=\"4730.9243,-71.9332 4720.9852,-68.2637 4726.4666,-77.3304 4730.9243,-71.9332\"/>\n</g>\n<!-- 105 -->\n<g id=\"node106\" class=\"node\">\n<title>105</title>\n<path fill=\"#eeac7d\" stroke=\"#000000\" d=\"M4869.5,-68C4869.5,-68 4775.5,-68 4775.5,-68 4769.5,-68 4763.5,-62 4763.5,-56 4763.5,-56 4763.5,-12 4763.5,-12 4763.5,-6 4769.5,0 4775.5,0 4775.5,0 4869.5,0 4869.5,0 4875.5,0 4881.5,-6 4881.5,-12 4881.5,-12 4881.5,-56 4881.5,-56 4881.5,-62 4875.5,-68 4869.5,-68\"/>\n<text text-anchor=\"middle\" x=\"4822.5\" y=\"-52.8\" font-family=\"Helvetica,sans-Serif\" font-size=\"14.00\" fill=\"#000000\">entropy = 0.821</text>\n<text text-anchor=\"middle\" x=\"4822.5\" y=\"-37.8\" font-family=\"Helvetica,sans-Serif\" font-size=\"14.00\" fill=\"#000000\">samples = 121</text>\n<text text-anchor=\"middle\" x=\"4822.5\" y=\"-22.8\" font-family=\"Helvetica,sans-Serif\" font-size=\"14.00\" fill=\"#000000\">value = [90, 31]</text>\n<text text-anchor=\"middle\" x=\"4822.5\" y=\"-7.8\" font-family=\"Helvetica,sans-Serif\" font-size=\"14.00\" fill=\"#000000\">class = 0</text>\n</g>\n<!-- 103&#45;&gt;105 -->\n<g id=\"edge105\" class=\"edge\">\n<title>103&#45;&gt;105</title>\n<path fill=\"none\" stroke=\"#000000\" d=\"M4817.4789,-103.9815C4818.079,-95.618 4818.7119,-86.7965 4819.3186,-78.3409\"/>\n<polygon fill=\"#000000\" stroke=\"#000000\" points=\"4822.8169,-78.4885 4820.0416,-68.2637 4815.8349,-77.9875 4822.8169,-78.4885\"/>\n</g>\n<!-- 108 -->\n<g id=\"node109\" class=\"node\">\n<title>108</title>\n<path fill=\"#eda775\" stroke=\"#000000\" d=\"M5173,-187C5173,-187 5036,-187 5036,-187 5030,-187 5024,-181 5024,-175 5024,-175 5024,-116 5024,-116 5024,-110 5030,-104 5036,-104 5036,-104 5173,-104 5173,-104 5179,-104 5185,-110 5185,-116 5185,-116 5185,-175 5185,-175 5185,-181 5179,-187 5173,-187\"/>\n<text text-anchor=\"middle\" x=\"5104.5\" y=\"-171.8\" font-family=\"Helvetica,sans-Serif\" font-size=\"14.00\" fill=\"#000000\">paperlessbilling &lt;= 0.5</text>\n<text text-anchor=\"middle\" x=\"5104.5\" y=\"-156.8\" font-family=\"Helvetica,sans-Serif\" font-size=\"14.00\" fill=\"#000000\">entropy = 0.784</text>\n<text text-anchor=\"middle\" x=\"5104.5\" y=\"-141.8\" font-family=\"Helvetica,sans-Serif\" font-size=\"14.00\" fill=\"#000000\">samples = 107</text>\n<text text-anchor=\"middle\" x=\"5104.5\" y=\"-126.8\" font-family=\"Helvetica,sans-Serif\" font-size=\"14.00\" fill=\"#000000\">value = [82, 25]</text>\n<text text-anchor=\"middle\" x=\"5104.5\" y=\"-111.8\" font-family=\"Helvetica,sans-Serif\" font-size=\"14.00\" fill=\"#000000\">class = 0</text>\n</g>\n<!-- 107&#45;&gt;108 -->\n<g id=\"edge108\" class=\"edge\">\n<title>107&#45;&gt;108</title>\n<path fill=\"none\" stroke=\"#000000\" d=\"M5106.4507,-222.8796C5106.2441,-214.6838 5106.0249,-205.9891 5105.811,-197.5013\"/>\n<polygon fill=\"#000000\" stroke=\"#000000\" points=\"5109.3047,-197.2067 5105.5537,-187.2981 5102.307,-197.3831 5109.3047,-197.2067\"/>\n</g>\n<!-- 111 -->\n<g id=\"node112\" class=\"node\">\n<title>111</title>\n<path fill=\"#e78b48\" stroke=\"#000000\" d=\"M5348,-187C5348,-187 5215,-187 5215,-187 5209,-187 5203,-181 5203,-175 5203,-175 5203,-116 5203,-116 5203,-110 5209,-104 5215,-104 5215,-104 5348,-104 5348,-104 5354,-104 5360,-110 5360,-116 5360,-116 5360,-175 5360,-175 5360,-181 5354,-187 5348,-187\"/>\n<text text-anchor=\"middle\" x=\"5281.5\" y=\"-171.8\" font-family=\"Helvetica,sans-Serif\" font-size=\"14.00\" fill=\"#000000\">totalcharges &lt;= 1.851</text>\n<text text-anchor=\"middle\" x=\"5281.5\" y=\"-156.8\" font-family=\"Helvetica,sans-Serif\" font-size=\"14.00\" fill=\"#000000\">entropy = 0.374</text>\n<text text-anchor=\"middle\" x=\"5281.5\" y=\"-141.8\" font-family=\"Helvetica,sans-Serif\" font-size=\"14.00\" fill=\"#000000\">samples = 83</text>\n<text text-anchor=\"middle\" x=\"5281.5\" y=\"-126.8\" font-family=\"Helvetica,sans-Serif\" font-size=\"14.00\" fill=\"#000000\">value = [77, 6]</text>\n<text text-anchor=\"middle\" x=\"5281.5\" y=\"-111.8\" font-family=\"Helvetica,sans-Serif\" font-size=\"14.00\" fill=\"#000000\">class = 0</text>\n</g>\n<!-- 107&#45;&gt;111 -->\n<g id=\"edge111\" class=\"edge\">\n<title>107&#45;&gt;111</title>\n<path fill=\"none\" stroke=\"#000000\" d=\"M5168.3568,-222.8796C5182.5294,-213.1868 5197.7225,-202.7961 5212.2288,-192.8752\"/>\n<polygon fill=\"#000000\" stroke=\"#000000\" points=\"5214.3992,-195.6311 5220.6776,-187.0969 5210.4475,-189.8531 5214.3992,-195.6311\"/>\n</g>\n<!-- 109 -->\n<g id=\"node110\" class=\"node\">\n<title>109</title>\n<path fill=\"#e89050\" stroke=\"#000000\" d=\"M5006.5,-68C5006.5,-68 4912.5,-68 4912.5,-68 4906.5,-68 4900.5,-62 4900.5,-56 4900.5,-56 4900.5,-12 4900.5,-12 4900.5,-6 4906.5,0 4912.5,0 4912.5,0 5006.5,0 5006.5,0 5012.5,0 5018.5,-6 5018.5,-12 5018.5,-12 5018.5,-56 5018.5,-56 5018.5,-62 5012.5,-68 5006.5,-68\"/>\n<text text-anchor=\"middle\" x=\"4959.5\" y=\"-52.8\" font-family=\"Helvetica,sans-Serif\" font-size=\"14.00\" fill=\"#000000\">entropy = 0.485</text>\n<text text-anchor=\"middle\" x=\"4959.5\" y=\"-37.8\" font-family=\"Helvetica,sans-Serif\" font-size=\"14.00\" fill=\"#000000\">samples = 38</text>\n<text text-anchor=\"middle\" x=\"4959.5\" y=\"-22.8\" font-family=\"Helvetica,sans-Serif\" font-size=\"14.00\" fill=\"#000000\">value = [34, 4]</text>\n<text text-anchor=\"middle\" x=\"4959.5\" y=\"-7.8\" font-family=\"Helvetica,sans-Serif\" font-size=\"14.00\" fill=\"#000000\">class = 0</text>\n</g>\n<!-- 108&#45;&gt;109 -->\n<g id=\"edge109\" class=\"edge\">\n<title>108&#45;&gt;109</title>\n<path fill=\"none\" stroke=\"#000000\" d=\"M5050.5074,-103.9815C5037.9578,-94.3313 5024.6153,-84.0714 5012.1256,-74.4673\"/>\n<polygon fill=\"#000000\" stroke=\"#000000\" points=\"5014.119,-71.585 5004.0581,-68.2637 5009.8519,-77.134 5014.119,-71.585\"/>\n</g>\n<!-- 110 -->\n<g id=\"node111\" class=\"node\">\n<title>110</title>\n<path fill=\"#f0b890\" stroke=\"#000000\" d=\"M5142.5,-68C5142.5,-68 5048.5,-68 5048.5,-68 5042.5,-68 5036.5,-62 5036.5,-56 5036.5,-56 5036.5,-12 5036.5,-12 5036.5,-6 5042.5,0 5048.5,0 5048.5,0 5142.5,0 5142.5,0 5148.5,0 5154.5,-6 5154.5,-12 5154.5,-12 5154.5,-56 5154.5,-56 5154.5,-62 5148.5,-68 5142.5,-68\"/>\n<text text-anchor=\"middle\" x=\"5095.5\" y=\"-52.8\" font-family=\"Helvetica,sans-Serif\" font-size=\"14.00\" fill=\"#000000\">entropy = 0.887</text>\n<text text-anchor=\"middle\" x=\"5095.5\" y=\"-37.8\" font-family=\"Helvetica,sans-Serif\" font-size=\"14.00\" fill=\"#000000\">samples = 69</text>\n<text text-anchor=\"middle\" x=\"5095.5\" y=\"-22.8\" font-family=\"Helvetica,sans-Serif\" font-size=\"14.00\" fill=\"#000000\">value = [48, 21]</text>\n<text text-anchor=\"middle\" x=\"5095.5\" y=\"-7.8\" font-family=\"Helvetica,sans-Serif\" font-size=\"14.00\" fill=\"#000000\">class = 0</text>\n</g>\n<!-- 108&#45;&gt;110 -->\n<g id=\"edge110\" class=\"edge\">\n<title>108&#45;&gt;110</title>\n<path fill=\"none\" stroke=\"#000000\" d=\"M5101.1487,-103.9815C5100.4737,-95.618 5099.7616,-86.7965 5099.0791,-78.3409\"/>\n<polygon fill=\"#000000\" stroke=\"#000000\" points=\"5102.559,-77.9496 5098.2657,-68.2637 5095.5817,-78.5129 5102.559,-77.9496\"/>\n</g>\n<!-- 112 -->\n<g id=\"node113\" class=\"node\">\n<title>112</title>\n<path fill=\"#e58139\" stroke=\"#000000\" d=\"M5268,-68C5268,-68 5185,-68 5185,-68 5179,-68 5173,-62 5173,-56 5173,-56 5173,-12 5173,-12 5173,-6 5179,0 5185,0 5185,0 5268,0 5268,0 5274,0 5280,-6 5280,-12 5280,-12 5280,-56 5280,-56 5280,-62 5274,-68 5268,-68\"/>\n<text text-anchor=\"middle\" x=\"5226.5\" y=\"-52.8\" font-family=\"Helvetica,sans-Serif\" font-size=\"14.00\" fill=\"#000000\">entropy = 0.0</text>\n<text text-anchor=\"middle\" x=\"5226.5\" y=\"-37.8\" font-family=\"Helvetica,sans-Serif\" font-size=\"14.00\" fill=\"#000000\">samples = 30</text>\n<text text-anchor=\"middle\" x=\"5226.5\" y=\"-22.8\" font-family=\"Helvetica,sans-Serif\" font-size=\"14.00\" fill=\"#000000\">value = [30, 0]</text>\n<text text-anchor=\"middle\" x=\"5226.5\" y=\"-7.8\" font-family=\"Helvetica,sans-Serif\" font-size=\"14.00\" fill=\"#000000\">class = 0</text>\n</g>\n<!-- 111&#45;&gt;112 -->\n<g id=\"edge112\" class=\"edge\">\n<title>111&#45;&gt;112</title>\n<path fill=\"none\" stroke=\"#000000\" d=\"M5261.02,-103.9815C5256.7585,-95.3423 5252.256,-86.2144 5247.9603,-77.5059\"/>\n<polygon fill=\"#000000\" stroke=\"#000000\" points=\"5250.9641,-75.6836 5243.4014,-68.2637 5244.6863,-78.7803 5250.9641,-75.6836\"/>\n</g>\n<!-- 113 -->\n<g id=\"node114\" class=\"node\">\n<title>113</title>\n<path fill=\"#e89152\" stroke=\"#000000\" d=\"M5396.5,-68C5396.5,-68 5310.5,-68 5310.5,-68 5304.5,-68 5298.5,-62 5298.5,-56 5298.5,-56 5298.5,-12 5298.5,-12 5298.5,-6 5304.5,0 5310.5,0 5310.5,0 5396.5,0 5396.5,0 5402.5,0 5408.5,-6 5408.5,-12 5408.5,-12 5408.5,-56 5408.5,-56 5408.5,-62 5402.5,-68 5396.5,-68\"/>\n<text text-anchor=\"middle\" x=\"5353.5\" y=\"-52.8\" font-family=\"Helvetica,sans-Serif\" font-size=\"14.00\" fill=\"#000000\">entropy = 0.51</text>\n<text text-anchor=\"middle\" x=\"5353.5\" y=\"-37.8\" font-family=\"Helvetica,sans-Serif\" font-size=\"14.00\" fill=\"#000000\">samples = 53</text>\n<text text-anchor=\"middle\" x=\"5353.5\" y=\"-22.8\" font-family=\"Helvetica,sans-Serif\" font-size=\"14.00\" fill=\"#000000\">value = [47, 6]</text>\n<text text-anchor=\"middle\" x=\"5353.5\" y=\"-7.8\" font-family=\"Helvetica,sans-Serif\" font-size=\"14.00\" fill=\"#000000\">class = 0</text>\n</g>\n<!-- 111&#45;&gt;113 -->\n<g id=\"edge113\" class=\"edge\">\n<title>111&#45;&gt;113</title>\n<path fill=\"none\" stroke=\"#000000\" d=\"M5308.3101,-103.9815C5314.0669,-95.0666 5320.1596,-85.6313 5325.9441,-76.6734\"/>\n<polygon fill=\"#000000\" stroke=\"#000000\" points=\"5328.8901,-78.5631 5331.3746,-68.2637 5323.0096,-74.7658 5328.8901,-78.5631\"/>\n</g>\n<!-- 116 -->\n<g id=\"node117\" class=\"node\">\n<title>116</title>\n<path fill=\"#ea9b62\" stroke=\"#000000\" d=\"M5700.5,-425C5700.5,-425 5536.5,-425 5536.5,-425 5530.5,-425 5524.5,-419 5524.5,-413 5524.5,-413 5524.5,-354 5524.5,-354 5524.5,-348 5530.5,-342 5536.5,-342 5536.5,-342 5700.5,-342 5700.5,-342 5706.5,-342 5712.5,-348 5712.5,-354 5712.5,-354 5712.5,-413 5712.5,-413 5712.5,-419 5706.5,-425 5700.5,-425\"/>\n<text text-anchor=\"middle\" x=\"5618.5\" y=\"-409.8\" font-family=\"Helvetica,sans-Serif\" font-size=\"14.00\" fill=\"#000000\">streamingmovies &lt;= 0.056</text>\n<text text-anchor=\"middle\" x=\"5618.5\" y=\"-394.8\" font-family=\"Helvetica,sans-Serif\" font-size=\"14.00\" fill=\"#000000\">entropy = 0.661</text>\n<text text-anchor=\"middle\" x=\"5618.5\" y=\"-379.8\" font-family=\"Helvetica,sans-Serif\" font-size=\"14.00\" fill=\"#000000\">samples = 309</text>\n<text text-anchor=\"middle\" x=\"5618.5\" y=\"-364.8\" font-family=\"Helvetica,sans-Serif\" font-size=\"14.00\" fill=\"#000000\">value = [256, 53]</text>\n<text text-anchor=\"middle\" x=\"5618.5\" y=\"-349.8\" font-family=\"Helvetica,sans-Serif\" font-size=\"14.00\" fill=\"#000000\">class = 0</text>\n</g>\n<!-- 115&#45;&gt;116 -->\n<g id=\"edge116\" class=\"edge\">\n<title>115&#45;&gt;116</title>\n<path fill=\"none\" stroke=\"#000000\" d=\"M5618.5,-460.8796C5618.5,-452.6838 5618.5,-443.9891 5618.5,-435.5013\"/>\n<polygon fill=\"#000000\" stroke=\"#000000\" points=\"5622.0001,-435.298 5618.5,-425.2981 5615.0001,-435.2981 5622.0001,-435.298\"/>\n</g>\n<!-- 127 -->\n<g id=\"node128\" class=\"node\">\n<title>127</title>\n<path fill=\"#e5823b\" stroke=\"#000000\" d=\"M5909,-425C5909,-425 5814,-425 5814,-425 5808,-425 5802,-419 5802,-413 5802,-413 5802,-354 5802,-354 5802,-348 5808,-342 5814,-342 5814,-342 5909,-342 5909,-342 5915,-342 5921,-348 5921,-354 5921,-354 5921,-413 5921,-413 5921,-419 5915,-425 5909,-425\"/>\n<text text-anchor=\"middle\" x=\"5861.5\" y=\"-409.8\" font-family=\"Helvetica,sans-Serif\" font-size=\"14.00\" fill=\"#000000\">tenure &lt;= 2.357</text>\n<text text-anchor=\"middle\" x=\"5861.5\" y=\"-394.8\" font-family=\"Helvetica,sans-Serif\" font-size=\"14.00\" fill=\"#000000\">entropy = 0.079</text>\n<text text-anchor=\"middle\" x=\"5861.5\" y=\"-379.8\" font-family=\"Helvetica,sans-Serif\" font-size=\"14.00\" fill=\"#000000\">samples = 103</text>\n<text text-anchor=\"middle\" x=\"5861.5\" y=\"-364.8\" font-family=\"Helvetica,sans-Serif\" font-size=\"14.00\" fill=\"#000000\">value = [102, 1]</text>\n<text text-anchor=\"middle\" x=\"5861.5\" y=\"-349.8\" font-family=\"Helvetica,sans-Serif\" font-size=\"14.00\" fill=\"#000000\">class = 0</text>\n</g>\n<!-- 115&#45;&gt;127 -->\n<g id=\"edge127\" class=\"edge\">\n<title>115&#45;&gt;127</title>\n<path fill=\"none\" stroke=\"#000000\" d=\"M5680.763,-472.0091C5714.9705,-455.2573 5757.4721,-434.4437 5792.6644,-417.2096\"/>\n<polygon fill=\"#000000\" stroke=\"#000000\" points=\"5794.4711,-420.222 5801.9127,-412.6806 5791.3924,-413.9354 5794.4711,-420.222\"/>\n</g>\n<!-- 117 -->\n<g id=\"node118\" class=\"node\">\n<title>117</title>\n<path fill=\"#e78845\" stroke=\"#000000\" d=\"M5594,-306C5594,-306 5499,-306 5499,-306 5493,-306 5487,-300 5487,-294 5487,-294 5487,-235 5487,-235 5487,-229 5493,-223 5499,-223 5499,-223 5594,-223 5594,-223 5600,-223 5606,-229 5606,-235 5606,-235 5606,-294 5606,-294 5606,-300 5600,-306 5594,-306\"/>\n<text text-anchor=\"middle\" x=\"5546.5\" y=\"-290.8\" font-family=\"Helvetica,sans-Serif\" font-size=\"14.00\" fill=\"#000000\">tenure &lt;= 0.895</text>\n<text text-anchor=\"middle\" x=\"5546.5\" y=\"-275.8\" font-family=\"Helvetica,sans-Serif\" font-size=\"14.00\" fill=\"#000000\">entropy = 0.312</text>\n<text text-anchor=\"middle\" x=\"5546.5\" y=\"-260.8\" font-family=\"Helvetica,sans-Serif\" font-size=\"14.00\" fill=\"#000000\">samples = 89</text>\n<text text-anchor=\"middle\" x=\"5546.5\" y=\"-245.8\" font-family=\"Helvetica,sans-Serif\" font-size=\"14.00\" fill=\"#000000\">value = [84, 5]</text>\n<text text-anchor=\"middle\" x=\"5546.5\" y=\"-230.8\" font-family=\"Helvetica,sans-Serif\" font-size=\"14.00\" fill=\"#000000\">class = 0</text>\n</g>\n<!-- 116&#45;&gt;117 -->\n<g id=\"edge117\" class=\"edge\">\n<title>116&#45;&gt;117</title>\n<path fill=\"none\" stroke=\"#000000\" d=\"M5593.3179,-341.8796C5588.0867,-333.2335 5582.5195,-324.0322 5577.1177,-315.1042\"/>\n<polygon fill=\"#000000\" stroke=\"#000000\" points=\"5579.9608,-313.0421 5571.7896,-306.2981 5573.9717,-316.6658 5579.9608,-313.0421\"/>\n</g>\n<!-- 122 -->\n<g id=\"node123\" class=\"node\">\n<title>122</title>\n<path fill=\"#eca470\" stroke=\"#000000\" d=\"M5773,-306C5773,-306 5636,-306 5636,-306 5630,-306 5624,-300 5624,-294 5624,-294 5624,-235 5624,-235 5624,-229 5630,-223 5636,-223 5636,-223 5773,-223 5773,-223 5779,-223 5785,-229 5785,-235 5785,-235 5785,-294 5785,-294 5785,-300 5779,-306 5773,-306\"/>\n<text text-anchor=\"middle\" x=\"5704.5\" y=\"-290.8\" font-family=\"Helvetica,sans-Serif\" font-size=\"14.00\" fill=\"#000000\">totalcharges &lt;= &#45;0.053</text>\n<text text-anchor=\"middle\" x=\"5704.5\" y=\"-275.8\" font-family=\"Helvetica,sans-Serif\" font-size=\"14.00\" fill=\"#000000\">entropy = 0.757</text>\n<text text-anchor=\"middle\" x=\"5704.5\" y=\"-260.8\" font-family=\"Helvetica,sans-Serif\" font-size=\"14.00\" fill=\"#000000\">samples = 220</text>\n<text text-anchor=\"middle\" x=\"5704.5\" y=\"-245.8\" font-family=\"Helvetica,sans-Serif\" font-size=\"14.00\" fill=\"#000000\">value = [172, 48]</text>\n<text text-anchor=\"middle\" x=\"5704.5\" y=\"-230.8\" font-family=\"Helvetica,sans-Serif\" font-size=\"14.00\" fill=\"#000000\">class = 0</text>\n</g>\n<!-- 116&#45;&gt;122 -->\n<g id=\"edge122\" class=\"edge\">\n<title>116&#45;&gt;122</title>\n<path fill=\"none\" stroke=\"#000000\" d=\"M5648.5786,-341.8796C5654.9572,-333.0534 5661.754,-323.6485 5668.3319,-314.5466\"/>\n<polygon fill=\"#000000\" stroke=\"#000000\" points=\"5671.2723,-316.4532 5674.293,-306.2981 5665.5988,-312.353 5671.2723,-316.4532\"/>\n</g>\n<!-- 118 -->\n<g id=\"node119\" class=\"node\">\n<title>118</title>\n<path fill=\"#e88e4d\" stroke=\"#000000\" d=\"M5500,-187C5500,-187 5405,-187 5405,-187 5399,-187 5393,-181 5393,-175 5393,-175 5393,-116 5393,-116 5393,-110 5399,-104 5405,-104 5405,-104 5500,-104 5500,-104 5506,-104 5512,-110 5512,-116 5512,-116 5512,-175 5512,-175 5512,-181 5506,-187 5500,-187\"/>\n<text text-anchor=\"middle\" x=\"5452.5\" y=\"-171.8\" font-family=\"Helvetica,sans-Serif\" font-size=\"14.00\" fill=\"#000000\">tenure &lt;= 0.811</text>\n<text text-anchor=\"middle\" x=\"5452.5\" y=\"-156.8\" font-family=\"Helvetica,sans-Serif\" font-size=\"14.00\" fill=\"#000000\">entropy = 0.445</text>\n<text text-anchor=\"middle\" x=\"5452.5\" y=\"-141.8\" font-family=\"Helvetica,sans-Serif\" font-size=\"14.00\" fill=\"#000000\">samples = 54</text>\n<text text-anchor=\"middle\" x=\"5452.5\" y=\"-126.8\" font-family=\"Helvetica,sans-Serif\" font-size=\"14.00\" fill=\"#000000\">value = [49, 5]</text>\n<text text-anchor=\"middle\" x=\"5452.5\" y=\"-111.8\" font-family=\"Helvetica,sans-Serif\" font-size=\"14.00\" fill=\"#000000\">class = 0</text>\n</g>\n<!-- 117&#45;&gt;118 -->\n<g id=\"edge118\" class=\"edge\">\n<title>117&#45;&gt;118</title>\n<path fill=\"none\" stroke=\"#000000\" d=\"M5513.6234,-222.8796C5506.5803,-213.9633 5499.0707,-204.4565 5491.8126,-195.268\"/>\n<polygon fill=\"#000000\" stroke=\"#000000\" points=\"5494.4621,-192.9757 5485.517,-187.2981 5488.9691,-197.3147 5494.4621,-192.9757\"/>\n</g>\n<!-- 121 -->\n<g id=\"node122\" class=\"node\">\n<title>121</title>\n<path fill=\"#e58139\" stroke=\"#000000\" d=\"M5625,-179.5C5625,-179.5 5542,-179.5 5542,-179.5 5536,-179.5 5530,-173.5 5530,-167.5 5530,-167.5 5530,-123.5 5530,-123.5 5530,-117.5 5536,-111.5 5542,-111.5 5542,-111.5 5625,-111.5 5625,-111.5 5631,-111.5 5637,-117.5 5637,-123.5 5637,-123.5 5637,-167.5 5637,-167.5 5637,-173.5 5631,-179.5 5625,-179.5\"/>\n<text text-anchor=\"middle\" x=\"5583.5\" y=\"-164.3\" font-family=\"Helvetica,sans-Serif\" font-size=\"14.00\" fill=\"#000000\">entropy = 0.0</text>\n<text text-anchor=\"middle\" x=\"5583.5\" y=\"-149.3\" font-family=\"Helvetica,sans-Serif\" font-size=\"14.00\" fill=\"#000000\">samples = 35</text>\n<text text-anchor=\"middle\" x=\"5583.5\" y=\"-134.3\" font-family=\"Helvetica,sans-Serif\" font-size=\"14.00\" fill=\"#000000\">value = [35, 0]</text>\n<text text-anchor=\"middle\" x=\"5583.5\" y=\"-119.3\" font-family=\"Helvetica,sans-Serif\" font-size=\"14.00\" fill=\"#000000\">class = 0</text>\n</g>\n<!-- 117&#45;&gt;121 -->\n<g id=\"edge121\" class=\"edge\">\n<title>117&#45;&gt;121</title>\n<path fill=\"none\" stroke=\"#000000\" d=\"M5559.4408,-222.8796C5562.7914,-212.1034 5566.4101,-200.4647 5569.7983,-189.5677\"/>\n<polygon fill=\"#000000\" stroke=\"#000000\" points=\"5573.2037,-190.4032 5572.8307,-179.8149 5566.5194,-188.3248 5573.2037,-190.4032\"/>\n</g>\n<!-- 119 -->\n<g id=\"node120\" class=\"node\">\n<title>119</title>\n<path fill=\"#e78b49\" stroke=\"#000000\" d=\"M5532.5,-68C5532.5,-68 5438.5,-68 5438.5,-68 5432.5,-68 5426.5,-62 5426.5,-56 5426.5,-56 5426.5,-12 5426.5,-12 5426.5,-6 5432.5,0 5438.5,0 5438.5,0 5532.5,0 5532.5,0 5538.5,0 5544.5,-6 5544.5,-12 5544.5,-12 5544.5,-56 5544.5,-56 5544.5,-62 5538.5,-68 5532.5,-68\"/>\n<text text-anchor=\"middle\" x=\"5485.5\" y=\"-52.8\" font-family=\"Helvetica,sans-Serif\" font-size=\"14.00\" fill=\"#000000\">entropy = 0.386</text>\n<text text-anchor=\"middle\" x=\"5485.5\" y=\"-37.8\" font-family=\"Helvetica,sans-Serif\" font-size=\"14.00\" fill=\"#000000\">samples = 53</text>\n<text text-anchor=\"middle\" x=\"5485.5\" y=\"-22.8\" font-family=\"Helvetica,sans-Serif\" font-size=\"14.00\" fill=\"#000000\">value = [49, 4]</text>\n<text text-anchor=\"middle\" x=\"5485.5\" y=\"-7.8\" font-family=\"Helvetica,sans-Serif\" font-size=\"14.00\" fill=\"#000000\">class = 0</text>\n</g>\n<!-- 118&#45;&gt;119 -->\n<g id=\"edge119\" class=\"edge\">\n<title>118&#45;&gt;119</title>\n<path fill=\"none\" stroke=\"#000000\" d=\"M5464.788,-103.9815C5467.2905,-95.5261 5469.9315,-86.6026 5472.4591,-78.0623\"/>\n<polygon fill=\"#000000\" stroke=\"#000000\" points=\"5475.8773,-78.8458 5475.3592,-68.2637 5469.1651,-76.8592 5475.8773,-78.8458\"/>\n</g>\n<!-- 120 -->\n<g id=\"node121\" class=\"node\">\n<title>120</title>\n<path fill=\"#399de5\" stroke=\"#000000\" d=\"M5652,-68C5652,-68 5575,-68 5575,-68 5569,-68 5563,-62 5563,-56 5563,-56 5563,-12 5563,-12 5563,-6 5569,0 5575,0 5575,0 5652,0 5652,0 5658,0 5664,-6 5664,-12 5664,-12 5664,-56 5664,-56 5664,-62 5658,-68 5652,-68\"/>\n<text text-anchor=\"middle\" x=\"5613.5\" y=\"-52.8\" font-family=\"Helvetica,sans-Serif\" font-size=\"14.00\" fill=\"#000000\">entropy = 0.0</text>\n<text text-anchor=\"middle\" x=\"5613.5\" y=\"-37.8\" font-family=\"Helvetica,sans-Serif\" font-size=\"14.00\" fill=\"#000000\">samples = 1</text>\n<text text-anchor=\"middle\" x=\"5613.5\" y=\"-22.8\" font-family=\"Helvetica,sans-Serif\" font-size=\"14.00\" fill=\"#000000\">value = [0, 1]</text>\n<text text-anchor=\"middle\" x=\"5613.5\" y=\"-7.8\" font-family=\"Helvetica,sans-Serif\" font-size=\"14.00\" fill=\"#000000\">class = 1</text>\n</g>\n<!-- 118&#45;&gt;120 -->\n<g id=\"edge120\" class=\"edge\">\n<title>118&#45;&gt;120</title>\n<path fill=\"none\" stroke=\"#000000\" d=\"M5512.4505,-103.9815C5526.5916,-94.1881 5541.6394,-83.7668 5555.6841,-74.0402\"/>\n<polygon fill=\"#000000\" stroke=\"#000000\" points=\"5558.0539,-76.6565 5564.2822,-68.0856 5554.0685,-70.9017 5558.0539,-76.6565\"/>\n</g>\n<!-- 123 -->\n<g id=\"node124\" class=\"node\">\n<title>123</title>\n<path fill=\"#8ec7f0\" stroke=\"#000000\" d=\"M5761.5,-179.5C5761.5,-179.5 5667.5,-179.5 5667.5,-179.5 5661.5,-179.5 5655.5,-173.5 5655.5,-167.5 5655.5,-167.5 5655.5,-123.5 5655.5,-123.5 5655.5,-117.5 5661.5,-111.5 5667.5,-111.5 5667.5,-111.5 5761.5,-111.5 5761.5,-111.5 5767.5,-111.5 5773.5,-117.5 5773.5,-123.5 5773.5,-123.5 5773.5,-167.5 5773.5,-167.5 5773.5,-173.5 5767.5,-179.5 5761.5,-179.5\"/>\n<text text-anchor=\"middle\" x=\"5714.5\" y=\"-164.3\" font-family=\"Helvetica,sans-Serif\" font-size=\"14.00\" fill=\"#000000\">entropy = 0.881</text>\n<text text-anchor=\"middle\" x=\"5714.5\" y=\"-149.3\" font-family=\"Helvetica,sans-Serif\" font-size=\"14.00\" fill=\"#000000\">samples = 10</text>\n<text text-anchor=\"middle\" x=\"5714.5\" y=\"-134.3\" font-family=\"Helvetica,sans-Serif\" font-size=\"14.00\" fill=\"#000000\">value = [3, 7]</text>\n<text text-anchor=\"middle\" x=\"5714.5\" y=\"-119.3\" font-family=\"Helvetica,sans-Serif\" font-size=\"14.00\" fill=\"#000000\">class = 1</text>\n</g>\n<!-- 122&#45;&gt;123 -->\n<g id=\"edge123\" class=\"edge\">\n<title>122&#45;&gt;123</title>\n<path fill=\"none\" stroke=\"#000000\" d=\"M5707.9975,-222.8796C5708.8938,-212.2134 5709.8612,-200.7021 5710.7688,-189.9015\"/>\n<polygon fill=\"#000000\" stroke=\"#000000\" points=\"5714.2666,-190.0729 5711.6164,-179.8149 5707.2912,-189.4867 5714.2666,-190.0729\"/>\n</g>\n<!-- 124 -->\n<g id=\"node125\" class=\"node\">\n<title>124</title>\n<path fill=\"#eba069\" stroke=\"#000000\" d=\"M5903.5,-187C5903.5,-187 5803.5,-187 5803.5,-187 5797.5,-187 5791.5,-181 5791.5,-175 5791.5,-175 5791.5,-116 5791.5,-116 5791.5,-110 5797.5,-104 5803.5,-104 5803.5,-104 5903.5,-104 5903.5,-104 5909.5,-104 5915.5,-110 5915.5,-116 5915.5,-116 5915.5,-175 5915.5,-175 5915.5,-181 5909.5,-187 5903.5,-187\"/>\n<text text-anchor=\"middle\" x=\"5853.5\" y=\"-171.8\" font-family=\"Helvetica,sans-Serif\" font-size=\"14.00\" fill=\"#000000\">gender &lt;= 0.252</text>\n<text text-anchor=\"middle\" x=\"5853.5\" y=\"-156.8\" font-family=\"Helvetica,sans-Serif\" font-size=\"14.00\" fill=\"#000000\">entropy = 0.712</text>\n<text text-anchor=\"middle\" x=\"5853.5\" y=\"-141.8\" font-family=\"Helvetica,sans-Serif\" font-size=\"14.00\" fill=\"#000000\">samples = 210</text>\n<text text-anchor=\"middle\" x=\"5853.5\" y=\"-126.8\" font-family=\"Helvetica,sans-Serif\" font-size=\"14.00\" fill=\"#000000\">value = [169, 41]</text>\n<text text-anchor=\"middle\" x=\"5853.5\" y=\"-111.8\" font-family=\"Helvetica,sans-Serif\" font-size=\"14.00\" fill=\"#000000\">class = 0</text>\n</g>\n<!-- 122&#45;&gt;124 -->\n<g id=\"edge124\" class=\"edge\">\n<title>122&#45;&gt;124</title>\n<path fill=\"none\" stroke=\"#000000\" d=\"M5756.613,-222.8796C5768.5225,-213.368 5781.2734,-203.1843 5793.4844,-193.432\"/>\n<polygon fill=\"#000000\" stroke=\"#000000\" points=\"5795.7868,-196.0724 5801.4165,-187.0969 5791.4184,-190.6027 5795.7868,-196.0724\"/>\n</g>\n<!-- 125 -->\n<g id=\"node126\" class=\"node\">\n<title>125</title>\n<path fill=\"#e89253\" stroke=\"#000000\" d=\"M5795.5,-68C5795.5,-68 5695.5,-68 5695.5,-68 5689.5,-68 5683.5,-62 5683.5,-56 5683.5,-56 5683.5,-12 5683.5,-12 5683.5,-6 5689.5,0 5695.5,0 5695.5,0 5795.5,0 5795.5,0 5801.5,0 5807.5,-6 5807.5,-12 5807.5,-12 5807.5,-56 5807.5,-56 5807.5,-62 5801.5,-68 5795.5,-68\"/>\n<text text-anchor=\"middle\" x=\"5745.5\" y=\"-52.8\" font-family=\"Helvetica,sans-Serif\" font-size=\"14.00\" fill=\"#000000\">entropy = 0.523</text>\n<text text-anchor=\"middle\" x=\"5745.5\" y=\"-37.8\" font-family=\"Helvetica,sans-Serif\" font-size=\"14.00\" fill=\"#000000\">samples = 119</text>\n<text text-anchor=\"middle\" x=\"5745.5\" y=\"-22.8\" font-family=\"Helvetica,sans-Serif\" font-size=\"14.00\" fill=\"#000000\">value = [105, 14]</text>\n<text text-anchor=\"middle\" x=\"5745.5\" y=\"-7.8\" font-family=\"Helvetica,sans-Serif\" font-size=\"14.00\" fill=\"#000000\">class = 0</text>\n</g>\n<!-- 124&#45;&gt;125 -->\n<g id=\"edge125\" class=\"edge\">\n<title>124&#45;&gt;125</title>\n<path fill=\"none\" stroke=\"#000000\" d=\"M5813.2848,-103.9815C5804.2936,-94.6989 5794.756,-84.8522 5785.7629,-75.5677\"/>\n<polygon fill=\"#000000\" stroke=\"#000000\" points=\"5788.1596,-73.0115 5778.6881,-68.2637 5783.1316,-77.8817 5788.1596,-73.0115\"/>\n</g>\n<!-- 126 -->\n<g id=\"node127\" class=\"node\">\n<title>126</title>\n<path fill=\"#f0b68d\" stroke=\"#000000\" d=\"M5931.5,-68C5931.5,-68 5837.5,-68 5837.5,-68 5831.5,-68 5825.5,-62 5825.5,-56 5825.5,-56 5825.5,-12 5825.5,-12 5825.5,-6 5831.5,0 5837.5,0 5837.5,0 5931.5,0 5931.5,0 5937.5,0 5943.5,-6 5943.5,-12 5943.5,-12 5943.5,-56 5943.5,-56 5943.5,-62 5937.5,-68 5931.5,-68\"/>\n<text text-anchor=\"middle\" x=\"5884.5\" y=\"-52.8\" font-family=\"Helvetica,sans-Serif\" font-size=\"14.00\" fill=\"#000000\">entropy = 0.877</text>\n<text text-anchor=\"middle\" x=\"5884.5\" y=\"-37.8\" font-family=\"Helvetica,sans-Serif\" font-size=\"14.00\" fill=\"#000000\">samples = 91</text>\n<text text-anchor=\"middle\" x=\"5884.5\" y=\"-22.8\" font-family=\"Helvetica,sans-Serif\" font-size=\"14.00\" fill=\"#000000\">value = [64, 27]</text>\n<text text-anchor=\"middle\" x=\"5884.5\" y=\"-7.8\" font-family=\"Helvetica,sans-Serif\" font-size=\"14.00\" fill=\"#000000\">class = 0</text>\n</g>\n<!-- 124&#45;&gt;126 -->\n<g id=\"edge126\" class=\"edge\">\n<title>124&#45;&gt;126</title>\n<path fill=\"none\" stroke=\"#000000\" d=\"M5865.0433,-103.9815C5867.3941,-95.5261 5869.8751,-86.6026 5872.2495,-78.0623\"/>\n<polygon fill=\"#000000\" stroke=\"#000000\" points=\"5875.6671,-78.8358 5874.9738,-68.2637 5868.9229,-76.9607 5875.6671,-78.8358\"/>\n</g>\n<!-- 128 -->\n<g id=\"node129\" class=\"node\">\n<title>128</title>\n<path fill=\"#e58139\" stroke=\"#000000\" d=\"M5907.5,-298.5C5907.5,-298.5 5815.5,-298.5 5815.5,-298.5 5809.5,-298.5 5803.5,-292.5 5803.5,-286.5 5803.5,-286.5 5803.5,-242.5 5803.5,-242.5 5803.5,-236.5 5809.5,-230.5 5815.5,-230.5 5815.5,-230.5 5907.5,-230.5 5907.5,-230.5 5913.5,-230.5 5919.5,-236.5 5919.5,-242.5 5919.5,-242.5 5919.5,-286.5 5919.5,-286.5 5919.5,-292.5 5913.5,-298.5 5907.5,-298.5\"/>\n<text text-anchor=\"middle\" x=\"5861.5\" y=\"-283.3\" font-family=\"Helvetica,sans-Serif\" font-size=\"14.00\" fill=\"#000000\">entropy = 0.0</text>\n<text text-anchor=\"middle\" x=\"5861.5\" y=\"-268.3\" font-family=\"Helvetica,sans-Serif\" font-size=\"14.00\" fill=\"#000000\">samples = 102</text>\n<text text-anchor=\"middle\" x=\"5861.5\" y=\"-253.3\" font-family=\"Helvetica,sans-Serif\" font-size=\"14.00\" fill=\"#000000\">value = [102, 0]</text>\n<text text-anchor=\"middle\" x=\"5861.5\" y=\"-238.3\" font-family=\"Helvetica,sans-Serif\" font-size=\"14.00\" fill=\"#000000\">class = 0</text>\n</g>\n<!-- 127&#45;&gt;128 -->\n<g id=\"edge128\" class=\"edge\">\n<title>127&#45;&gt;128</title>\n<path fill=\"none\" stroke=\"#000000\" d=\"M5861.5,-341.8796C5861.5,-331.2134 5861.5,-319.7021 5861.5,-308.9015\"/>\n<polygon fill=\"#000000\" stroke=\"#000000\" points=\"5865.0001,-308.8149 5861.5,-298.8149 5858.0001,-308.815 5865.0001,-308.8149\"/>\n</g>\n<!-- 129 -->\n<g id=\"node130\" class=\"node\">\n<title>129</title>\n<path fill=\"#399de5\" stroke=\"#000000\" d=\"M6027,-298.5C6027,-298.5 5950,-298.5 5950,-298.5 5944,-298.5 5938,-292.5 5938,-286.5 5938,-286.5 5938,-242.5 5938,-242.5 5938,-236.5 5944,-230.5 5950,-230.5 5950,-230.5 6027,-230.5 6027,-230.5 6033,-230.5 6039,-236.5 6039,-242.5 6039,-242.5 6039,-286.5 6039,-286.5 6039,-292.5 6033,-298.5 6027,-298.5\"/>\n<text text-anchor=\"middle\" x=\"5988.5\" y=\"-283.3\" font-family=\"Helvetica,sans-Serif\" font-size=\"14.00\" fill=\"#000000\">entropy = 0.0</text>\n<text text-anchor=\"middle\" x=\"5988.5\" y=\"-268.3\" font-family=\"Helvetica,sans-Serif\" font-size=\"14.00\" fill=\"#000000\">samples = 1</text>\n<text text-anchor=\"middle\" x=\"5988.5\" y=\"-253.3\" font-family=\"Helvetica,sans-Serif\" font-size=\"14.00\" fill=\"#000000\">value = [0, 1]</text>\n<text text-anchor=\"middle\" x=\"5988.5\" y=\"-238.3\" font-family=\"Helvetica,sans-Serif\" font-size=\"14.00\" fill=\"#000000\">class = 1</text>\n</g>\n<!-- 127&#45;&gt;129 -->\n<g id=\"edge129\" class=\"edge\">\n<title>127&#45;&gt;129</title>\n<path fill=\"none\" stroke=\"#000000\" d=\"M5905.9184,-341.8796C5918.3579,-330.2237 5931.8743,-317.5587 5944.301,-305.9148\"/>\n<polygon fill=\"#000000\" stroke=\"#000000\" points=\"5946.9741,-308.2065 5951.8782,-298.8149 5942.1879,-303.0985 5946.9741,-308.2065\"/>\n</g>\n<!-- 131 -->\n<g id=\"node132\" class=\"node\">\n<title>131</title>\n<path fill=\"#399de5\" stroke=\"#000000\" d=\"M6468.5,-774.5C6468.5,-774.5 6368.5,-774.5 6368.5,-774.5 6362.5,-774.5 6356.5,-768.5 6356.5,-762.5 6356.5,-762.5 6356.5,-718.5 6356.5,-718.5 6356.5,-712.5 6362.5,-706.5 6368.5,-706.5 6368.5,-706.5 6468.5,-706.5 6468.5,-706.5 6474.5,-706.5 6480.5,-712.5 6480.5,-718.5 6480.5,-718.5 6480.5,-762.5 6480.5,-762.5 6480.5,-768.5 6474.5,-774.5 6468.5,-774.5\"/>\n<text text-anchor=\"middle\" x=\"6418.5\" y=\"-759.3\" font-family=\"Helvetica,sans-Serif\" font-size=\"14.00\" fill=\"#000000\">entropy = 0.0</text>\n<text text-anchor=\"middle\" x=\"6418.5\" y=\"-744.3\" font-family=\"Helvetica,sans-Serif\" font-size=\"14.00\" fill=\"#000000\">samples = 1071</text>\n<text text-anchor=\"middle\" x=\"6418.5\" y=\"-729.3\" font-family=\"Helvetica,sans-Serif\" font-size=\"14.00\" fill=\"#000000\">value = [0, 1071]</text>\n<text text-anchor=\"middle\" x=\"6418.5\" y=\"-714.3\" font-family=\"Helvetica,sans-Serif\" font-size=\"14.00\" fill=\"#000000\">class = 1</text>\n</g>\n<!-- 130&#45;&gt;131 -->\n<g id=\"edge131\" class=\"edge\">\n<title>130&#45;&gt;131</title>\n<path fill=\"none\" stroke=\"#000000\" d=\"M6418.5,-817.8796C6418.5,-807.2134 6418.5,-795.7021 6418.5,-784.9015\"/>\n<polygon fill=\"#000000\" stroke=\"#000000\" points=\"6422.0001,-784.8149 6418.5,-774.8149 6415.0001,-784.815 6422.0001,-784.8149\"/>\n</g>\n<!-- 132 -->\n<g id=\"node133\" class=\"node\">\n<title>132</title>\n<path fill=\"#a3d1f3\" stroke=\"#000000\" d=\"M7231,-782C7231,-782 7106,-782 7106,-782 7100,-782 7094,-776 7094,-770 7094,-770 7094,-711 7094,-711 7094,-705 7100,-699 7106,-699 7106,-699 7231,-699 7231,-699 7237,-699 7243,-705 7243,-711 7243,-711 7243,-770 7243,-770 7243,-776 7237,-782 7231,-782\"/>\n<text text-anchor=\"middle\" x=\"7168.5\" y=\"-766.8\" font-family=\"Helvetica,sans-Serif\" font-size=\"14.00\" fill=\"#000000\">tenure &lt;= &#45;0.03</text>\n<text text-anchor=\"middle\" x=\"7168.5\" y=\"-751.8\" font-family=\"Helvetica,sans-Serif\" font-size=\"14.00\" fill=\"#000000\">entropy = 0.933</text>\n<text text-anchor=\"middle\" x=\"7168.5\" y=\"-736.8\" font-family=\"Helvetica,sans-Serif\" font-size=\"14.00\" fill=\"#000000\">samples = 2979</text>\n<text text-anchor=\"middle\" x=\"7168.5\" y=\"-721.8\" font-family=\"Helvetica,sans-Serif\" font-size=\"14.00\" fill=\"#000000\">value = [1039, 1940]</text>\n<text text-anchor=\"middle\" x=\"7168.5\" y=\"-706.8\" font-family=\"Helvetica,sans-Serif\" font-size=\"14.00\" fill=\"#000000\">class = 1</text>\n</g>\n<!-- 130&#45;&gt;132 -->\n<g id=\"edge132\" class=\"edge\">\n<title>130&#45;&gt;132</title>\n<path fill=\"none\" stroke=\"#000000\" d=\"M6567.124,-835.9183C6721.7968,-811.3769 6958.5787,-773.8075 7083.8993,-753.9233\"/>\n<polygon fill=\"#000000\" stroke=\"#000000\" points=\"7084.5037,-757.3713 7093.8317,-752.3474 7083.4067,-750.4578 7084.5037,-757.3713\"/>\n</g>\n<!-- 133 -->\n<g id=\"node134\" class=\"node\">\n<title>133</title>\n<path fill=\"#77bced\" stroke=\"#000000\" d=\"M7280.5,-663C7280.5,-663 7056.5,-663 7056.5,-663 7050.5,-663 7044.5,-657 7044.5,-651 7044.5,-651 7044.5,-592 7044.5,-592 7044.5,-586 7050.5,-580 7056.5,-580 7056.5,-580 7280.5,-580 7280.5,-580 7286.5,-580 7292.5,-586 7292.5,-592 7292.5,-592 7292.5,-651 7292.5,-651 7292.5,-657 7286.5,-663 7280.5,-663\"/>\n<text text-anchor=\"middle\" x=\"7168.5\" y=\"-647.8\" font-family=\"Helvetica,sans-Serif\" font-size=\"14.00\" fill=\"#000000\">internetservice_Fiber optic &lt;= 0.025</text>\n<text text-anchor=\"middle\" x=\"7168.5\" y=\"-632.8\" font-family=\"Helvetica,sans-Serif\" font-size=\"14.00\" fill=\"#000000\">entropy = 0.792</text>\n<text text-anchor=\"middle\" x=\"7168.5\" y=\"-617.8\" font-family=\"Helvetica,sans-Serif\" font-size=\"14.00\" fill=\"#000000\">samples = 2020</text>\n<text text-anchor=\"middle\" x=\"7168.5\" y=\"-602.8\" font-family=\"Helvetica,sans-Serif\" font-size=\"14.00\" fill=\"#000000\">value = [481, 1539]</text>\n<text text-anchor=\"middle\" x=\"7168.5\" y=\"-587.8\" font-family=\"Helvetica,sans-Serif\" font-size=\"14.00\" fill=\"#000000\">class = 1</text>\n</g>\n<!-- 132&#45;&gt;133 -->\n<g id=\"edge133\" class=\"edge\">\n<title>132&#45;&gt;133</title>\n<path fill=\"none\" stroke=\"#000000\" d=\"M7168.5,-698.8796C7168.5,-690.6838 7168.5,-681.9891 7168.5,-673.5013\"/>\n<polygon fill=\"#000000\" stroke=\"#000000\" points=\"7172.0001,-673.298 7168.5,-663.2981 7165.0001,-673.2981 7172.0001,-673.298\"/>\n</g>\n<!-- 176 -->\n<g id=\"node177\" class=\"node\">\n<title>176</title>\n<path fill=\"#f8dcc7\" stroke=\"#000000\" d=\"M8534.5,-663C8534.5,-663 8310.5,-663 8310.5,-663 8304.5,-663 8298.5,-657 8298.5,-651 8298.5,-651 8298.5,-592 8298.5,-592 8298.5,-586 8304.5,-580 8310.5,-580 8310.5,-580 8534.5,-580 8534.5,-580 8540.5,-580 8546.5,-586 8546.5,-592 8546.5,-592 8546.5,-651 8546.5,-651 8546.5,-657 8540.5,-663 8534.5,-663\"/>\n<text text-anchor=\"middle\" x=\"8422.5\" y=\"-647.8\" font-family=\"Helvetica,sans-Serif\" font-size=\"14.00\" fill=\"#000000\">internetservice_Fiber optic &lt;= 0.011</text>\n<text text-anchor=\"middle\" x=\"8422.5\" y=\"-632.8\" font-family=\"Helvetica,sans-Serif\" font-size=\"14.00\" fill=\"#000000\">entropy = 0.981</text>\n<text text-anchor=\"middle\" x=\"8422.5\" y=\"-617.8\" font-family=\"Helvetica,sans-Serif\" font-size=\"14.00\" fill=\"#000000\">samples = 959</text>\n<text text-anchor=\"middle\" x=\"8422.5\" y=\"-602.8\" font-family=\"Helvetica,sans-Serif\" font-size=\"14.00\" fill=\"#000000\">value = [558, 401]</text>\n<text text-anchor=\"middle\" x=\"8422.5\" y=\"-587.8\" font-family=\"Helvetica,sans-Serif\" font-size=\"14.00\" fill=\"#000000\">class = 0</text>\n</g>\n<!-- 132&#45;&gt;176 -->\n<g id=\"edge176\" class=\"edge\">\n<title>132&#45;&gt;176</title>\n<path fill=\"none\" stroke=\"#000000\" d=\"M7243.188,-733.4124C7448.686,-713.9114 8024.6684,-659.2528 8288.0305,-634.2607\"/>\n<polygon fill=\"#000000\" stroke=\"#000000\" points=\"8288.4087,-637.7406 8298.0333,-633.3114 8287.7473,-630.7719 8288.4087,-637.7406\"/>\n</g>\n<!-- 134 -->\n<g id=\"node135\" class=\"node\">\n<title>134</title>\n<path fill=\"#cae5f8\" stroke=\"#000000\" d=\"M6883.5,-544C6883.5,-544 6775.5,-544 6775.5,-544 6769.5,-544 6763.5,-538 6763.5,-532 6763.5,-532 6763.5,-473 6763.5,-473 6763.5,-467 6769.5,-461 6775.5,-461 6775.5,-461 6883.5,-461 6883.5,-461 6889.5,-461 6895.5,-467 6895.5,-473 6895.5,-473 6895.5,-532 6895.5,-532 6895.5,-538 6889.5,-544 6883.5,-544\"/>\n<text text-anchor=\"middle\" x=\"6829.5\" y=\"-528.8\" font-family=\"Helvetica,sans-Serif\" font-size=\"14.00\" fill=\"#000000\">tenure &lt;= &#45;0.989</text>\n<text text-anchor=\"middle\" x=\"6829.5\" y=\"-513.8\" font-family=\"Helvetica,sans-Serif\" font-size=\"14.00\" fill=\"#000000\">entropy = 0.982</text>\n<text text-anchor=\"middle\" x=\"6829.5\" y=\"-498.8\" font-family=\"Helvetica,sans-Serif\" font-size=\"14.00\" fill=\"#000000\">samples = 557</text>\n<text text-anchor=\"middle\" x=\"6829.5\" y=\"-483.8\" font-family=\"Helvetica,sans-Serif\" font-size=\"14.00\" fill=\"#000000\">value = [235, 322]</text>\n<text text-anchor=\"middle\" x=\"6829.5\" y=\"-468.8\" font-family=\"Helvetica,sans-Serif\" font-size=\"14.00\" fill=\"#000000\">class = 1</text>\n</g>\n<!-- 133&#45;&gt;134 -->\n<g id=\"edge134\" class=\"edge\">\n<title>133&#45;&gt;134</title>\n<path fill=\"none\" stroke=\"#000000\" d=\"M7049.9343,-579.8796C7001.8295,-562.9933 6947.6909,-543.9888 6905.105,-529.0398\"/>\n<polygon fill=\"#000000\" stroke=\"#000000\" points=\"6906.2433,-525.7301 6895.6485,-525.7203 6903.9247,-532.3349 6906.2433,-525.7301\"/>\n</g>\n<!-- 157 -->\n<g id=\"node158\" class=\"node\">\n<title>157</title>\n<path fill=\"#61b1ea\" stroke=\"#000000\" d=\"M7310,-544C7310,-544 7173,-544 7173,-544 7167,-544 7161,-538 7161,-532 7161,-532 7161,-473 7161,-473 7161,-467 7167,-461 7173,-461 7173,-461 7310,-461 7310,-461 7316,-461 7322,-467 7322,-473 7322,-473 7322,-532 7322,-532 7322,-538 7316,-544 7310,-544\"/>\n<text text-anchor=\"middle\" x=\"7241.5\" y=\"-528.8\" font-family=\"Helvetica,sans-Serif\" font-size=\"14.00\" fill=\"#000000\">totalcharges &lt;= &#45;0.888</text>\n<text text-anchor=\"middle\" x=\"7241.5\" y=\"-513.8\" font-family=\"Helvetica,sans-Serif\" font-size=\"14.00\" fill=\"#000000\">entropy = 0.653</text>\n<text text-anchor=\"middle\" x=\"7241.5\" y=\"-498.8\" font-family=\"Helvetica,sans-Serif\" font-size=\"14.00\" fill=\"#000000\">samples = 1463</text>\n<text text-anchor=\"middle\" x=\"7241.5\" y=\"-483.8\" font-family=\"Helvetica,sans-Serif\" font-size=\"14.00\" fill=\"#000000\">value = [246, 1217]</text>\n<text text-anchor=\"middle\" x=\"7241.5\" y=\"-468.8\" font-family=\"Helvetica,sans-Serif\" font-size=\"14.00\" fill=\"#000000\">class = 1</text>\n</g>\n<!-- 133&#45;&gt;157 -->\n<g id=\"edge157\" class=\"edge\">\n<title>133&#45;&gt;157</title>\n<path fill=\"none\" stroke=\"#000000\" d=\"M7194.0319,-579.8796C7199.391,-571.1434 7205.0979,-561.8404 7210.6282,-552.8253\"/>\n<polygon fill=\"#000000\" stroke=\"#000000\" points=\"7213.6135,-554.6522 7215.8592,-544.2981 7207.6467,-550.9919 7213.6135,-554.6522\"/>\n</g>\n<!-- 135 -->\n<g id=\"node136\" class=\"node\">\n<title>135</title>\n<path fill=\"#7cbeee\" stroke=\"#000000\" d=\"M6459.5,-425C6459.5,-425 6305.5,-425 6305.5,-425 6299.5,-425 6293.5,-419 6293.5,-413 6293.5,-413 6293.5,-354 6293.5,-354 6293.5,-348 6299.5,-342 6305.5,-342 6305.5,-342 6459.5,-342 6459.5,-342 6465.5,-342 6471.5,-348 6471.5,-354 6471.5,-354 6471.5,-413 6471.5,-413 6471.5,-419 6465.5,-425 6459.5,-425\"/>\n<text text-anchor=\"middle\" x=\"6382.5\" y=\"-409.8\" font-family=\"Helvetica,sans-Serif\" font-size=\"14.00\" fill=\"#000000\">paperlessbilling &lt;= 0.003</text>\n<text text-anchor=\"middle\" x=\"6382.5\" y=\"-394.8\" font-family=\"Helvetica,sans-Serif\" font-size=\"14.00\" fill=\"#000000\">entropy = 0.817</text>\n<text text-anchor=\"middle\" x=\"6382.5\" y=\"-379.8\" font-family=\"Helvetica,sans-Serif\" font-size=\"14.00\" fill=\"#000000\">samples = 264</text>\n<text text-anchor=\"middle\" x=\"6382.5\" y=\"-364.8\" font-family=\"Helvetica,sans-Serif\" font-size=\"14.00\" fill=\"#000000\">value = [67, 197]</text>\n<text text-anchor=\"middle\" x=\"6382.5\" y=\"-349.8\" font-family=\"Helvetica,sans-Serif\" font-size=\"14.00\" fill=\"#000000\">class = 1</text>\n</g>\n<!-- 134&#45;&gt;135 -->\n<g id=\"edge135\" class=\"edge\">\n<title>134&#45;&gt;135</title>\n<path fill=\"none\" stroke=\"#000000\" d=\"M6763.0623,-484.813C6688.5934,-464.988 6567.0848,-432.64 6481.4347,-409.8383\"/>\n<polygon fill=\"#000000\" stroke=\"#000000\" points=\"6482.2603,-406.4363 6471.6965,-407.2458 6480.4595,-413.2007 6482.2603,-406.4363\"/>\n</g>\n<!-- 146 -->\n<g id=\"node147\" class=\"node\">\n<title>146</title>\n<path fill=\"#f8dfcc\" stroke=\"#000000\" d=\"M6899.5,-425C6899.5,-425 6759.5,-425 6759.5,-425 6753.5,-425 6747.5,-419 6747.5,-413 6747.5,-413 6747.5,-354 6747.5,-354 6747.5,-348 6753.5,-342 6759.5,-342 6759.5,-342 6899.5,-342 6899.5,-342 6905.5,-342 6911.5,-348 6911.5,-354 6911.5,-354 6911.5,-413 6911.5,-413 6911.5,-419 6905.5,-425 6899.5,-425\"/>\n<text text-anchor=\"middle\" x=\"6829.5\" y=\"-409.8\" font-family=\"Helvetica,sans-Serif\" font-size=\"14.00\" fill=\"#000000\">onlinebackup &lt;= 0.872</text>\n<text text-anchor=\"middle\" x=\"6829.5\" y=\"-394.8\" font-family=\"Helvetica,sans-Serif\" font-size=\"14.00\" fill=\"#000000\">entropy = 0.984</text>\n<text text-anchor=\"middle\" x=\"6829.5\" y=\"-379.8\" font-family=\"Helvetica,sans-Serif\" font-size=\"14.00\" fill=\"#000000\">samples = 293</text>\n<text text-anchor=\"middle\" x=\"6829.5\" y=\"-364.8\" font-family=\"Helvetica,sans-Serif\" font-size=\"14.00\" fill=\"#000000\">value = [168, 125]</text>\n<text text-anchor=\"middle\" x=\"6829.5\" y=\"-349.8\" font-family=\"Helvetica,sans-Serif\" font-size=\"14.00\" fill=\"#000000\">class = 0</text>\n</g>\n<!-- 134&#45;&gt;146 -->\n<g id=\"edge146\" class=\"edge\">\n<title>134&#45;&gt;146</title>\n<path fill=\"none\" stroke=\"#000000\" d=\"M6829.5,-460.8796C6829.5,-452.6838 6829.5,-443.9891 6829.5,-435.5013\"/>\n<polygon fill=\"#000000\" stroke=\"#000000\" points=\"6833.0001,-435.298 6829.5,-425.2981 6826.0001,-435.2981 6833.0001,-435.298\"/>\n</g>\n<!-- 136 -->\n<g id=\"node137\" class=\"node\">\n<title>136</title>\n<path fill=\"#e0effb\" stroke=\"#000000\" d=\"M6222,-306C6222,-306 6069,-306 6069,-306 6063,-306 6057,-300 6057,-294 6057,-294 6057,-235 6057,-235 6057,-229 6063,-223 6069,-223 6069,-223 6222,-223 6222,-223 6228,-223 6234,-229 6234,-235 6234,-235 6234,-294 6234,-294 6234,-300 6228,-306 6222,-306\"/>\n<text text-anchor=\"middle\" x=\"6145.5\" y=\"-290.8\" font-family=\"Helvetica,sans-Serif\" font-size=\"14.00\" fill=\"#000000\">monthlycharges &lt;= &#45;1.69</text>\n<text text-anchor=\"middle\" x=\"6145.5\" y=\"-275.8\" font-family=\"Helvetica,sans-Serif\" font-size=\"14.00\" fill=\"#000000\">entropy = 0.995</text>\n<text text-anchor=\"middle\" x=\"6145.5\" y=\"-260.8\" font-family=\"Helvetica,sans-Serif\" font-size=\"14.00\" fill=\"#000000\">samples = 81</text>\n<text text-anchor=\"middle\" x=\"6145.5\" y=\"-245.8\" font-family=\"Helvetica,sans-Serif\" font-size=\"14.00\" fill=\"#000000\">value = [37, 44]</text>\n<text text-anchor=\"middle\" x=\"6145.5\" y=\"-230.8\" font-family=\"Helvetica,sans-Serif\" font-size=\"14.00\" fill=\"#000000\">class = 1</text>\n</g>\n<!-- 135&#45;&gt;136 -->\n<g id=\"edge136\" class=\"edge\">\n<title>135&#45;&gt;136</title>\n<path fill=\"none\" stroke=\"#000000\" d=\"M6299.6089,-341.8796C6279.4929,-331.7791 6257.8677,-320.9209 6237.3644,-310.626\"/>\n<polygon fill=\"#000000\" stroke=\"#000000\" points=\"6238.8516,-307.4563 6228.3443,-306.0969 6235.7105,-313.712 6238.8516,-307.4563\"/>\n</g>\n<!-- 141 -->\n<g id=\"node142\" class=\"node\">\n<title>141</title>\n<path fill=\"#60b0ea\" stroke=\"#000000\" d=\"M6455.5,-306C6455.5,-306 6309.5,-306 6309.5,-306 6303.5,-306 6297.5,-300 6297.5,-294 6297.5,-294 6297.5,-235 6297.5,-235 6297.5,-229 6303.5,-223 6309.5,-223 6309.5,-223 6455.5,-223 6455.5,-223 6461.5,-223 6467.5,-229 6467.5,-235 6467.5,-235 6467.5,-294 6467.5,-294 6467.5,-300 6461.5,-306 6455.5,-306\"/>\n<text text-anchor=\"middle\" x=\"6382.5\" y=\"-290.8\" font-family=\"Helvetica,sans-Serif\" font-size=\"14.00\" fill=\"#000000\">paperlessbilling &lt;= 0.99</text>\n<text text-anchor=\"middle\" x=\"6382.5\" y=\"-275.8\" font-family=\"Helvetica,sans-Serif\" font-size=\"14.00\" fill=\"#000000\">entropy = 0.644</text>\n<text text-anchor=\"middle\" x=\"6382.5\" y=\"-260.8\" font-family=\"Helvetica,sans-Serif\" font-size=\"14.00\" fill=\"#000000\">samples = 183</text>\n<text text-anchor=\"middle\" x=\"6382.5\" y=\"-245.8\" font-family=\"Helvetica,sans-Serif\" font-size=\"14.00\" fill=\"#000000\">value = [30, 153]</text>\n<text text-anchor=\"middle\" x=\"6382.5\" y=\"-230.8\" font-family=\"Helvetica,sans-Serif\" font-size=\"14.00\" fill=\"#000000\">class = 1</text>\n</g>\n<!-- 135&#45;&gt;141 -->\n<g id=\"edge141\" class=\"edge\">\n<title>135&#45;&gt;141</title>\n<path fill=\"none\" stroke=\"#000000\" d=\"M6382.5,-341.8796C6382.5,-333.6838 6382.5,-324.9891 6382.5,-316.5013\"/>\n<polygon fill=\"#000000\" stroke=\"#000000\" points=\"6386.0001,-316.298 6382.5,-306.2981 6379.0001,-316.2981 6386.0001,-316.298\"/>\n</g>\n<!-- 137 -->\n<g id=\"node138\" class=\"node\">\n<title>137</title>\n<path fill=\"#e58139\" stroke=\"#000000\" d=\"M6031,-179.5C6031,-179.5 5954,-179.5 5954,-179.5 5948,-179.5 5942,-173.5 5942,-167.5 5942,-167.5 5942,-123.5 5942,-123.5 5942,-117.5 5948,-111.5 5954,-111.5 5954,-111.5 6031,-111.5 6031,-111.5 6037,-111.5 6043,-117.5 6043,-123.5 6043,-123.5 6043,-167.5 6043,-167.5 6043,-173.5 6037,-179.5 6031,-179.5\"/>\n<text text-anchor=\"middle\" x=\"5992.5\" y=\"-164.3\" font-family=\"Helvetica,sans-Serif\" font-size=\"14.00\" fill=\"#000000\">entropy = 0.0</text>\n<text text-anchor=\"middle\" x=\"5992.5\" y=\"-149.3\" font-family=\"Helvetica,sans-Serif\" font-size=\"14.00\" fill=\"#000000\">samples = 5</text>\n<text text-anchor=\"middle\" x=\"5992.5\" y=\"-134.3\" font-family=\"Helvetica,sans-Serif\" font-size=\"14.00\" fill=\"#000000\">value = [5, 0]</text>\n<text text-anchor=\"middle\" x=\"5992.5\" y=\"-119.3\" font-family=\"Helvetica,sans-Serif\" font-size=\"14.00\" fill=\"#000000\">class = 0</text>\n</g>\n<!-- 136&#45;&gt;137 -->\n<g id=\"edge137\" class=\"edge\">\n<title>136&#45;&gt;137</title>\n<path fill=\"none\" stroke=\"#000000\" d=\"M6091.988,-222.8796C6076.7192,-211.0038 6060.1034,-198.0804 6044.9016,-186.2568\"/>\n<polygon fill=\"#000000\" stroke=\"#000000\" points=\"6046.6616,-183.1916 6036.6192,-179.8149 6042.3639,-188.7171 6046.6616,-183.1916\"/>\n</g>\n<!-- 138 -->\n<g id=\"node139\" class=\"node\">\n<title>138</title>\n<path fill=\"#c9e4f8\" stroke=\"#000000\" d=\"M6199.5,-187C6199.5,-187 6073.5,-187 6073.5,-187 6067.5,-187 6061.5,-181 6061.5,-175 6061.5,-175 6061.5,-116 6061.5,-116 6061.5,-110 6067.5,-104 6073.5,-104 6073.5,-104 6199.5,-104 6199.5,-104 6205.5,-104 6211.5,-110 6211.5,-116 6211.5,-116 6211.5,-175 6211.5,-175 6211.5,-181 6205.5,-187 6199.5,-187\"/>\n<text text-anchor=\"middle\" x=\"6136.5\" y=\"-171.8\" font-family=\"Helvetica,sans-Serif\" font-size=\"14.00\" fill=\"#000000\">onlinesecurity &lt;= 0.5</text>\n<text text-anchor=\"middle\" x=\"6136.5\" y=\"-156.8\" font-family=\"Helvetica,sans-Serif\" font-size=\"14.00\" fill=\"#000000\">entropy = 0.982</text>\n<text text-anchor=\"middle\" x=\"6136.5\" y=\"-141.8\" font-family=\"Helvetica,sans-Serif\" font-size=\"14.00\" fill=\"#000000\">samples = 76</text>\n<text text-anchor=\"middle\" x=\"6136.5\" y=\"-126.8\" font-family=\"Helvetica,sans-Serif\" font-size=\"14.00\" fill=\"#000000\">value = [32, 44]</text>\n<text text-anchor=\"middle\" x=\"6136.5\" y=\"-111.8\" font-family=\"Helvetica,sans-Serif\" font-size=\"14.00\" fill=\"#000000\">class = 1</text>\n</g>\n<!-- 136&#45;&gt;138 -->\n<g id=\"edge138\" class=\"edge\">\n<title>136&#45;&gt;138</title>\n<path fill=\"none\" stroke=\"#000000\" d=\"M6142.3522,-222.8796C6141.7324,-214.6838 6141.0748,-205.9891 6140.4329,-197.5013\"/>\n<polygon fill=\"#000000\" stroke=\"#000000\" points=\"6143.9055,-197.0056 6139.6612,-187.2981 6136.9254,-197.5336 6143.9055,-197.0056\"/>\n</g>\n<!-- 139 -->\n<g id=\"node140\" class=\"node\">\n<title>139</title>\n<path fill=\"#b5dbf5\" stroke=\"#000000\" d=\"M6075.5,-68C6075.5,-68 5981.5,-68 5981.5,-68 5975.5,-68 5969.5,-62 5969.5,-56 5969.5,-56 5969.5,-12 5969.5,-12 5969.5,-6 5975.5,0 5981.5,0 5981.5,0 6075.5,0 6075.5,0 6081.5,0 6087.5,-6 6087.5,-12 6087.5,-12 6087.5,-56 6087.5,-56 6087.5,-62 6081.5,-68 6075.5,-68\"/>\n<text text-anchor=\"middle\" x=\"6028.5\" y=\"-52.8\" font-family=\"Helvetica,sans-Serif\" font-size=\"14.00\" fill=\"#000000\">entropy = 0.962</text>\n<text text-anchor=\"middle\" x=\"6028.5\" y=\"-37.8\" font-family=\"Helvetica,sans-Serif\" font-size=\"14.00\" fill=\"#000000\">samples = 70</text>\n<text text-anchor=\"middle\" x=\"6028.5\" y=\"-22.8\" font-family=\"Helvetica,sans-Serif\" font-size=\"14.00\" fill=\"#000000\">value = [27, 43]</text>\n<text text-anchor=\"middle\" x=\"6028.5\" y=\"-7.8\" font-family=\"Helvetica,sans-Serif\" font-size=\"14.00\" fill=\"#000000\">class = 1</text>\n</g>\n<!-- 138&#45;&gt;139 -->\n<g id=\"edge139\" class=\"edge\">\n<title>138&#45;&gt;139</title>\n<path fill=\"none\" stroke=\"#000000\" d=\"M6096.2848,-103.9815C6087.2936,-94.6989 6077.756,-84.8522 6068.7629,-75.5677\"/>\n<polygon fill=\"#000000\" stroke=\"#000000\" points=\"6071.1596,-73.0115 6061.6881,-68.2637 6066.1316,-77.8817 6071.1596,-73.0115\"/>\n</g>\n<!-- 140 -->\n<g id=\"node141\" class=\"node\">\n<title>140</title>\n<path fill=\"#ea9a61\" stroke=\"#000000\" d=\"M6203.5,-68C6203.5,-68 6117.5,-68 6117.5,-68 6111.5,-68 6105.5,-62 6105.5,-56 6105.5,-56 6105.5,-12 6105.5,-12 6105.5,-6 6111.5,0 6117.5,0 6117.5,0 6203.5,0 6203.5,0 6209.5,0 6215.5,-6 6215.5,-12 6215.5,-12 6215.5,-56 6215.5,-56 6215.5,-62 6209.5,-68 6203.5,-68\"/>\n<text text-anchor=\"middle\" x=\"6160.5\" y=\"-52.8\" font-family=\"Helvetica,sans-Serif\" font-size=\"14.00\" fill=\"#000000\">entropy = 0.65</text>\n<text text-anchor=\"middle\" x=\"6160.5\" y=\"-37.8\" font-family=\"Helvetica,sans-Serif\" font-size=\"14.00\" fill=\"#000000\">samples = 6</text>\n<text text-anchor=\"middle\" x=\"6160.5\" y=\"-22.8\" font-family=\"Helvetica,sans-Serif\" font-size=\"14.00\" fill=\"#000000\">value = [5, 1]</text>\n<text text-anchor=\"middle\" x=\"6160.5\" y=\"-7.8\" font-family=\"Helvetica,sans-Serif\" font-size=\"14.00\" fill=\"#000000\">class = 0</text>\n</g>\n<!-- 138&#45;&gt;140 -->\n<g id=\"edge140\" class=\"edge\">\n<title>138&#45;&gt;140</title>\n<path fill=\"none\" stroke=\"#000000\" d=\"M6145.4367,-103.9815C6147.2567,-95.5261 6149.1775,-86.6026 6151.0157,-78.0623\"/>\n<polygon fill=\"#000000\" stroke=\"#000000\" points=\"6154.4421,-78.7763 6153.1249,-68.2637 6147.5989,-77.3032 6154.4421,-78.7763\"/>\n</g>\n<!-- 142 -->\n<g id=\"node143\" class=\"node\">\n<title>142</title>\n<path fill=\"#399de5\" stroke=\"#000000\" d=\"M6324,-179.5C6324,-179.5 6241,-179.5 6241,-179.5 6235,-179.5 6229,-173.5 6229,-167.5 6229,-167.5 6229,-123.5 6229,-123.5 6229,-117.5 6235,-111.5 6241,-111.5 6241,-111.5 6324,-111.5 6324,-111.5 6330,-111.5 6336,-117.5 6336,-123.5 6336,-123.5 6336,-167.5 6336,-167.5 6336,-173.5 6330,-179.5 6324,-179.5\"/>\n<text text-anchor=\"middle\" x=\"6282.5\" y=\"-164.3\" font-family=\"Helvetica,sans-Serif\" font-size=\"14.00\" fill=\"#000000\">entropy = 0.0</text>\n<text text-anchor=\"middle\" x=\"6282.5\" y=\"-149.3\" font-family=\"Helvetica,sans-Serif\" font-size=\"14.00\" fill=\"#000000\">samples = 46</text>\n<text text-anchor=\"middle\" x=\"6282.5\" y=\"-134.3\" font-family=\"Helvetica,sans-Serif\" font-size=\"14.00\" fill=\"#000000\">value = [0, 46]</text>\n<text text-anchor=\"middle\" x=\"6282.5\" y=\"-119.3\" font-family=\"Helvetica,sans-Serif\" font-size=\"14.00\" fill=\"#000000\">class = 1</text>\n</g>\n<!-- 141&#45;&gt;142 -->\n<g id=\"edge142\" class=\"edge\">\n<title>141&#45;&gt;142</title>\n<path fill=\"none\" stroke=\"#000000\" d=\"M6347.5249,-222.8796C6337.9148,-211.4436 6327.4885,-199.0363 6317.8571,-187.575\"/>\n<polygon fill=\"#000000\" stroke=\"#000000\" points=\"6320.4491,-185.219 6311.3361,-179.8149 6315.09,-189.7225 6320.4491,-185.219\"/>\n</g>\n<!-- 143 -->\n<g id=\"node144\" class=\"node\">\n<title>143</title>\n<path fill=\"#71b8ec\" stroke=\"#000000\" d=\"M6507,-187C6507,-187 6366,-187 6366,-187 6360,-187 6354,-181 6354,-175 6354,-175 6354,-116 6354,-116 6354,-110 6360,-104 6366,-104 6366,-104 6507,-104 6507,-104 6513,-104 6519,-110 6519,-116 6519,-116 6519,-175 6519,-175 6519,-181 6513,-187 6507,-187\"/>\n<text text-anchor=\"middle\" x=\"6436.5\" y=\"-171.8\" font-family=\"Helvetica,sans-Serif\" font-size=\"14.00\" fill=\"#000000\">phoneservice &lt;= 0.917</text>\n<text text-anchor=\"middle\" x=\"6436.5\" y=\"-156.8\" font-family=\"Helvetica,sans-Serif\" font-size=\"14.00\" fill=\"#000000\">entropy = 0.758</text>\n<text text-anchor=\"middle\" x=\"6436.5\" y=\"-141.8\" font-family=\"Helvetica,sans-Serif\" font-size=\"14.00\" fill=\"#000000\">samples = 137</text>\n<text text-anchor=\"middle\" x=\"6436.5\" y=\"-126.8\" font-family=\"Helvetica,sans-Serif\" font-size=\"14.00\" fill=\"#000000\">value = [30, 107]</text>\n<text text-anchor=\"middle\" x=\"6436.5\" y=\"-111.8\" font-family=\"Helvetica,sans-Serif\" font-size=\"14.00\" fill=\"#000000\">class = 1</text>\n</g>\n<!-- 141&#45;&gt;143 -->\n<g id=\"edge143\" class=\"edge\">\n<title>141&#45;&gt;143</title>\n<path fill=\"none\" stroke=\"#000000\" d=\"M6401.3866,-222.8796C6405.2283,-214.4136 6409.3115,-205.4153 6413.2834,-196.6626\"/>\n<polygon fill=\"#000000\" stroke=\"#000000\" points=\"6416.5877,-197.8507 6417.5328,-187.2981 6410.2133,-194.9581 6416.5877,-197.8507\"/>\n</g>\n<!-- 144 -->\n<g id=\"node145\" class=\"node\">\n<title>144</title>\n<path fill=\"#49a5e7\" stroke=\"#000000\" d=\"M6380.5,-68C6380.5,-68 6286.5,-68 6286.5,-68 6280.5,-68 6274.5,-62 6274.5,-56 6274.5,-56 6274.5,-12 6274.5,-12 6274.5,-6 6280.5,0 6286.5,0 6286.5,0 6380.5,0 6380.5,0 6386.5,0 6392.5,-6 6392.5,-12 6392.5,-12 6392.5,-56 6392.5,-56 6392.5,-62 6386.5,-68 6380.5,-68\"/>\n<text text-anchor=\"middle\" x=\"6333.5\" y=\"-52.8\" font-family=\"Helvetica,sans-Serif\" font-size=\"14.00\" fill=\"#000000\">entropy = 0.391</text>\n<text text-anchor=\"middle\" x=\"6333.5\" y=\"-37.8\" font-family=\"Helvetica,sans-Serif\" font-size=\"14.00\" fill=\"#000000\">samples = 52</text>\n<text text-anchor=\"middle\" x=\"6333.5\" y=\"-22.8\" font-family=\"Helvetica,sans-Serif\" font-size=\"14.00\" fill=\"#000000\">value = [4, 48]</text>\n<text text-anchor=\"middle\" x=\"6333.5\" y=\"-7.8\" font-family=\"Helvetica,sans-Serif\" font-size=\"14.00\" fill=\"#000000\">class = 1</text>\n</g>\n<!-- 143&#45;&gt;144 -->\n<g id=\"edge144\" class=\"edge\">\n<title>143&#45;&gt;144</title>\n<path fill=\"none\" stroke=\"#000000\" d=\"M6398.1466,-103.9815C6389.6566,-94.7908 6380.6557,-85.0472 6372.1537,-75.8436\"/>\n<polygon fill=\"#000000\" stroke=\"#000000\" points=\"6374.5081,-73.2343 6365.1516,-68.2637 6369.3663,-77.9842 6374.5081,-73.2343\"/>\n</g>\n<!-- 145 -->\n<g id=\"node146\" class=\"node\">\n<title>145</title>\n<path fill=\"#90c8f0\" stroke=\"#000000\" d=\"M6516.5,-68C6516.5,-68 6422.5,-68 6422.5,-68 6416.5,-68 6410.5,-62 6410.5,-56 6410.5,-56 6410.5,-12 6410.5,-12 6410.5,-6 6416.5,0 6422.5,0 6422.5,0 6516.5,0 6516.5,0 6522.5,0 6528.5,-6 6528.5,-12 6528.5,-12 6528.5,-56 6528.5,-56 6528.5,-62 6522.5,-68 6516.5,-68\"/>\n<text text-anchor=\"middle\" x=\"6469.5\" y=\"-52.8\" font-family=\"Helvetica,sans-Serif\" font-size=\"14.00\" fill=\"#000000\">entropy = 0.888</text>\n<text text-anchor=\"middle\" x=\"6469.5\" y=\"-37.8\" font-family=\"Helvetica,sans-Serif\" font-size=\"14.00\" fill=\"#000000\">samples = 85</text>\n<text text-anchor=\"middle\" x=\"6469.5\" y=\"-22.8\" font-family=\"Helvetica,sans-Serif\" font-size=\"14.00\" fill=\"#000000\">value = [26, 59]</text>\n<text text-anchor=\"middle\" x=\"6469.5\" y=\"-7.8\" font-family=\"Helvetica,sans-Serif\" font-size=\"14.00\" fill=\"#000000\">class = 1</text>\n</g>\n<!-- 143&#45;&gt;145 -->\n<g id=\"edge145\" class=\"edge\">\n<title>143&#45;&gt;145</title>\n<path fill=\"none\" stroke=\"#000000\" d=\"M6448.788,-103.9815C6451.2905,-95.5261 6453.9315,-86.6026 6456.4591,-78.0623\"/>\n<polygon fill=\"#000000\" stroke=\"#000000\" points=\"6459.8773,-78.8458 6459.3592,-68.2637 6453.1651,-76.8592 6459.8773,-78.8458\"/>\n</g>\n<!-- 147 -->\n<g id=\"node148\" class=\"node\">\n<title>147</title>\n<path fill=\"#fffdfc\" stroke=\"#000000\" d=\"M6822.5,-306C6822.5,-306 6638.5,-306 6638.5,-306 6632.5,-306 6626.5,-300 6626.5,-294 6626.5,-294 6626.5,-235 6626.5,-235 6626.5,-229 6632.5,-223 6638.5,-223 6638.5,-223 6822.5,-223 6822.5,-223 6828.5,-223 6834.5,-229 6834.5,-235 6834.5,-235 6834.5,-294 6834.5,-294 6834.5,-300 6828.5,-306 6822.5,-306\"/>\n<text text-anchor=\"middle\" x=\"6730.5\" y=\"-290.8\" font-family=\"Helvetica,sans-Serif\" font-size=\"14.00\" fill=\"#000000\">internetservice_DSL &lt;= 0.152</text>\n<text text-anchor=\"middle\" x=\"6730.5\" y=\"-275.8\" font-family=\"Helvetica,sans-Serif\" font-size=\"14.00\" fill=\"#000000\">entropy = 1.0</text>\n<text text-anchor=\"middle\" x=\"6730.5\" y=\"-260.8\" font-family=\"Helvetica,sans-Serif\" font-size=\"14.00\" fill=\"#000000\">samples = 232</text>\n<text text-anchor=\"middle\" x=\"6730.5\" y=\"-245.8\" font-family=\"Helvetica,sans-Serif\" font-size=\"14.00\" fill=\"#000000\">value = [117, 115]</text>\n<text text-anchor=\"middle\" x=\"6730.5\" y=\"-230.8\" font-family=\"Helvetica,sans-Serif\" font-size=\"14.00\" fill=\"#000000\">class = 0</text>\n</g>\n<!-- 146&#45;&gt;147 -->\n<g id=\"edge147\" class=\"edge\">\n<title>146&#45;&gt;147</title>\n<path fill=\"none\" stroke=\"#000000\" d=\"M6794.8746,-341.8796C6787.382,-332.8733 6779.3881,-323.2644 6771.6721,-313.9897\"/>\n<polygon fill=\"#000000\" stroke=\"#000000\" points=\"6774.3593,-311.7472 6765.2732,-306.2981 6768.9781,-316.224 6774.3593,-311.7472\"/>\n</g>\n<!-- 152 -->\n<g id=\"node153\" class=\"node\">\n<title>152</title>\n<path fill=\"#ea9a60\" stroke=\"#000000\" d=\"M6994,-306C6994,-306 6865,-306 6865,-306 6859,-306 6853,-300 6853,-294 6853,-294 6853,-235 6853,-235 6853,-229 6859,-223 6865,-223 6865,-223 6994,-223 6994,-223 7000,-223 7006,-229 7006,-235 7006,-235 7006,-294 7006,-294 7006,-300 7000,-306 6994,-306\"/>\n<text text-anchor=\"middle\" x=\"6929.5\" y=\"-290.8\" font-family=\"Helvetica,sans-Serif\" font-size=\"14.00\" fill=\"#000000\">totalcharges &lt;= &#45;0.77</text>\n<text text-anchor=\"middle\" x=\"6929.5\" y=\"-275.8\" font-family=\"Helvetica,sans-Serif\" font-size=\"14.00\" fill=\"#000000\">entropy = 0.644</text>\n<text text-anchor=\"middle\" x=\"6929.5\" y=\"-260.8\" font-family=\"Helvetica,sans-Serif\" font-size=\"14.00\" fill=\"#000000\">samples = 61</text>\n<text text-anchor=\"middle\" x=\"6929.5\" y=\"-245.8\" font-family=\"Helvetica,sans-Serif\" font-size=\"14.00\" fill=\"#000000\">value = [51, 10]</text>\n<text text-anchor=\"middle\" x=\"6929.5\" y=\"-230.8\" font-family=\"Helvetica,sans-Serif\" font-size=\"14.00\" fill=\"#000000\">class = 0</text>\n</g>\n<!-- 146&#45;&gt;152 -->\n<g id=\"edge152\" class=\"edge\">\n<title>146&#45;&gt;152</title>\n<path fill=\"none\" stroke=\"#000000\" d=\"M6864.4751,-341.8796C6872.0435,-332.8733 6880.1181,-323.2644 6887.912,-313.9897\"/>\n<polygon fill=\"#000000\" stroke=\"#000000\" points=\"6890.6216,-316.2056 6894.3756,-306.2981 6885.2626,-311.7022 6890.6216,-316.2056\"/>\n</g>\n<!-- 148 -->\n<g id=\"node149\" class=\"node\">\n<title>148</title>\n<path fill=\"#e89152\" stroke=\"#000000\" d=\"M6643.5,-179.5C6643.5,-179.5 6549.5,-179.5 6549.5,-179.5 6543.5,-179.5 6537.5,-173.5 6537.5,-167.5 6537.5,-167.5 6537.5,-123.5 6537.5,-123.5 6537.5,-117.5 6543.5,-111.5 6549.5,-111.5 6549.5,-111.5 6643.5,-111.5 6643.5,-111.5 6649.5,-111.5 6655.5,-117.5 6655.5,-123.5 6655.5,-123.5 6655.5,-167.5 6655.5,-167.5 6655.5,-173.5 6649.5,-179.5 6643.5,-179.5\"/>\n<text text-anchor=\"middle\" x=\"6596.5\" y=\"-164.3\" font-family=\"Helvetica,sans-Serif\" font-size=\"14.00\" fill=\"#000000\">entropy = 0.503</text>\n<text text-anchor=\"middle\" x=\"6596.5\" y=\"-149.3\" font-family=\"Helvetica,sans-Serif\" font-size=\"14.00\" fill=\"#000000\">samples = 36</text>\n<text text-anchor=\"middle\" x=\"6596.5\" y=\"-134.3\" font-family=\"Helvetica,sans-Serif\" font-size=\"14.00\" fill=\"#000000\">value = [32, 4]</text>\n<text text-anchor=\"middle\" x=\"6596.5\" y=\"-119.3\" font-family=\"Helvetica,sans-Serif\" font-size=\"14.00\" fill=\"#000000\">class = 0</text>\n</g>\n<!-- 147&#45;&gt;148 -->\n<g id=\"edge148\" class=\"edge\">\n<title>147&#45;&gt;148</title>\n<path fill=\"none\" stroke=\"#000000\" d=\"M6683.6333,-222.8796C6670.3844,-211.1138 6655.9776,-198.3197 6642.7644,-186.5855\"/>\n<polygon fill=\"#000000\" stroke=\"#000000\" points=\"6644.9416,-183.8381 6635.1403,-179.8149 6640.2935,-189.0722 6644.9416,-183.8381\"/>\n</g>\n<!-- 149 -->\n<g id=\"node150\" class=\"node\">\n<title>149</title>\n<path fill=\"#d1e8f9\" stroke=\"#000000\" d=\"M6823,-187C6823,-187 6686,-187 6686,-187 6680,-187 6674,-181 6674,-175 6674,-175 6674,-116 6674,-116 6674,-110 6680,-104 6686,-104 6686,-104 6823,-104 6823,-104 6829,-104 6835,-110 6835,-116 6835,-116 6835,-175 6835,-175 6835,-181 6829,-187 6823,-187\"/>\n<text text-anchor=\"middle\" x=\"6754.5\" y=\"-171.8\" font-family=\"Helvetica,sans-Serif\" font-size=\"14.00\" fill=\"#000000\">totalcharges &lt;= &#45;0.529</text>\n<text text-anchor=\"middle\" x=\"6754.5\" y=\"-156.8\" font-family=\"Helvetica,sans-Serif\" font-size=\"14.00\" fill=\"#000000\">entropy = 0.987</text>\n<text text-anchor=\"middle\" x=\"6754.5\" y=\"-141.8\" font-family=\"Helvetica,sans-Serif\" font-size=\"14.00\" fill=\"#000000\">samples = 196</text>\n<text text-anchor=\"middle\" x=\"6754.5\" y=\"-126.8\" font-family=\"Helvetica,sans-Serif\" font-size=\"14.00\" fill=\"#000000\">value = [85, 111]</text>\n<text text-anchor=\"middle\" x=\"6754.5\" y=\"-111.8\" font-family=\"Helvetica,sans-Serif\" font-size=\"14.00\" fill=\"#000000\">class = 1</text>\n</g>\n<!-- 147&#45;&gt;149 -->\n<g id=\"edge149\" class=\"edge\">\n<title>147&#45;&gt;149</title>\n<path fill=\"none\" stroke=\"#000000\" d=\"M6738.894,-222.8796C6740.5651,-214.5938 6742.3391,-205.798 6744.0688,-197.2216\"/>\n<polygon fill=\"#000000\" stroke=\"#000000\" points=\"6747.524,-197.7927 6746.0701,-187.2981 6740.6621,-196.4087 6747.524,-197.7927\"/>\n</g>\n<!-- 150 -->\n<g id=\"node151\" class=\"node\">\n<title>150</title>\n<path fill=\"#9bcef2\" stroke=\"#000000\" d=\"M6700.5,-68C6700.5,-68 6600.5,-68 6600.5,-68 6594.5,-68 6588.5,-62 6588.5,-56 6588.5,-56 6588.5,-12 6588.5,-12 6588.5,-6 6594.5,0 6600.5,0 6600.5,0 6700.5,0 6700.5,0 6706.5,0 6712.5,-6 6712.5,-12 6712.5,-12 6712.5,-56 6712.5,-56 6712.5,-62 6706.5,-68 6700.5,-68\"/>\n<text text-anchor=\"middle\" x=\"6650.5\" y=\"-52.8\" font-family=\"Helvetica,sans-Serif\" font-size=\"14.00\" fill=\"#000000\">entropy = 0.916</text>\n<text text-anchor=\"middle\" x=\"6650.5\" y=\"-37.8\" font-family=\"Helvetica,sans-Serif\" font-size=\"14.00\" fill=\"#000000\">samples = 154</text>\n<text text-anchor=\"middle\" x=\"6650.5\" y=\"-22.8\" font-family=\"Helvetica,sans-Serif\" font-size=\"14.00\" fill=\"#000000\">value = [51, 103]</text>\n<text text-anchor=\"middle\" x=\"6650.5\" y=\"-7.8\" font-family=\"Helvetica,sans-Serif\" font-size=\"14.00\" fill=\"#000000\">class = 1</text>\n</g>\n<!-- 149&#45;&gt;150 -->\n<g id=\"edge150\" class=\"edge\">\n<title>149&#45;&gt;150</title>\n<path fill=\"none\" stroke=\"#000000\" d=\"M6715.7742,-103.9815C6707.2018,-94.7908 6698.1135,-85.0472 6689.529,-75.8436\"/>\n<polygon fill=\"#000000\" stroke=\"#000000\" points=\"6691.8393,-73.1891 6682.4589,-68.2637 6686.7204,-77.9637 6691.8393,-73.1891\"/>\n</g>\n<!-- 151 -->\n<g id=\"node152\" class=\"node\">\n<title>151</title>\n<path fill=\"#eb9f68\" stroke=\"#000000\" d=\"M6836.5,-68C6836.5,-68 6742.5,-68 6742.5,-68 6736.5,-68 6730.5,-62 6730.5,-56 6730.5,-56 6730.5,-12 6730.5,-12 6730.5,-6 6736.5,0 6742.5,0 6742.5,0 6836.5,0 6836.5,0 6842.5,0 6848.5,-6 6848.5,-12 6848.5,-12 6848.5,-56 6848.5,-56 6848.5,-62 6842.5,-68 6836.5,-68\"/>\n<text text-anchor=\"middle\" x=\"6789.5\" y=\"-52.8\" font-family=\"Helvetica,sans-Serif\" font-size=\"14.00\" fill=\"#000000\">entropy = 0.702</text>\n<text text-anchor=\"middle\" x=\"6789.5\" y=\"-37.8\" font-family=\"Helvetica,sans-Serif\" font-size=\"14.00\" fill=\"#000000\">samples = 42</text>\n<text text-anchor=\"middle\" x=\"6789.5\" y=\"-22.8\" font-family=\"Helvetica,sans-Serif\" font-size=\"14.00\" fill=\"#000000\">value = [34, 8]</text>\n<text text-anchor=\"middle\" x=\"6789.5\" y=\"-7.8\" font-family=\"Helvetica,sans-Serif\" font-size=\"14.00\" fill=\"#000000\">class = 0</text>\n</g>\n<!-- 149&#45;&gt;151 -->\n<g id=\"edge151\" class=\"edge\">\n<title>149&#45;&gt;151</title>\n<path fill=\"none\" stroke=\"#000000\" d=\"M6767.5327,-103.9815C6770.1869,-95.5261 6772.988,-86.6026 6775.6688,-78.0623\"/>\n<polygon fill=\"#000000\" stroke=\"#000000\" points=\"6779.0889,-78.8529 6778.7446,-68.2637 6772.4102,-76.7564 6779.0889,-78.8529\"/>\n</g>\n<!-- 153 -->\n<g id=\"node154\" class=\"node\">\n<title>153</title>\n<path fill=\"#ffffff\" stroke=\"#000000\" d=\"M6945.5,-179.5C6945.5,-179.5 6865.5,-179.5 6865.5,-179.5 6859.5,-179.5 6853.5,-173.5 6853.5,-167.5 6853.5,-167.5 6853.5,-123.5 6853.5,-123.5 6853.5,-117.5 6859.5,-111.5 6865.5,-111.5 6865.5,-111.5 6945.5,-111.5 6945.5,-111.5 6951.5,-111.5 6957.5,-117.5 6957.5,-123.5 6957.5,-123.5 6957.5,-167.5 6957.5,-167.5 6957.5,-173.5 6951.5,-179.5 6945.5,-179.5\"/>\n<text text-anchor=\"middle\" x=\"6905.5\" y=\"-164.3\" font-family=\"Helvetica,sans-Serif\" font-size=\"14.00\" fill=\"#000000\">entropy = 1.0</text>\n<text text-anchor=\"middle\" x=\"6905.5\" y=\"-149.3\" font-family=\"Helvetica,sans-Serif\" font-size=\"14.00\" fill=\"#000000\">samples = 10</text>\n<text text-anchor=\"middle\" x=\"6905.5\" y=\"-134.3\" font-family=\"Helvetica,sans-Serif\" font-size=\"14.00\" fill=\"#000000\">value = [5, 5]</text>\n<text text-anchor=\"middle\" x=\"6905.5\" y=\"-119.3\" font-family=\"Helvetica,sans-Serif\" font-size=\"14.00\" fill=\"#000000\">class = 0</text>\n</g>\n<!-- 152&#45;&gt;153 -->\n<g id=\"edge153\" class=\"edge\">\n<title>152&#45;&gt;153</title>\n<path fill=\"none\" stroke=\"#000000\" d=\"M6921.106,-222.8796C6918.9548,-212.2134 6916.6332,-200.7021 6914.4549,-189.9015\"/>\n<polygon fill=\"#000000\" stroke=\"#000000\" points=\"6917.8287,-188.9256 6912.4207,-179.8149 6910.9668,-190.3095 6917.8287,-188.9256\"/>\n</g>\n<!-- 154 -->\n<g id=\"node155\" class=\"node\">\n<title>154</title>\n<path fill=\"#e88f4f\" stroke=\"#000000\" d=\"M7149,-187C7149,-187 6988,-187 6988,-187 6982,-187 6976,-181 6976,-175 6976,-175 6976,-116 6976,-116 6976,-110 6982,-104 6988,-104 6988,-104 7149,-104 7149,-104 7155,-104 7161,-110 7161,-116 7161,-116 7161,-175 7161,-175 7161,-181 7155,-187 7149,-187\"/>\n<text text-anchor=\"middle\" x=\"7068.5\" y=\"-171.8\" font-family=\"Helvetica,sans-Serif\" font-size=\"14.00\" fill=\"#000000\">monthlycharges &lt;= &#45;0.446</text>\n<text text-anchor=\"middle\" x=\"7068.5\" y=\"-156.8\" font-family=\"Helvetica,sans-Serif\" font-size=\"14.00\" fill=\"#000000\">entropy = 0.463</text>\n<text text-anchor=\"middle\" x=\"7068.5\" y=\"-141.8\" font-family=\"Helvetica,sans-Serif\" font-size=\"14.00\" fill=\"#000000\">samples = 51</text>\n<text text-anchor=\"middle\" x=\"7068.5\" y=\"-126.8\" font-family=\"Helvetica,sans-Serif\" font-size=\"14.00\" fill=\"#000000\">value = [46, 5]</text>\n<text text-anchor=\"middle\" x=\"7068.5\" y=\"-111.8\" font-family=\"Helvetica,sans-Serif\" font-size=\"14.00\" fill=\"#000000\">class = 0</text>\n</g>\n<!-- 152&#45;&gt;154 -->\n<g id=\"edge154\" class=\"edge\">\n<title>152&#45;&gt;154</title>\n<path fill=\"none\" stroke=\"#000000\" d=\"M6978.1155,-222.8796C6989.0562,-213.513 7000.7582,-203.4948 7011.9908,-193.8784\"/>\n<polygon fill=\"#000000\" stroke=\"#000000\" points=\"7014.3568,-196.4603 7019.677,-187.2981 7009.8044,-191.1428 7014.3568,-196.4603\"/>\n</g>\n<!-- 155 -->\n<g id=\"node156\" class=\"node\">\n<title>155</title>\n<path fill=\"#e58139\" stroke=\"#000000\" d=\"M7014,-68C7014,-68 6931,-68 6931,-68 6925,-68 6919,-62 6919,-56 6919,-56 6919,-12 6919,-12 6919,-6 6925,0 6931,0 6931,0 7014,0 7014,0 7020,0 7026,-6 7026,-12 7026,-12 7026,-56 7026,-56 7026,-62 7020,-68 7014,-68\"/>\n<text text-anchor=\"middle\" x=\"6972.5\" y=\"-52.8\" font-family=\"Helvetica,sans-Serif\" font-size=\"14.00\" fill=\"#000000\">entropy = 0.0</text>\n<text text-anchor=\"middle\" x=\"6972.5\" y=\"-37.8\" font-family=\"Helvetica,sans-Serif\" font-size=\"14.00\" fill=\"#000000\">samples = 18</text>\n<text text-anchor=\"middle\" x=\"6972.5\" y=\"-22.8\" font-family=\"Helvetica,sans-Serif\" font-size=\"14.00\" fill=\"#000000\">value = [18, 0]</text>\n<text text-anchor=\"middle\" x=\"6972.5\" y=\"-7.8\" font-family=\"Helvetica,sans-Serif\" font-size=\"14.00\" fill=\"#000000\">class = 0</text>\n</g>\n<!-- 154&#45;&gt;155 -->\n<g id=\"edge155\" class=\"edge\">\n<title>154&#45;&gt;155</title>\n<path fill=\"none\" stroke=\"#000000\" d=\"M7032.7531,-103.9815C7024.8401,-94.7908 7016.4509,-85.0472 7008.5268,-75.8436\"/>\n<polygon fill=\"#000000\" stroke=\"#000000\" points=\"7011.1776,-73.5582 7002.0006,-68.2637 7005.8729,-78.1255 7011.1776,-73.5582\"/>\n</g>\n<!-- 156 -->\n<g id=\"node157\" class=\"node\">\n<title>156</title>\n<path fill=\"#ea985c\" stroke=\"#000000\" d=\"M7150.5,-68C7150.5,-68 7056.5,-68 7056.5,-68 7050.5,-68 7044.5,-62 7044.5,-56 7044.5,-56 7044.5,-12 7044.5,-12 7044.5,-6 7050.5,0 7056.5,0 7056.5,0 7150.5,0 7150.5,0 7156.5,0 7162.5,-6 7162.5,-12 7162.5,-12 7162.5,-56 7162.5,-56 7162.5,-62 7156.5,-68 7150.5,-68\"/>\n<text text-anchor=\"middle\" x=\"7103.5\" y=\"-52.8\" font-family=\"Helvetica,sans-Serif\" font-size=\"14.00\" fill=\"#000000\">entropy = 0.614</text>\n<text text-anchor=\"middle\" x=\"7103.5\" y=\"-37.8\" font-family=\"Helvetica,sans-Serif\" font-size=\"14.00\" fill=\"#000000\">samples = 33</text>\n<text text-anchor=\"middle\" x=\"7103.5\" y=\"-22.8\" font-family=\"Helvetica,sans-Serif\" font-size=\"14.00\" fill=\"#000000\">value = [28, 5]</text>\n<text text-anchor=\"middle\" x=\"7103.5\" y=\"-7.8\" font-family=\"Helvetica,sans-Serif\" font-size=\"14.00\" fill=\"#000000\">class = 0</text>\n</g>\n<!-- 154&#45;&gt;156 -->\n<g id=\"edge156\" class=\"edge\">\n<title>154&#45;&gt;156</title>\n<path fill=\"none\" stroke=\"#000000\" d=\"M7081.5327,-103.9815C7084.1869,-95.5261 7086.988,-86.6026 7089.6688,-78.0623\"/>\n<polygon fill=\"#000000\" stroke=\"#000000\" points=\"7093.0889,-78.8529 7092.7446,-68.2637 7086.4102,-76.7564 7093.0889,-78.8529\"/>\n</g>\n<!-- 158 -->\n<g id=\"node159\" class=\"node\">\n<title>158</title>\n<path fill=\"#43a2e6\" stroke=\"#000000\" d=\"M7310,-425C7310,-425 7173,-425 7173,-425 7167,-425 7161,-419 7161,-413 7161,-413 7161,-354 7161,-354 7161,-348 7167,-342 7173,-342 7173,-342 7310,-342 7310,-342 7316,-342 7322,-348 7322,-354 7322,-354 7322,-413 7322,-413 7322,-419 7316,-425 7310,-425\"/>\n<text text-anchor=\"middle\" x=\"7241.5\" y=\"-409.8\" font-family=\"Helvetica,sans-Serif\" font-size=\"14.00\" fill=\"#000000\">totalcharges &lt;= &#45;0.913</text>\n<text text-anchor=\"middle\" x=\"7241.5\" y=\"-394.8\" font-family=\"Helvetica,sans-Serif\" font-size=\"14.00\" fill=\"#000000\">entropy = 0.28</text>\n<text text-anchor=\"middle\" x=\"7241.5\" y=\"-379.8\" font-family=\"Helvetica,sans-Serif\" font-size=\"14.00\" fill=\"#000000\">samples = 330</text>\n<text text-anchor=\"middle\" x=\"7241.5\" y=\"-364.8\" font-family=\"Helvetica,sans-Serif\" font-size=\"14.00\" fill=\"#000000\">value = [16, 314]</text>\n<text text-anchor=\"middle\" x=\"7241.5\" y=\"-349.8\" font-family=\"Helvetica,sans-Serif\" font-size=\"14.00\" fill=\"#000000\">class = 1</text>\n</g>\n<!-- 157&#45;&gt;158 -->\n<g id=\"edge158\" class=\"edge\">\n<title>157&#45;&gt;158</title>\n<path fill=\"none\" stroke=\"#000000\" d=\"M7241.5,-460.8796C7241.5,-452.6838 7241.5,-443.9891 7241.5,-435.5013\"/>\n<polygon fill=\"#000000\" stroke=\"#000000\" points=\"7245.0001,-435.298 7241.5,-425.2981 7238.0001,-435.2981 7245.0001,-435.298\"/>\n</g>\n<!-- 165 -->\n<g id=\"node166\" class=\"node\">\n<title>165</title>\n<path fill=\"#6bb6ec\" stroke=\"#000000\" d=\"M7686,-425C7686,-425 7553,-425 7553,-425 7547,-425 7541,-419 7541,-413 7541,-413 7541,-354 7541,-354 7541,-348 7547,-342 7553,-342 7553,-342 7686,-342 7686,-342 7692,-342 7698,-348 7698,-354 7698,-354 7698,-413 7698,-413 7698,-419 7692,-425 7686,-425\"/>\n<text text-anchor=\"middle\" x=\"7619.5\" y=\"-409.8\" font-family=\"Helvetica,sans-Serif\" font-size=\"14.00\" fill=\"#000000\">multiplelines &lt;= 0.003</text>\n<text text-anchor=\"middle\" x=\"7619.5\" y=\"-394.8\" font-family=\"Helvetica,sans-Serif\" font-size=\"14.00\" fill=\"#000000\">entropy = 0.728</text>\n<text text-anchor=\"middle\" x=\"7619.5\" y=\"-379.8\" font-family=\"Helvetica,sans-Serif\" font-size=\"14.00\" fill=\"#000000\">samples = 1133</text>\n<text text-anchor=\"middle\" x=\"7619.5\" y=\"-364.8\" font-family=\"Helvetica,sans-Serif\" font-size=\"14.00\" fill=\"#000000\">value = [230, 903]</text>\n<text text-anchor=\"middle\" x=\"7619.5\" y=\"-349.8\" font-family=\"Helvetica,sans-Serif\" font-size=\"14.00\" fill=\"#000000\">class = 1</text>\n</g>\n<!-- 157&#45;&gt;165 -->\n<g id=\"edge165\" class=\"edge\">\n<title>157&#45;&gt;165</title>\n<path fill=\"none\" stroke=\"#000000\" d=\"M7322.1268,-477.1175C7383.5858,-457.7693 7468.1366,-431.1514 7531.3752,-411.243\"/>\n<polygon fill=\"#000000\" stroke=\"#000000\" points=\"7532.4522,-414.5734 7540.9397,-408.232 7530.3502,-407.8964 7532.4522,-414.5734\"/>\n</g>\n<!-- 159 -->\n<g id=\"node160\" class=\"node\">\n<title>159</title>\n<path fill=\"#e58139\" stroke=\"#000000\" d=\"M7209,-298.5C7209,-298.5 7132,-298.5 7132,-298.5 7126,-298.5 7120,-292.5 7120,-286.5 7120,-286.5 7120,-242.5 7120,-242.5 7120,-236.5 7126,-230.5 7132,-230.5 7132,-230.5 7209,-230.5 7209,-230.5 7215,-230.5 7221,-236.5 7221,-242.5 7221,-242.5 7221,-286.5 7221,-286.5 7221,-292.5 7215,-298.5 7209,-298.5\"/>\n<text text-anchor=\"middle\" x=\"7170.5\" y=\"-283.3\" font-family=\"Helvetica,sans-Serif\" font-size=\"14.00\" fill=\"#000000\">entropy = 0.0</text>\n<text text-anchor=\"middle\" x=\"7170.5\" y=\"-268.3\" font-family=\"Helvetica,sans-Serif\" font-size=\"14.00\" fill=\"#000000\">samples = 1</text>\n<text text-anchor=\"middle\" x=\"7170.5\" y=\"-253.3\" font-family=\"Helvetica,sans-Serif\" font-size=\"14.00\" fill=\"#000000\">value = [1, 0]</text>\n<text text-anchor=\"middle\" x=\"7170.5\" y=\"-238.3\" font-family=\"Helvetica,sans-Serif\" font-size=\"14.00\" fill=\"#000000\">class = 0</text>\n</g>\n<!-- 158&#45;&gt;159 -->\n<g id=\"edge159\" class=\"edge\">\n<title>158&#45;&gt;159</title>\n<path fill=\"none\" stroke=\"#000000\" d=\"M7216.6676,-341.8796C7210.0413,-330.7735 7202.8684,-318.7513 7196.1967,-307.5691\"/>\n<polygon fill=\"#000000\" stroke=\"#000000\" points=\"7199.1031,-305.6093 7190.9736,-298.8149 7193.0917,-309.1959 7199.1031,-305.6093\"/>\n</g>\n<!-- 160 -->\n<g id=\"node161\" class=\"node\">\n<title>160</title>\n<path fill=\"#42a2e6\" stroke=\"#000000\" d=\"M7372,-306C7372,-306 7251,-306 7251,-306 7245,-306 7239,-300 7239,-294 7239,-294 7239,-235 7239,-235 7239,-229 7245,-223 7251,-223 7251,-223 7372,-223 7372,-223 7378,-223 7384,-229 7384,-235 7384,-235 7384,-294 7384,-294 7384,-300 7378,-306 7372,-306\"/>\n<text text-anchor=\"middle\" x=\"7311.5\" y=\"-290.8\" font-family=\"Helvetica,sans-Serif\" font-size=\"14.00\" fill=\"#000000\">totalcharges &lt;= &#45;0.9</text>\n<text text-anchor=\"middle\" x=\"7311.5\" y=\"-275.8\" font-family=\"Helvetica,sans-Serif\" font-size=\"14.00\" fill=\"#000000\">entropy = 0.267</text>\n<text text-anchor=\"middle\" x=\"7311.5\" y=\"-260.8\" font-family=\"Helvetica,sans-Serif\" font-size=\"14.00\" fill=\"#000000\">samples = 329</text>\n<text text-anchor=\"middle\" x=\"7311.5\" y=\"-245.8\" font-family=\"Helvetica,sans-Serif\" font-size=\"14.00\" fill=\"#000000\">value = [15, 314]</text>\n<text text-anchor=\"middle\" x=\"7311.5\" y=\"-230.8\" font-family=\"Helvetica,sans-Serif\" font-size=\"14.00\" fill=\"#000000\">class = 1</text>\n</g>\n<!-- 158&#45;&gt;160 -->\n<g id=\"edge160\" class=\"edge\">\n<title>158&#45;&gt;160</title>\n<path fill=\"none\" stroke=\"#000000\" d=\"M7265.9826,-341.8796C7271.0685,-333.2335 7276.4811,-324.0322 7281.7328,-315.1042\"/>\n<polygon fill=\"#000000\" stroke=\"#000000\" points=\"7284.8594,-316.692 7286.9129,-306.2981 7278.8259,-313.1428 7284.8594,-316.692\"/>\n</g>\n<!-- 161 -->\n<g id=\"node162\" class=\"node\">\n<title>161</title>\n<path fill=\"#399de5\" stroke=\"#000000\" d=\"M7274,-179.5C7274,-179.5 7191,-179.5 7191,-179.5 7185,-179.5 7179,-173.5 7179,-167.5 7179,-167.5 7179,-123.5 7179,-123.5 7179,-117.5 7185,-111.5 7191,-111.5 7191,-111.5 7274,-111.5 7274,-111.5 7280,-111.5 7286,-117.5 7286,-123.5 7286,-123.5 7286,-167.5 7286,-167.5 7286,-173.5 7280,-179.5 7274,-179.5\"/>\n<text text-anchor=\"middle\" x=\"7232.5\" y=\"-164.3\" font-family=\"Helvetica,sans-Serif\" font-size=\"14.00\" fill=\"#000000\">entropy = 0.0</text>\n<text text-anchor=\"middle\" x=\"7232.5\" y=\"-149.3\" font-family=\"Helvetica,sans-Serif\" font-size=\"14.00\" fill=\"#000000\">samples = 73</text>\n<text text-anchor=\"middle\" x=\"7232.5\" y=\"-134.3\" font-family=\"Helvetica,sans-Serif\" font-size=\"14.00\" fill=\"#000000\">value = [0, 73]</text>\n<text text-anchor=\"middle\" x=\"7232.5\" y=\"-119.3\" font-family=\"Helvetica,sans-Serif\" font-size=\"14.00\" fill=\"#000000\">class = 1</text>\n</g>\n<!-- 160&#45;&gt;161 -->\n<g id=\"edge161\" class=\"edge\">\n<title>160&#45;&gt;161</title>\n<path fill=\"none\" stroke=\"#000000\" d=\"M7283.8696,-222.8796C7276.4237,-211.6636 7268.3575,-199.5131 7260.8718,-188.2372\"/>\n<polygon fill=\"#000000\" stroke=\"#000000\" points=\"7263.7273,-186.2104 7255.2805,-179.8149 7257.8954,-190.082 7263.7273,-186.2104\"/>\n</g>\n<!-- 162 -->\n<g id=\"node163\" class=\"node\">\n<title>162</title>\n<path fill=\"#45a3e7\" stroke=\"#000000\" d=\"M7453,-187C7453,-187 7316,-187 7316,-187 7310,-187 7304,-181 7304,-175 7304,-175 7304,-116 7304,-116 7304,-110 7310,-104 7316,-104 7316,-104 7453,-104 7453,-104 7459,-104 7465,-110 7465,-116 7465,-116 7465,-175 7465,-175 7465,-181 7459,-187 7453,-187\"/>\n<text text-anchor=\"middle\" x=\"7384.5\" y=\"-171.8\" font-family=\"Helvetica,sans-Serif\" font-size=\"14.00\" fill=\"#000000\">totalcharges &lt;= &#45;0.898</text>\n<text text-anchor=\"middle\" x=\"7384.5\" y=\"-156.8\" font-family=\"Helvetica,sans-Serif\" font-size=\"14.00\" fill=\"#000000\">entropy = 0.322</text>\n<text text-anchor=\"middle\" x=\"7384.5\" y=\"-141.8\" font-family=\"Helvetica,sans-Serif\" font-size=\"14.00\" fill=\"#000000\">samples = 256</text>\n<text text-anchor=\"middle\" x=\"7384.5\" y=\"-126.8\" font-family=\"Helvetica,sans-Serif\" font-size=\"14.00\" fill=\"#000000\">value = [15, 241]</text>\n<text text-anchor=\"middle\" x=\"7384.5\" y=\"-111.8\" font-family=\"Helvetica,sans-Serif\" font-size=\"14.00\" fill=\"#000000\">class = 1</text>\n</g>\n<!-- 160&#45;&gt;162 -->\n<g id=\"edge162\" class=\"edge\">\n<title>160&#45;&gt;162</title>\n<path fill=\"none\" stroke=\"#000000\" d=\"M7337.0319,-222.8796C7342.391,-214.1434 7348.0979,-204.8404 7353.6282,-195.8253\"/>\n<polygon fill=\"#000000\" stroke=\"#000000\" points=\"7356.6135,-197.6522 7358.8592,-187.2981 7350.6467,-193.9919 7356.6135,-197.6522\"/>\n</g>\n<!-- 163 -->\n<g id=\"node164\" class=\"node\">\n<title>163</title>\n<path fill=\"#61b1ea\" stroke=\"#000000\" d=\"M7304.5,-68C7304.5,-68 7218.5,-68 7218.5,-68 7212.5,-68 7206.5,-62 7206.5,-56 7206.5,-56 7206.5,-12 7206.5,-12 7206.5,-6 7212.5,0 7218.5,0 7218.5,0 7304.5,0 7304.5,0 7310.5,0 7316.5,-6 7316.5,-12 7316.5,-12 7316.5,-56 7316.5,-56 7316.5,-62 7310.5,-68 7304.5,-68\"/>\n<text text-anchor=\"middle\" x=\"7261.5\" y=\"-52.8\" font-family=\"Helvetica,sans-Serif\" font-size=\"14.00\" fill=\"#000000\">entropy = 0.65</text>\n<text text-anchor=\"middle\" x=\"7261.5\" y=\"-37.8\" font-family=\"Helvetica,sans-Serif\" font-size=\"14.00\" fill=\"#000000\">samples = 48</text>\n<text text-anchor=\"middle\" x=\"7261.5\" y=\"-22.8\" font-family=\"Helvetica,sans-Serif\" font-size=\"14.00\" fill=\"#000000\">value = [8, 40]</text>\n<text text-anchor=\"middle\" x=\"7261.5\" y=\"-7.8\" font-family=\"Helvetica,sans-Serif\" font-size=\"14.00\" fill=\"#000000\">class = 1</text>\n</g>\n<!-- 162&#45;&gt;163 -->\n<g id=\"edge163\" class=\"edge\">\n<title>162&#45;&gt;163</title>\n<path fill=\"none\" stroke=\"#000000\" d=\"M7338.6993,-103.9815C7328.2566,-94.5151 7317.1667,-84.462 7306.7472,-75.0168\"/>\n<polygon fill=\"#000000\" stroke=\"#000000\" points=\"7309.0572,-72.3868 7299.2976,-68.2637 7304.3559,-77.5731 7309.0572,-72.3868\"/>\n</g>\n<!-- 164 -->\n<g id=\"node165\" class=\"node\">\n<title>164</title>\n<path fill=\"#40a0e6\" stroke=\"#000000\" d=\"M7440.5,-68C7440.5,-68 7346.5,-68 7346.5,-68 7340.5,-68 7334.5,-62 7334.5,-56 7334.5,-56 7334.5,-12 7334.5,-12 7334.5,-6 7340.5,0 7346.5,0 7346.5,0 7440.5,0 7440.5,0 7446.5,0 7452.5,-6 7452.5,-12 7452.5,-12 7452.5,-56 7452.5,-56 7452.5,-62 7446.5,-68 7440.5,-68\"/>\n<text text-anchor=\"middle\" x=\"7393.5\" y=\"-52.8\" font-family=\"Helvetica,sans-Serif\" font-size=\"14.00\" fill=\"#000000\">entropy = 0.212</text>\n<text text-anchor=\"middle\" x=\"7393.5\" y=\"-37.8\" font-family=\"Helvetica,sans-Serif\" font-size=\"14.00\" fill=\"#000000\">samples = 208</text>\n<text text-anchor=\"middle\" x=\"7393.5\" y=\"-22.8\" font-family=\"Helvetica,sans-Serif\" font-size=\"14.00\" fill=\"#000000\">value = [7, 201]</text>\n<text text-anchor=\"middle\" x=\"7393.5\" y=\"-7.8\" font-family=\"Helvetica,sans-Serif\" font-size=\"14.00\" fill=\"#000000\">class = 1</text>\n</g>\n<!-- 162&#45;&gt;164 -->\n<g id=\"edge164\" class=\"edge\">\n<title>162&#45;&gt;164</title>\n<path fill=\"none\" stroke=\"#000000\" d=\"M7387.8513,-103.9815C7388.5263,-95.618 7389.2384,-86.7965 7389.9209,-78.3409\"/>\n<polygon fill=\"#000000\" stroke=\"#000000\" points=\"7393.4183,-78.5129 7390.7343,-68.2637 7386.441,-77.9496 7393.4183,-78.5129\"/>\n</g>\n<!-- 166 -->\n<g id=\"node167\" class=\"node\">\n<title>166</title>\n<path fill=\"#a6d3f3\" stroke=\"#000000\" d=\"M7691,-306C7691,-306 7548,-306 7548,-306 7542,-306 7536,-300 7536,-294 7536,-294 7536,-235 7536,-235 7536,-229 7542,-223 7548,-223 7548,-223 7691,-223 7691,-223 7697,-223 7703,-229 7703,-235 7703,-235 7703,-294 7703,-294 7703,-300 7697,-306 7691,-306\"/>\n<text text-anchor=\"middle\" x=\"7619.5\" y=\"-290.8\" font-family=\"Helvetica,sans-Serif\" font-size=\"14.00\" fill=\"#000000\">onlinesecurity &lt;= 0.929</text>\n<text text-anchor=\"middle\" x=\"7619.5\" y=\"-275.8\" font-family=\"Helvetica,sans-Serif\" font-size=\"14.00\" fill=\"#000000\">entropy = 0.938</text>\n<text text-anchor=\"middle\" x=\"7619.5\" y=\"-260.8\" font-family=\"Helvetica,sans-Serif\" font-size=\"14.00\" fill=\"#000000\">samples = 384</text>\n<text text-anchor=\"middle\" x=\"7619.5\" y=\"-245.8\" font-family=\"Helvetica,sans-Serif\" font-size=\"14.00\" fill=\"#000000\">value = [136, 248]</text>\n<text text-anchor=\"middle\" x=\"7619.5\" y=\"-230.8\" font-family=\"Helvetica,sans-Serif\" font-size=\"14.00\" fill=\"#000000\">class = 1</text>\n</g>\n<!-- 165&#45;&gt;166 -->\n<g id=\"edge166\" class=\"edge\">\n<title>165&#45;&gt;166</title>\n<path fill=\"none\" stroke=\"#000000\" d=\"M7619.5,-341.8796C7619.5,-333.6838 7619.5,-324.9891 7619.5,-316.5013\"/>\n<polygon fill=\"#000000\" stroke=\"#000000\" points=\"7623.0001,-316.298 7619.5,-306.2981 7616.0001,-316.2981 7623.0001,-316.298\"/>\n</g>\n<!-- 171 -->\n<g id=\"node172\" class=\"node\">\n<title>171</title>\n<path fill=\"#55abe9\" stroke=\"#000000\" d=\"M7907.5,-306C7907.5,-306 7791.5,-306 7791.5,-306 7785.5,-306 7779.5,-300 7779.5,-294 7779.5,-294 7779.5,-235 7779.5,-235 7779.5,-229 7785.5,-223 7791.5,-223 7791.5,-223 7907.5,-223 7907.5,-223 7913.5,-223 7919.5,-229 7919.5,-235 7919.5,-235 7919.5,-294 7919.5,-294 7919.5,-300 7913.5,-306 7907.5,-306\"/>\n<text text-anchor=\"middle\" x=\"7849.5\" y=\"-290.8\" font-family=\"Helvetica,sans-Serif\" font-size=\"14.00\" fill=\"#000000\">multiplelines &lt;= 1.0</text>\n<text text-anchor=\"middle\" x=\"7849.5\" y=\"-275.8\" font-family=\"Helvetica,sans-Serif\" font-size=\"14.00\" fill=\"#000000\">entropy = 0.545</text>\n<text text-anchor=\"middle\" x=\"7849.5\" y=\"-260.8\" font-family=\"Helvetica,sans-Serif\" font-size=\"14.00\" fill=\"#000000\">samples = 749</text>\n<text text-anchor=\"middle\" x=\"7849.5\" y=\"-245.8\" font-family=\"Helvetica,sans-Serif\" font-size=\"14.00\" fill=\"#000000\">value = [94, 655]</text>\n<text text-anchor=\"middle\" x=\"7849.5\" y=\"-230.8\" font-family=\"Helvetica,sans-Serif\" font-size=\"14.00\" fill=\"#000000\">class = 1</text>\n</g>\n<!-- 165&#45;&gt;171 -->\n<g id=\"edge171\" class=\"edge\">\n<title>165&#45;&gt;171</title>\n<path fill=\"none\" stroke=\"#000000\" d=\"M7698.0097,-342.8798C7721.3313,-330.8134 7746.8866,-317.5913 7770.2547,-305.5008\"/>\n<polygon fill=\"#000000\" stroke=\"#000000\" points=\"7772.1614,-308.4551 7779.4346,-300.7512 7768.9446,-302.238 7772.1614,-308.4551\"/>\n</g>\n<!-- 167 -->\n<g id=\"node168\" class=\"node\">\n<title>167</title>\n<path fill=\"#96cbf1\" stroke=\"#000000\" d=\"M7625.5,-187C7625.5,-187 7495.5,-187 7495.5,-187 7489.5,-187 7483.5,-181 7483.5,-175 7483.5,-175 7483.5,-116 7483.5,-116 7483.5,-110 7489.5,-104 7495.5,-104 7495.5,-104 7625.5,-104 7625.5,-104 7631.5,-104 7637.5,-110 7637.5,-116 7637.5,-116 7637.5,-175 7637.5,-175 7637.5,-181 7631.5,-187 7625.5,-187\"/>\n<text text-anchor=\"middle\" x=\"7560.5\" y=\"-171.8\" font-family=\"Helvetica,sans-Serif\" font-size=\"14.00\" fill=\"#000000\">techsupport &lt;= 0.975</text>\n<text text-anchor=\"middle\" x=\"7560.5\" y=\"-156.8\" font-family=\"Helvetica,sans-Serif\" font-size=\"14.00\" fill=\"#000000\">entropy = 0.904</text>\n<text text-anchor=\"middle\" x=\"7560.5\" y=\"-141.8\" font-family=\"Helvetica,sans-Serif\" font-size=\"14.00\" fill=\"#000000\">samples = 335</text>\n<text text-anchor=\"middle\" x=\"7560.5\" y=\"-126.8\" font-family=\"Helvetica,sans-Serif\" font-size=\"14.00\" fill=\"#000000\">value = [107, 228]</text>\n<text text-anchor=\"middle\" x=\"7560.5\" y=\"-111.8\" font-family=\"Helvetica,sans-Serif\" font-size=\"14.00\" fill=\"#000000\">class = 1</text>\n</g>\n<!-- 166&#45;&gt;167 -->\n<g id=\"edge167\" class=\"edge\">\n<title>166&#45;&gt;167</title>\n<path fill=\"none\" stroke=\"#000000\" d=\"M7598.8647,-222.8796C7594.6226,-214.3236 7590.111,-205.2238 7585.7279,-196.3833\"/>\n<polygon fill=\"#000000\" stroke=\"#000000\" points=\"7588.8012,-194.7026 7581.2234,-187.2981 7582.5297,-197.8121 7588.8012,-194.7026\"/>\n</g>\n<!-- 170 -->\n<g id=\"node171\" class=\"node\">\n<title>170</title>\n<path fill=\"#f7d8c2\" stroke=\"#000000\" d=\"M7761.5,-179.5C7761.5,-179.5 7667.5,-179.5 7667.5,-179.5 7661.5,-179.5 7655.5,-173.5 7655.5,-167.5 7655.5,-167.5 7655.5,-123.5 7655.5,-123.5 7655.5,-117.5 7661.5,-111.5 7667.5,-111.5 7667.5,-111.5 7761.5,-111.5 7761.5,-111.5 7767.5,-111.5 7773.5,-117.5 7773.5,-123.5 7773.5,-123.5 7773.5,-167.5 7773.5,-167.5 7773.5,-173.5 7767.5,-179.5 7761.5,-179.5\"/>\n<text text-anchor=\"middle\" x=\"7714.5\" y=\"-164.3\" font-family=\"Helvetica,sans-Serif\" font-size=\"14.00\" fill=\"#000000\">entropy = 0.976</text>\n<text text-anchor=\"middle\" x=\"7714.5\" y=\"-149.3\" font-family=\"Helvetica,sans-Serif\" font-size=\"14.00\" fill=\"#000000\">samples = 49</text>\n<text text-anchor=\"middle\" x=\"7714.5\" y=\"-134.3\" font-family=\"Helvetica,sans-Serif\" font-size=\"14.00\" fill=\"#000000\">value = [29, 20]</text>\n<text text-anchor=\"middle\" x=\"7714.5\" y=\"-119.3\" font-family=\"Helvetica,sans-Serif\" font-size=\"14.00\" fill=\"#000000\">class = 0</text>\n</g>\n<!-- 166&#45;&gt;170 -->\n<g id=\"edge170\" class=\"edge\">\n<title>166&#45;&gt;170</title>\n<path fill=\"none\" stroke=\"#000000\" d=\"M7652.7264,-222.8796C7661.7681,-211.5536 7671.5705,-199.2748 7680.6466,-187.9058\"/>\n<polygon fill=\"#000000\" stroke=\"#000000\" points=\"7683.602,-189.8137 7687.1057,-179.8149 7678.1315,-185.4464 7683.602,-189.8137\"/>\n</g>\n<!-- 168 -->\n<g id=\"node169\" class=\"node\">\n<title>168</title>\n<path fill=\"#88c4ef\" stroke=\"#000000\" d=\"M7592.5,-68C7592.5,-68 7492.5,-68 7492.5,-68 7486.5,-68 7480.5,-62 7480.5,-56 7480.5,-56 7480.5,-12 7480.5,-12 7480.5,-6 7486.5,0 7492.5,0 7492.5,0 7592.5,0 7592.5,0 7598.5,0 7604.5,-6 7604.5,-12 7604.5,-12 7604.5,-56 7604.5,-56 7604.5,-62 7598.5,-68 7592.5,-68\"/>\n<text text-anchor=\"middle\" x=\"7542.5\" y=\"-52.8\" font-family=\"Helvetica,sans-Serif\" font-size=\"14.00\" fill=\"#000000\">entropy = 0.862</text>\n<text text-anchor=\"middle\" x=\"7542.5\" y=\"-37.8\" font-family=\"Helvetica,sans-Serif\" font-size=\"14.00\" fill=\"#000000\">samples = 302</text>\n<text text-anchor=\"middle\" x=\"7542.5\" y=\"-22.8\" font-family=\"Helvetica,sans-Serif\" font-size=\"14.00\" fill=\"#000000\">value = [86, 216]</text>\n<text text-anchor=\"middle\" x=\"7542.5\" y=\"-7.8\" font-family=\"Helvetica,sans-Serif\" font-size=\"14.00\" fill=\"#000000\">class = 1</text>\n</g>\n<!-- 167&#45;&gt;168 -->\n<g id=\"edge168\" class=\"edge\">\n<title>167&#45;&gt;168</title>\n<path fill=\"none\" stroke=\"#000000\" d=\"M7553.7975,-103.9815C7552.4473,-95.618 7551.0232,-86.7965 7549.6582,-78.3409\"/>\n<polygon fill=\"#000000\" stroke=\"#000000\" points=\"7553.0804,-77.578 7548.0314,-68.2637 7546.1699,-78.6937 7553.0804,-77.578\"/>\n</g>\n<!-- 169 -->\n<g id=\"node170\" class=\"node\">\n<title>169</title>\n<path fill=\"#f4c9aa\" stroke=\"#000000\" d=\"M7728.5,-68C7728.5,-68 7634.5,-68 7634.5,-68 7628.5,-68 7622.5,-62 7622.5,-56 7622.5,-56 7622.5,-12 7622.5,-12 7622.5,-6 7628.5,0 7634.5,0 7634.5,0 7728.5,0 7728.5,0 7734.5,0 7740.5,-6 7740.5,-12 7740.5,-12 7740.5,-56 7740.5,-56 7740.5,-62 7734.5,-68 7728.5,-68\"/>\n<text text-anchor=\"middle\" x=\"7681.5\" y=\"-52.8\" font-family=\"Helvetica,sans-Serif\" font-size=\"14.00\" fill=\"#000000\">entropy = 0.946</text>\n<text text-anchor=\"middle\" x=\"7681.5\" y=\"-37.8\" font-family=\"Helvetica,sans-Serif\" font-size=\"14.00\" fill=\"#000000\">samples = 33</text>\n<text text-anchor=\"middle\" x=\"7681.5\" y=\"-22.8\" font-family=\"Helvetica,sans-Serif\" font-size=\"14.00\" fill=\"#000000\">value = [21, 12]</text>\n<text text-anchor=\"middle\" x=\"7681.5\" y=\"-7.8\" font-family=\"Helvetica,sans-Serif\" font-size=\"14.00\" fill=\"#000000\">class = 0</text>\n</g>\n<!-- 167&#45;&gt;169 -->\n<g id=\"edge169\" class=\"edge\">\n<title>167&#45;&gt;169</title>\n<path fill=\"none\" stroke=\"#000000\" d=\"M7605.5559,-103.9815C7615.7291,-94.607 7626.5267,-84.6572 7636.6898,-75.2921\"/>\n<polygon fill=\"#000000\" stroke=\"#000000\" points=\"7639.3349,-77.6141 7644.317,-68.2637 7634.5913,-72.4663 7639.3349,-77.6141\"/>\n</g>\n<!-- 172 -->\n<g id=\"node173\" class=\"node\">\n<title>172</title>\n<path fill=\"#399de5\" stroke=\"#000000\" d=\"M7895.5,-179.5C7895.5,-179.5 7803.5,-179.5 7803.5,-179.5 7797.5,-179.5 7791.5,-173.5 7791.5,-167.5 7791.5,-167.5 7791.5,-123.5 7791.5,-123.5 7791.5,-117.5 7797.5,-111.5 7803.5,-111.5 7803.5,-111.5 7895.5,-111.5 7895.5,-111.5 7901.5,-111.5 7907.5,-117.5 7907.5,-123.5 7907.5,-123.5 7907.5,-167.5 7907.5,-167.5 7907.5,-173.5 7901.5,-179.5 7895.5,-179.5\"/>\n<text text-anchor=\"middle\" x=\"7849.5\" y=\"-164.3\" font-family=\"Helvetica,sans-Serif\" font-size=\"14.00\" fill=\"#000000\">entropy = 0.0</text>\n<text text-anchor=\"middle\" x=\"7849.5\" y=\"-149.3\" font-family=\"Helvetica,sans-Serif\" font-size=\"14.00\" fill=\"#000000\">samples = 256</text>\n<text text-anchor=\"middle\" x=\"7849.5\" y=\"-134.3\" font-family=\"Helvetica,sans-Serif\" font-size=\"14.00\" fill=\"#000000\">value = [0, 256]</text>\n<text text-anchor=\"middle\" x=\"7849.5\" y=\"-119.3\" font-family=\"Helvetica,sans-Serif\" font-size=\"14.00\" fill=\"#000000\">class = 1</text>\n</g>\n<!-- 171&#45;&gt;172 -->\n<g id=\"edge172\" class=\"edge\">\n<title>171&#45;&gt;172</title>\n<path fill=\"none\" stroke=\"#000000\" d=\"M7849.5,-222.8796C7849.5,-212.2134 7849.5,-200.7021 7849.5,-189.9015\"/>\n<polygon fill=\"#000000\" stroke=\"#000000\" points=\"7853.0001,-189.8149 7849.5,-179.8149 7846.0001,-189.815 7853.0001,-189.8149\"/>\n</g>\n<!-- 173 -->\n<g id=\"node174\" class=\"node\">\n<title>173</title>\n<path fill=\"#68b4eb\" stroke=\"#000000\" d=\"M8091.5,-187C8091.5,-187 7937.5,-187 7937.5,-187 7931.5,-187 7925.5,-181 7925.5,-175 7925.5,-175 7925.5,-116 7925.5,-116 7925.5,-110 7931.5,-104 7937.5,-104 7937.5,-104 8091.5,-104 8091.5,-104 8097.5,-104 8103.5,-110 8103.5,-116 8103.5,-116 8103.5,-175 8103.5,-175 8103.5,-181 8097.5,-187 8091.5,-187\"/>\n<text text-anchor=\"middle\" x=\"8014.5\" y=\"-171.8\" font-family=\"Helvetica,sans-Serif\" font-size=\"14.00\" fill=\"#000000\">paperlessbilling &lt;= 0.007</text>\n<text text-anchor=\"middle\" x=\"8014.5\" y=\"-156.8\" font-family=\"Helvetica,sans-Serif\" font-size=\"14.00\" fill=\"#000000\">entropy = 0.703</text>\n<text text-anchor=\"middle\" x=\"8014.5\" y=\"-141.8\" font-family=\"Helvetica,sans-Serif\" font-size=\"14.00\" fill=\"#000000\">samples = 493</text>\n<text text-anchor=\"middle\" x=\"8014.5\" y=\"-126.8\" font-family=\"Helvetica,sans-Serif\" font-size=\"14.00\" fill=\"#000000\">value = [94, 399]</text>\n<text text-anchor=\"middle\" x=\"8014.5\" y=\"-111.8\" font-family=\"Helvetica,sans-Serif\" font-size=\"14.00\" fill=\"#000000\">class = 1</text>\n</g>\n<!-- 171&#45;&gt;173 -->\n<g id=\"edge173\" class=\"edge\">\n<title>171&#45;&gt;173</title>\n<path fill=\"none\" stroke=\"#000000\" d=\"M7907.209,-222.8796C7920.523,-213.2774 7934.7866,-202.9903 7948.4259,-193.1534\"/>\n<polygon fill=\"#000000\" stroke=\"#000000\" points=\"7950.7602,-195.7852 7956.8236,-187.0969 7946.6655,-190.1077 7950.7602,-195.7852\"/>\n</g>\n<!-- 174 -->\n<g id=\"node175\" class=\"node\">\n<title>174</title>\n<path fill=\"#e1f0fb\" stroke=\"#000000\" d=\"M7928.5,-68C7928.5,-68 7834.5,-68 7834.5,-68 7828.5,-68 7822.5,-62 7822.5,-56 7822.5,-56 7822.5,-12 7822.5,-12 7822.5,-6 7828.5,0 7834.5,0 7834.5,0 7928.5,0 7928.5,0 7934.5,0 7940.5,-6 7940.5,-12 7940.5,-12 7940.5,-56 7940.5,-56 7940.5,-62 7934.5,-68 7928.5,-68\"/>\n<text text-anchor=\"middle\" x=\"7881.5\" y=\"-52.8\" font-family=\"Helvetica,sans-Serif\" font-size=\"14.00\" fill=\"#000000\">entropy = 0.995</text>\n<text text-anchor=\"middle\" x=\"7881.5\" y=\"-37.8\" font-family=\"Helvetica,sans-Serif\" font-size=\"14.00\" fill=\"#000000\">samples = 48</text>\n<text text-anchor=\"middle\" x=\"7881.5\" y=\"-22.8\" font-family=\"Helvetica,sans-Serif\" font-size=\"14.00\" fill=\"#000000\">value = [22, 26]</text>\n<text text-anchor=\"middle\" x=\"7881.5\" y=\"-7.8\" font-family=\"Helvetica,sans-Serif\" font-size=\"14.00\" fill=\"#000000\">class = 1</text>\n</g>\n<!-- 173&#45;&gt;174 -->\n<g id=\"edge174\" class=\"edge\">\n<title>173&#45;&gt;174</title>\n<path fill=\"none\" stroke=\"#000000\" d=\"M7964.9757,-103.9815C7953.5743,-94.4232 7941.4595,-84.2668 7930.0979,-74.7419\"/>\n<polygon fill=\"#000000\" stroke=\"#000000\" points=\"7932.2825,-72.006 7922.3706,-68.2637 7927.7853,-77.3704 7932.2825,-72.006\"/>\n</g>\n<!-- 175 -->\n<g id=\"node176\" class=\"node\">\n<title>175</title>\n<path fill=\"#5fb0ea\" stroke=\"#000000\" d=\"M8070.5,-68C8070.5,-68 7970.5,-68 7970.5,-68 7964.5,-68 7958.5,-62 7958.5,-56 7958.5,-56 7958.5,-12 7958.5,-12 7958.5,-6 7964.5,0 7970.5,0 7970.5,0 8070.5,0 8070.5,0 8076.5,0 8082.5,-6 8082.5,-12 8082.5,-12 8082.5,-56 8082.5,-56 8082.5,-62 8076.5,-68 8070.5,-68\"/>\n<text text-anchor=\"middle\" x=\"8020.5\" y=\"-52.8\" font-family=\"Helvetica,sans-Serif\" font-size=\"14.00\" fill=\"#000000\">entropy = 0.639</text>\n<text text-anchor=\"middle\" x=\"8020.5\" y=\"-37.8\" font-family=\"Helvetica,sans-Serif\" font-size=\"14.00\" fill=\"#000000\">samples = 445</text>\n<text text-anchor=\"middle\" x=\"8020.5\" y=\"-22.8\" font-family=\"Helvetica,sans-Serif\" font-size=\"14.00\" fill=\"#000000\">value = [72, 373]</text>\n<text text-anchor=\"middle\" x=\"8020.5\" y=\"-7.8\" font-family=\"Helvetica,sans-Serif\" font-size=\"14.00\" fill=\"#000000\">class = 1</text>\n</g>\n<!-- 173&#45;&gt;175 -->\n<g id=\"edge175\" class=\"edge\">\n<title>173&#45;&gt;175</title>\n<path fill=\"none\" stroke=\"#000000\" d=\"M8016.7342,-103.9815C8017.1842,-95.618 8017.6589,-86.7965 8018.1139,-78.3409\"/>\n<polygon fill=\"#000000\" stroke=\"#000000\" points=\"8021.6137,-78.4373 8018.6562,-68.2637 8014.6238,-78.0611 8021.6137,-78.4373\"/>\n</g>\n<!-- 177 -->\n<g id=\"node178\" class=\"node\">\n<title>177</title>\n<path fill=\"#e99559\" stroke=\"#000000\" d=\"M8493,-544C8493,-544 8352,-544 8352,-544 8346,-544 8340,-538 8340,-532 8340,-532 8340,-473 8340,-473 8340,-467 8346,-461 8352,-461 8352,-461 8493,-461 8493,-461 8499,-461 8505,-467 8505,-473 8505,-473 8505,-532 8505,-532 8505,-538 8499,-544 8493,-544\"/>\n<text text-anchor=\"middle\" x=\"8422.5\" y=\"-528.8\" font-family=\"Helvetica,sans-Serif\" font-size=\"14.00\" fill=\"#000000\">phoneservice &lt;= 0.901</text>\n<text text-anchor=\"middle\" x=\"8422.5\" y=\"-513.8\" font-family=\"Helvetica,sans-Serif\" font-size=\"14.00\" fill=\"#000000\">entropy = 0.581</text>\n<text text-anchor=\"middle\" x=\"8422.5\" y=\"-498.8\" font-family=\"Helvetica,sans-Serif\" font-size=\"14.00\" fill=\"#000000\">samples = 245</text>\n<text text-anchor=\"middle\" x=\"8422.5\" y=\"-483.8\" font-family=\"Helvetica,sans-Serif\" font-size=\"14.00\" fill=\"#000000\">value = [211, 34]</text>\n<text text-anchor=\"middle\" x=\"8422.5\" y=\"-468.8\" font-family=\"Helvetica,sans-Serif\" font-size=\"14.00\" fill=\"#000000\">class = 0</text>\n</g>\n<!-- 176&#45;&gt;177 -->\n<g id=\"edge177\" class=\"edge\">\n<title>176&#45;&gt;177</title>\n<path fill=\"none\" stroke=\"#000000\" d=\"M8422.5,-579.8796C8422.5,-571.6838 8422.5,-562.9891 8422.5,-554.5013\"/>\n<polygon fill=\"#000000\" stroke=\"#000000\" points=\"8426.0001,-554.298 8422.5,-544.2981 8419.0001,-554.2981 8426.0001,-554.298\"/>\n</g>\n<!-- 192 -->\n<g id=\"node193\" class=\"node\">\n<title>192</title>\n<path fill=\"#f4fafe\" stroke=\"#000000\" d=\"M8955,-544C8955,-544 8812,-544 8812,-544 8806,-544 8800,-538 8800,-532 8800,-532 8800,-473 8800,-473 8800,-467 8806,-461 8812,-461 8812,-461 8955,-461 8955,-461 8961,-461 8967,-467 8967,-473 8967,-473 8967,-532 8967,-532 8967,-538 8961,-544 8955,-544\"/>\n<text text-anchor=\"middle\" x=\"8883.5\" y=\"-528.8\" font-family=\"Helvetica,sans-Serif\" font-size=\"14.00\" fill=\"#000000\">onlinesecurity &lt;= 0.988</text>\n<text text-anchor=\"middle\" x=\"8883.5\" y=\"-513.8\" font-family=\"Helvetica,sans-Serif\" font-size=\"14.00\" fill=\"#000000\">entropy = 0.999</text>\n<text text-anchor=\"middle\" x=\"8883.5\" y=\"-498.8\" font-family=\"Helvetica,sans-Serif\" font-size=\"14.00\" fill=\"#000000\">samples = 714</text>\n<text text-anchor=\"middle\" x=\"8883.5\" y=\"-483.8\" font-family=\"Helvetica,sans-Serif\" font-size=\"14.00\" fill=\"#000000\">value = [347, 367]</text>\n<text text-anchor=\"middle\" x=\"8883.5\" y=\"-468.8\" font-family=\"Helvetica,sans-Serif\" font-size=\"14.00\" fill=\"#000000\">class = 1</text>\n</g>\n<!-- 176&#45;&gt;192 -->\n<g id=\"edge192\" class=\"edge\">\n<title>176&#45;&gt;192</title>\n<path fill=\"none\" stroke=\"#000000\" d=\"M8546.646,-589.4536C8623.3114,-569.6637 8720.0815,-544.684 8790.2098,-526.5814\"/>\n<polygon fill=\"#000000\" stroke=\"#000000\" points=\"8791.1157,-529.9624 8799.9235,-524.074 8789.3661,-523.1846 8791.1157,-529.9624\"/>\n</g>\n<!-- 178 -->\n<g id=\"node179\" class=\"node\">\n<title>178</title>\n<path fill=\"#efb082\" stroke=\"#000000\" d=\"M8406,-425C8406,-425 8265,-425 8265,-425 8259,-425 8253,-419 8253,-413 8253,-413 8253,-354 8253,-354 8253,-348 8259,-342 8265,-342 8265,-342 8406,-342 8406,-342 8412,-342 8418,-348 8418,-354 8418,-354 8418,-413 8418,-413 8418,-419 8412,-425 8406,-425\"/>\n<text text-anchor=\"middle\" x=\"8335.5\" y=\"-409.8\" font-family=\"Helvetica,sans-Serif\" font-size=\"14.00\" fill=\"#000000\">phoneservice &lt;= 0.087</text>\n<text text-anchor=\"middle\" x=\"8335.5\" y=\"-394.8\" font-family=\"Helvetica,sans-Serif\" font-size=\"14.00\" fill=\"#000000\">entropy = 0.842</text>\n<text text-anchor=\"middle\" x=\"8335.5\" y=\"-379.8\" font-family=\"Helvetica,sans-Serif\" font-size=\"14.00\" fill=\"#000000\">samples = 85</text>\n<text text-anchor=\"middle\" x=\"8335.5\" y=\"-364.8\" font-family=\"Helvetica,sans-Serif\" font-size=\"14.00\" fill=\"#000000\">value = [62, 23]</text>\n<text text-anchor=\"middle\" x=\"8335.5\" y=\"-349.8\" font-family=\"Helvetica,sans-Serif\" font-size=\"14.00\" fill=\"#000000\">class = 0</text>\n</g>\n<!-- 177&#45;&gt;178 -->\n<g id=\"edge178\" class=\"edge\">\n<title>177&#45;&gt;178</title>\n<path fill=\"none\" stroke=\"#000000\" d=\"M8392.0716,-460.8796C8385.6189,-452.0534 8378.743,-442.6485 8372.0887,-433.5466\"/>\n<polygon fill=\"#000000\" stroke=\"#000000\" points=\"8374.7856,-431.3051 8366.0583,-425.2981 8369.1347,-435.4364 8374.7856,-431.3051\"/>\n</g>\n<!-- 185 -->\n<g id=\"node186\" class=\"node\">\n<title>185</title>\n<path fill=\"#e78a48\" stroke=\"#000000\" d=\"M8572.5,-425C8572.5,-425 8448.5,-425 8448.5,-425 8442.5,-425 8436.5,-419 8436.5,-413 8436.5,-413 8436.5,-354 8436.5,-354 8436.5,-348 8442.5,-342 8448.5,-342 8448.5,-342 8572.5,-342 8572.5,-342 8578.5,-342 8584.5,-348 8584.5,-354 8584.5,-354 8584.5,-413 8584.5,-413 8584.5,-419 8578.5,-425 8572.5,-425\"/>\n<text text-anchor=\"middle\" x=\"8510.5\" y=\"-409.8\" font-family=\"Helvetica,sans-Serif\" font-size=\"14.00\" fill=\"#000000\">onlinebackup &lt;= 0.5</text>\n<text text-anchor=\"middle\" x=\"8510.5\" y=\"-394.8\" font-family=\"Helvetica,sans-Serif\" font-size=\"14.00\" fill=\"#000000\">entropy = 0.361</text>\n<text text-anchor=\"middle\" x=\"8510.5\" y=\"-379.8\" font-family=\"Helvetica,sans-Serif\" font-size=\"14.00\" fill=\"#000000\">samples = 160</text>\n<text text-anchor=\"middle\" x=\"8510.5\" y=\"-364.8\" font-family=\"Helvetica,sans-Serif\" font-size=\"14.00\" fill=\"#000000\">value = [149, 11]</text>\n<text text-anchor=\"middle\" x=\"8510.5\" y=\"-349.8\" font-family=\"Helvetica,sans-Serif\" font-size=\"14.00\" fill=\"#000000\">class = 0</text>\n</g>\n<!-- 177&#45;&gt;185 -->\n<g id=\"edge185\" class=\"edge\">\n<title>177&#45;&gt;185</title>\n<path fill=\"none\" stroke=\"#000000\" d=\"M8453.2781,-460.8796C8459.8051,-452.0534 8466.7599,-442.6485 8473.4908,-433.5466\"/>\n<polygon fill=\"#000000\" stroke=\"#000000\" points=\"8476.4588,-435.4195 8479.5905,-425.2981 8470.8305,-431.2574 8476.4588,-435.4195\"/>\n</g>\n<!-- 179 -->\n<g id=\"node180\" class=\"node\">\n<title>179</title>\n<path fill=\"#eb9f69\" stroke=\"#000000\" d=\"M8269.5,-306C8269.5,-306 8155.5,-306 8155.5,-306 8149.5,-306 8143.5,-300 8143.5,-294 8143.5,-294 8143.5,-235 8143.5,-235 8143.5,-229 8149.5,-223 8155.5,-223 8155.5,-223 8269.5,-223 8269.5,-223 8275.5,-223 8281.5,-229 8281.5,-235 8281.5,-235 8281.5,-294 8281.5,-294 8281.5,-300 8275.5,-306 8269.5,-306\"/>\n<text text-anchor=\"middle\" x=\"8212.5\" y=\"-290.8\" font-family=\"Helvetica,sans-Serif\" font-size=\"14.00\" fill=\"#000000\">dependents &lt;= 0.5</text>\n<text text-anchor=\"middle\" x=\"8212.5\" y=\"-275.8\" font-family=\"Helvetica,sans-Serif\" font-size=\"14.00\" fill=\"#000000\">entropy = 0.711</text>\n<text text-anchor=\"middle\" x=\"8212.5\" y=\"-260.8\" font-family=\"Helvetica,sans-Serif\" font-size=\"14.00\" fill=\"#000000\">samples = 77</text>\n<text text-anchor=\"middle\" x=\"8212.5\" y=\"-245.8\" font-family=\"Helvetica,sans-Serif\" font-size=\"14.00\" fill=\"#000000\">value = [62, 15]</text>\n<text text-anchor=\"middle\" x=\"8212.5\" y=\"-230.8\" font-family=\"Helvetica,sans-Serif\" font-size=\"14.00\" fill=\"#000000\">class = 0</text>\n</g>\n<!-- 178&#45;&gt;179 -->\n<g id=\"edge179\" class=\"edge\">\n<title>178&#45;&gt;179</title>\n<path fill=\"none\" stroke=\"#000000\" d=\"M8292.4806,-341.8796C8282.9853,-332.6931 8272.8422,-322.8798 8263.0785,-313.4336\"/>\n<polygon fill=\"#000000\" stroke=\"#000000\" points=\"8265.3237,-310.7359 8255.703,-306.2981 8260.4564,-315.7668 8265.3237,-310.7359\"/>\n</g>\n<!-- 184 -->\n<g id=\"node185\" class=\"node\">\n<title>184</title>\n<path fill=\"#399de5\" stroke=\"#000000\" d=\"M8389,-298.5C8389,-298.5 8312,-298.5 8312,-298.5 8306,-298.5 8300,-292.5 8300,-286.5 8300,-286.5 8300,-242.5 8300,-242.5 8300,-236.5 8306,-230.5 8312,-230.5 8312,-230.5 8389,-230.5 8389,-230.5 8395,-230.5 8401,-236.5 8401,-242.5 8401,-242.5 8401,-286.5 8401,-286.5 8401,-292.5 8395,-298.5 8389,-298.5\"/>\n<text text-anchor=\"middle\" x=\"8350.5\" y=\"-283.3\" font-family=\"Helvetica,sans-Serif\" font-size=\"14.00\" fill=\"#000000\">entropy = 0.0</text>\n<text text-anchor=\"middle\" x=\"8350.5\" y=\"-268.3\" font-family=\"Helvetica,sans-Serif\" font-size=\"14.00\" fill=\"#000000\">samples = 8</text>\n<text text-anchor=\"middle\" x=\"8350.5\" y=\"-253.3\" font-family=\"Helvetica,sans-Serif\" font-size=\"14.00\" fill=\"#000000\">value = [0, 8]</text>\n<text text-anchor=\"middle\" x=\"8350.5\" y=\"-238.3\" font-family=\"Helvetica,sans-Serif\" font-size=\"14.00\" fill=\"#000000\">class = 1</text>\n</g>\n<!-- 178&#45;&gt;184 -->\n<g id=\"edge184\" class=\"edge\">\n<title>178&#45;&gt;184</title>\n<path fill=\"none\" stroke=\"#000000\" d=\"M8340.7463,-341.8796C8342.0908,-331.2134 8343.5418,-319.7021 8344.9032,-308.9015\"/>\n<polygon fill=\"#000000\" stroke=\"#000000\" points=\"8348.3964,-309.1742 8346.1746,-298.8149 8341.4514,-308.2987 8348.3964,-309.1742\"/>\n</g>\n<!-- 180 -->\n<g id=\"node181\" class=\"node\">\n<title>180</title>\n<path fill=\"#eeab7b\" stroke=\"#000000\" d=\"M8229,-187C8229,-187 8134,-187 8134,-187 8128,-187 8122,-181 8122,-175 8122,-175 8122,-116 8122,-116 8122,-110 8128,-104 8134,-104 8134,-104 8229,-104 8229,-104 8235,-104 8241,-110 8241,-116 8241,-116 8241,-175 8241,-175 8241,-181 8235,-187 8229,-187\"/>\n<text text-anchor=\"middle\" x=\"8181.5\" y=\"-171.8\" font-family=\"Helvetica,sans-Serif\" font-size=\"14.00\" fill=\"#000000\">tenure &lt;= 0.051</text>\n<text text-anchor=\"middle\" x=\"8181.5\" y=\"-156.8\" font-family=\"Helvetica,sans-Serif\" font-size=\"14.00\" fill=\"#000000\">entropy = 0.811</text>\n<text text-anchor=\"middle\" x=\"8181.5\" y=\"-141.8\" font-family=\"Helvetica,sans-Serif\" font-size=\"14.00\" fill=\"#000000\">samples = 60</text>\n<text text-anchor=\"middle\" x=\"8181.5\" y=\"-126.8\" font-family=\"Helvetica,sans-Serif\" font-size=\"14.00\" fill=\"#000000\">value = [45, 15]</text>\n<text text-anchor=\"middle\" x=\"8181.5\" y=\"-111.8\" font-family=\"Helvetica,sans-Serif\" font-size=\"14.00\" fill=\"#000000\">class = 0</text>\n</g>\n<!-- 179&#45;&gt;180 -->\n<g id=\"edge180\" class=\"edge\">\n<title>179&#45;&gt;180</title>\n<path fill=\"none\" stroke=\"#000000\" d=\"M8201.6577,-222.8796C8199.4992,-214.5938 8197.2079,-205.798 8194.9737,-197.2216\"/>\n<polygon fill=\"#000000\" stroke=\"#000000\" points=\"8198.2965,-196.0928 8192.3886,-187.2981 8191.5226,-197.8575 8198.2965,-196.0928\"/>\n</g>\n<!-- 183 -->\n<g id=\"node184\" class=\"node\">\n<title>183</title>\n<path fill=\"#e58139\" stroke=\"#000000\" d=\"M8354,-179.5C8354,-179.5 8271,-179.5 8271,-179.5 8265,-179.5 8259,-173.5 8259,-167.5 8259,-167.5 8259,-123.5 8259,-123.5 8259,-117.5 8265,-111.5 8271,-111.5 8271,-111.5 8354,-111.5 8354,-111.5 8360,-111.5 8366,-117.5 8366,-123.5 8366,-123.5 8366,-167.5 8366,-167.5 8366,-173.5 8360,-179.5 8354,-179.5\"/>\n<text text-anchor=\"middle\" x=\"8312.5\" y=\"-164.3\" font-family=\"Helvetica,sans-Serif\" font-size=\"14.00\" fill=\"#000000\">entropy = 0.0</text>\n<text text-anchor=\"middle\" x=\"8312.5\" y=\"-149.3\" font-family=\"Helvetica,sans-Serif\" font-size=\"14.00\" fill=\"#000000\">samples = 17</text>\n<text text-anchor=\"middle\" x=\"8312.5\" y=\"-134.3\" font-family=\"Helvetica,sans-Serif\" font-size=\"14.00\" fill=\"#000000\">value = [17, 0]</text>\n<text text-anchor=\"middle\" x=\"8312.5\" y=\"-119.3\" font-family=\"Helvetica,sans-Serif\" font-size=\"14.00\" fill=\"#000000\">class = 0</text>\n</g>\n<!-- 179&#45;&gt;183 -->\n<g id=\"edge183\" class=\"edge\">\n<title>179&#45;&gt;183</title>\n<path fill=\"none\" stroke=\"#000000\" d=\"M8247.4751,-222.8796C8257.0852,-211.4436 8267.5115,-199.0363 8277.1429,-187.575\"/>\n<polygon fill=\"#000000\" stroke=\"#000000\" points=\"8279.91,-189.7225 8283.6639,-179.8149 8274.5509,-185.219 8279.91,-189.7225\"/>\n</g>\n<!-- 181 -->\n<g id=\"node182\" class=\"node\">\n<title>181</title>\n<path fill=\"#399de5\" stroke=\"#000000\" d=\"M8196,-68C8196,-68 8119,-68 8119,-68 8113,-68 8107,-62 8107,-56 8107,-56 8107,-12 8107,-12 8107,-6 8113,0 8119,0 8119,0 8196,0 8196,0 8202,0 8208,-6 8208,-12 8208,-12 8208,-56 8208,-56 8208,-62 8202,-68 8196,-68\"/>\n<text text-anchor=\"middle\" x=\"8157.5\" y=\"-52.8\" font-family=\"Helvetica,sans-Serif\" font-size=\"14.00\" fill=\"#000000\">entropy = 0.0</text>\n<text text-anchor=\"middle\" x=\"8157.5\" y=\"-37.8\" font-family=\"Helvetica,sans-Serif\" font-size=\"14.00\" fill=\"#000000\">samples = 1</text>\n<text text-anchor=\"middle\" x=\"8157.5\" y=\"-22.8\" font-family=\"Helvetica,sans-Serif\" font-size=\"14.00\" fill=\"#000000\">value = [0, 1]</text>\n<text text-anchor=\"middle\" x=\"8157.5\" y=\"-7.8\" font-family=\"Helvetica,sans-Serif\" font-size=\"14.00\" fill=\"#000000\">class = 1</text>\n</g>\n<!-- 180&#45;&gt;181 -->\n<g id=\"edge181\" class=\"edge\">\n<title>180&#45;&gt;181</title>\n<path fill=\"none\" stroke=\"#000000\" d=\"M8172.5633,-103.9815C8170.7433,-95.5261 8168.8225,-86.6026 8166.9843,-78.0623\"/>\n<polygon fill=\"#000000\" stroke=\"#000000\" points=\"8170.4011,-77.3032 8164.8751,-68.2637 8163.5579,-78.7763 8170.4011,-77.3032\"/>\n</g>\n<!-- 182 -->\n<g id=\"node183\" class=\"node\">\n<title>182</title>\n<path fill=\"#eda877\" stroke=\"#000000\" d=\"M8332.5,-68C8332.5,-68 8238.5,-68 8238.5,-68 8232.5,-68 8226.5,-62 8226.5,-56 8226.5,-56 8226.5,-12 8226.5,-12 8226.5,-6 8232.5,0 8238.5,0 8238.5,0 8332.5,0 8332.5,0 8338.5,0 8344.5,-6 8344.5,-12 8344.5,-12 8344.5,-56 8344.5,-56 8344.5,-62 8338.5,-68 8332.5,-68\"/>\n<text text-anchor=\"middle\" x=\"8285.5\" y=\"-52.8\" font-family=\"Helvetica,sans-Serif\" font-size=\"14.00\" fill=\"#000000\">entropy = 0.791</text>\n<text text-anchor=\"middle\" x=\"8285.5\" y=\"-37.8\" font-family=\"Helvetica,sans-Serif\" font-size=\"14.00\" fill=\"#000000\">samples = 59</text>\n<text text-anchor=\"middle\" x=\"8285.5\" y=\"-22.8\" font-family=\"Helvetica,sans-Serif\" font-size=\"14.00\" fill=\"#000000\">value = [45, 14]</text>\n<text text-anchor=\"middle\" x=\"8285.5\" y=\"-7.8\" font-family=\"Helvetica,sans-Serif\" font-size=\"14.00\" fill=\"#000000\">class = 0</text>\n</g>\n<!-- 180&#45;&gt;182 -->\n<g id=\"edge182\" class=\"edge\">\n<title>180&#45;&gt;182</title>\n<path fill=\"none\" stroke=\"#000000\" d=\"M8220.2258,-103.9815C8228.7982,-94.7908 8237.8865,-85.0472 8246.471,-75.8436\"/>\n<polygon fill=\"#000000\" stroke=\"#000000\" points=\"8249.2796,-77.9637 8253.5411,-68.2637 8244.1607,-73.1891 8249.2796,-77.9637\"/>\n</g>\n<!-- 186 -->\n<g id=\"node187\" class=\"node\">\n<title>186</title>\n<path fill=\"#e89152\" stroke=\"#000000\" d=\"M8568,-306C8568,-306 8439,-306 8439,-306 8433,-306 8427,-300 8427,-294 8427,-294 8427,-235 8427,-235 8427,-229 8433,-223 8439,-223 8439,-223 8568,-223 8568,-223 8574,-223 8580,-229 8580,-235 8580,-235 8580,-294 8580,-294 8580,-300 8574,-306 8568,-306\"/>\n<text text-anchor=\"middle\" x=\"8503.5\" y=\"-290.8\" font-family=\"Helvetica,sans-Serif\" font-size=\"14.00\" fill=\"#000000\">totalcharges &lt;= &#45;0.51</text>\n<text text-anchor=\"middle\" x=\"8503.5\" y=\"-275.8\" font-family=\"Helvetica,sans-Serif\" font-size=\"14.00\" fill=\"#000000\">entropy = 0.51</text>\n<text text-anchor=\"middle\" x=\"8503.5\" y=\"-260.8\" font-family=\"Helvetica,sans-Serif\" font-size=\"14.00\" fill=\"#000000\">samples = 97</text>\n<text text-anchor=\"middle\" x=\"8503.5\" y=\"-245.8\" font-family=\"Helvetica,sans-Serif\" font-size=\"14.00\" fill=\"#000000\">value = [86, 11]</text>\n<text text-anchor=\"middle\" x=\"8503.5\" y=\"-230.8\" font-family=\"Helvetica,sans-Serif\" font-size=\"14.00\" fill=\"#000000\">class = 0</text>\n</g>\n<!-- 185&#45;&gt;186 -->\n<g id=\"edge186\" class=\"edge\">\n<title>185&#45;&gt;186</title>\n<path fill=\"none\" stroke=\"#000000\" d=\"M8508.0517,-341.8796C8507.5696,-333.6838 8507.0582,-324.9891 8506.5589,-316.5013\"/>\n<polygon fill=\"#000000\" stroke=\"#000000\" points=\"8510.04,-316.0753 8505.9587,-306.2981 8503.0521,-316.4864 8510.04,-316.0753\"/>\n</g>\n<!-- 191 -->\n<g id=\"node192\" class=\"node\">\n<title>191</title>\n<path fill=\"#e58139\" stroke=\"#000000\" d=\"M8693,-298.5C8693,-298.5 8610,-298.5 8610,-298.5 8604,-298.5 8598,-292.5 8598,-286.5 8598,-286.5 8598,-242.5 8598,-242.5 8598,-236.5 8604,-230.5 8610,-230.5 8610,-230.5 8693,-230.5 8693,-230.5 8699,-230.5 8705,-236.5 8705,-242.5 8705,-242.5 8705,-286.5 8705,-286.5 8705,-292.5 8699,-298.5 8693,-298.5\"/>\n<text text-anchor=\"middle\" x=\"8651.5\" y=\"-283.3\" font-family=\"Helvetica,sans-Serif\" font-size=\"14.00\" fill=\"#000000\">entropy = 0.0</text>\n<text text-anchor=\"middle\" x=\"8651.5\" y=\"-268.3\" font-family=\"Helvetica,sans-Serif\" font-size=\"14.00\" fill=\"#000000\">samples = 63</text>\n<text text-anchor=\"middle\" x=\"8651.5\" y=\"-253.3\" font-family=\"Helvetica,sans-Serif\" font-size=\"14.00\" fill=\"#000000\">value = [63, 0]</text>\n<text text-anchor=\"middle\" x=\"8651.5\" y=\"-238.3\" font-family=\"Helvetica,sans-Serif\" font-size=\"14.00\" fill=\"#000000\">class = 0</text>\n</g>\n<!-- 185&#45;&gt;191 -->\n<g id=\"edge191\" class=\"edge\">\n<title>185&#45;&gt;191</title>\n<path fill=\"none\" stroke=\"#000000\" d=\"M8559.815,-341.8796C8573.756,-330.1138 8588.9154,-317.3197 8602.8188,-305.5855\"/>\n<polygon fill=\"#000000\" stroke=\"#000000\" points=\"8605.4564,-307.9394 8610.8411,-298.8149 8600.9416,-302.5899 8605.4564,-307.9394\"/>\n</g>\n<!-- 187 -->\n<g id=\"node188\" class=\"node\">\n<title>187</title>\n<path fill=\"#e58139\" stroke=\"#000000\" d=\"M8479,-179.5C8479,-179.5 8396,-179.5 8396,-179.5 8390,-179.5 8384,-173.5 8384,-167.5 8384,-167.5 8384,-123.5 8384,-123.5 8384,-117.5 8390,-111.5 8396,-111.5 8396,-111.5 8479,-111.5 8479,-111.5 8485,-111.5 8491,-117.5 8491,-123.5 8491,-123.5 8491,-167.5 8491,-167.5 8491,-173.5 8485,-179.5 8479,-179.5\"/>\n<text text-anchor=\"middle\" x=\"8437.5\" y=\"-164.3\" font-family=\"Helvetica,sans-Serif\" font-size=\"14.00\" fill=\"#000000\">entropy = 0.0</text>\n<text text-anchor=\"middle\" x=\"8437.5\" y=\"-149.3\" font-family=\"Helvetica,sans-Serif\" font-size=\"14.00\" fill=\"#000000\">samples = 18</text>\n<text text-anchor=\"middle\" x=\"8437.5\" y=\"-134.3\" font-family=\"Helvetica,sans-Serif\" font-size=\"14.00\" fill=\"#000000\">value = [18, 0]</text>\n<text text-anchor=\"middle\" x=\"8437.5\" y=\"-119.3\" font-family=\"Helvetica,sans-Serif\" font-size=\"14.00\" fill=\"#000000\">class = 0</text>\n</g>\n<!-- 186&#45;&gt;187 -->\n<g id=\"edge187\" class=\"edge\">\n<title>186&#45;&gt;187</title>\n<path fill=\"none\" stroke=\"#000000\" d=\"M8480.4164,-222.8796C8474.2567,-211.7735 8467.5889,-199.7513 8461.3871,-188.5691\"/>\n<polygon fill=\"#000000\" stroke=\"#000000\" points=\"8464.4428,-186.8624 8456.5318,-179.8149 8458.3213,-190.2576 8464.4428,-186.8624\"/>\n</g>\n<!-- 188 -->\n<g id=\"node189\" class=\"node\">\n<title>188</title>\n<path fill=\"#e99559\" stroke=\"#000000\" d=\"M8616,-187C8616,-187 8521,-187 8521,-187 8515,-187 8509,-181 8509,-175 8509,-175 8509,-116 8509,-116 8509,-110 8515,-104 8521,-104 8521,-104 8616,-104 8616,-104 8622,-104 8628,-110 8628,-116 8628,-116 8628,-175 8628,-175 8628,-181 8622,-187 8616,-187\"/>\n<text text-anchor=\"middle\" x=\"8568.5\" y=\"-171.8\" font-family=\"Helvetica,sans-Serif\" font-size=\"14.00\" fill=\"#000000\">tenure &lt;= 0.748</text>\n<text text-anchor=\"middle\" x=\"8568.5\" y=\"-156.8\" font-family=\"Helvetica,sans-Serif\" font-size=\"14.00\" fill=\"#000000\">entropy = 0.582</text>\n<text text-anchor=\"middle\" x=\"8568.5\" y=\"-141.8\" font-family=\"Helvetica,sans-Serif\" font-size=\"14.00\" fill=\"#000000\">samples = 79</text>\n<text text-anchor=\"middle\" x=\"8568.5\" y=\"-126.8\" font-family=\"Helvetica,sans-Serif\" font-size=\"14.00\" fill=\"#000000\">value = [68, 11]</text>\n<text text-anchor=\"middle\" x=\"8568.5\" y=\"-111.8\" font-family=\"Helvetica,sans-Serif\" font-size=\"14.00\" fill=\"#000000\">class = 0</text>\n</g>\n<!-- 186&#45;&gt;188 -->\n<g id=\"edge188\" class=\"edge\">\n<title>186&#45;&gt;188</title>\n<path fill=\"none\" stroke=\"#000000\" d=\"M8526.2338,-222.8796C8530.9565,-214.2335 8535.9824,-205.0322 8540.859,-196.1042\"/>\n<polygon fill=\"#000000\" stroke=\"#000000\" points=\"8543.947,-197.752 8545.6691,-187.2981 8537.8037,-194.3964 8543.947,-197.752\"/>\n</g>\n<!-- 189 -->\n<g id=\"node190\" class=\"node\">\n<title>189</title>\n<path fill=\"#eda674\" stroke=\"#000000\" d=\"M8479.5,-68C8479.5,-68 8385.5,-68 8385.5,-68 8379.5,-68 8373.5,-62 8373.5,-56 8373.5,-56 8373.5,-12 8373.5,-12 8373.5,-6 8379.5,0 8385.5,0 8385.5,0 8479.5,0 8479.5,0 8485.5,0 8491.5,-6 8491.5,-12 8491.5,-12 8491.5,-56 8491.5,-56 8491.5,-62 8485.5,-68 8479.5,-68\"/>\n<text text-anchor=\"middle\" x=\"8432.5\" y=\"-52.8\" font-family=\"Helvetica,sans-Serif\" font-size=\"14.00\" fill=\"#000000\">entropy = 0.776</text>\n<text text-anchor=\"middle\" x=\"8432.5\" y=\"-37.8\" font-family=\"Helvetica,sans-Serif\" font-size=\"14.00\" fill=\"#000000\">samples = 35</text>\n<text text-anchor=\"middle\" x=\"8432.5\" y=\"-22.8\" font-family=\"Helvetica,sans-Serif\" font-size=\"14.00\" fill=\"#000000\">value = [27, 8]</text>\n<text text-anchor=\"middle\" x=\"8432.5\" y=\"-7.8\" font-family=\"Helvetica,sans-Serif\" font-size=\"14.00\" fill=\"#000000\">class = 0</text>\n</g>\n<!-- 188&#45;&gt;189 -->\n<g id=\"edge189\" class=\"edge\">\n<title>188&#45;&gt;189</title>\n<path fill=\"none\" stroke=\"#000000\" d=\"M8517.8586,-103.9815C8506.2001,-94.4232 8493.812,-84.2668 8482.1941,-74.7419\"/>\n<polygon fill=\"#000000\" stroke=\"#000000\" points=\"8484.2448,-71.8972 8474.2925,-68.2637 8479.8067,-77.3105 8484.2448,-71.8972\"/>\n</g>\n<!-- 190 -->\n<g id=\"node191\" class=\"node\">\n<title>190</title>\n<path fill=\"#e78a47\" stroke=\"#000000\" d=\"M8615.5,-68C8615.5,-68 8521.5,-68 8521.5,-68 8515.5,-68 8509.5,-62 8509.5,-56 8509.5,-56 8509.5,-12 8509.5,-12 8509.5,-6 8515.5,0 8521.5,0 8521.5,0 8615.5,0 8615.5,0 8621.5,0 8627.5,-6 8627.5,-12 8627.5,-12 8627.5,-56 8627.5,-56 8627.5,-62 8621.5,-68 8615.5,-68\"/>\n<text text-anchor=\"middle\" x=\"8568.5\" y=\"-52.8\" font-family=\"Helvetica,sans-Serif\" font-size=\"14.00\" fill=\"#000000\">entropy = 0.359</text>\n<text text-anchor=\"middle\" x=\"8568.5\" y=\"-37.8\" font-family=\"Helvetica,sans-Serif\" font-size=\"14.00\" fill=\"#000000\">samples = 44</text>\n<text text-anchor=\"middle\" x=\"8568.5\" y=\"-22.8\" font-family=\"Helvetica,sans-Serif\" font-size=\"14.00\" fill=\"#000000\">value = [41, 3]</text>\n<text text-anchor=\"middle\" x=\"8568.5\" y=\"-7.8\" font-family=\"Helvetica,sans-Serif\" font-size=\"14.00\" fill=\"#000000\">class = 0</text>\n</g>\n<!-- 188&#45;&gt;190 -->\n<g id=\"edge190\" class=\"edge\">\n<title>188&#45;&gt;190</title>\n<path fill=\"none\" stroke=\"#000000\" d=\"M8568.5,-103.9815C8568.5,-95.618 8568.5,-86.7965 8568.5,-78.3409\"/>\n<polygon fill=\"#000000\" stroke=\"#000000\" points=\"8572.0001,-78.2636 8568.5,-68.2637 8565.0001,-78.2637 8572.0001,-78.2636\"/>\n</g>\n<!-- 193 -->\n<g id=\"node194\" class=\"node\">\n<title>193</title>\n<path fill=\"#bedff6\" stroke=\"#000000\" d=\"M8955,-425C8955,-425 8812,-425 8812,-425 8806,-425 8800,-419 8800,-413 8800,-413 8800,-354 8800,-354 8800,-348 8806,-342 8812,-342 8812,-342 8955,-342 8955,-342 8961,-342 8967,-348 8967,-354 8967,-354 8967,-413 8967,-413 8967,-419 8961,-425 8955,-425\"/>\n<text text-anchor=\"middle\" x=\"8883.5\" y=\"-409.8\" font-family=\"Helvetica,sans-Serif\" font-size=\"14.00\" fill=\"#000000\">onlinesecurity &lt;= 0.008</text>\n<text text-anchor=\"middle\" x=\"8883.5\" y=\"-394.8\" font-family=\"Helvetica,sans-Serif\" font-size=\"14.00\" fill=\"#000000\">entropy = 0.972</text>\n<text text-anchor=\"middle\" x=\"8883.5\" y=\"-379.8\" font-family=\"Helvetica,sans-Serif\" font-size=\"14.00\" fill=\"#000000\">samples = 547</text>\n<text text-anchor=\"middle\" x=\"8883.5\" y=\"-364.8\" font-family=\"Helvetica,sans-Serif\" font-size=\"14.00\" fill=\"#000000\">value = [220, 327]</text>\n<text text-anchor=\"middle\" x=\"8883.5\" y=\"-349.8\" font-family=\"Helvetica,sans-Serif\" font-size=\"14.00\" fill=\"#000000\">class = 1</text>\n</g>\n<!-- 192&#45;&gt;193 -->\n<g id=\"edge193\" class=\"edge\">\n<title>192&#45;&gt;193</title>\n<path fill=\"none\" stroke=\"#000000\" d=\"M8883.5,-460.8796C8883.5,-452.6838 8883.5,-443.9891 8883.5,-435.5013\"/>\n<polygon fill=\"#000000\" stroke=\"#000000\" points=\"8887.0001,-435.298 8883.5,-425.2981 8880.0001,-435.2981 8887.0001,-435.298\"/>\n</g>\n<!-- 202 -->\n<g id=\"node203\" class=\"node\">\n<title>202</title>\n<path fill=\"#eda977\" stroke=\"#000000\" d=\"M9197,-425C9197,-425 9040,-425 9040,-425 9034,-425 9028,-419 9028,-413 9028,-413 9028,-354 9028,-354 9028,-348 9034,-342 9040,-342 9040,-342 9197,-342 9197,-342 9203,-342 9209,-348 9209,-354 9209,-354 9209,-413 9209,-413 9209,-419 9203,-425 9197,-425\"/>\n<text text-anchor=\"middle\" x=\"9118.5\" y=\"-409.8\" font-family=\"Helvetica,sans-Serif\" font-size=\"14.00\" fill=\"#000000\">monthlycharges &lt;= 0.449</text>\n<text text-anchor=\"middle\" x=\"9118.5\" y=\"-394.8\" font-family=\"Helvetica,sans-Serif\" font-size=\"14.00\" fill=\"#000000\">entropy = 0.794</text>\n<text text-anchor=\"middle\" x=\"9118.5\" y=\"-379.8\" font-family=\"Helvetica,sans-Serif\" font-size=\"14.00\" fill=\"#000000\">samples = 167</text>\n<text text-anchor=\"middle\" x=\"9118.5\" y=\"-364.8\" font-family=\"Helvetica,sans-Serif\" font-size=\"14.00\" fill=\"#000000\">value = [127, 40]</text>\n<text text-anchor=\"middle\" x=\"9118.5\" y=\"-349.8\" font-family=\"Helvetica,sans-Serif\" font-size=\"14.00\" fill=\"#000000\">class = 0</text>\n</g>\n<!-- 192&#45;&gt;202 -->\n<g id=\"edge202\" class=\"edge\">\n<title>192&#45;&gt;202</title>\n<path fill=\"none\" stroke=\"#000000\" d=\"M8965.6916,-460.8796C8985.6378,-450.7791 9007.0805,-439.9209 9027.4108,-429.626\"/>\n<polygon fill=\"#000000\" stroke=\"#000000\" points=\"9029.0146,-432.7371 9036.3548,-425.0969 9025.8522,-426.4921 9029.0146,-432.7371\"/>\n</g>\n<!-- 194 -->\n<g id=\"node195\" class=\"node\">\n<title>194</title>\n<path fill=\"#ddeefb\" stroke=\"#000000\" d=\"M8906.5,-306C8906.5,-306 8776.5,-306 8776.5,-306 8770.5,-306 8764.5,-300 8764.5,-294 8764.5,-294 8764.5,-235 8764.5,-235 8764.5,-229 8770.5,-223 8776.5,-223 8776.5,-223 8906.5,-223 8906.5,-223 8912.5,-223 8918.5,-229 8918.5,-235 8918.5,-235 8918.5,-294 8918.5,-294 8918.5,-300 8912.5,-306 8906.5,-306\"/>\n<text text-anchor=\"middle\" x=\"8841.5\" y=\"-290.8\" font-family=\"Helvetica,sans-Serif\" font-size=\"14.00\" fill=\"#000000\">techsupport &lt;= 0.996</text>\n<text text-anchor=\"middle\" x=\"8841.5\" y=\"-275.8\" font-family=\"Helvetica,sans-Serif\" font-size=\"14.00\" fill=\"#000000\">entropy = 0.994</text>\n<text text-anchor=\"middle\" x=\"8841.5\" y=\"-260.8\" font-family=\"Helvetica,sans-Serif\" font-size=\"14.00\" fill=\"#000000\">samples = 486</text>\n<text text-anchor=\"middle\" x=\"8841.5\" y=\"-245.8\" font-family=\"Helvetica,sans-Serif\" font-size=\"14.00\" fill=\"#000000\">value = [220, 266]</text>\n<text text-anchor=\"middle\" x=\"8841.5\" y=\"-230.8\" font-family=\"Helvetica,sans-Serif\" font-size=\"14.00\" fill=\"#000000\">class = 1</text>\n</g>\n<!-- 193&#45;&gt;194 -->\n<g id=\"edge194\" class=\"edge\">\n<title>193&#45;&gt;194</title>\n<path fill=\"none\" stroke=\"#000000\" d=\"M8868.8104,-341.8796C8865.8542,-333.5037 8862.7141,-324.6067 8859.656,-315.942\"/>\n<polygon fill=\"#000000\" stroke=\"#000000\" points=\"8862.881,-314.5631 8856.2523,-306.2981 8856.2801,-316.8929 8862.881,-314.5631\"/>\n</g>\n<!-- 201 -->\n<g id=\"node202\" class=\"node\">\n<title>201</title>\n<path fill=\"#399de5\" stroke=\"#000000\" d=\"M9032,-298.5C9032,-298.5 8949,-298.5 8949,-298.5 8943,-298.5 8937,-292.5 8937,-286.5 8937,-286.5 8937,-242.5 8937,-242.5 8937,-236.5 8943,-230.5 8949,-230.5 8949,-230.5 9032,-230.5 9032,-230.5 9038,-230.5 9044,-236.5 9044,-242.5 9044,-242.5 9044,-286.5 9044,-286.5 9044,-292.5 9038,-298.5 9032,-298.5\"/>\n<text text-anchor=\"middle\" x=\"8990.5\" y=\"-283.3\" font-family=\"Helvetica,sans-Serif\" font-size=\"14.00\" fill=\"#000000\">entropy = 0.0</text>\n<text text-anchor=\"middle\" x=\"8990.5\" y=\"-268.3\" font-family=\"Helvetica,sans-Serif\" font-size=\"14.00\" fill=\"#000000\">samples = 61</text>\n<text text-anchor=\"middle\" x=\"8990.5\" y=\"-253.3\" font-family=\"Helvetica,sans-Serif\" font-size=\"14.00\" fill=\"#000000\">value = [0, 61]</text>\n<text text-anchor=\"middle\" x=\"8990.5\" y=\"-238.3\" font-family=\"Helvetica,sans-Serif\" font-size=\"14.00\" fill=\"#000000\">class = 1</text>\n</g>\n<!-- 193&#45;&gt;201 -->\n<g id=\"edge201\" class=\"edge\">\n<title>193&#45;&gt;201</title>\n<path fill=\"none\" stroke=\"#000000\" d=\"M8920.9234,-341.8796C8931.2061,-330.4436 8942.3623,-318.0363 8952.6679,-306.575\"/>\n<polygon fill=\"#000000\" stroke=\"#000000\" points=\"8955.5618,-308.5912 8959.6454,-298.8149 8950.3565,-303.9108 8955.5618,-308.5912\"/>\n</g>\n<!-- 195 -->\n<g id=\"node196\" class=\"node\">\n<title>195</title>\n<path fill=\"#b2d9f5\" stroke=\"#000000\" d=\"M8895.5,-187C8895.5,-187 8765.5,-187 8765.5,-187 8759.5,-187 8753.5,-181 8753.5,-175 8753.5,-175 8753.5,-116 8753.5,-116 8753.5,-110 8759.5,-104 8765.5,-104 8765.5,-104 8895.5,-104 8895.5,-104 8901.5,-104 8907.5,-110 8907.5,-116 8907.5,-116 8907.5,-175 8907.5,-175 8907.5,-181 8901.5,-187 8895.5,-187\"/>\n<text text-anchor=\"middle\" x=\"8830.5\" y=\"-171.8\" font-family=\"Helvetica,sans-Serif\" font-size=\"14.00\" fill=\"#000000\">techsupport &lt;= 0.017</text>\n<text text-anchor=\"middle\" x=\"8830.5\" y=\"-156.8\" font-family=\"Helvetica,sans-Serif\" font-size=\"14.00\" fill=\"#000000\">entropy = 0.958</text>\n<text text-anchor=\"middle\" x=\"8830.5\" y=\"-141.8\" font-family=\"Helvetica,sans-Serif\" font-size=\"14.00\" fill=\"#000000\">samples = 366</text>\n<text text-anchor=\"middle\" x=\"8830.5\" y=\"-126.8\" font-family=\"Helvetica,sans-Serif\" font-size=\"14.00\" fill=\"#000000\">value = [139, 227]</text>\n<text text-anchor=\"middle\" x=\"8830.5\" y=\"-111.8\" font-family=\"Helvetica,sans-Serif\" font-size=\"14.00\" fill=\"#000000\">class = 1</text>\n</g>\n<!-- 194&#45;&gt;195 -->\n<g id=\"edge195\" class=\"edge\">\n<title>194&#45;&gt;195</title>\n<path fill=\"none\" stroke=\"#000000\" d=\"M8837.6527,-222.8796C8836.8951,-214.6838 8836.0914,-205.9891 8835.3068,-197.5013\"/>\n<polygon fill=\"#000000\" stroke=\"#000000\" points=\"8838.7694,-196.9334 8834.3637,-187.2981 8831.7991,-197.5778 8838.7694,-196.9334\"/>\n</g>\n<!-- 198 -->\n<g id=\"node199\" class=\"node\">\n<title>198</title>\n<path fill=\"#f2be98\" stroke=\"#000000\" d=\"M9029.5,-187C9029.5,-187 8937.5,-187 8937.5,-187 8931.5,-187 8925.5,-181 8925.5,-175 8925.5,-175 8925.5,-116 8925.5,-116 8925.5,-110 8931.5,-104 8937.5,-104 8937.5,-104 9029.5,-104 9029.5,-104 9035.5,-104 9041.5,-110 9041.5,-116 9041.5,-116 9041.5,-175 9041.5,-175 9041.5,-181 9035.5,-187 9029.5,-187\"/>\n<text text-anchor=\"middle\" x=\"8983.5\" y=\"-171.8\" font-family=\"Helvetica,sans-Serif\" font-size=\"14.00\" fill=\"#000000\">partner &lt;= 0.98</text>\n<text text-anchor=\"middle\" x=\"8983.5\" y=\"-156.8\" font-family=\"Helvetica,sans-Serif\" font-size=\"14.00\" fill=\"#000000\">entropy = 0.91</text>\n<text text-anchor=\"middle\" x=\"8983.5\" y=\"-141.8\" font-family=\"Helvetica,sans-Serif\" font-size=\"14.00\" fill=\"#000000\">samples = 120</text>\n<text text-anchor=\"middle\" x=\"8983.5\" y=\"-126.8\" font-family=\"Helvetica,sans-Serif\" font-size=\"14.00\" fill=\"#000000\">value = [81, 39]</text>\n<text text-anchor=\"middle\" x=\"8983.5\" y=\"-111.8\" font-family=\"Helvetica,sans-Serif\" font-size=\"14.00\" fill=\"#000000\">class = 0</text>\n</g>\n<!-- 194&#45;&gt;198 -->\n<g id=\"edge198\" class=\"edge\">\n<title>194&#45;&gt;198</title>\n<path fill=\"none\" stroke=\"#000000\" d=\"M8891.1647,-222.8796C8902.3416,-213.513 8914.2962,-203.4948 8925.7712,-193.8784\"/>\n<polygon fill=\"#000000\" stroke=\"#000000\" points=\"8928.2069,-196.4037 8933.6233,-187.2981 8923.7107,-191.0386 8928.2069,-196.4037\"/>\n</g>\n<!-- 196 -->\n<g id=\"node197\" class=\"node\">\n<title>196</title>\n<path fill=\"#cfe7f9\" stroke=\"#000000\" d=\"M8765.5,-68C8765.5,-68 8657.5,-68 8657.5,-68 8651.5,-68 8645.5,-62 8645.5,-56 8645.5,-56 8645.5,-12 8645.5,-12 8645.5,-6 8651.5,0 8657.5,0 8657.5,0 8765.5,0 8765.5,0 8771.5,0 8777.5,-6 8777.5,-12 8777.5,-12 8777.5,-56 8777.5,-56 8777.5,-62 8771.5,-68 8765.5,-68\"/>\n<text text-anchor=\"middle\" x=\"8711.5\" y=\"-52.8\" font-family=\"Helvetica,sans-Serif\" font-size=\"14.00\" fill=\"#000000\">entropy = 0.986</text>\n<text text-anchor=\"middle\" x=\"8711.5\" y=\"-37.8\" font-family=\"Helvetica,sans-Serif\" font-size=\"14.00\" fill=\"#000000\">samples = 323</text>\n<text text-anchor=\"middle\" x=\"8711.5\" y=\"-22.8\" font-family=\"Helvetica,sans-Serif\" font-size=\"14.00\" fill=\"#000000\">value = [139, 184]</text>\n<text text-anchor=\"middle\" x=\"8711.5\" y=\"-7.8\" font-family=\"Helvetica,sans-Serif\" font-size=\"14.00\" fill=\"#000000\">class = 1</text>\n</g>\n<!-- 195&#45;&gt;196 -->\n<g id=\"edge196\" class=\"edge\">\n<title>195&#45;&gt;196</title>\n<path fill=\"none\" stroke=\"#000000\" d=\"M8786.1888,-103.9815C8776.1837,-94.607 8765.5646,-84.6572 8755.5696,-75.2921\"/>\n<polygon fill=\"#000000\" stroke=\"#000000\" points=\"8757.7588,-72.547 8748.0684,-68.2637 8752.9726,-77.6551 8757.7588,-72.547\"/>\n</g>\n<!-- 197 -->\n<g id=\"node198\" class=\"node\">\n<title>197</title>\n<path fill=\"#399de5\" stroke=\"#000000\" d=\"M8891,-68C8891,-68 8808,-68 8808,-68 8802,-68 8796,-62 8796,-56 8796,-56 8796,-12 8796,-12 8796,-6 8802,0 8808,0 8808,0 8891,0 8891,0 8897,0 8903,-6 8903,-12 8903,-12 8903,-56 8903,-56 8903,-62 8897,-68 8891,-68\"/>\n<text text-anchor=\"middle\" x=\"8849.5\" y=\"-52.8\" font-family=\"Helvetica,sans-Serif\" font-size=\"14.00\" fill=\"#000000\">entropy = 0.0</text>\n<text text-anchor=\"middle\" x=\"8849.5\" y=\"-37.8\" font-family=\"Helvetica,sans-Serif\" font-size=\"14.00\" fill=\"#000000\">samples = 43</text>\n<text text-anchor=\"middle\" x=\"8849.5\" y=\"-22.8\" font-family=\"Helvetica,sans-Serif\" font-size=\"14.00\" fill=\"#000000\">value = [0, 43]</text>\n<text text-anchor=\"middle\" x=\"8849.5\" y=\"-7.8\" font-family=\"Helvetica,sans-Serif\" font-size=\"14.00\" fill=\"#000000\">class = 1</text>\n</g>\n<!-- 195&#45;&gt;197 -->\n<g id=\"edge197\" class=\"edge\">\n<title>195&#45;&gt;197</title>\n<path fill=\"none\" stroke=\"#000000\" d=\"M8837.5749,-103.9815C8839.0001,-95.618 8840.5033,-86.7965 8841.9442,-78.3409\"/>\n<polygon fill=\"#000000\" stroke=\"#000000\" points=\"8845.4317,-78.7095 8843.6613,-68.2637 8838.5312,-77.5336 8845.4317,-78.7095\"/>\n</g>\n<!-- 199 -->\n<g id=\"node200\" class=\"node\">\n<title>199</title>\n<path fill=\"#fae8da\" stroke=\"#000000\" d=\"M9027.5,-68C9027.5,-68 8933.5,-68 8933.5,-68 8927.5,-68 8921.5,-62 8921.5,-56 8921.5,-56 8921.5,-12 8921.5,-12 8921.5,-6 8927.5,0 8933.5,0 8933.5,0 9027.5,0 9027.5,0 9033.5,0 9039.5,-6 9039.5,-12 9039.5,-12 9039.5,-56 9039.5,-56 9039.5,-62 9033.5,-68 9027.5,-68\"/>\n<text text-anchor=\"middle\" x=\"8980.5\" y=\"-52.8\" font-family=\"Helvetica,sans-Serif\" font-size=\"14.00\" fill=\"#000000\">entropy = 0.992</text>\n<text text-anchor=\"middle\" x=\"8980.5\" y=\"-37.8\" font-family=\"Helvetica,sans-Serif\" font-size=\"14.00\" fill=\"#000000\">samples = 49</text>\n<text text-anchor=\"middle\" x=\"8980.5\" y=\"-22.8\" font-family=\"Helvetica,sans-Serif\" font-size=\"14.00\" fill=\"#000000\">value = [27, 22]</text>\n<text text-anchor=\"middle\" x=\"8980.5\" y=\"-7.8\" font-family=\"Helvetica,sans-Serif\" font-size=\"14.00\" fill=\"#000000\">class = 0</text>\n</g>\n<!-- 198&#45;&gt;199 -->\n<g id=\"edge199\" class=\"edge\">\n<title>198&#45;&gt;199</title>\n<path fill=\"none\" stroke=\"#000000\" d=\"M8982.3829,-103.9815C8982.1579,-95.618 8981.9205,-86.7965 8981.693,-78.3409\"/>\n<polygon fill=\"#000000\" stroke=\"#000000\" points=\"8985.1897,-78.1659 8981.4219,-68.2637 8978.1922,-78.3542 8985.1897,-78.1659\"/>\n</g>\n<!-- 200 -->\n<g id=\"node201\" class=\"node\">\n<title>200</title>\n<path fill=\"#eda977\" stroke=\"#000000\" d=\"M9163.5,-68C9163.5,-68 9069.5,-68 9069.5,-68 9063.5,-68 9057.5,-62 9057.5,-56 9057.5,-56 9057.5,-12 9057.5,-12 9057.5,-6 9063.5,0 9069.5,0 9069.5,0 9163.5,0 9163.5,0 9169.5,0 9175.5,-6 9175.5,-12 9175.5,-12 9175.5,-56 9175.5,-56 9175.5,-62 9169.5,-68 9163.5,-68\"/>\n<text text-anchor=\"middle\" x=\"9116.5\" y=\"-52.8\" font-family=\"Helvetica,sans-Serif\" font-size=\"14.00\" fill=\"#000000\">entropy = 0.794</text>\n<text text-anchor=\"middle\" x=\"9116.5\" y=\"-37.8\" font-family=\"Helvetica,sans-Serif\" font-size=\"14.00\" fill=\"#000000\">samples = 71</text>\n<text text-anchor=\"middle\" x=\"9116.5\" y=\"-22.8\" font-family=\"Helvetica,sans-Serif\" font-size=\"14.00\" fill=\"#000000\">value = [54, 17]</text>\n<text text-anchor=\"middle\" x=\"9116.5\" y=\"-7.8\" font-family=\"Helvetica,sans-Serif\" font-size=\"14.00\" fill=\"#000000\">class = 0</text>\n</g>\n<!-- 198&#45;&gt;200 -->\n<g id=\"edge200\" class=\"edge\">\n<title>198&#45;&gt;200</title>\n<path fill=\"none\" stroke=\"#000000\" d=\"M9033.0243,-103.9815C9044.4257,-94.4232 9056.5405,-84.2668 9067.9021,-74.7419\"/>\n<polygon fill=\"#000000\" stroke=\"#000000\" points=\"9070.2147,-77.3704 9075.6294,-68.2637 9065.7175,-72.006 9070.2147,-77.3704\"/>\n</g>\n<!-- 203 -->\n<g id=\"node204\" class=\"node\">\n<title>203</title>\n<path fill=\"#399de5\" stroke=\"#000000\" d=\"M9157,-298.5C9157,-298.5 9080,-298.5 9080,-298.5 9074,-298.5 9068,-292.5 9068,-286.5 9068,-286.5 9068,-242.5 9068,-242.5 9068,-236.5 9074,-230.5 9080,-230.5 9080,-230.5 9157,-230.5 9157,-230.5 9163,-230.5 9169,-236.5 9169,-242.5 9169,-242.5 9169,-286.5 9169,-286.5 9169,-292.5 9163,-298.5 9157,-298.5\"/>\n<text text-anchor=\"middle\" x=\"9118.5\" y=\"-283.3\" font-family=\"Helvetica,sans-Serif\" font-size=\"14.00\" fill=\"#000000\">entropy = 0.0</text>\n<text text-anchor=\"middle\" x=\"9118.5\" y=\"-268.3\" font-family=\"Helvetica,sans-Serif\" font-size=\"14.00\" fill=\"#000000\">samples = 7</text>\n<text text-anchor=\"middle\" x=\"9118.5\" y=\"-253.3\" font-family=\"Helvetica,sans-Serif\" font-size=\"14.00\" fill=\"#000000\">value = [0, 7]</text>\n<text text-anchor=\"middle\" x=\"9118.5\" y=\"-238.3\" font-family=\"Helvetica,sans-Serif\" font-size=\"14.00\" fill=\"#000000\">class = 1</text>\n</g>\n<!-- 202&#45;&gt;203 -->\n<g id=\"edge203\" class=\"edge\">\n<title>202&#45;&gt;203</title>\n<path fill=\"none\" stroke=\"#000000\" d=\"M9118.5,-341.8796C9118.5,-331.2134 9118.5,-319.7021 9118.5,-308.9015\"/>\n<polygon fill=\"#000000\" stroke=\"#000000\" points=\"9122.0001,-308.8149 9118.5,-298.8149 9115.0001,-308.815 9122.0001,-308.8149\"/>\n</g>\n<!-- 204 -->\n<g id=\"node205\" class=\"node\">\n<title>204</title>\n<path fill=\"#eca26c\" stroke=\"#000000\" d=\"M9336.5,-306C9336.5,-306 9236.5,-306 9236.5,-306 9230.5,-306 9224.5,-300 9224.5,-294 9224.5,-294 9224.5,-235 9224.5,-235 9224.5,-229 9230.5,-223 9236.5,-223 9236.5,-223 9336.5,-223 9336.5,-223 9342.5,-223 9348.5,-229 9348.5,-235 9348.5,-235 9348.5,-294 9348.5,-294 9348.5,-300 9342.5,-306 9336.5,-306\"/>\n<text text-anchor=\"middle\" x=\"9286.5\" y=\"-290.8\" font-family=\"Helvetica,sans-Serif\" font-size=\"14.00\" fill=\"#000000\">tenure &lt;= 1.333</text>\n<text text-anchor=\"middle\" x=\"9286.5\" y=\"-275.8\" font-family=\"Helvetica,sans-Serif\" font-size=\"14.00\" fill=\"#000000\">entropy = 0.734</text>\n<text text-anchor=\"middle\" x=\"9286.5\" y=\"-260.8\" font-family=\"Helvetica,sans-Serif\" font-size=\"14.00\" fill=\"#000000\">samples = 160</text>\n<text text-anchor=\"middle\" x=\"9286.5\" y=\"-245.8\" font-family=\"Helvetica,sans-Serif\" font-size=\"14.00\" fill=\"#000000\">value = [127, 33]</text>\n<text text-anchor=\"middle\" x=\"9286.5\" y=\"-230.8\" font-family=\"Helvetica,sans-Serif\" font-size=\"14.00\" fill=\"#000000\">class = 0</text>\n</g>\n<!-- 202&#45;&gt;204 -->\n<g id=\"edge204\" class=\"edge\">\n<title>202&#45;&gt;204</title>\n<path fill=\"none\" stroke=\"#000000\" d=\"M9177.2582,-341.8796C9190.8143,-332.2774 9205.3372,-321.9903 9219.2246,-312.1534\"/>\n<polygon fill=\"#000000\" stroke=\"#000000\" points=\"9221.6377,-314.7332 9227.7749,-306.0969 9217.5916,-309.021 9221.6377,-314.7332\"/>\n</g>\n<!-- 205 -->\n<g id=\"node206\" class=\"node\">\n<title>205</title>\n<path fill=\"#f0b68c\" stroke=\"#000000\" d=\"M9365,-187C9365,-187 9208,-187 9208,-187 9202,-187 9196,-181 9196,-175 9196,-175 9196,-116 9196,-116 9196,-110 9202,-104 9208,-104 9208,-104 9365,-104 9365,-104 9371,-104 9377,-110 9377,-116 9377,-116 9377,-175 9377,-175 9377,-181 9371,-187 9365,-187\"/>\n<text text-anchor=\"middle\" x=\"9286.5\" y=\"-171.8\" font-family=\"Helvetica,sans-Serif\" font-size=\"14.00\" fill=\"#000000\">monthlycharges &lt;= 1.158</text>\n<text text-anchor=\"middle\" x=\"9286.5\" y=\"-156.8\" font-family=\"Helvetica,sans-Serif\" font-size=\"14.00\" fill=\"#000000\">entropy = 0.875</text>\n<text text-anchor=\"middle\" x=\"9286.5\" y=\"-141.8\" font-family=\"Helvetica,sans-Serif\" font-size=\"14.00\" fill=\"#000000\">samples = 95</text>\n<text text-anchor=\"middle\" x=\"9286.5\" y=\"-126.8\" font-family=\"Helvetica,sans-Serif\" font-size=\"14.00\" fill=\"#000000\">value = [67, 28]</text>\n<text text-anchor=\"middle\" x=\"9286.5\" y=\"-111.8\" font-family=\"Helvetica,sans-Serif\" font-size=\"14.00\" fill=\"#000000\">class = 0</text>\n</g>\n<!-- 204&#45;&gt;205 -->\n<g id=\"edge205\" class=\"edge\">\n<title>204&#45;&gt;205</title>\n<path fill=\"none\" stroke=\"#000000\" d=\"M9286.5,-222.8796C9286.5,-214.6838 9286.5,-205.9891 9286.5,-197.5013\"/>\n<polygon fill=\"#000000\" stroke=\"#000000\" points=\"9290.0001,-197.298 9286.5,-187.2981 9283.0001,-197.2981 9290.0001,-197.298\"/>\n</g>\n<!-- 208 -->\n<g id=\"node209\" class=\"node\">\n<title>208</title>\n<path fill=\"#e78c49\" stroke=\"#000000\" d=\"M9598,-187C9598,-187 9441,-187 9441,-187 9435,-187 9429,-181 9429,-175 9429,-175 9429,-116 9429,-116 9429,-110 9435,-104 9441,-104 9441,-104 9598,-104 9598,-104 9604,-104 9610,-110 9610,-116 9610,-116 9610,-175 9610,-175 9610,-181 9604,-187 9598,-187\"/>\n<text text-anchor=\"middle\" x=\"9519.5\" y=\"-171.8\" font-family=\"Helvetica,sans-Serif\" font-size=\"14.00\" fill=\"#000000\">monthlycharges &lt;= 1.141</text>\n<text text-anchor=\"middle\" x=\"9519.5\" y=\"-156.8\" font-family=\"Helvetica,sans-Serif\" font-size=\"14.00\" fill=\"#000000\">entropy = 0.391</text>\n<text text-anchor=\"middle\" x=\"9519.5\" y=\"-141.8\" font-family=\"Helvetica,sans-Serif\" font-size=\"14.00\" fill=\"#000000\">samples = 65</text>\n<text text-anchor=\"middle\" x=\"9519.5\" y=\"-126.8\" font-family=\"Helvetica,sans-Serif\" font-size=\"14.00\" fill=\"#000000\">value = [60, 5]</text>\n<text text-anchor=\"middle\" x=\"9519.5\" y=\"-111.8\" font-family=\"Helvetica,sans-Serif\" font-size=\"14.00\" fill=\"#000000\">class = 0</text>\n</g>\n<!-- 204&#45;&gt;208 -->\n<g id=\"edge208\" class=\"edge\">\n<title>204&#45;&gt;208</title>\n<path fill=\"none\" stroke=\"#000000\" d=\"M9348.6336,-232.7665C9373.2207,-220.2092 9401.9724,-205.5248 9428.8018,-191.8222\"/>\n<polygon fill=\"#000000\" stroke=\"#000000\" points=\"9430.5043,-194.8829 9437.818,-187.2174 9427.3203,-188.6489 9430.5043,-194.8829\"/>\n</g>\n<!-- 206 -->\n<g id=\"node207\" class=\"node\">\n<title>206</title>\n<path fill=\"#eba069\" stroke=\"#000000\" d=\"M9299.5,-68C9299.5,-68 9205.5,-68 9205.5,-68 9199.5,-68 9193.5,-62 9193.5,-56 9193.5,-56 9193.5,-12 9193.5,-12 9193.5,-6 9199.5,0 9205.5,0 9205.5,0 9299.5,0 9299.5,0 9305.5,0 9311.5,-6 9311.5,-12 9311.5,-12 9311.5,-56 9311.5,-56 9311.5,-62 9305.5,-68 9299.5,-68\"/>\n<text text-anchor=\"middle\" x=\"9252.5\" y=\"-52.8\" font-family=\"Helvetica,sans-Serif\" font-size=\"14.00\" fill=\"#000000\">entropy = 0.715</text>\n<text text-anchor=\"middle\" x=\"9252.5\" y=\"-37.8\" font-family=\"Helvetica,sans-Serif\" font-size=\"14.00\" fill=\"#000000\">samples = 56</text>\n<text text-anchor=\"middle\" x=\"9252.5\" y=\"-22.8\" font-family=\"Helvetica,sans-Serif\" font-size=\"14.00\" fill=\"#000000\">value = [45, 11]</text>\n<text text-anchor=\"middle\" x=\"9252.5\" y=\"-7.8\" font-family=\"Helvetica,sans-Serif\" font-size=\"14.00\" fill=\"#000000\">class = 0</text>\n</g>\n<!-- 205&#45;&gt;206 -->\n<g id=\"edge206\" class=\"edge\">\n<title>205&#45;&gt;206</title>\n<path fill=\"none\" stroke=\"#000000\" d=\"M9273.8397,-103.9815C9271.2613,-95.5261 9268.5403,-86.6026 9265.936,-78.0623\"/>\n<polygon fill=\"#000000\" stroke=\"#000000\" points=\"9269.2127,-76.808 9262.9481,-68.2637 9262.5171,-78.8497 9269.2127,-76.808\"/>\n</g>\n<!-- 207 -->\n<g id=\"node208\" class=\"node\">\n<title>207</title>\n<path fill=\"#f9e2d2\" stroke=\"#000000\" d=\"M9435.5,-68C9435.5,-68 9341.5,-68 9341.5,-68 9335.5,-68 9329.5,-62 9329.5,-56 9329.5,-56 9329.5,-12 9329.5,-12 9329.5,-6 9335.5,0 9341.5,0 9341.5,0 9435.5,0 9435.5,0 9441.5,0 9447.5,-6 9447.5,-12 9447.5,-12 9447.5,-56 9447.5,-56 9447.5,-62 9441.5,-68 9435.5,-68\"/>\n<text text-anchor=\"middle\" x=\"9388.5\" y=\"-52.8\" font-family=\"Helvetica,sans-Serif\" font-size=\"14.00\" fill=\"#000000\">entropy = 0.988</text>\n<text text-anchor=\"middle\" x=\"9388.5\" y=\"-37.8\" font-family=\"Helvetica,sans-Serif\" font-size=\"14.00\" fill=\"#000000\">samples = 39</text>\n<text text-anchor=\"middle\" x=\"9388.5\" y=\"-22.8\" font-family=\"Helvetica,sans-Serif\" font-size=\"14.00\" fill=\"#000000\">value = [22, 17]</text>\n<text text-anchor=\"middle\" x=\"9388.5\" y=\"-7.8\" font-family=\"Helvetica,sans-Serif\" font-size=\"14.00\" fill=\"#000000\">class = 0</text>\n</g>\n<!-- 205&#45;&gt;207 -->\n<g id=\"edge207\" class=\"edge\">\n<title>205&#45;&gt;207</title>\n<path fill=\"none\" stroke=\"#000000\" d=\"M9324.481,-103.9815C9332.8886,-94.7908 9341.8021,-85.0472 9350.2215,-75.8436\"/>\n<polygon fill=\"#000000\" stroke=\"#000000\" points=\"9352.9883,-78.0045 9357.1557,-68.2637 9347.8234,-73.2797 9352.9883,-78.0045\"/>\n</g>\n<!-- 209 -->\n<g id=\"node210\" class=\"node\">\n<title>209</title>\n<path fill=\"#e58139\" stroke=\"#000000\" d=\"M9561,-68C9561,-68 9478,-68 9478,-68 9472,-68 9466,-62 9466,-56 9466,-56 9466,-12 9466,-12 9466,-6 9472,0 9478,0 9478,0 9561,0 9561,0 9567,0 9573,-6 9573,-12 9573,-12 9573,-56 9573,-56 9573,-62 9567,-68 9561,-68\"/>\n<text text-anchor=\"middle\" x=\"9519.5\" y=\"-52.8\" font-family=\"Helvetica,sans-Serif\" font-size=\"14.00\" fill=\"#000000\">entropy = 0.0</text>\n<text text-anchor=\"middle\" x=\"9519.5\" y=\"-37.8\" font-family=\"Helvetica,sans-Serif\" font-size=\"14.00\" fill=\"#000000\">samples = 22</text>\n<text text-anchor=\"middle\" x=\"9519.5\" y=\"-22.8\" font-family=\"Helvetica,sans-Serif\" font-size=\"14.00\" fill=\"#000000\">value = [22, 0]</text>\n<text text-anchor=\"middle\" x=\"9519.5\" y=\"-7.8\" font-family=\"Helvetica,sans-Serif\" font-size=\"14.00\" fill=\"#000000\">class = 0</text>\n</g>\n<!-- 208&#45;&gt;209 -->\n<g id=\"edge209\" class=\"edge\">\n<title>208&#45;&gt;209</title>\n<path fill=\"none\" stroke=\"#000000\" d=\"M9519.5,-103.9815C9519.5,-95.618 9519.5,-86.7965 9519.5,-78.3409\"/>\n<polygon fill=\"#000000\" stroke=\"#000000\" points=\"9523.0001,-78.2636 9519.5,-68.2637 9516.0001,-78.2637 9523.0001,-78.2636\"/>\n</g>\n<!-- 210 -->\n<g id=\"node211\" class=\"node\">\n<title>210</title>\n<path fill=\"#e89253\" stroke=\"#000000\" d=\"M9697.5,-68C9697.5,-68 9603.5,-68 9603.5,-68 9597.5,-68 9591.5,-62 9591.5,-56 9591.5,-56 9591.5,-12 9591.5,-12 9591.5,-6 9597.5,0 9603.5,0 9603.5,0 9697.5,0 9697.5,0 9703.5,0 9709.5,-6 9709.5,-12 9709.5,-12 9709.5,-56 9709.5,-56 9709.5,-62 9703.5,-68 9697.5,-68\"/>\n<text text-anchor=\"middle\" x=\"9650.5\" y=\"-52.8\" font-family=\"Helvetica,sans-Serif\" font-size=\"14.00\" fill=\"#000000\">entropy = 0.519</text>\n<text text-anchor=\"middle\" x=\"9650.5\" y=\"-37.8\" font-family=\"Helvetica,sans-Serif\" font-size=\"14.00\" fill=\"#000000\">samples = 43</text>\n<text text-anchor=\"middle\" x=\"9650.5\" y=\"-22.8\" font-family=\"Helvetica,sans-Serif\" font-size=\"14.00\" fill=\"#000000\">value = [38, 5]</text>\n<text text-anchor=\"middle\" x=\"9650.5\" y=\"-7.8\" font-family=\"Helvetica,sans-Serif\" font-size=\"14.00\" fill=\"#000000\">class = 0</text>\n</g>\n<!-- 208&#45;&gt;210 -->\n<g id=\"edge210\" class=\"edge\">\n<title>208&#45;&gt;210</title>\n<path fill=\"none\" stroke=\"#000000\" d=\"M9568.2796,-103.9815C9579.4015,-94.5151 9591.2128,-84.462 9602.3099,-75.0168\"/>\n<polygon fill=\"#000000\" stroke=\"#000000\" points=\"9604.8975,-77.4105 9610.244,-68.2637 9600.3604,-72.08 9604.8975,-77.4105\"/>\n</g>\n</g>\n</svg>\n"
          },
          "metadata": {
            "tags": []
          },
          "execution_count": 47
        }
      ]
    },
    {
      "cell_type": "code",
      "metadata": {
        "id": "-N9uNGwhtiYA",
        "outputId": "8ac3befa-b015-4c53-a41f-6fedcf202859",
        "colab": {
          "base_uri": "https://localhost:8080/",
          "height": 35
        }
      },
      "source": [
        "graph.render('dt', format = 'jpg')"
      ],
      "execution_count": 48,
      "outputs": [
        {
          "output_type": "execute_result",
          "data": {
            "application/vnd.google.colaboratory.intrinsic+json": {
              "type": "string"
            },
            "text/plain": [
              "'dt.jpg'"
            ]
          },
          "metadata": {
            "tags": []
          },
          "execution_count": 48
        }
      ]
    },
    {
      "cell_type": "markdown",
      "metadata": {
        "id": "czkv3KSctiYB"
      },
      "source": [
        "#### Evaluation"
      ]
    },
    {
      "cell_type": "code",
      "metadata": {
        "id": "w9atOA4KtiYB"
      },
      "source": [
        "pred = CV_dtc.predict(test_X)"
      ],
      "execution_count": 49,
      "outputs": []
    },
    {
      "cell_type": "code",
      "metadata": {
        "id": "UzR788igtiYC",
        "outputId": "418a01f7-2ebc-470d-e31e-7fe45c12016a",
        "colab": {
          "base_uri": "https://localhost:8080/"
        }
      },
      "source": [
        "print(\"Accuracy for Decision Tree on CV data: \", accuracy_score(test_Y, pred))"
      ],
      "execution_count": 50,
      "outputs": [
        {
          "output_type": "stream",
          "text": [
            "Accuracy for Decision Tree on CV data:  0.7636621717530163\n"
          ],
          "name": "stdout"
        }
      ]
    },
    {
      "cell_type": "code",
      "metadata": {
        "id": "-rMGLvY0tiYC",
        "outputId": "d85e929f-ec9a-41d2-8f42-8eda79848ee8",
        "colab": {
          "base_uri": "https://localhost:8080/"
        }
      },
      "source": [
        "CF = confusion_matrix(test_Y, pred)\n",
        "CF"
      ],
      "execution_count": 51,
      "outputs": [
        {
          "output_type": "execute_result",
          "data": {
            "text/plain": [
              "array([[839, 199],\n",
              "       [134, 237]])"
            ]
          },
          "metadata": {
            "tags": []
          },
          "execution_count": 51
        }
      ]
    },
    {
      "cell_type": "code",
      "metadata": {
        "id": "wjwazX9utiYC",
        "outputId": "8312ccd7-6eaf-47da-8c83-e59fc343285e",
        "colab": {
          "base_uri": "https://localhost:8080/"
        }
      },
      "source": [
        "from sklearn.metrics import classification_report\n",
        "target_names = ['No', 'Yes']\n",
        "print(classification_report(test_Y, pred, target_names = target_names))"
      ],
      "execution_count": 52,
      "outputs": [
        {
          "output_type": "stream",
          "text": [
            "              precision    recall  f1-score   support\n",
            "\n",
            "          No       0.86      0.81      0.83      1038\n",
            "         Yes       0.54      0.64      0.59       371\n",
            "\n",
            "    accuracy                           0.76      1409\n",
            "   macro avg       0.70      0.72      0.71      1409\n",
            "weighted avg       0.78      0.76      0.77      1409\n",
            "\n"
          ],
          "name": "stdout"
        }
      ]
    },
    {
      "cell_type": "code",
      "metadata": {
        "id": "2hjq7Vn9tiYD",
        "outputId": "6d63c5dd-c04e-4fe2-872b-d1344ab2f59d",
        "colab": {
          "base_uri": "https://localhost:8080/",
          "height": 295
        }
      },
      "source": [
        "from sklearn.metrics import roc_curve\n",
        "# Generate ROC curve values: fpr, tpr, thresholds\n",
        "fpr, tpr, thresholds = roc_curve(test_Y, pred)\n",
        "# Plot ROC curve\n",
        "plt.plot([0, 1], [0, 1], 'k--')\n",
        "plt.plot(fpr, tpr)\n",
        "plt.xlabel('False Positive Rate')\n",
        "plt.ylabel('True Positive Rate')\n",
        "plt.title('ROC Curve')\n",
        "plt.show()"
      ],
      "execution_count": 53,
      "outputs": [
        {
          "output_type": "display_data",
          "data": {
            "image/png": "[encoded data removed]",
            "text/plain": [
              "<Figure size 432x288 with 1 Axes>"
            ]
          },
          "metadata": {
            "tags": [],
            "needs_background": "light"
          }
        }
      ]
    },
    {
      "cell_type": "code",
      "metadata": {
        "id": "JkFl9W0HtiYD",
        "outputId": "73241e5f-bb58-49ab-d47f-2f5fe6d8fad9",
        "colab": {
          "base_uri": "https://localhost:8080/"
        }
      },
      "source": [
        "from sklearn.metrics import roc_auc_score\n",
        "roc_auc_score(test_Y, pred)"
      ],
      "execution_count": 54,
      "outputs": [
        {
          "output_type": "execute_result",
          "data": {
            "text/plain": [
              "0.7235495899745001"
            ]
          },
          "metadata": {
            "tags": []
          },
          "execution_count": 54
        }
      ]
    },
    {
      "cell_type": "markdown",
      "metadata": {
        "id": "g1XcEkEGtiYE"
      },
      "source": [
        "## Random Forest"
      ]
    },
    {
      "cell_type": "code",
      "metadata": {
        "id": "wAxqL8iZtiYE"
      },
      "source": [
        "from sklearn.model_selection import GridSearchCV\n",
        "from sklearn.ensemble import RandomForestClassifier\n",
        "from sklearn.metrics import accuracy_score\n",
        "rfc = RandomForestClassifier()\n",
        "param_grid = { \n",
        "    'n_estimators': [200, 500, 1000],\n",
        "    'max_features': ['auto', 'log2'],\n",
        "    'criterion' :['entropy', 'gini']\n",
        "}"
      ],
      "execution_count": 55,
      "outputs": []
    },
    {
      "cell_type": "code",
      "metadata": {
        "id": "zUAqM5motiYE",
        "outputId": "94d7aa99-5716-4879-a397-d2348ac65971",
        "colab": {
          "base_uri": "https://localhost:8080/"
        }
      },
      "source": [
        "CV_rfc = GridSearchCV(estimator = rfc, param_grid = param_grid, cv = 2)\n",
        "CV_rfc.fit(train_smote_X, train_smote_Y)"
      ],
      "execution_count": 56,
      "outputs": [
        {
          "output_type": "stream",
          "text": [
            "/usr/local/lib/python3.7/dist-packages/sklearn/model_selection/_validation.py:515: DataConversionWarning: A column-vector y was passed when a 1d array was expected. Please change the shape of y to (n_samples,), for example using ravel().\n",
            "  estimator.fit(X_train, y_train, **fit_params)\n",
            "/usr/local/lib/python3.7/dist-packages/sklearn/model_selection/_validation.py:515: DataConversionWarning: A column-vector y was passed when a 1d array was expected. Please change the shape of y to (n_samples,), for example using ravel().\n",
            "  estimator.fit(X_train, y_train, **fit_params)\n",
            "/usr/local/lib/python3.7/dist-packages/sklearn/model_selection/_validation.py:515: DataConversionWarning: A column-vector y was passed when a 1d array was expected. Please change the shape of y to (n_samples,), for example using ravel().\n",
            "  estimator.fit(X_train, y_train, **fit_params)\n",
            "/usr/local/lib/python3.7/dist-packages/sklearn/model_selection/_validation.py:515: DataConversionWarning: A column-vector y was passed when a 1d array was expected. Please change the shape of y to (n_samples,), for example using ravel().\n",
            "  estimator.fit(X_train, y_train, **fit_params)\n",
            "/usr/local/lib/python3.7/dist-packages/sklearn/model_selection/_validation.py:515: DataConversionWarning: A column-vector y was passed when a 1d array was expected. Please change the shape of y to (n_samples,), for example using ravel().\n",
            "  estimator.fit(X_train, y_train, **fit_params)\n",
            "/usr/local/lib/python3.7/dist-packages/sklearn/model_selection/_validation.py:515: DataConversionWarning: A column-vector y was passed when a 1d array was expected. Please change the shape of y to (n_samples,), for example using ravel().\n",
            "  estimator.fit(X_train, y_train, **fit_params)\n",
            "/usr/local/lib/python3.7/dist-packages/sklearn/model_selection/_validation.py:515: DataConversionWarning: A column-vector y was passed when a 1d array was expected. Please change the shape of y to (n_samples,), for example using ravel().\n",
            "  estimator.fit(X_train, y_train, **fit_params)\n",
            "/usr/local/lib/python3.7/dist-packages/sklearn/model_selection/_validation.py:515: DataConversionWarning: A column-vector y was passed when a 1d array was expected. Please change the shape of y to (n_samples,), for example using ravel().\n",
            "  estimator.fit(X_train, y_train, **fit_params)\n",
            "/usr/local/lib/python3.7/dist-packages/sklearn/model_selection/_validation.py:515: DataConversionWarning: A column-vector y was passed when a 1d array was expected. Please change the shape of y to (n_samples,), for example using ravel().\n",
            "  estimator.fit(X_train, y_train, **fit_params)\n",
            "/usr/local/lib/python3.7/dist-packages/sklearn/model_selection/_validation.py:515: DataConversionWarning: A column-vector y was passed when a 1d array was expected. Please change the shape of y to (n_samples,), for example using ravel().\n",
            "  estimator.fit(X_train, y_train, **fit_params)\n",
            "/usr/local/lib/python3.7/dist-packages/sklearn/model_selection/_validation.py:515: DataConversionWarning: A column-vector y was passed when a 1d array was expected. Please change the shape of y to (n_samples,), for example using ravel().\n",
            "  estimator.fit(X_train, y_train, **fit_params)\n",
            "/usr/local/lib/python3.7/dist-packages/sklearn/model_selection/_validation.py:515: DataConversionWarning: A column-vector y was passed when a 1d array was expected. Please change the shape of y to (n_samples,), for example using ravel().\n",
            "  estimator.fit(X_train, y_train, **fit_params)\n",
            "/usr/local/lib/python3.7/dist-packages/sklearn/model_selection/_validation.py:515: DataConversionWarning: A column-vector y was passed when a 1d array was expected. Please change the shape of y to (n_samples,), for example using ravel().\n",
            "  estimator.fit(X_train, y_train, **fit_params)\n",
            "/usr/local/lib/python3.7/dist-packages/sklearn/model_selection/_validation.py:515: DataConversionWarning: A column-vector y was passed when a 1d array was expected. Please change the shape of y to (n_samples,), for example using ravel().\n",
            "  estimator.fit(X_train, y_train, **fit_params)\n",
            "/usr/local/lib/python3.7/dist-packages/sklearn/model_selection/_validation.py:515: DataConversionWarning: A column-vector y was passed when a 1d array was expected. Please change the shape of y to (n_samples,), for example using ravel().\n",
            "  estimator.fit(X_train, y_train, **fit_params)\n",
            "/usr/local/lib/python3.7/dist-packages/sklearn/model_selection/_validation.py:515: DataConversionWarning: A column-vector y was passed when a 1d array was expected. Please change the shape of y to (n_samples,), for example using ravel().\n",
            "  estimator.fit(X_train, y_train, **fit_params)\n",
            "/usr/local/lib/python3.7/dist-packages/sklearn/model_selection/_validation.py:515: DataConversionWarning: A column-vector y was passed when a 1d array was expected. Please change the shape of y to (n_samples,), for example using ravel().\n",
            "  estimator.fit(X_train, y_train, **fit_params)\n",
            "/usr/local/lib/python3.7/dist-packages/sklearn/model_selection/_validation.py:515: DataConversionWarning: A column-vector y was passed when a 1d array was expected. Please change the shape of y to (n_samples,), for example using ravel().\n",
            "  estimator.fit(X_train, y_train, **fit_params)\n",
            "/usr/local/lib/python3.7/dist-packages/sklearn/model_selection/_validation.py:515: DataConversionWarning: A column-vector y was passed when a 1d array was expected. Please change the shape of y to (n_samples,), for example using ravel().\n",
            "  estimator.fit(X_train, y_train, **fit_params)\n",
            "/usr/local/lib/python3.7/dist-packages/sklearn/model_selection/_validation.py:515: DataConversionWarning: A column-vector y was passed when a 1d array was expected. Please change the shape of y to (n_samples,), for example using ravel().\n",
            "  estimator.fit(X_train, y_train, **fit_params)\n",
            "/usr/local/lib/python3.7/dist-packages/sklearn/model_selection/_validation.py:515: DataConversionWarning: A column-vector y was passed when a 1d array was expected. Please change the shape of y to (n_samples,), for example using ravel().\n",
            "  estimator.fit(X_train, y_train, **fit_params)\n",
            "/usr/local/lib/python3.7/dist-packages/sklearn/model_selection/_validation.py:515: DataConversionWarning: A column-vector y was passed when a 1d array was expected. Please change the shape of y to (n_samples,), for example using ravel().\n",
            "  estimator.fit(X_train, y_train, **fit_params)\n",
            "/usr/local/lib/python3.7/dist-packages/sklearn/model_selection/_validation.py:515: DataConversionWarning: A column-vector y was passed when a 1d array was expected. Please change the shape of y to (n_samples,), for example using ravel().\n",
            "  estimator.fit(X_train, y_train, **fit_params)\n",
            "/usr/local/lib/python3.7/dist-packages/sklearn/model_selection/_validation.py:515: DataConversionWarning: A column-vector y was passed when a 1d array was expected. Please change the shape of y to (n_samples,), for example using ravel().\n",
            "  estimator.fit(X_train, y_train, **fit_params)\n",
            "/usr/local/lib/python3.7/dist-packages/sklearn/model_selection/_search.py:739: DataConversionWarning: A column-vector y was passed when a 1d array was expected. Please change the shape of y to (n_samples,), for example using ravel().\n",
            "  self.best_estimator_.fit(X, y, **fit_params)\n"
          ],
          "name": "stderr"
        },
        {
          "output_type": "execute_result",
          "data": {
            "text/plain": [
              "GridSearchCV(cv=2, error_score=nan,\n",
              "             estimator=RandomForestClassifier(bootstrap=True, ccp_alpha=0.0,\n",
              "                                              class_weight=None,\n",
              "                                              criterion='gini', max_depth=None,\n",
              "                                              max_features='auto',\n",
              "                                              max_leaf_nodes=None,\n",
              "                                              max_samples=None,\n",
              "                                              min_impurity_decrease=0.0,\n",
              "                                              min_impurity_split=None,\n",
              "                                              min_samples_leaf=1,\n",
              "                                              min_samples_split=2,\n",
              "                                              min_weight_fraction_leaf=0.0,\n",
              "                                              n_estimators=100, n_jobs=None,\n",
              "                                              oob_score=False,\n",
              "                                              random_state=None, verbose=0,\n",
              "                                              warm_start=False),\n",
              "             iid='deprecated', n_jobs=None,\n",
              "             param_grid={'criterion': ['entropy', 'gini'],\n",
              "                         'max_features': ['auto', 'log2'],\n",
              "                         'n_estimators': [200, 500, 1000]},\n",
              "             pre_dispatch='2*n_jobs', refit=True, return_train_score=False,\n",
              "             scoring=None, verbose=0)"
            ]
          },
          "metadata": {
            "tags": []
          },
          "execution_count": 56
        }
      ]
    },
    {
      "cell_type": "code",
      "metadata": {
        "id": "f5sfuVOYtiYF",
        "outputId": "aaf615c5-538f-4311-bf7b-8e249ea1f814",
        "colab": {
          "base_uri": "https://localhost:8080/"
        }
      },
      "source": [
        "CV_rfc.best_params_"
      ],
      "execution_count": 57,
      "outputs": [
        {
          "output_type": "execute_result",
          "data": {
            "text/plain": [
              "{'criterion': 'gini', 'max_features': 'auto', 'n_estimators': 1000}"
            ]
          },
          "metadata": {
            "tags": []
          },
          "execution_count": 57
        }
      ]
    },
    {
      "cell_type": "markdown",
      "metadata": {
        "id": "WmyH-JK6tiYG"
      },
      "source": [
        "#### Evaluation"
      ]
    },
    {
      "cell_type": "code",
      "metadata": {
        "id": "l8Iee8watiYG"
      },
      "source": [
        "pred = CV_rfc.predict(test_X)"
      ],
      "execution_count": 58,
      "outputs": []
    },
    {
      "cell_type": "code",
      "metadata": {
        "id": "LhkZi4VwtiYH",
        "outputId": "2f04b7db-1823-4e91-b701-5be20f0d268e",
        "colab": {
          "base_uri": "https://localhost:8080/"
        }
      },
      "source": [
        "print(\"Accuracy for Random Forest on CV data: \", accuracy_score(test_Y, pred))"
      ],
      "execution_count": 59,
      "outputs": [
        {
          "output_type": "stream",
          "text": [
            "Accuracy for Random Forest on CV data:  0.7856635911994322\n"
          ],
          "name": "stdout"
        }
      ]
    },
    {
      "cell_type": "code",
      "metadata": {
        "id": "GiQx5SRrtiYH",
        "outputId": "6dac7821-194e-471a-a90b-0f0721f698be",
        "colab": {
          "base_uri": "https://localhost:8080/"
        }
      },
      "source": [
        "CF = confusion_matrix(test_Y, pred)\n",
        "CF"
      ],
      "execution_count": 60,
      "outputs": [
        {
          "output_type": "execute_result",
          "data": {
            "text/plain": [
              "array([[915, 123],\n",
              "       [179, 192]])"
            ]
          },
          "metadata": {
            "tags": []
          },
          "execution_count": 60
        }
      ]
    },
    {
      "cell_type": "code",
      "metadata": {
        "id": "DU7udOzWtiYI",
        "outputId": "fd767b40-022d-416b-91ab-a821bac03ccb",
        "colab": {
          "base_uri": "https://localhost:8080/"
        }
      },
      "source": [
        "from sklearn.metrics import classification_report\n",
        "target_names = ['No', 'Yes']\n",
        "print(classification_report(test_Y, pred, target_names = target_names))"
      ],
      "execution_count": 61,
      "outputs": [
        {
          "output_type": "stream",
          "text": [
            "              precision    recall  f1-score   support\n",
            "\n",
            "          No       0.84      0.88      0.86      1038\n",
            "         Yes       0.61      0.52      0.56       371\n",
            "\n",
            "    accuracy                           0.79      1409\n",
            "   macro avg       0.72      0.70      0.71      1409\n",
            "weighted avg       0.78      0.79      0.78      1409\n",
            "\n"
          ],
          "name": "stdout"
        }
      ]
    },
    {
      "cell_type": "code",
      "metadata": {
        "id": "2Y2G-d52tiYJ",
        "outputId": "b4611395-d1d7-4a82-b1f7-756ea7bf271c",
        "colab": {
          "base_uri": "https://localhost:8080/",
          "height": 295
        }
      },
      "source": [
        "from sklearn.metrics import roc_curve\n",
        "# Generate ROC curve values: fpr, tpr, thresholds\n",
        "fpr, tpr, thresholds = roc_curve(test_Y, pred)\n",
        "\n",
        "# Plot ROC curve\n",
        "plt.plot([0, 1], [0, 1], 'k--')\n",
        "plt.plot(fpr, tpr)\n",
        "plt.xlabel('False Positive Rate')\n",
        "plt.ylabel('True Positive Rate')\n",
        "plt.title('ROC Curve')\n",
        "plt.show()"
      ],
      "execution_count": 62,
      "outputs": [
        {
          "output_type": "display_data",
          "data": {
            "image/png": "[encoded data removed]",
            "text/plain": [
              "<Figure size 432x288 with 1 Axes>"
            ]
          },
          "metadata": {
            "tags": [],
            "needs_background": "light"
          }
        }
      ]
    },
    {
      "cell_type": "code",
      "metadata": {
        "id": "CR8y4k5YtiYJ",
        "outputId": "2b99bcca-82e5-4ecb-c0e9-8d08f5b570d6",
        "colab": {
          "base_uri": "https://localhost:8080/"
        }
      },
      "source": [
        "from sklearn.metrics import roc_auc_score\n",
        "roc_auc_score(test_Y, pred)"
      ],
      "execution_count": 63,
      "outputs": [
        {
          "output_type": "execute_result",
          "data": {
            "text/plain": [
              "0.6995115529034168"
            ]
          },
          "metadata": {
            "tags": []
          },
          "execution_count": 63
        }
      ]
    }
  ]
}