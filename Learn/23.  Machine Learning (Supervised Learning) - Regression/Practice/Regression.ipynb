{
 "cells": [
  {
   "cell_type": "markdown",
   "metadata": {},
   "source": [
    "# Import Library"
   ]
  },
  {
   "cell_type": "code",
   "execution_count": 1,
   "metadata": {},
   "outputs": [],
   "source": [
    "# Operasi Matematika dan Linear Algebra\n",
    "import numpy as np\n",
    "\n",
    "# Data Procession\n",
    "import pandas as pd\n",
    "\n",
    "# Visualisasi Data\n",
    "import matplotlib.pyplot as plt\n",
    "import seaborn as sns"
   ]
  },
  {
   "cell_type": "markdown",
   "metadata": {},
   "source": [
    "# Load Dataset"
   ]
  },
  {
   "cell_type": "code",
   "execution_count": 2,
   "metadata": {},
   "outputs": [],
   "source": [
    "# Loading data with pandas read_csv\n",
    "data = pd.read_csv('Indeks Stabilitas Keuangan.csv', sep=';')"
   ]
  },
  {
   "cell_type": "code",
   "execution_count": 3,
   "metadata": {},
   "outputs": [
    {
     "data": {
      "text/plain": [
       "(50, 6)"
      ]
     },
     "execution_count": 3,
     "metadata": {},
     "output_type": "execute_result"
    }
   ],
   "source": [
    "# Cek dimensi data\n",
    "data.shape"
   ]
  },
  {
   "cell_type": "code",
   "execution_count": 4,
   "metadata": {},
   "outputs": [
    {
     "data": {
      "text/html": [
       "<div>\n",
       "<style scoped>\n",
       "    .dataframe tbody tr th:only-of-type {\n",
       "        vertical-align: middle;\n",
       "    }\n",
       "\n",
       "    .dataframe tbody tr th {\n",
       "        vertical-align: top;\n",
       "    }\n",
       "\n",
       "    .dataframe thead th {\n",
       "        text-align: right;\n",
       "    }\n",
       "</style>\n",
       "<table border=\"1\" class=\"dataframe\">\n",
       "  <thead>\n",
       "    <tr style=\"text-align: right;\">\n",
       "      <th></th>\n",
       "      <th>Indeks stabilitas sistem keuangan</th>\n",
       "      <th>IHSG</th>\n",
       "      <th>IHPR</th>\n",
       "      <th>Perkembangan Kredit</th>\n",
       "      <th>Kurs</th>\n",
       "      <th>Jumlah uang  beredar</th>\n",
       "    </tr>\n",
       "  </thead>\n",
       "  <tbody>\n",
       "    <tr>\n",
       "      <th>0</th>\n",
       "      <td>0.96</td>\n",
       "      <td>2598.33</td>\n",
       "      <td>131.89</td>\n",
       "      <td>1158.72</td>\n",
       "      <td>9.59</td>\n",
       "      <td>1991.58</td>\n",
       "    </tr>\n",
       "    <tr>\n",
       "      <th>1</th>\n",
       "      <td>0.96</td>\n",
       "      <td>416.67</td>\n",
       "      <td>135.89</td>\n",
       "      <td>133.03</td>\n",
       "      <td>8.48</td>\n",
       "      <td>684.34</td>\n",
       "    </tr>\n",
       "    <tr>\n",
       "      <th>2</th>\n",
       "      <td>1.06</td>\n",
       "      <td>1069.48</td>\n",
       "      <td>124.97</td>\n",
       "      <td>446.02</td>\n",
       "      <td>9.10</td>\n",
       "      <td>1016.24</td>\n",
       "    </tr>\n",
       "    <tr>\n",
       "      <th>3</th>\n",
       "      <td>0.92</td>\n",
       "      <td>385.33</td>\n",
       "      <td>137.47</td>\n",
       "      <td>308.06</td>\n",
       "      <td>7.25</td>\n",
       "      <td>577.38</td>\n",
       "    </tr>\n",
       "    <tr>\n",
       "      <th>4</th>\n",
       "      <td>1.04</td>\n",
       "      <td>2645.71</td>\n",
       "      <td>132.79</td>\n",
       "      <td>1217.66</td>\n",
       "      <td>9.63</td>\n",
       "      <td>2075.04</td>\n",
       "    </tr>\n",
       "  </tbody>\n",
       "</table>\n",
       "</div>"
      ],
      "text/plain": [
       "   Indeks stabilitas sistem keuangan     IHSG    IHPR  Perkembangan Kredit  \\\n",
       "0                               0.96  2598.33  131.89              1158.72   \n",
       "1                               0.96   416.67  135.89               133.03   \n",
       "2                               1.06  1069.48  124.97               446.02   \n",
       "3                               0.92   385.33  137.47               308.06   \n",
       "4                               1.04  2645.71  132.79              1217.66   \n",
       "\n",
       "   Kurs  Jumlah uang  beredar  \n",
       "0  9.59               1991.58  \n",
       "1  8.48                684.34  \n",
       "2  9.10               1016.24  \n",
       "3  7.25                577.38  \n",
       "4  9.63               2075.04  "
      ]
     },
     "execution_count": 4,
     "metadata": {},
     "output_type": "execute_result"
    }
   ],
   "source": [
    "# Melihat 5 data teratas\n",
    "data.head()"
   ]
  },
  {
   "cell_type": "code",
   "execution_count": 5,
   "metadata": {},
   "outputs": [
    {
     "name": "stdout",
     "output_type": "stream",
     "text": [
      "<class 'pandas.core.frame.DataFrame'>\n",
      "RangeIndex: 50 entries, 0 to 49\n",
      "Data columns (total 6 columns):\n",
      " #   Column                             Non-Null Count  Dtype  \n",
      "---  ------                             --------------  -----  \n",
      " 0   Indeks stabilitas sistem keuangan  50 non-null     float64\n",
      " 1   IHSG                               50 non-null     float64\n",
      " 2   IHPR                               50 non-null     float64\n",
      " 3   Perkembangan Kredit                50 non-null     float64\n",
      " 4   Kurs                               50 non-null     float64\n",
      " 5   Jumlah uang  beredar               50 non-null     float64\n",
      "dtypes: float64(6)\n",
      "memory usage: 2.5 KB\n"
     ]
    }
   ],
   "source": [
    "# Memahami info masing-masing variabel\n",
    "data.info()"
   ]
  },
  {
   "cell_type": "code",
   "execution_count": 6,
   "metadata": {},
   "outputs": [
    {
     "data": {
      "text/html": [
       "<div>\n",
       "<style scoped>\n",
       "    .dataframe tbody tr th:only-of-type {\n",
       "        vertical-align: middle;\n",
       "    }\n",
       "\n",
       "    .dataframe tbody tr th {\n",
       "        vertical-align: top;\n",
       "    }\n",
       "\n",
       "    .dataframe thead th {\n",
       "        text-align: right;\n",
       "    }\n",
       "</style>\n",
       "<table border=\"1\" class=\"dataframe\">\n",
       "  <thead>\n",
       "    <tr style=\"text-align: right;\">\n",
       "      <th></th>\n",
       "      <th>Indeks stabilitas sistem keuangan</th>\n",
       "      <th>IHSG</th>\n",
       "      <th>IHPR</th>\n",
       "      <th>Perkembangan Kredit</th>\n",
       "      <th>Kurs</th>\n",
       "      <th>Jumlah uang  beredar</th>\n",
       "    </tr>\n",
       "  </thead>\n",
       "  <tbody>\n",
       "    <tr>\n",
       "      <th>count</th>\n",
       "      <td>50.000000</td>\n",
       "      <td>50.000000</td>\n",
       "      <td>50.000000</td>\n",
       "      <td>50.00000</td>\n",
       "      <td>50.000000</td>\n",
       "      <td>50.000000</td>\n",
       "    </tr>\n",
       "    <tr>\n",
       "      <th>mean</th>\n",
       "      <td>0.965200</td>\n",
       "      <td>2607.165400</td>\n",
       "      <td>150.964600</td>\n",
       "      <td>1965.57500</td>\n",
       "      <td>10.201800</td>\n",
       "      <td>2179.935000</td>\n",
       "    </tr>\n",
       "    <tr>\n",
       "      <th>std</th>\n",
       "      <td>0.141078</td>\n",
       "      <td>1907.860695</td>\n",
       "      <td>21.987873</td>\n",
       "      <td>4086.69641</td>\n",
       "      <td>1.816446</td>\n",
       "      <td>1470.262341</td>\n",
       "    </tr>\n",
       "    <tr>\n",
       "      <th>min</th>\n",
       "      <td>0.700000</td>\n",
       "      <td>366.670000</td>\n",
       "      <td>121.000000</td>\n",
       "      <td>133.03000</td>\n",
       "      <td>7.230000</td>\n",
       "      <td>216.370000</td>\n",
       "    </tr>\n",
       "    <tr>\n",
       "      <th>25%</th>\n",
       "      <td>0.902500</td>\n",
       "      <td>603.585000</td>\n",
       "      <td>136.260000</td>\n",
       "      <td>308.79250</td>\n",
       "      <td>9.005000</td>\n",
       "      <td>880.702500</td>\n",
       "    </tr>\n",
       "    <tr>\n",
       "      <th>50%</th>\n",
       "      <td>0.980000</td>\n",
       "      <td>2622.020000</td>\n",
       "      <td>144.495000</td>\n",
       "      <td>1188.19000</td>\n",
       "      <td>9.610000</td>\n",
       "      <td>1784.050000</td>\n",
       "    </tr>\n",
       "    <tr>\n",
       "      <th>75%</th>\n",
       "      <td>1.060000</td>\n",
       "      <td>4367.180000</td>\n",
       "      <td>157.137500</td>\n",
       "      <td>2450.83250</td>\n",
       "      <td>11.577500</td>\n",
       "      <td>3372.795000</td>\n",
       "    </tr>\n",
       "    <tr>\n",
       "      <th>max</th>\n",
       "      <td>1.240000</td>\n",
       "      <td>5419.450000</td>\n",
       "      <td>194.540000</td>\n",
       "      <td>29004.09000</td>\n",
       "      <td>14.060000</td>\n",
       "      <td>4884.040000</td>\n",
       "    </tr>\n",
       "  </tbody>\n",
       "</table>\n",
       "</div>"
      ],
      "text/plain": [
       "       Indeks stabilitas sistem keuangan         IHSG        IHPR  \\\n",
       "count                          50.000000    50.000000   50.000000   \n",
       "mean                            0.965200  2607.165400  150.964600   \n",
       "std                             0.141078  1907.860695   21.987873   \n",
       "min                             0.700000   366.670000  121.000000   \n",
       "25%                             0.902500   603.585000  136.260000   \n",
       "50%                             0.980000  2622.020000  144.495000   \n",
       "75%                             1.060000  4367.180000  157.137500   \n",
       "max                             1.240000  5419.450000  194.540000   \n",
       "\n",
       "       Perkembangan Kredit       Kurs  Jumlah uang  beredar  \n",
       "count             50.00000  50.000000             50.000000  \n",
       "mean            1965.57500  10.201800           2179.935000  \n",
       "std             4086.69641   1.816446           1470.262341  \n",
       "min              133.03000   7.230000            216.370000  \n",
       "25%              308.79250   9.005000            880.702500  \n",
       "50%             1188.19000   9.610000           1784.050000  \n",
       "75%             2450.83250  11.577500           3372.795000  \n",
       "max            29004.09000  14.060000           4884.040000  "
      ]
     },
     "execution_count": 6,
     "metadata": {},
     "output_type": "execute_result"
    }
   ],
   "source": [
    "# Melihat ringkasan statistika deskriptif\n",
    "data.describe()"
   ]
  },
  {
   "cell_type": "markdown",
   "metadata": {},
   "source": [
    "# Data Preprocessing"
   ]
  },
  {
   "cell_type": "markdown",
   "metadata": {},
   "source": [
    "# Cek Tipe Data"
   ]
  },
  {
   "cell_type": "code",
   "execution_count": 7,
   "metadata": {},
   "outputs": [
    {
     "data": {
      "text/plain": [
       "Indeks stabilitas sistem keuangan    float64\n",
       "IHSG                                 float64\n",
       "IHPR                                 float64\n",
       "Perkembangan Kredit                  float64\n",
       "Kurs                                 float64\n",
       "Jumlah uang  beredar                 float64\n",
       "dtype: object"
      ]
     },
     "execution_count": 7,
     "metadata": {},
     "output_type": "execute_result"
    }
   ],
   "source": [
    "data.dtypes"
   ]
  },
  {
   "cell_type": "code",
   "execution_count": 9,
   "metadata": {},
   "outputs": [
    {
     "data": {
      "text/plain": [
       "(50, 6)"
      ]
     },
     "execution_count": 9,
     "metadata": {},
     "output_type": "execute_result"
    }
   ],
   "source": [
    "# Drop duplicate data\n",
    "data.drop_duplicates(inplace=True)\n",
    "data.shape"
   ]
  },
  {
   "cell_type": "markdown",
   "metadata": {},
   "source": [
    "# Cek Missing Value"
   ]
  },
  {
   "cell_type": "code",
   "execution_count": 10,
   "metadata": {},
   "outputs": [
    {
     "data": {
      "text/plain": [
       "Indeks stabilitas sistem keuangan    0\n",
       "IHSG                                 0\n",
       "IHPR                                 0\n",
       "Perkembangan Kredit                  0\n",
       "Kurs                                 0\n",
       "Jumlah uang  beredar                 0\n",
       "dtype: int64"
      ]
     },
     "execution_count": 10,
     "metadata": {},
     "output_type": "execute_result"
    }
   ],
   "source": [
    "data.isnull().sum()"
   ]
  },
  {
   "cell_type": "markdown",
   "metadata": {},
   "source": [
    "# Cek Outlier"
   ]
  },
  {
   "cell_type": "code",
   "execution_count": 11,
   "metadata": {},
   "outputs": [
    {
     "name": "stderr",
     "output_type": "stream",
     "text": [
      "C:\\ProgramData\\Anaconda3\\lib\\site-packages\\seaborn\\_decorators.py:36: FutureWarning: Pass the following variable as a keyword arg: x. From version 0.12, the only valid positional argument will be `data`, and passing other arguments without an explicit keyword will result in an error or misinterpretation.\n",
      "  warnings.warn(\n"
     ]
    },
    {
     "data": {
      "text/plain": [
       "<AxesSubplot:xlabel='Indeks stabilitas sistem keuangan'>"
      ]
     },
     "execution_count": 11,
     "metadata": {},
     "output_type": "execute_result"
    },
    {
     "data": {
      "image/png": "[encoded data removed]",
      "text/plain": [
       "<Figure size 432x288 with 1 Axes>"
      ]
     },
     "metadata": {
      "needs_background": "light"
     },
     "output_type": "display_data"
    }
   ],
   "source": [
    "sns.boxplot(data['Indeks stabilitas sistem keuangan'])"
   ]
  },
  {
   "cell_type": "code",
   "execution_count": 12,
   "metadata": {},
   "outputs": [
    {
     "name": "stderr",
     "output_type": "stream",
     "text": [
      "C:\\ProgramData\\Anaconda3\\lib\\site-packages\\seaborn\\_decorators.py:36: FutureWarning: Pass the following variable as a keyword arg: x. From version 0.12, the only valid positional argument will be `data`, and passing other arguments without an explicit keyword will result in an error or misinterpretation.\n",
      "  warnings.warn(\n"
     ]
    },
    {
     "data": {
      "text/plain": [
       "<AxesSubplot:xlabel='IHSG'>"
      ]
     },
     "execution_count": 12,
     "metadata": {},
     "output_type": "execute_result"
    },
    {
     "data": {
      "image/png": "[encoded data removed]",
      "text/plain": [
       "<Figure size 432x288 with 1 Axes>"
      ]
     },
     "metadata": {
      "needs_background": "light"
     },
     "output_type": "display_data"
    }
   ],
   "source": [
    "sns.boxplot(data['IHSG'])"
   ]
  },
  {
   "cell_type": "code",
   "execution_count": 13,
   "metadata": {},
   "outputs": [
    {
     "name": "stderr",
     "output_type": "stream",
     "text": [
      "C:\\ProgramData\\Anaconda3\\lib\\site-packages\\seaborn\\_decorators.py:36: FutureWarning: Pass the following variable as a keyword arg: x. From version 0.12, the only valid positional argument will be `data`, and passing other arguments without an explicit keyword will result in an error or misinterpretation.\n",
      "  warnings.warn(\n"
     ]
    },
    {
     "data": {
      "text/plain": [
       "<AxesSubplot:xlabel='IHPR'>"
      ]
     },
     "execution_count": 13,
     "metadata": {},
     "output_type": "execute_result"
    },
    {
     "data": {
      "image/png": "[encoded data removed]",
      "text/plain": [
       "<Figure size 432x288 with 1 Axes>"
      ]
     },
     "metadata": {
      "needs_background": "light"
     },
     "output_type": "display_data"
    }
   ],
   "source": [
    "sns.boxplot(data['IHPR'])"
   ]
  },
  {
   "cell_type": "code",
   "execution_count": 15,
   "metadata": {},
   "outputs": [
    {
     "name": "stderr",
     "output_type": "stream",
     "text": [
      "C:\\ProgramData\\Anaconda3\\lib\\site-packages\\seaborn\\_decorators.py:36: FutureWarning: Pass the following variable as a keyword arg: x. From version 0.12, the only valid positional argument will be `data`, and passing other arguments without an explicit keyword will result in an error or misinterpretation.\n",
      "  warnings.warn(\n"
     ]
    },
    {
     "data": {
      "text/plain": [
       "<AxesSubplot:xlabel='Kurs'>"
      ]
     },
     "execution_count": 15,
     "metadata": {},
     "output_type": "execute_result"
    },
    {
     "data": {
      "image/png": "[encoded data removed]",
      "text/plain": [
       "<Figure size 432x288 with 1 Axes>"
      ]
     },
     "metadata": {
      "needs_background": "light"
     },
     "output_type": "display_data"
    }
   ],
   "source": [
    "sns.boxplot(data['Kurs'])"
   ]
  },
  {
   "cell_type": "code",
   "execution_count": 17,
   "metadata": {},
   "outputs": [
    {
     "name": "stderr",
     "output_type": "stream",
     "text": [
      "C:\\ProgramData\\Anaconda3\\lib\\site-packages\\seaborn\\_decorators.py:36: FutureWarning: Pass the following variable as a keyword arg: x. From version 0.12, the only valid positional argument will be `data`, and passing other arguments without an explicit keyword will result in an error or misinterpretation.\n",
      "  warnings.warn(\n"
     ]
    },
    {
     "data": {
      "text/plain": [
       "<AxesSubplot:xlabel='Jumlah uang  beredar'>"
      ]
     },
     "execution_count": 17,
     "metadata": {},
     "output_type": "execute_result"
    },
    {
     "data": {
      "image/png": "[encoded data removed]",
      "text/plain": [
       "<Figure size 432x288 with 1 Axes>"
      ]
     },
     "metadata": {
      "needs_background": "light"
     },
     "output_type": "display_data"
    }
   ],
   "source": [
    "sns.boxplot(data['Jumlah uang  beredar'])"
   ]
  },
  {
   "cell_type": "code",
   "execution_count": 18,
   "metadata": {},
   "outputs": [],
   "source": [
    "# Membuat fungsi untuk mendeteksi outlier dengan lower bound dan upper bound\n",
    "def outlier(sample):\n",
    "    Q1 = sample.quantile(0.25)\n",
    "    Q3 = sample.quantile(0.75)\n",
    "    IQR = Q3 - Q1\n",
    "    lower_range = Q1 - (1.5 * IQR)\n",
    "    upper_range = Q3 + (1.5 * IQR)\n",
    "    number_outlier = len(sample[sample > upper_range] + len(sample[sample < lower_range]))\n",
    "    print('Number of Outlier {}'.format(number_outlier))\n",
    "    if number_outlier > 0:\n",
    "        print('Outlier observation row:')\n",
    "    else:\n",
    "        pass\n",
    "    for i in range(len(sample)):\n",
    "        if sample[i] < lower_range:\n",
    "            print(i)\n",
    "        elif sample[i] > upper_range:\n",
    "            print(i)\n",
    "        else:\n",
    "            pass"
   ]
  },
  {
   "cell_type": "code",
   "execution_count": 19,
   "metadata": {},
   "outputs": [
    {
     "name": "stdout",
     "output_type": "stream",
     "text": [
      "Number of Outlier 6\n",
      "Outlier observation row:\n",
      "8\n",
      "9\n",
      "11\n",
      "27\n",
      "30\n",
      "42\n"
     ]
    }
   ],
   "source": [
    "outlier(data['IHPR'])"
   ]
  },
  {
   "cell_type": "code",
   "execution_count": 20,
   "metadata": {},
   "outputs": [
    {
     "data": {
      "text/plain": [
       "8     191.90\n",
       "9     190.02\n",
       "11    193.13\n",
       "27    194.54\n",
       "30    188.55\n",
       "42    193.83\n",
       "Name: IHPR, dtype: float64"
      ]
     },
     "execution_count": 20,
     "metadata": {},
     "output_type": "execute_result"
    }
   ],
   "source": [
    "# Memeriksa ke aslian data\n",
    "data.loc[[8, 9, 11, 27, 30, 42], 'IHPR']"
   ]
  },
  {
   "cell_type": "code",
   "execution_count": 22,
   "metadata": {},
   "outputs": [
    {
     "name": "stdout",
     "output_type": "stream",
     "text": [
      "Number of Outlier 1\n",
      "Outlier observation row:\n",
      "39\n"
     ]
    }
   ],
   "source": [
    "outlier(data['Perkembangan Kredit'])"
   ]
  },
  {
   "cell_type": "code",
   "execution_count": 23,
   "metadata": {},
   "outputs": [
    {
     "data": {
      "text/plain": [
       "39    29004.09\n",
       "Name: Perkembangan Kredit, dtype: float64"
      ]
     },
     "execution_count": 23,
     "metadata": {},
     "output_type": "execute_result"
    }
   ],
   "source": [
    "# Memeriksa ke aslian data\n",
    "data.loc[[39], 'Perkembangan Kredit']"
   ]
  },
  {
   "cell_type": "markdown",
   "metadata": {},
   "source": [
    "Jika terdapat outlier, maka hal pertama yang perlu kita lakukan adalah memeriksa data aslinya untuk mengetahui adanya outlier karena kesalahan atau memang data aslinya menunjukan seperti itu. Dalam kasus ini, data sebenarnya memang ada outlier. Maka kita dapat melakukan dua cara, 1. Membiarkan datanya outlier 2. bining. Dalam kasus ini kita biarkan."
   ]
  },
  {
   "cell_type": "markdown",
   "metadata": {},
   "source": [
    "# Melihat korelasi antar variabel"
   ]
  },
  {
   "cell_type": "code",
   "execution_count": 28,
   "metadata": {},
   "outputs": [
    {
     "data": {
      "text/plain": [
       "<AxesSubplot:>"
      ]
     },
     "execution_count": 28,
     "metadata": {},
     "output_type": "execute_result"
    },
    {
     "data": {
      "image/png": "[encoded data removed]",
      "text/plain": [
       "<Figure size 864x576 with 2 Axes>"
      ]
     },
     "metadata": {
      "needs_background": "light"
     },
     "output_type": "display_data"
    }
   ],
   "source": [
    "cor = data.corr()\n",
    "plt.figure(figsize = (12, 8))\n",
    "sns.heatmap(cor, annot = True, vmin = -1, vmax = 1)"
   ]
  },
  {
   "cell_type": "code",
   "execution_count": 29,
   "metadata": {
    "scrolled": false
   },
   "outputs": [
    {
     "data": {
      "text/plain": [
       "<seaborn.axisgrid.PairGrid at 0x1d2c0b5b490>"
      ]
     },
     "execution_count": 29,
     "metadata": {},
     "output_type": "execute_result"
    },
    {
     "data": {
      "image/png": "[encoded data removed]",
      "text/plain": [
       "<Figure size 1080x1080 with 42 Axes>"
      ]
     },
     "metadata": {
      "needs_background": "light"
     },
     "output_type": "display_data"
    }
   ],
   "source": [
    "# Mencoba scatter plot dan distribusi\n",
    "sns.pairplot(data = data)"
   ]
  },
  {
   "cell_type": "markdown",
   "metadata": {},
   "source": [
    "Histogram untuk melihat distribusi normal atau tidak\n",
    "\n",
    "scatterplot untuk melihat korelasi antar variabel, misalnya dapat diketahui bahwa korelasi antar perkembangan kredit dengan indeks stabilitas harga kecil atau tidak bagus"
   ]
  },
  {
   "cell_type": "markdown",
   "metadata": {},
   "source": [
    "# Feature Scalling"
   ]
  },
  {
   "cell_type": "markdown",
   "metadata": {},
   "source": [
    "Sebelum melakukan regresi, dilakukan featur scaling untuk menyamakan skala antar data"
   ]
  },
  {
   "cell_type": "markdown",
   "metadata": {},
   "source": [
    "Menggunakan Standarisasi. Dipisahkan y dengan x. Lalu x nya distandarisasi"
   ]
  },
  {
   "cell_type": "code",
   "execution_count": 30,
   "metadata": {},
   "outputs": [],
   "source": [
    "from sklearn.preprocessing import StandardScaler\n",
    "\n",
    "# Memisahkan variabel dependen dengan variabel independen\n",
    "y = data['Indeks stabilitas sistem keuangan']\n",
    "x = data.iloc[:, 1:]\n",
    "\n",
    "# Standarisasi pada variabel independen\n",
    "scale = StandardScaler()\n",
    "x = scale.fit_transform(x)\n",
    "# Membuat dataframe sebelum di regersi. Jika tidak, maka akan berbentuk array\n",
    "x = pd.DataFrame(data = x, columns=['IHSG', 'IHPR', 'Perkembangan Kredit', 'Kurs', 'Jumlah uang  beredar'])"
   ]
  },
  {
   "cell_type": "markdown",
   "metadata": {},
   "source": [
    "# Partisi data"
   ]
  },
  {
   "cell_type": "code",
   "execution_count": 36,
   "metadata": {},
   "outputs": [],
   "source": [
    "from sklearn.model_selection import train_test_split\n",
    "X_train, X_test, Y_train, Y_test = train_test_split(x, y, test_size = 0.2, random_state = 42)\n",
    "# test_size merupakan ukuran data test 20 % data data keseluruhan\n",
    "# random_state agar data yang dirandom sama"
   ]
  },
  {
   "cell_type": "markdown",
   "metadata": {},
   "source": [
    "# Modeling"
   ]
  },
  {
   "cell_type": "code",
   "execution_count": 38,
   "metadata": {},
   "outputs": [],
   "source": [
    "import statsmodels.api as sm\n",
    "from statsmodels.stats.outliers_influence import variance_inflation_factor # untuk memeriksa multikolinearitas\n",
    "from scipy import stats"
   ]
  },
  {
   "cell_type": "markdown",
   "metadata": {},
   "source": [
    "# Regresi Linear"
   ]
  },
  {
   "cell_type": "code",
   "execution_count": 46,
   "metadata": {},
   "outputs": [],
   "source": [
    "# Untuk menambahkan B0 atau konstanta\n",
    "X_train2 = sm.add_constant(X_train)\n",
    "\n",
    "# Modeling y_train (output), x_train2 (input)\n",
    "est = sm.OLS(Y_train, X_train2)\n",
    "est2 = est.fit()"
   ]
  },
  {
   "cell_type": "code",
   "execution_count": 40,
   "metadata": {},
   "outputs": [
    {
     "name": "stdout",
     "output_type": "stream",
     "text": [
      "                                    OLS Regression Results                                   \n",
      "=============================================================================================\n",
      "Dep. Variable:     Indeks stabilitas sistem keuangan   R-squared:                       0.758\n",
      "Model:                                           OLS   Adj. R-squared:                  0.722\n",
      "Method:                                Least Squares   F-statistic:                     21.26\n",
      "Date:                               Sat, 08 May 2021   Prob (F-statistic):           1.36e-09\n",
      "Time:                                       05:10:48   Log-Likelihood:                 51.058\n",
      "No. Observations:                                 40   AIC:                            -90.12\n",
      "Df Residuals:                                     34   BIC:                            -79.98\n",
      "Df Model:                                          5                                         \n",
      "Covariance Type:                           nonrobust                                         \n",
      "========================================================================================\n",
      "                           coef    std err          t      P>|t|      [0.025      0.975]\n",
      "----------------------------------------------------------------------------------------\n",
      "const                    0.8321      0.048     17.385      0.000       0.735       0.929\n",
      "IHSG                     0.1745      0.075      2.330      0.026       0.022       0.327\n",
      "IHPR                    -0.0578      0.034     -1.675      0.103      -0.128       0.012\n",
      "Perkembangan Kredit     -0.9630      0.363     -2.650      0.012      -1.701      -0.225\n",
      "Kurs                     0.1612      0.056      2.875      0.007       0.047       0.275\n",
      "Jumlah uang  beredar    -0.0929      0.057     -1.622      0.114      -0.209       0.024\n",
      "==============================================================================\n",
      "Omnibus:                        5.057   Durbin-Watson:                   1.468\n",
      "Prob(Omnibus):                  0.080   Jarque-Bera (JB):                4.005\n",
      "Skew:                           0.760   Prob(JB):                        0.135\n",
      "Kurtosis:                       3.308   Cond. No.                         62.6\n",
      "==============================================================================\n",
      "\n",
      "Notes:\n",
      "[1] Standard Errors assume that the covariance matrix of the errors is correctly specified.\n"
     ]
    }
   ],
   "source": [
    "print(est2.summary())"
   ]
  },
  {
   "cell_type": "markdown",
   "metadata": {},
   "source": [
    "Prob (F-statistict) > 0.05 maka menolak H0, artinya secara simultan variabel independen memengaruhi variabel dependen"
   ]
  },
  {
   "cell_type": "markdown",
   "metadata": {},
   "source": [
    "Uji Partial\n",
    "\n",
    "> conts: 0.000 artinya pvalue < alpha maka berpengaruh\n",
    "\n",
    "> IHSG: 0.026 artinya pvalue < alpha maka berpengaruh\n",
    "\n",
    "> IHPR: 0.103 artinya pvalue > alpha maka tidak berpengaruh\n",
    "\n",
    "> Perkembangan Kredit: 0.012 artinya pvalue < alpha maka berpengaruh\n",
    "\n",
    "> Kurs: 0.007 artinya pvalue < alpha maka berpengaruh\n",
    "\n",
    "> Jumlah uang yang beredar: 0.114 artinya pvalue > alpha maka tidak berpengaruh"
   ]
  },
  {
   "cell_type": "markdown",
   "metadata": {},
   "source": [
    "Ketika terdapat lebih dari 1 variabel yang tidak berpengaruh, jangan langsung di drop. Melihat variabel yang pvaluenya paling besar, karena biasanya variabel tersebut tidak berpengaruh.\n",
    "\n",
    "Jika dilihat dari hasilnya maka jumlah uang yang beredar paling tidak berpengaruh maka perlu dikeluarkan dalam model. Dapat dilihat di bawah ini:"
   ]
  },
  {
   "cell_type": "code",
   "execution_count": 47,
   "metadata": {},
   "outputs": [
    {
     "name": "stdout",
     "output_type": "stream",
     "text": [
      "                                    OLS Regression Results                                   \n",
      "=============================================================================================\n",
      "Dep. Variable:     Indeks stabilitas sistem keuangan   R-squared:                       0.739\n",
      "Model:                                           OLS   Adj. R-squared:                  0.709\n",
      "Method:                                Least Squares   F-statistic:                     24.77\n",
      "Date:                               Sat, 08 May 2021   Prob (F-statistic):           8.65e-10\n",
      "Time:                                       05:29:27   Log-Likelihood:                 49.567\n",
      "No. Observations:                                 40   AIC:                            -89.13\n",
      "Df Residuals:                                     35   BIC:                            -80.69\n",
      "Df Model:                                          4                                         \n",
      "Covariance Type:                           nonrobust                                         \n",
      "=======================================================================================\n",
      "                          coef    std err          t      P>|t|      [0.025      0.975]\n",
      "---------------------------------------------------------------------------------------\n",
      "const                   0.8147      0.048     17.071      0.000       0.718       0.912\n",
      "IHSG                    0.1521      0.075      2.020      0.051      -0.001       0.305\n",
      "IHPR                   -0.0644      0.035     -1.839      0.074      -0.136       0.007\n",
      "Perkembangan Kredit    -1.0999      0.362     -3.042      0.004      -1.834      -0.366\n",
      "Kurs                    0.1385      0.056      2.494      0.018       0.026       0.251\n",
      "==============================================================================\n",
      "Omnibus:                        4.117   Durbin-Watson:                   1.583\n",
      "Prob(Omnibus):                  0.128   Jarque-Bera (JB):                3.388\n",
      "Skew:                           0.712   Prob(JB):                        0.184\n",
      "Kurtosis:                       3.055   Cond. No.                         52.7\n",
      "==============================================================================\n",
      "\n",
      "Notes:\n",
      "[1] Standard Errors assume that the covariance matrix of the errors is correctly specified.\n"
     ]
    }
   ],
   "source": [
    "X_train2 = sm.add_constant(X_train.drop(labels=['Jumlah uang  beredar'], axis=1))\n",
    "est = sm.OLS(Y_train, X_train2)\n",
    "est2 = est.fit()\n",
    "print(est2.summary())"
   ]
  },
  {
   "cell_type": "markdown",
   "metadata": {},
   "source": [
    "Jika dilihat pvalue IHPR besar, maka perlu dihapus"
   ]
  },
  {
   "cell_type": "code",
   "execution_count": 48,
   "metadata": {},
   "outputs": [
    {
     "name": "stdout",
     "output_type": "stream",
     "text": [
      "                                    OLS Regression Results                                   \n",
      "=============================================================================================\n",
      "Dep. Variable:     Indeks stabilitas sistem keuangan   R-squared:                       0.714\n",
      "Model:                                           OLS   Adj. R-squared:                  0.690\n",
      "Method:                                Least Squares   F-statistic:                     29.92\n",
      "Date:                               Sat, 08 May 2021   Prob (F-statistic):           6.96e-10\n",
      "Time:                                       05:29:58   Log-Likelihood:                 47.723\n",
      "No. Observations:                                 40   AIC:                            -87.45\n",
      "Df Residuals:                                     36   BIC:                            -80.69\n",
      "Df Model:                                          3                                         \n",
      "Covariance Type:                           nonrobust                                         \n",
      "=======================================================================================\n",
      "                          coef    std err          t      P>|t|      [0.025      0.975]\n",
      "---------------------------------------------------------------------------------------\n",
      "const                   0.7675      0.042     18.481      0.000       0.683       0.852\n",
      "IHSG                    0.2440      0.058      4.202      0.000       0.126       0.362\n",
      "Perkembangan Kredit    -1.4790      0.307     -4.823      0.000      -2.101      -0.857\n",
      "Kurs                    0.1082      0.055      1.976      0.056      -0.003       0.219\n",
      "==============================================================================\n",
      "Omnibus:                        1.314   Durbin-Watson:                   1.572\n",
      "Prob(Omnibus):                  0.518   Jarque-Bera (JB):                0.985\n",
      "Skew:                           0.382   Prob(JB):                        0.611\n",
      "Kurtosis:                       2.917   Cond. No.                         36.9\n",
      "==============================================================================\n",
      "\n",
      "Notes:\n",
      "[1] Standard Errors assume that the covariance matrix of the errors is correctly specified.\n"
     ]
    }
   ],
   "source": [
    "X_train2 = sm.add_constant(X_train.drop(labels=['Jumlah uang  beredar', 'IHPR'], axis=1))\n",
    "est = sm.OLS(Y_train, X_train2)\n",
    "est2 = est.fit()\n",
    "print(est2.summary())"
   ]
  },
  {
   "cell_type": "markdown",
   "metadata": {},
   "source": [
    "kurs perlu dihapus"
   ]
  },
  {
   "cell_type": "code",
   "execution_count": 49,
   "metadata": {},
   "outputs": [
    {
     "name": "stdout",
     "output_type": "stream",
     "text": [
      "                                    OLS Regression Results                                   \n",
      "=============================================================================================\n",
      "Dep. Variable:     Indeks stabilitas sistem keuangan   R-squared:                       0.683\n",
      "Model:                                           OLS   Adj. R-squared:                  0.666\n",
      "Method:                                Least Squares   F-statistic:                     39.80\n",
      "Date:                               Sat, 08 May 2021   Prob (F-statistic):           5.99e-10\n",
      "Time:                                       05:30:36   Log-Likelihood:                 45.664\n",
      "No. Observations:                                 40   AIC:                            -85.33\n",
      "Df Residuals:                                     37   BIC:                            -80.26\n",
      "Df Model:                                          2                                         \n",
      "Covariance Type:                           nonrobust                                         \n",
      "=======================================================================================\n",
      "                          coef    std err          t      P>|t|      [0.025      0.975]\n",
      "---------------------------------------------------------------------------------------\n",
      "const                   0.8311      0.027     30.524      0.000       0.776       0.886\n",
      "IHSG                    0.1992      0.056      3.588      0.001       0.087       0.312\n",
      "Perkembangan Kredit    -0.9838      0.184     -5.360      0.000      -1.356      -0.612\n",
      "==============================================================================\n",
      "Omnibus:                        2.862   Durbin-Watson:                   1.531\n",
      "Prob(Omnibus):                  0.239   Jarque-Bera (JB):                2.428\n",
      "Skew:                           0.599   Prob(JB):                        0.297\n",
      "Kurtosis:                       2.860   Cond. No.                         15.9\n",
      "==============================================================================\n",
      "\n",
      "Notes:\n",
      "[1] Standard Errors assume that the covariance matrix of the errors is correctly specified.\n"
     ]
    }
   ],
   "source": [
    "X_train2 = sm.add_constant(X_train.drop(labels=['Jumlah uang  beredar', 'IHPR', 'Kurs'], axis=1))\n",
    "est = sm.OLS(Y_train, X_train2)\n",
    "est2 = est.fit()\n",
    "print(est2.summary())"
   ]
  },
  {
   "cell_type": "markdown",
   "metadata": {},
   "source": [
    "Semua variabel menjadi signifikan. \n",
    "\n",
    "Adj R square: 66.6% variabel x memengaruhi variabel y. sisanya diluar model\n",
    "\n",
    "Prob(JB): 0.297 berarti pvalue > 0.05 atau gagal ditolak H0, maka residual berdistribusi normal atau asumsi normalitas terpenuhi\n",
    "\n"
   ]
  },
  {
   "cell_type": "code",
   "execution_count": 53,
   "metadata": {},
   "outputs": [
    {
     "data": {
      "text/html": [
       "<div>\n",
       "<style scoped>\n",
       "    .dataframe tbody tr th:only-of-type {\n",
       "        vertical-align: middle;\n",
       "    }\n",
       "\n",
       "    .dataframe tbody tr th {\n",
       "        vertical-align: top;\n",
       "    }\n",
       "\n",
       "    .dataframe thead th {\n",
       "        text-align: right;\n",
       "    }\n",
       "</style>\n",
       "<table border=\"1\" class=\"dataframe\">\n",
       "  <thead>\n",
       "    <tr style=\"text-align: right;\">\n",
       "      <th></th>\n",
       "      <th>lb_stat</th>\n",
       "      <th>lb_pvalue</th>\n",
       "    </tr>\n",
       "  </thead>\n",
       "  <tbody>\n",
       "    <tr>\n",
       "      <th>20</th>\n",
       "      <td>22.180794</td>\n",
       "      <td>0.330781</td>\n",
       "    </tr>\n",
       "  </tbody>\n",
       "</table>\n",
       "</div>"
      ],
      "text/plain": [
       "      lb_stat  lb_pvalue\n",
       "20  22.180794   0.330781"
      ]
     },
     "execution_count": 53,
     "metadata": {},
     "output_type": "execute_result"
    }
   ],
   "source": [
    "# Cek Autokorelasi menggunakan ljungbox\n",
    "residual = est2.resid\n",
    "sm.stats.diagnostic.acorr_ljungbox(residual, lags = [20], return_df = True)"
   ]
  },
  {
   "cell_type": "markdown",
   "metadata": {},
   "source": [
    "pvalue > 0.05 atau H0 gagal ditolak maka asumsi antar residual tidak saling berkorelasi terpenuhi"
   ]
  },
  {
   "cell_type": "code",
   "execution_count": 55,
   "metadata": {},
   "outputs": [
    {
     "data": {
      "text/html": [
       "<div>\n",
       "<style scoped>\n",
       "    .dataframe tbody tr th:only-of-type {\n",
       "        vertical-align: middle;\n",
       "    }\n",
       "\n",
       "    .dataframe tbody tr th {\n",
       "        vertical-align: top;\n",
       "    }\n",
       "\n",
       "    .dataframe thead th {\n",
       "        text-align: right;\n",
       "    }\n",
       "</style>\n",
       "<table border=\"1\" class=\"dataframe\">\n",
       "  <thead>\n",
       "    <tr style=\"text-align: right;\">\n",
       "      <th></th>\n",
       "      <th>VIF Factor</th>\n",
       "      <th>features</th>\n",
       "    </tr>\n",
       "  </thead>\n",
       "  <tbody>\n",
       "    <tr>\n",
       "      <th>0</th>\n",
       "      <td>4.883456</td>\n",
       "      <td>IHSG</td>\n",
       "    </tr>\n",
       "    <tr>\n",
       "      <th>1</th>\n",
       "      <td>4.883456</td>\n",
       "      <td>Perkembangan Kredit</td>\n",
       "    </tr>\n",
       "  </tbody>\n",
       "</table>\n",
       "</div>"
      ],
      "text/plain": [
       "   VIF Factor             features\n",
       "0    4.883456                 IHSG\n",
       "1    4.883456  Perkembangan Kredit"
      ]
     },
     "execution_count": 55,
     "metadata": {},
     "output_type": "execute_result"
    }
   ],
   "source": [
    "# Cek Multikolinearitas\n",
    "vif = pd.DataFrame()\n",
    "vif['VIF Factor'] = [variance_inflation_factor(X_train.drop(labels=['Jumlah uang  beredar',\n",
    "                                                           'IHPR', 'Kurs'], axis = 1).values, i) for i in range(X_train.drop(labels = ['Jumlah uang  beredar', \n",
    "                                                                                                                                      'IHPR', 'Kurs'], axis = 1). shape[1])]\n",
    "vif['features'] = X_train.drop(labels = ['Jumlah uang  beredar', 'IHPR', 'Kurs'], axis = 1).columns\n",
    "vif"
   ]
  },
  {
   "cell_type": "markdown",
   "metadata": {},
   "source": [
    "Variabel input yang memiliki nilai VIF Factor yang melebih 10 maka variabel tersebut terkena multikolinearitas. Dalam kasus ini tidak ada multikolinearitas"
   ]
  },
  {
   "cell_type": "code",
   "execution_count": 56,
   "metadata": {},
   "outputs": [
    {
     "name": "stdout",
     "output_type": "stream",
     "text": [
      "{'LM Statistic': 7.487258634510066, 'LM_Test p-value': 0.02366804820969785, 'F-Statistic': 4.260307772307989, 'F-Test p-value': 0.021621288035320495}\n"
     ]
    }
   ],
   "source": [
    "# Cek Homoskedastis\n",
    "bp_test = sm.stats.diagnostic.het_breuschpagan(residual, est2.model.exog)\n",
    "labels = ['LM Statistic', 'LM_Test p-value', 'F-Statistic', 'F-Test p-value']\n",
    "print(dict(zip(labels, bp_test)))"
   ]
  },
  {
   "cell_type": "code",
   "execution_count": 58,
   "metadata": {},
   "outputs": [
    {
     "data": {
      "text/plain": [
       "array([[ 1.        , -1.10138249, -0.43221402],\n",
       "       [ 1.        ,  0.02040816, -0.18487017],\n",
       "       [ 1.        ,  1.19856605,  0.25537352],\n",
       "       [ 1.        ,  1.34924226,  0.36786299],\n",
       "       [ 1.        , -1.17639233, -0.40970574],\n",
       "       [ 1.        , -1.14621261, -0.4478309 ],\n",
       "       [ 1.        , -1.15591777, -0.45134334],\n",
       "       [ 1.        ,  0.90391142,  0.0752999 ],\n",
       "       [ 1.        ,  0.58354579, -0.08335057],\n",
       "       [ 1.        , -1.04066832, -0.40332354],\n",
       "       [ 1.        ,  1.33507897,  0.36099631],\n",
       "       [ 1.        , -1.18627221, -0.41281775],\n",
       "       [ 1.        ,  0.74620387,  0.016943  ],\n",
       "       [ 1.        ,  1.20552857,  0.27406533],\n",
       "       [ 1.        , -1.13703162, -0.44098152],\n",
       "       [ 1.        , -0.00467807, -0.199439  ],\n",
       "       [ 1.        , -0.98360747, -0.40162541],\n",
       "       [ 1.        ,  1.4890167 ,  0.44005954],\n",
       "       [ 1.        , -1.09096785, -0.42618775],\n",
       "       [ 1.        ,  1.12405922,  0.20202945],\n",
       "       [ 1.        ,  0.48299438, -0.11842057],\n",
       "       [ 1.        ,  1.42014871,  0.3958043 ],\n",
       "       [ 1.        , -1.14638734, -0.44933376],\n",
       "       [ 1.        , -1.15979878, -0.45296979],\n",
       "       [ 1.        , -0.47906615, -0.32026093],\n",
       "       [ 1.        , -0.81415631, -0.37560469],\n",
       "       [ 1.        , -1.16827028, -0.44903467],\n",
       "       [ 1.        ,  0.9354201 ,  0.1287725 ],\n",
       "       [ 1.        ,  0.92123034,  0.09346768],\n",
       "       [ 1.        ,  0.32314249, -0.1330339 ],\n",
       "       [ 1.        , -0.43987488, -0.30974586],\n",
       "       [ 1.        ,  0.81956705,  0.04679255],\n",
       "       [ 1.        , -0.87945039, -0.38055819],\n",
       "       [ 1.        , -0.96887236, -0.38885605],\n",
       "       [ 1.        ,  0.53803266, -0.10748283],\n",
       "       [ 1.        ,  0.15184877, -0.15275892],\n",
       "       [ 1.        ,  1.43757352,  0.41649333],\n",
       "       [ 1.        , -1.07296591, -0.41839415],\n",
       "       [ 1.        ,  1.30460275,  0.30645094],\n",
       "       [ 1.        ,  0.61884547, -0.05577015]])"
      ]
     },
     "execution_count": 58,
     "metadata": {},
     "output_type": "execute_result"
    }
   ],
   "source": [
    "# est2.model.exog merupakan variabel input\n",
    "est2.model.exog"
   ]
  },
  {
   "cell_type": "markdown",
   "metadata": {},
   "source": [
    "Memeriksa Homoskedastis menggunakan het_breuschpagan. Jika dilihat dari hasil LM_Test p-value < 0.05 maka H0 ditolak atau asumsi tidak terpenuhi. Cara mengatasinya dapat bermacam-macam, salah satunya bisa standarisasi, transformasi. Atau dibiarkan saja jika ingin cepat"
   ]
  },
  {
   "cell_type": "markdown",
   "metadata": {},
   "source": [
    "# Evaluasi Model"
   ]
  },
  {
   "cell_type": "code",
   "execution_count": 57,
   "metadata": {},
   "outputs": [
    {
     "data": {
      "text/plain": [
       "4.087424830993151"
      ]
     },
     "execution_count": 57,
     "metadata": {},
     "output_type": "execute_result"
    }
   ],
   "source": [
    "from sklearn.metrics import mean_squared_error\n",
    "\n",
    "# membuat prediksi data testing yang sudah didrop variabel 'Jumlah uang  beredar', 'IHPR', 'Kurs' dan ditambah konstanta\n",
    "pred_lr = est2.predict(sm.add_constant(X_test.drop(labels=['Jumlah uang  beredar', 'IHPR', 'Kurs'], axis = 1)))\n",
    "\n",
    "# Kemudian dibandingkan data asli Y_test dengan nilai prediksi pred_lr\n",
    "mean_squared_error(Y_test, pred_lr)"
   ]
  },
  {
   "cell_type": "markdown",
   "metadata": {},
   "source": [
    "# Regresi Ridge"
   ]
  },
  {
   "cell_type": "code",
   "execution_count": 61,
   "metadata": {},
   "outputs": [
    {
     "data": {
      "text/html": [
       "<div>\n",
       "<style scoped>\n",
       "    .dataframe tbody tr th:only-of-type {\n",
       "        vertical-align: middle;\n",
       "    }\n",
       "\n",
       "    .dataframe tbody tr th {\n",
       "        vertical-align: top;\n",
       "    }\n",
       "\n",
       "    .dataframe thead th {\n",
       "        text-align: right;\n",
       "    }\n",
       "</style>\n",
       "<table border=\"1\" class=\"dataframe\">\n",
       "  <thead>\n",
       "    <tr style=\"text-align: right;\">\n",
       "      <th></th>\n",
       "      <th>VIF Factor</th>\n",
       "      <th>features</th>\n",
       "    </tr>\n",
       "  </thead>\n",
       "  <tbody>\n",
       "    <tr>\n",
       "      <th>0</th>\n",
       "      <td>15.949809</td>\n",
       "      <td>IHSG</td>\n",
       "    </tr>\n",
       "    <tr>\n",
       "      <th>1</th>\n",
       "      <td>6.639688</td>\n",
       "      <td>IHPR</td>\n",
       "    </tr>\n",
       "    <tr>\n",
       "      <th>2</th>\n",
       "      <td>6.229725</td>\n",
       "      <td>Perkembangan Kredit</td>\n",
       "    </tr>\n",
       "    <tr>\n",
       "      <th>3</th>\n",
       "      <td>20.474934</td>\n",
       "      <td>Kurs</td>\n",
       "    </tr>\n",
       "    <tr>\n",
       "      <th>4</th>\n",
       "      <td>23.468013</td>\n",
       "      <td>Jumlah uang  beredar</td>\n",
       "    </tr>\n",
       "  </tbody>\n",
       "</table>\n",
       "</div>"
      ],
      "text/plain": [
       "   VIF Factor              features\n",
       "0   15.949809                  IHSG\n",
       "1    6.639688                  IHPR\n",
       "2    6.229725   Perkembangan Kredit\n",
       "3   20.474934                  Kurs\n",
       "4   23.468013  Jumlah uang  beredar"
      ]
     },
     "execution_count": 61,
     "metadata": {},
     "output_type": "execute_result"
    }
   ],
   "source": [
    "# Cek Multikolinearitas\n",
    "vif = pd.DataFrame()\n",
    "vif['VIF Factor'] = [variance_inflation_factor(X_train.values, i) for i in range(X_train.shape[1])]\n",
    "vif['features'] = X_train.columns\n",
    "vif"
   ]
  },
  {
   "cell_type": "markdown",
   "metadata": {},
   "source": [
    "Jika dilihat secara keseluruhan terdapat 2 variabel yang terkena multikolinearitas"
   ]
  },
  {
   "cell_type": "code",
   "execution_count": 62,
   "metadata": {},
   "outputs": [],
   "source": [
    "# Melihat Keunggulan Ridge\n",
    "from sklearn.linear_model import Ridge\n",
    "coef = []\n",
    "alphas = range(0, 40)\n",
    "\n",
    "for a in alphas:\n",
    "    ridgereg = Ridge(alpha = a)\n",
    "    ridgereg.fit(X_train, Y_train) # membagi data training dan data testing, constanta sudah otomatis ada di regresi ridge\n",
    "    coef.append(ridgereg.coef_)"
   ]
  },
  {
   "cell_type": "code",
   "execution_count": 63,
   "metadata": {},
   "outputs": [
    {
     "data": {
      "image/png": "[encoded data removed]",
      "text/plain": [
       "<Figure size 1080x360 with 1 Axes>"
      ]
     },
     "metadata": {
      "needs_background": "light"
     },
     "output_type": "display_data"
    }
   ],
   "source": [
    "# Membuat plot antara alpha dan coefisien\n",
    "fig = plt.figure(figsize = (15, 5))\n",
    "ax = fig.add_subplot(111)\n",
    "ax.plot(alphas, coef)\n",
    "ax.set_xlabel('Alpha (Regularization Parameter)')\n",
    "ax.set_ylabel('Beta (Predictor Coefficients)')\n",
    "ax.set_title('Ridge Coeficients vs Regularization Parameters')\n",
    "ax.axis('tight')\n",
    "\n",
    "# ax.legend(loc = 'best')\n",
    "fig.savefig('coef_vs_alpha.png')"
   ]
  },
  {
   "cell_type": "markdown",
   "metadata": {},
   "source": [
    "Masing-masing warna menunjukan masing-masing variabel input\n",
    "\n",
    "Semakin besar Alpha nya maka Slopenya akan semakin menurun"
   ]
  },
  {
   "cell_type": "code",
   "execution_count": 64,
   "metadata": {},
   "outputs": [
    {
     "name": "stdout",
     "output_type": "stream",
     "text": [
      "1\n",
      "0.950708337549076\n",
      "[ 0.01169928 -0.08888263 -0.0396696   0.05181744 -0.07637162]\n"
     ]
    }
   ],
   "source": [
    "# Membangun model regresi ridge dengan nilai alpha terbaik\n",
    "from sklearn.linear_model import RidgeCV # Ridge cross validation \n",
    "regr_cv = RidgeCV(alphas = range(1, 40))\n",
    "model_cv = regr_cv.fit(X_train, Y_train)\n",
    "\n",
    "# Alpha terbaik\n",
    "print(model_cv.alpha_)\n",
    "\n",
    "# Parameter regresi ridge\n",
    "print(model_cv.intercept_)\n",
    "print(model_cv.coef_)"
   ]
  },
  {
   "cell_type": "code",
   "execution_count": null,
   "metadata": {},
   "outputs": [],
   "source": [
    "# Cek Autokorelasi\n",
    "import statsmodels.api as sm\n",
    "residual1 = Y_train-(model_cv.predict(Xtrain))\n",
    "sm.stats.diagnostic.acorr_ljungbox(residual1, lags[20], return_df = True)"
   ]
  },
  {
   "cell_type": "code",
   "execution_count": null,
   "metadata": {},
   "outputs": [],
   "source": [
    "2:10:23"
   ]
  },
  {
   "cell_type": "code",
   "execution_count": null,
   "metadata": {},
   "outputs": [],
   "source": [
    "# Cek Homoskedastis\n",
    "bp_test = sm.stats.diagnostic.het_breuschpagan(residual1, x_train)\n",
    "labels = ['LM Statistic', 'LM-Test p-value', 'F-Statistic', 'F-Test p-value']\n",
    "print(dict(zip(labels, bp_test)))"
   ]
  },
  {
   "cell_type": "code",
   "execution_count": null,
   "metadata": {},
   "outputs": [],
   "source": [
    "# Cek Normalitas\n",
    "import scipy\n",
    "scipy.stats.jarque_bera(residual1)"
   ]
  },
  {
   "cell_type": "markdown",
   "metadata": {},
   "source": [
    "# Evaluasi Model"
   ]
  },
  {
   "cell_type": "code",
   "execution_count": null,
   "metadata": {},
   "outputs": [],
   "source": [
    "# MSE\n",
    "pred_lridge = model_cv.predict(X_test)\n",
    "mean_squared_error(Y_test, pred_lridge)"
   ]
  },
  {
   "cell_type": "markdown",
   "metadata": {},
   "source": [
    "# Regresi Lasso"
   ]
  },
  {
   "cell_type": "code",
   "execution_count": null,
   "metadata": {},
   "outputs": [],
   "source": [
    "# Melihat keunggulan Lasso\n",
    "from sklearn.linear_model import Lasso\n",
    "coef = []\n",
    "alphas = range(0, 40)\n",
    "\n",
    "for a in alphas:\n",
    "    lassoreg = Lasso(alpha = a)\n",
    "    lassoreg.fit(X_train, Y_train)\n",
    "    coef.append(lassoreg.coef_)"
   ]
  },
  {
   "cell_type": "code",
   "execution_count": null,
   "metadata": {},
   "outputs": [],
   "source": [
    "# Membuat plot antara alpha dan koefisien\n",
    "fig = plt.figure(figsize = (15, 5))\n",
    "ax = fig.add_subplot(111)\n",
    "ax.plot(alphas, coef)\n",
    "ax.set_xlabel('Alpha (Regularization Parameter)')\n",
    "ax.set_ylabel('Beta (Predictor Coefficients)')\n",
    "ax.set_title('Lasso Coeffficients VS Regularization Parameters')\n",
    "ax.axis('tight')\n",
    "\n",
    "# ax.legend(loc = 'best')\n",
    "fig.savefig('coef_vs_alpha.png')"
   ]
  },
  {
   "cell_type": "code",
   "execution_count": null,
   "metadata": {},
   "outputs": [],
   "source": [
    "# Membangun model regresi Lasso dengan alpha terbaik\n",
    "from sklearn.linear_model import LassoCV\n",
    "regl_cv = LassoCV(alphas = range(1, 40))\n",
    "model_cv = regl_cv.fit(X_train, Y_train)\n",
    "\n",
    "# alpha terbaik\n",
    "print(model_cv.alpha_)\n",
    "\n",
    "# parameter regresi lasso\n",
    "print(model_cv.intercept_)\n",
    "print(model_cv.coef_)"
   ]
  },
  {
   "cell_type": "code",
   "execution_count": null,
   "metadata": {},
   "outputs": [],
   "source": [
    "# Cek Autokorelasi\n",
    "import statsmodels.api as sm\n",
    "residual1 = Y_train-(model_cv.predict(X_train))\n",
    "sm.stats.diagnostic.acorr_ljungbox(residual1, lags=[20], return_df = True)"
   ]
  },
  {
   "cell_type": "code",
   "execution_count": null,
   "metadata": {},
   "outputs": [],
   "source": [
    "# Cek Homoskedastis\n",
    "bp_test = sm.stats.diagnostic.het_breuschpagan(residual1, X_train)\n",
    "labels = ['LM Statistic', 'LM-Test p-value', 'F-Statistic', 'F-Test p-value']\n",
    "print(dict(zip(labels, bp_test)))"
   ]
  },
  {
   "cell_type": "code",
   "execution_count": null,
   "metadata": {},
   "outputs": [],
   "source": [
    "# Cek Normalitas\n",
    "import scipy\n",
    "scipy.stats.jarque_bera(residual1)"
   ]
  },
  {
   "cell_type": "markdown",
   "metadata": {},
   "source": [
    "# Regresi Elastic Net"
   ]
  },
  {
   "cell_type": "code",
   "execution_count": null,
   "metadata": {},
   "outputs": [],
   "source": [
    "# Melihat keunggulan dari elastic net\n",
    "from sklearn.linear_model import ElasticNet\n",
    "coef = []\n",
    "alphas = range(0, 40)\n",
    "\n",
    "for a in alphas:\n",
    "        Enetreg = ElasticNet(alpha = a)\n",
    "        Enetreg.fit(X_train, Y_train)\n",
    "        coef.append(Enetreg.coef_)"
   ]
  },
  {
   "cell_type": "code",
   "execution_count": null,
   "metadata": {},
   "outputs": [],
   "source": [
    "# Membuat plot antara alpha dan koefisien\n",
    "fig = plt.figure(figsize = (15, 5))\n",
    "ax = fig.add_subplot(111)\n",
    "ax.plot(alphas, coef)\n",
    "ax.set_xlabel('Alpha (Regularization Parameter)')\n",
    "ax.set_ylabel('Beta (Predictor Coefficients)')\n",
    "ax.set_title('Elastic Net Coeffficients VS Regularization Parameters')\n",
    "ax.axis('tight')\n",
    "\n",
    "# ax.legend(loc = 'best')\n",
    "fig.savefig('coef_vs_alpha.png')"
   ]
  },
  {
   "cell_type": "code",
   "execution_count": null,
   "metadata": {},
   "outputs": [],
   "source": [
    "# Membangun model regresi ElasticNetCV dengan nilai alpha terbaik\n",
    "from sklearn.linear_model import ElasticNetCV\n",
    "Enet_cv = ElasticNetCV(alphas = range(1), l1_Ratio = 0.5)\n",
    "model_cv = Enet_cv.fit(X_train, Y_train)\n",
    "\n",
    "# Alpha terbaik\n",
    "print(model_cv.alpha_)\n",
    "\n",
    "# parameter regresi ElasticNetCV\n",
    "print(model_cv.intercept_)\n",
    "print(model_cv.coef_)"
   ]
  },
  {
   "cell_type": "code",
   "execution_count": null,
   "metadata": {},
   "outputs": [],
   "source": [
    "# Cek Autokorelasi\n",
    "import statsmodels.api as sm\n",
    "residual1 = Y_train-(model_cv.predict(X_train))\n",
    "sm.stats.diagnostic.acorr_ljungbox(residual1, lags=[20], return_df = True)"
   ]
  },
  {
   "cell_type": "code",
   "execution_count": null,
   "metadata": {},
   "outputs": [],
   "source": [
    "# Cek Homoskedastis\n",
    "bp_test = sm.stats.diagnostic.het_breuschpagan(residual1, X_train)\n",
    "labels = ['LM Statistic', 'LM-Test p-value', 'F-Statistic', 'F-Test p-value']\n",
    "print(dict(zip(labels, bp_test)))"
   ]
  },
  {
   "cell_type": "code",
   "execution_count": null,
   "metadata": {},
   "outputs": [],
   "source": [
    "# Cek Normalitas\n",
    "import scipy\n",
    "scipy.stats.jarque_bera(residual1)"
   ]
  },
  {
   "cell_type": "markdown",
   "metadata": {},
   "source": [
    "# Evaluasi Model"
   ]
  },
  {
   "cell_type": "code",
   "execution_count": null,
   "metadata": {},
   "outputs": [],
   "source": [
    "# MSE \n",
    "pred_Enet = model_cv.predict(X_test)\n",
    "mean_squared_error(Y_test, pred_Enet)"
   ]
  },
  {
   "cell_type": "code",
   "execution_count": null,
   "metadata": {},
   "outputs": [],
   "source": []
  }
 ],
 "metadata": {
  "kernelspec": {
   "display_name": "Python 3",
   "language": "python",
   "name": "python3"
  },
  "language_info": {
   "codemirror_mode": {
    "name": "ipython",
    "version": 3
   },
   "file_extension": ".py",
   "mimetype": "text/x-python",
   "name": "python",
   "nbconvert_exporter": "python",
   "pygments_lexer": "ipython3",
   "version": "3.8.5"
  }
 },
 "nbformat": 4,
 "nbformat_minor": 4
}
