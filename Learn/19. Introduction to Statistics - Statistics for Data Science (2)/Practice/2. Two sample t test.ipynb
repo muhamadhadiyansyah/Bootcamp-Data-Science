{
 "cells": [
  {
   "cell_type": "markdown",
   "metadata": {},
   "source": [
    "## Do charges of people who smoke differ significantly from the people who don't?(HypothesisTesting)"
   ]
  },
  {
   "cell_type": "markdown",
   "metadata": {},
   "source": [
    "### Import Library"
   ]
  },
  {
   "cell_type": "code",
   "execution_count": 1,
   "metadata": {},
   "outputs": [],
   "source": [
    "# Pandas untuk import dan manipulasi data\n",
    "import pandas as pd\n",
    "\n",
    "# Numpy untuk perhitungan matematika\n",
    "import numpy as np\n",
    "\n",
    "# Seaborn untuk Visualisasi data\n",
    "import seaborn as sns\n",
    "\n",
    "\n",
    "# Scipy (sama seperti numpy namun lebih untuk statistik) untuk mengakomodasi perhitungan statistik\n",
    "import scipy.stats as stats"
   ]
  },
  {
   "cell_type": "markdown",
   "metadata": {},
   "source": [
    "### Import Customer Profil Data"
   ]
  },
  {
   "cell_type": "code",
   "execution_count": 2,
   "metadata": {},
   "outputs": [],
   "source": [
    "# Import data CSV\n",
    "data = pd.read_csv('insurance.csv')"
   ]
  },
  {
   "cell_type": "code",
   "execution_count": 3,
   "metadata": {},
   "outputs": [
    {
     "data": {
      "text/html": [
       "<div>\n",
       "<style scoped>\n",
       "    .dataframe tbody tr th:only-of-type {\n",
       "        vertical-align: middle;\n",
       "    }\n",
       "\n",
       "    .dataframe tbody tr th {\n",
       "        vertical-align: top;\n",
       "    }\n",
       "\n",
       "    .dataframe thead th {\n",
       "        text-align: right;\n",
       "    }\n",
       "</style>\n",
       "<table border=\"1\" class=\"dataframe\">\n",
       "  <thead>\n",
       "    <tr style=\"text-align: right;\">\n",
       "      <th></th>\n",
       "      <th>age</th>\n",
       "      <th>sex</th>\n",
       "      <th>bmi</th>\n",
       "      <th>children</th>\n",
       "      <th>smoker</th>\n",
       "      <th>region</th>\n",
       "      <th>charges</th>\n",
       "    </tr>\n",
       "  </thead>\n",
       "  <tbody>\n",
       "    <tr>\n",
       "      <th>0</th>\n",
       "      <td>19</td>\n",
       "      <td>female</td>\n",
       "      <td>27.900</td>\n",
       "      <td>0</td>\n",
       "      <td>yes</td>\n",
       "      <td>southwest</td>\n",
       "      <td>16884.92400</td>\n",
       "    </tr>\n",
       "    <tr>\n",
       "      <th>1</th>\n",
       "      <td>18</td>\n",
       "      <td>male</td>\n",
       "      <td>33.770</td>\n",
       "      <td>1</td>\n",
       "      <td>no</td>\n",
       "      <td>southeast</td>\n",
       "      <td>1725.55230</td>\n",
       "    </tr>\n",
       "    <tr>\n",
       "      <th>2</th>\n",
       "      <td>28</td>\n",
       "      <td>male</td>\n",
       "      <td>33.000</td>\n",
       "      <td>3</td>\n",
       "      <td>no</td>\n",
       "      <td>southeast</td>\n",
       "      <td>4449.46200</td>\n",
       "    </tr>\n",
       "    <tr>\n",
       "      <th>3</th>\n",
       "      <td>33</td>\n",
       "      <td>male</td>\n",
       "      <td>22.705</td>\n",
       "      <td>0</td>\n",
       "      <td>no</td>\n",
       "      <td>northwest</td>\n",
       "      <td>21984.47061</td>\n",
       "    </tr>\n",
       "    <tr>\n",
       "      <th>4</th>\n",
       "      <td>32</td>\n",
       "      <td>male</td>\n",
       "      <td>28.880</td>\n",
       "      <td>0</td>\n",
       "      <td>no</td>\n",
       "      <td>northwest</td>\n",
       "      <td>3866.85520</td>\n",
       "    </tr>\n",
       "  </tbody>\n",
       "</table>\n",
       "</div>"
      ],
      "text/plain": [
       "   age     sex     bmi  children smoker     region      charges\n",
       "0   19  female  27.900         0    yes  southwest  16884.92400\n",
       "1   18    male  33.770         1     no  southeast   1725.55230\n",
       "2   28    male  33.000         3     no  southeast   4449.46200\n",
       "3   33    male  22.705         0     no  northwest  21984.47061\n",
       "4   32    male  28.880         0     no  northwest   3866.85520"
      ]
     },
     "execution_count": 3,
     "metadata": {},
     "output_type": "execute_result"
    }
   ],
   "source": [
    "# Melihat ringkasan data\n",
    "data.head()"
   ]
  },
  {
   "cell_type": "markdown",
   "metadata": {},
   "source": [
    "## The shape of the data"
   ]
  },
  {
   "cell_type": "code",
   "execution_count": 4,
   "metadata": {},
   "outputs": [
    {
     "data": {
      "text/plain": [
       "(1338, 7)"
      ]
     },
     "execution_count": 4,
     "metadata": {},
     "output_type": "execute_result"
    }
   ],
   "source": [
    "# Ingin melihat jumlah baris dan kolom\n",
    "# Hasil akan menunjukan (1338, 7) artinya 1338 itu jumlah baris, 7 jumlah kolom\n",
    "data.shape"
   ]
  },
  {
   "cell_type": "markdown",
   "metadata": {},
   "source": [
    "Customer profile data Mallianzs insurance company has dimensions (1338,7) which\n",
    "means that there are 1338 data rows and 7 data columns. 1338 rows represent the number of\n",
    "customers while 7 columns namely age, sex, bmi, children, smoker, region and charges\n",
    "represent the profile of each customer. Following is an explanation of each variable:"
   ]
  },
  {
   "cell_type": "markdown",
   "metadata": {},
   "source": [
    "## The data type of each attribute"
   ]
  },
  {
   "cell_type": "code",
   "execution_count": 5,
   "metadata": {},
   "outputs": [
    {
     "name": "stdout",
     "output_type": "stream",
     "text": [
      "age           int64\n",
      "sex          object\n",
      "bmi         float64\n",
      "children      int64\n",
      "smoker       object\n",
      "region       object\n",
      "charges     float64\n",
      "dtype: object\n"
     ]
    }
   ],
   "source": [
    "# Ingin melihat tipe data dari setiap kolom yang terdapat di data\n",
    "print(data.dtypes)"
   ]
  },
  {
   "cell_type": "code",
   "execution_count": 6,
   "metadata": {},
   "outputs": [
    {
     "name": "stdout",
     "output_type": "stream",
     "text": [
      "<class 'pandas.core.frame.DataFrame'>\n",
      "RangeIndex: 1338 entries, 0 to 1337\n",
      "Data columns (total 7 columns):\n",
      " #   Column    Non-Null Count  Dtype  \n",
      "---  ------    --------------  -----  \n",
      " 0   age       1338 non-null   int64  \n",
      " 1   sex       1338 non-null   object \n",
      " 2   bmi       1338 non-null   float64\n",
      " 3   children  1338 non-null   int64  \n",
      " 4   smoker    1338 non-null   object \n",
      " 5   region    1338 non-null   object \n",
      " 6   charges   1338 non-null   float64\n",
      "dtypes: float64(2), int64(2), object(3)\n",
      "memory usage: 73.3+ KB\n"
     ]
    }
   ],
   "source": [
    "# cara lain untuk memerika tipe data\n",
    "data.info()"
   ]
  },
  {
   "cell_type": "markdown",
   "metadata": {},
   "source": [
    "There are seven variables in the customer profile data, namely age, sex, bmi, children, smoker, region and charges. The age and children are variables with integer data types. The bmi and charges are variables with the float data type. While sex, smoker and region are variables with object data types."
   ]
  },
  {
   "cell_type": "markdown",
   "metadata": {},
   "source": [
    "## Checking the presence of missing values"
   ]
  },
  {
   "cell_type": "code",
   "execution_count": 7,
   "metadata": {},
   "outputs": [
    {
     "data": {
      "text/plain": [
       "age         0\n",
       "sex         0\n",
       "bmi         0\n",
       "children    0\n",
       "smoker      0\n",
       "region      0\n",
       "charges     0\n",
       "dtype: int64"
      ]
     },
     "execution_count": 7,
     "metadata": {},
     "output_type": "execute_result"
    }
   ],
   "source": [
    "# isnull() untuk memeriksa jumlah data yang kosong\n",
    "\n",
    "# sum() untuk menampilkan berapa banyak jumlah data yang kosong\n",
    "\n",
    "data.isnull().sum()"
   ]
  },
  {
   "cell_type": "markdown",
   "metadata": {},
   "source": [
    "Based on the results above, it can be concluded that there is no missing value in the data."
   ]
  },
  {
   "cell_type": "markdown",
   "metadata": {},
   "source": [
    "## Summary of numerical attributes"
   ]
  },
  {
   "cell_type": "code",
   "execution_count": 8,
   "metadata": {},
   "outputs": [
    {
     "data": {
      "text/html": [
       "<div>\n",
       "<style scoped>\n",
       "    .dataframe tbody tr th:only-of-type {\n",
       "        vertical-align: middle;\n",
       "    }\n",
       "\n",
       "    .dataframe tbody tr th {\n",
       "        vertical-align: top;\n",
       "    }\n",
       "\n",
       "    .dataframe thead th {\n",
       "        text-align: right;\n",
       "    }\n",
       "</style>\n",
       "<table border=\"1\" class=\"dataframe\">\n",
       "  <thead>\n",
       "    <tr style=\"text-align: right;\">\n",
       "      <th></th>\n",
       "      <th>age</th>\n",
       "      <th>bmi</th>\n",
       "      <th>children</th>\n",
       "      <th>charges</th>\n",
       "    </tr>\n",
       "  </thead>\n",
       "  <tbody>\n",
       "    <tr>\n",
       "      <th>count</th>\n",
       "      <td>1338.000000</td>\n",
       "      <td>1338.000000</td>\n",
       "      <td>1338.000000</td>\n",
       "      <td>1338.000000</td>\n",
       "    </tr>\n",
       "    <tr>\n",
       "      <th>mean</th>\n",
       "      <td>39.207025</td>\n",
       "      <td>30.663397</td>\n",
       "      <td>1.094918</td>\n",
       "      <td>13270.422265</td>\n",
       "    </tr>\n",
       "    <tr>\n",
       "      <th>std</th>\n",
       "      <td>14.049960</td>\n",
       "      <td>6.098187</td>\n",
       "      <td>1.205493</td>\n",
       "      <td>12110.011237</td>\n",
       "    </tr>\n",
       "    <tr>\n",
       "      <th>min</th>\n",
       "      <td>18.000000</td>\n",
       "      <td>15.960000</td>\n",
       "      <td>0.000000</td>\n",
       "      <td>1121.873900</td>\n",
       "    </tr>\n",
       "    <tr>\n",
       "      <th>25%</th>\n",
       "      <td>27.000000</td>\n",
       "      <td>26.296250</td>\n",
       "      <td>0.000000</td>\n",
       "      <td>4740.287150</td>\n",
       "    </tr>\n",
       "    <tr>\n",
       "      <th>50%</th>\n",
       "      <td>39.000000</td>\n",
       "      <td>30.400000</td>\n",
       "      <td>1.000000</td>\n",
       "      <td>9382.033000</td>\n",
       "    </tr>\n",
       "    <tr>\n",
       "      <th>75%</th>\n",
       "      <td>51.000000</td>\n",
       "      <td>34.693750</td>\n",
       "      <td>2.000000</td>\n",
       "      <td>16639.912515</td>\n",
       "    </tr>\n",
       "    <tr>\n",
       "      <th>max</th>\n",
       "      <td>64.000000</td>\n",
       "      <td>53.130000</td>\n",
       "      <td>5.000000</td>\n",
       "      <td>63770.428010</td>\n",
       "    </tr>\n",
       "  </tbody>\n",
       "</table>\n",
       "</div>"
      ],
      "text/plain": [
       "               age          bmi     children       charges\n",
       "count  1338.000000  1338.000000  1338.000000   1338.000000\n",
       "mean     39.207025    30.663397     1.094918  13270.422265\n",
       "std      14.049960     6.098187     1.205493  12110.011237\n",
       "min      18.000000    15.960000     0.000000   1121.873900\n",
       "25%      27.000000    26.296250     0.000000   4740.287150\n",
       "50%      39.000000    30.400000     1.000000   9382.033000\n",
       "75%      51.000000    34.693750     2.000000  16639.912515\n",
       "max      64.000000    53.130000     5.000000  63770.428010"
      ]
     },
     "execution_count": 8,
     "metadata": {},
     "output_type": "execute_result"
    }
   ],
   "source": [
    "# Jika ingin melihat deskriptif statistik secara keseluruhan\n",
    "\n",
    "data.describe()"
   ]
  },
  {
   "cell_type": "markdown",
   "metadata": {},
   "source": [
    "## Do charges of people who smoke differ significantly from the people who don't? (Hypothesis Testing)"
   ]
  },
  {
   "cell_type": "code",
   "execution_count": 9,
   "metadata": {},
   "outputs": [
    {
     "name": "stderr",
     "output_type": "stream",
     "text": [
      "C:\\ProgramData\\Anaconda3\\lib\\site-packages\\seaborn\\_decorators.py:36: FutureWarning: Pass the following variable as a keyword arg: x. From version 0.12, the only valid positional argument will be `data`, and passing other arguments without an explicit keyword will result in an error or misinterpretation.\n",
      "  warnings.warn(\n"
     ]
    },
    {
     "data": {
      "text/plain": [
       "<AxesSubplot:xlabel='smoker', ylabel='count'>"
      ]
     },
     "execution_count": 9,
     "metadata": {},
     "output_type": "execute_result"
    },
    {
     "data": {
      "image/png": "[encoded data removed]",
      "text/plain": [
       "<Figure size 432x288 with 1 Axes>"
      ]
     },
     "metadata": {
      "needs_background": "light"
     },
     "output_type": "display_data"
    }
   ],
   "source": [
    "# Proportion of smoker and non smoker\n",
    "\n",
    "# Melakukan visualisasi dengan seaborn\n",
    "\n",
    "# Melihat jumlah perokok dengan yang bukan perokok\n",
    "\n",
    "sns.countplot(data['smoker'])"
   ]
  },
  {
   "cell_type": "markdown",
   "metadata": {},
   "source": [
    "The first step taken is to look at the comparison between customers who smoke and not smoke. Based on the picture below, it can be seen that there are 275 customers who smoke and 1064 customers who don't smoke."
   ]
  },
  {
   "cell_type": "code",
   "execution_count": 10,
   "metadata": {},
   "outputs": [
    {
     "data": {
      "text/plain": [
       "<AxesSubplot:xlabel='smoker', ylabel='charges'>"
      ]
     },
     "execution_count": 10,
     "metadata": {},
     "output_type": "execute_result"
    },
    {
     "data": {
      "image/png": "[encoded data removed]",
      "text/plain": [
       "<Figure size 432x288 with 1 Axes>"
      ]
     },
     "metadata": {
      "needs_background": "light"
     },
     "output_type": "display_data"
    }
   ],
   "source": [
    "# Memeriksa pesebaran dari bayaran antara perokok dengan yang tidak perokok\n",
    "\n",
    "# Dengan menggunakan boxplot\n",
    "\n",
    "# x = data di kolom smoker\n",
    "\n",
    "# y = data di kolom charges\n",
    "\n",
    "# data = nama data yang ingin di tampilkan, dalam kasus ini namanya data. Jadi data = data\n",
    "\n",
    "sns.boxplot(x = \"smoker\", y = \"charges\", data = data)"
   ]
  },
  {
   "cell_type": "markdown",
   "metadata": {},
   "source": [
    "The next step is to look at the distribution of each class using the boxplot. If seen from the boxplots below, between customers who smoke and don't smoke, there really is a difference in charges. Customers who smoke on average have greater charges than customers who don't smoke."
   ]
  },
  {
   "cell_type": "code",
   "execution_count": 11,
   "metadata": {},
   "outputs": [],
   "source": [
    "# Selanjutnya, Data antara yang Perokok dengan yang bukan Perokok kita pisah\n",
    "\n",
    "# Karena antara Perokok dengan yang bukan Perokok merupakan 2 sampel independen\n",
    "\n",
    "# Data yang smokernya sama dengan yes atau perokok\n",
    "\n",
    "smoke = data[(data['smoker'] == 'yes')]\n",
    "smoke.reset_index(inplace = True) # reset index supaya kolomnya tidak menampilkan index tetapi menampilkan nama kolom\n",
    "\n",
    "# Data yang smokernya sama dengan yes atau bukan perokok\n",
    "no_smoke = data[(data['smoker'] == 'no')]\n",
    "no_smoke.reset_index(inplace = True) # reset index supaya kolomnya tidak menampilkan index tetapi menampilkan nama kolom"
   ]
  },
  {
   "cell_type": "markdown",
   "metadata": {},
   "source": [
    "In testing the mean difference in two populations, it can be used parametric and nonparametric tests. Parametric test is two independent sample t tests while non-parametric test is Mann Whitney. Parametric tests must meet the assumptions of normality and homogeneity of variance, if these two assumptions are not met then a non-parametric test can be used."
   ]
  },
  {
   "cell_type": "markdown",
   "metadata": {},
   "source": [
    "# Memeriksa apakah persyaratan/asumsi terpenuhi"
   ]
  },
  {
   "cell_type": "markdown",
   "metadata": {},
   "source": [
    "# 1. Apakah data terdistribusi normal?"
   ]
  },
  {
   "cell_type": "markdown",
   "metadata": {},
   "source": [
    "### Normality Test Using Jarque Bera Test"
   ]
  },
  {
   "cell_type": "code",
   "execution_count": 12,
   "metadata": {},
   "outputs": [
    {
     "data": {
      "text/plain": [
       "Jarque_beraResult(statistic=13.079733532726442, pvalue=0.0014446809662977955)"
      ]
     },
     "execution_count": 12,
     "metadata": {},
     "output_type": "execute_result"
    }
   ],
   "source": [
    "# Salah satu cara untuk memerikasa apakah data terdistribusi secara normal atau tidak dengan jarque bera\n",
    "stats.jarque_bera(smoke['charges'])"
   ]
  },
  {
   "cell_type": "markdown",
   "metadata": {},
   "source": [
    "Next, to emphasize the results, Jarque's normality test was carried out on both data: <br>\n",
    "Smoker Customers:<br>\n",
    "a. Hipotesis <br>\n",
    "   H0 : Insurance charges for smoker customers data is normally distributed <br>\n",
    "   H1 : Insurance charges for smoker customers data is not normally distributed <br>\n",
    "b. Level of significance = 0.05 <br>\n",
    "c. Critical area: <br>\n",
    "   H0 is rejected if test statistics > 5.728 or p-value<0.05 <br>\n",
    "d. Test statistics <br>\n",
    "   test statistics=13.079 <br>\n",
    "   p-value=0.0014 <br>\n",
    "e. Conclusion <br>\n",
    "   H0 is rejected, which means insurance cost data for smoker customers are not normally distributed."
   ]
  },
  {
   "cell_type": "markdown",
   "metadata": {},
   "source": [
    "Jika P-value < 0.05 atau eror maka H0 ditolak, dapat disimpulkan bahwa data tidak terdistribusi normal maka asumsi normalitas tidak terpenuhi. Jika P-value > 0.05 maka H1 ditolak, dapat disimpulkan bahwa data terdistribusi normal maka asumsi normalitas terpenuhi. "
   ]
  },
  {
   "cell_type": "markdown",
   "metadata": {},
   "source": [
    "Berdasarkan hasil Jarque bera dapat diketahui bahwa data Perokok memiliki P-value 0.001444 < 0.05 maka H0 ditolak atau data tidak terdistribusi normal"
   ]
  },
  {
   "cell_type": "markdown",
   "metadata": {},
   "source": [
    "Selanjutnya kita juga memerika data non-perokok, apakah terdistribusi normal atau tidak?"
   ]
  },
  {
   "cell_type": "code",
   "execution_count": 13,
   "metadata": {},
   "outputs": [
    {
     "data": {
      "text/plain": [
       "Jarque_beraResult(statistic=852.3532412404209, pvalue=0.0)"
      ]
     },
     "execution_count": 13,
     "metadata": {},
     "output_type": "execute_result"
    }
   ],
   "source": [
    "stats.jarque_bera(no_smoke['charges'])"
   ]
  },
  {
   "cell_type": "markdown",
   "metadata": {},
   "source": [
    "Non Smoker Customer: <br>\n",
    "a. Hypothesis <br>\n",
    "  H0 :Insurance charges for non-smoker customers data is normally distributed <br>\n",
    "  H1 :insurance charges for non-smoker customers data is not normally distributed <br>\n",
    "b. Level of significance = 0.05 <br>\n",
    "c. Critical region: <br>\n",
    "  H0 is rejected if test statistics > 5.991 atau p-value < 0.05 <br>\n",
    "d. Test statistics <br>\n",
    "  Test statistics = 852.35 <br>\n",
    "  p-value = 0.00 <br>\n",
    "e. Conclusion <br>\n",
    " H0 is rejected, which means that insurance cost data for non-smoker customers is not normally distributed."
   ]
  },
  {
   "cell_type": "markdown",
   "metadata": {},
   "source": [
    "Berdasarkan hasil Jarque bera dapat diketahui bahwa data Non-Perokok memiliki P-value 0.0 < 0.05 maka H0 ditolak atau data tidak terdistribusi normal"
   ]
  },
  {
   "cell_type": "markdown",
   "metadata": {},
   "source": [
    "Berdasarkan hasil Jarque Bera, kedua sampel menunjukan data tidak terdistribusi normal. Maka kita tidak bisa menggunakan two sample t test. Karena parametric harus memenuhi asumsi, maka solusinya bisa dilakukan transformasi data agar data terdistribusi normal. Selain itu, terdapat alternatif lainnya, langsung menggunakan non parametric"
   ]
  },
  {
   "cell_type": "markdown",
   "metadata": {},
   "source": [
    "# Memeriksa apakah variansinya homogen atau tidak homogen?"
   ]
  },
  {
   "cell_type": "markdown",
   "metadata": {},
   "source": [
    "Untuk menguji homogenitas variansi dapat dilakukan dengan uji Levene."
   ]
  },
  {
   "cell_type": "markdown",
   "metadata": {},
   "source": [
    "### Homogeneity variance Test"
   ]
  },
  {
   "cell_type": "code",
   "execution_count": 14,
   "metadata": {},
   "outputs": [
    {
     "data": {
      "text/plain": [
       "LeveneResult(statistic=332.6135162726081, pvalue=1.5593284881803726e-66)"
      ]
     },
     "execution_count": 14,
     "metadata": {},
     "output_type": "execute_result"
    }
   ],
   "source": [
    "# Kita dapat memulai dengan menguji apakah variance itu homogen atau tidak dengan menggunakan uji levene\n",
    "stats.levene(smoke[\"charges\"],no_smoke[\"charges\"])"
   ]
  },
  {
   "cell_type": "markdown",
   "metadata": {},
   "source": [
    "To test whether the variance between the two homogeneous data can be used Leven's test. <br>\n",
    "Following are the results of Levene's test: <br>\n",
    "a. Hypothesis <br>\n",
    "   H0 : Both data have homogeneous variances <br>\n",
    "   H1 : Both data have heterogeneous variance <br>\n",
    "b. Level of significance = 0.05 <br>\n",
    "c. Critical region: <br>\n",
    "   H0 is rejected if p-value < 0.05 <br>\n",
    "d. Test statistics: <br>\n",
    "test statistics = 332.61 <br>\n",
    "p-value=0.000 <br>\n",
    "e. Conclusion <br>\n",
    "   H0 is rejected, which means that both data have heterogeneous variance."
   ]
  },
  {
   "cell_type": "markdown",
   "metadata": {},
   "source": [
    "Jika P-value < 0.05 maka H0 ditolak atau kedua data memiliki variansi yang heterogen. "
   ]
  },
  {
   "cell_type": "markdown",
   "metadata": {},
   "source": [
    "Diketahui P-value < alpha (perhatikan e-66) maka kedua sample memiliki variansi yang heterogen sehingga asumsi parametric tidak terpenuhi."
   ]
  },
  {
   "cell_type": "markdown",
   "metadata": {},
   "source": [
    "### Because both assumptions are not met, then use the non-parametric Mann Whitney Test"
   ]
  },
  {
   "cell_type": "code",
   "execution_count": 15,
   "metadata": {},
   "outputs": [
    {
     "data": {
      "text/plain": [
       "MannwhitneyuResult(statistic=7403.0, pvalue=2.6351167222517853e-130)"
      ]
     },
     "execution_count": 15,
     "metadata": {},
     "output_type": "execute_result"
    }
   ],
   "source": [
    "# Menggunakan non parametric, dengan uji mann whitney \n",
    "stats.mannwhitneyu(smoke[\"charges\"], no_smoke[\"charges\"])"
   ]
  },
  {
   "cell_type": "markdown",
   "metadata": {},
   "source": [
    "Because the two assumptions, namely the normality and homogeneity of variance are not fulfilled, we cannot use the two independent sample t test. We can use the non-parametric test, the Mann Whitney test. Here are the results of the Mann Whitney test: <br>\n",
    "a. Hypothesis <br>\n",
    "  H0 : Smokers and nonsmokers pay less insurance charges <br>\n",
    "  H1 : Smokers and nonsmokers pay more insurance charges <br>\n",
    "b. Level of significance =0.05 <br>\n",
    "c. Critical region: <br>\n",
    "  HO is rejected if p-value < 0.05 <br>\n",
    "d. Test statistics: <br>\n",
    "   p-value=0.000 <br>\n",
    "e. Conclusion: <br>\n",
    "  H0 is rejected, which means smokers and nonsmokers pay different insurance charges."
   ]
  },
  {
   "cell_type": "markdown",
   "metadata": {},
   "source": [
    "Karena P-value < 0.05 maka H0 ditolak. Sehingga dapat disimpulkan bahwa Perokok memiliki pembayar asuransi yang lebih besar dari yang bukan perokok"
   ]
  }
 ],
 "metadata": {
  "kernelspec": {
   "display_name": "Python 3",
   "language": "python",
   "name": "python3"
  },
  "language_info": {
   "codemirror_mode": {
    "name": "ipython",
    "version": 3
   },
   "file_extension": ".py",
   "mimetype": "text/x-python",
   "name": "python",
   "nbconvert_exporter": "python",
   "pygments_lexer": "ipython3",
   "version": "3.8.5"
  }
 },
 "nbformat": 4,
 "nbformat_minor": 4
}
